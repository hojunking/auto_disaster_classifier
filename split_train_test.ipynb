{
 "cells": [
  {
   "cell_type": "code",
   "execution_count": 7,
   "id": "0f90f1d2-53c9-45d6-ab88-a5cb7524f2f7",
   "metadata": {},
   "outputs": [],
   "source": [
    "import json\n",
    "import os\n",
    "import pandas as pd\n",
    "import matplotlib.pyplot as plt\n",
    "import cv2\n",
    "import shutil\n",
    "import random"
   ]
  },
  {
   "cell_type": "code",
   "execution_count": 8,
   "id": "df28a701-d1a3-4ea0-a44d-80428e460ecd",
   "metadata": {},
   "outputs": [
    {
     "name": "stdout",
     "output_type": "stream",
     "text": [
      "10000\n"
     ]
    }
   ],
   "source": [
    "## open_image 3만 장, coco_image 3만 장\n",
    "dir_paths = [\"../../disk/Data/open_image/train_0/\", \"../../disk/Data/train2017/\"]\n",
    "non_disaster_train = []\n",
    "\n",
    "cnt = 0\n",
    "for folder, subfolders, filenames in os.walk(dir_paths[0]):\n",
    "    for img in filenames:\n",
    "        cnt +=1\n",
    "        if cnt >= 40000:\n",
    "            break\n",
    "        elif cnt >= 30000:\n",
    "            shutil.copyfile(folder+'/'+img, \"../Data/disaster/test/non_disaster/open_images/\"+img)\n",
    "            non_disaster_train.append(folder+'/'+img)\n",
    "            \n",
    "print(len(non_disaster_train))"
   ]
  },
  {
   "cell_type": "code",
   "execution_count": 9,
   "id": "63f57de6",
   "metadata": {},
   "outputs": [
    {
     "name": "stdout",
     "output_type": "stream",
     "text": [
      "10000\n"
     ]
    }
   ],
   "source": [
    "## open_image 3만장, coco_image 3만장\n",
    "dir_paths = [\"../../disk/Data/open_image/train_0/\", \"../../disk/Data/train2017/\"]\n",
    "non_disaster_train = []\n",
    "\n",
    "cnt = 0\n",
    "for folder, subfolders, filenames in os.walk(dir_paths[1]):\n",
    "    for img in filenames:\n",
    "        cnt +=1\n",
    "        if cnt >= 40000:\n",
    "            break\n",
    "        elif cnt >= 30000:\n",
    "            shutil.copyfile(folder+'/'+img, \"../Data/disaster/test/non_disaster/coco/\"+img)\n",
    "            non_disaster_train.append(folder+'/'+img)\n",
    "print(len(non_disaster_train))"
   ]
  },
  {
   "cell_type": "code",
   "execution_count": null,
   "id": "e0376da5",
   "metadata": {},
   "outputs": [],
   "source": [
    "dest = '../Data/disaster_images/COCO_disaster/'\n",
    "path = '../Data/train2017/'\n",
    "\n",
    "\n",
    "for img in disaster_dataset:\n",
    "    k = str(img).zfill(12)\n",
    "    from_path = path + k +'.jpg'\n",
    "    \n",
    "    if os.path.isfile(from_path) == True:\n",
    "        to_path = dest+k+'.jpg'\n",
    "        \n",
    "        shutil.move(from_path,to_path)\n",
    "        print(os.path.isfile(from_path))"
   ]
  },
  {
   "cell_type": "code",
   "execution_count": 61,
   "id": "6f3b41b2-8be3-4bfc-8e5b-391eed882491",
   "metadata": {},
   "outputs": [],
   "source": [
    "df = pd.DataFrame(disaster, columns=['image_id'])\n",
    "df['dir'] = df['image_id'].apply(lambda x: os.path.dirname(x))\n",
    "df['image_id'] = df['image_id'].apply(lambda x: os.path.basename(x))"
   ]
  },
  {
   "cell_type": "code",
   "execution_count": 62,
   "id": "546636dc-05f5-4d76-9500-ca5658eb8bee",
   "metadata": {},
   "outputs": [
    {
     "data": {
      "text/plain": [
       "'tempest_005.jpg'"
      ]
     },
     "execution_count": 62,
     "metadata": {},
     "output_type": "execute_result"
    }
   ],
   "source": [
    "names = df['image_id'].value_counts().index\n",
    "names[0]"
   ]
  },
  {
   "cell_type": "code",
   "execution_count": 63,
   "id": "2a479c9a-5ea3-422c-94c4-b25cffae1acd",
   "metadata": {},
   "outputs": [
    {
     "name": "stdout",
     "output_type": "stream",
     "text": [
      "from: False\n",
      "to: True\n",
      "from: False\n",
      "to: True\n",
      "from: False\n",
      "to: True\n",
      "from: False\n",
      "to: True\n",
      "from: False\n",
      "to: True\n",
      "from: False\n",
      "to: True\n",
      "from: False\n",
      "to: True\n",
      "from: False\n",
      "to: True\n",
      "from: False\n",
      "to: True\n",
      "from: False\n",
      "to: True\n",
      "from: False\n",
      "to: True\n",
      "from: False\n",
      "to: True\n",
      "from: False\n",
      "to: True\n",
      "from: False\n",
      "to: True\n",
      "from: False\n",
      "to: True\n",
      "from: False\n",
      "to: True\n",
      "from: False\n",
      "to: True\n",
      "from: False\n",
      "to: True\n",
      "from: False\n",
      "to: True\n",
      "from: False\n",
      "to: True\n",
      "from: False\n",
      "to: True\n",
      "from: False\n",
      "to: True\n",
      "from: False\n",
      "to: True\n",
      "from: False\n",
      "to: True\n",
      "from: False\n",
      "to: True\n",
      "from: False\n",
      "to: True\n",
      "from: False\n",
      "to: True\n",
      "from: False\n",
      "to: True\n",
      "from: False\n",
      "to: True\n",
      "from: False\n",
      "to: True\n",
      "from: False\n",
      "to: True\n",
      "from: False\n",
      "to: True\n",
      "from: False\n",
      "to: True\n",
      "from: False\n",
      "to: True\n",
      "from: False\n",
      "to: True\n",
      "from: False\n",
      "to: True\n",
      "from: False\n",
      "to: True\n",
      "from: False\n",
      "to: True\n",
      "from: False\n",
      "to: True\n",
      "from: False\n",
      "to: True\n",
      "from: False\n",
      "to: True\n",
      "from: False\n",
      "to: True\n",
      "from: False\n",
      "to: True\n",
      "from: False\n",
      "to: True\n",
      "from: False\n",
      "to: True\n",
      "from: False\n",
      "to: True\n",
      "from: False\n",
      "to: True\n",
      "from: False\n",
      "to: True\n",
      "from: False\n",
      "to: True\n",
      "from: False\n",
      "to: True\n"
     ]
    }
   ],
   "source": [
    "dest = \"../Data/disaster/test/origin_images/crawling/tempest_disaster/\"\n",
    "\n",
    "for i, img in enumerate(disaster):\n",
    "    if os.path.isfile(img) == True:\n",
    "        to_path = dest + names[i]\n",
    "        shutil.move(img,to_path)\n",
    "        print(f'from: {os.path.isfile(img)}')\n",
    "        print(f'to: {os.path.isfile(to_path)}')        "
   ]
  },
  {
   "cell_type": "code",
   "execution_count": null,
   "id": "eba795e2-6bad-470c-b2a7-ce1906fe83f5",
   "metadata": {},
   "outputs": [],
   "source": []
  }
 ],
 "metadata": {
  "kernelspec": {
   "display_name": "torch-gpu",
   "language": "python",
   "name": "torch"
  },
  "language_info": {
   "codemirror_mode": {
    "name": "ipython",
    "version": 3
   },
   "file_extension": ".py",
   "mimetype": "text/x-python",
   "name": "python",
   "nbconvert_exporter": "python",
   "pygments_lexer": "ipython3",
   "version": "3.9.16"
  }
 },
 "nbformat": 4,
 "nbformat_minor": 5
}

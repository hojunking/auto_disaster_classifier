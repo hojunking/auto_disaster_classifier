{
 "cells": [
  {
   "cell_type": "code",
   "execution_count": 12,
   "id": "7f8fed1b-4c64-4a80-b6c5-6a5608a95ea6",
   "metadata": {},
   "outputs": [],
   "source": [
    "import json\n",
    "import jsonlines\n",
    "import os\n",
    "import pandas as pd\n",
    "import matplotlib.pyplot as plt\n",
    "import cv2\n",
    "dir_path = \"../Data/annotations/\"\n",
    "ano = \"open_images_train_v6_captions.jsonl\""
   ]
  },
  {
   "cell_type": "code",
   "execution_count": 21,
   "id": "9f7be42c-6f72-4547-901c-389572c09d60",
   "metadata": {},
   "outputs": [],
   "source": [
    "image_id = []\n",
    "captions = []\n",
    "with jsonlines.open(dir_path+ano, 'r') as f:\n",
    "    for line in f.iter():\n",
    "        #if line['image_id'][0] == '0':\n",
    "        image_id.append(line['image_id'])\n",
    "        captions.append(line['caption'])\n"
   ]
  },
  {
   "cell_type": "code",
   "execution_count": 22,
   "id": "3199bd09-7a66-45cb-9eed-aa44afe302c0",
   "metadata": {},
   "outputs": [],
   "source": [
    "annotations = pd.DataFrame(image_id, columns=['image_id'])\n",
    "annotations['caption'] = captions"
   ]
  },
  {
   "cell_type": "code",
   "execution_count": 7,
   "id": "dc33ee1c-b1a1-47c9-ab9a-0252c22b85c3",
   "metadata": {},
   "outputs": [
    {
     "data": {
      "text/html": [
       "<div>\n",
       "<style scoped>\n",
       "    .dataframe tbody tr th:only-of-type {\n",
       "        vertical-align: middle;\n",
       "    }\n",
       "\n",
       "    .dataframe tbody tr th {\n",
       "        vertical-align: top;\n",
       "    }\n",
       "\n",
       "    .dataframe thead th {\n",
       "        text-align: right;\n",
       "    }\n",
       "</style>\n",
       "<table border=\"1\" class=\"dataframe\">\n",
       "  <thead>\n",
       "    <tr style=\"text-align: right;\">\n",
       "      <th></th>\n",
       "      <th>image_id</th>\n",
       "      <th>caption</th>\n",
       "    </tr>\n",
       "  </thead>\n",
       "  <tbody>\n",
       "    <tr>\n",
       "      <th>0</th>\n",
       "      <td>fc06c1b59dd8ca6e</td>\n",
       "      <td>We can see dolls,book and papers on bed and we...</td>\n",
       "    </tr>\n",
       "    <tr>\n",
       "      <th>1</th>\n",
       "      <td>5833b3358fd949b5</td>\n",
       "      <td>In this picture I can see there is a airplane ...</td>\n",
       "    </tr>\n",
       "    <tr>\n",
       "      <th>2</th>\n",
       "      <td>67f1e4231b964a23</td>\n",
       "      <td>This looks like a black and white poster. I ca...</td>\n",
       "    </tr>\n",
       "    <tr>\n",
       "      <th>3</th>\n",
       "      <td>4839f5eac98771bf</td>\n",
       "      <td>In this image I can see on the left side it is...</td>\n",
       "    </tr>\n",
       "    <tr>\n",
       "      <th>4</th>\n",
       "      <td>64373c6a90e7b8dd</td>\n",
       "      <td>In this picture I can see group of people sitt...</td>\n",
       "    </tr>\n",
       "    <tr>\n",
       "      <th>...</th>\n",
       "      <td>...</td>\n",
       "      <td>...</td>\n",
       "    </tr>\n",
       "    <tr>\n",
       "      <th>507439</th>\n",
       "      <td>8cf26e4563f8c4bc</td>\n",
       "      <td>There is a lady wearing a tag and holding the ...</td>\n",
       "    </tr>\n",
       "    <tr>\n",
       "      <th>507440</th>\n",
       "      <td>c960dd40130f1d9a</td>\n",
       "      <td>In the image we can see there is a newspaper c...</td>\n",
       "    </tr>\n",
       "    <tr>\n",
       "      <th>507441</th>\n",
       "      <td>d4c2172f7f742d60</td>\n",
       "      <td>In the picture we can see table with drawers. ...</td>\n",
       "    </tr>\n",
       "    <tr>\n",
       "      <th>507442</th>\n",
       "      <td>60b2df9a3a7bd8d2</td>\n",
       "      <td>In this image we can see a girl. In the back t...</td>\n",
       "    </tr>\n",
       "    <tr>\n",
       "      <th>507443</th>\n",
       "      <td>c2a601516bf3bf91</td>\n",
       "      <td>In this image we can see so many books on the ...</td>\n",
       "    </tr>\n",
       "  </tbody>\n",
       "</table>\n",
       "<p>507444 rows × 2 columns</p>\n",
       "</div>"
      ],
      "text/plain": [
       "                image_id                                            caption\n",
       "0       fc06c1b59dd8ca6e  We can see dolls,book and papers on bed and we...\n",
       "1       5833b3358fd949b5  In this picture I can see there is a airplane ...\n",
       "2       67f1e4231b964a23  This looks like a black and white poster. I ca...\n",
       "3       4839f5eac98771bf  In this image I can see on the left side it is...\n",
       "4       64373c6a90e7b8dd  In this picture I can see group of people sitt...\n",
       "...                  ...                                                ...\n",
       "507439  8cf26e4563f8c4bc  There is a lady wearing a tag and holding the ...\n",
       "507440  c960dd40130f1d9a  In the image we can see there is a newspaper c...\n",
       "507441  d4c2172f7f742d60  In the picture we can see table with drawers. ...\n",
       "507442  60b2df9a3a7bd8d2  In this image we can see a girl. In the back t...\n",
       "507443  c2a601516bf3bf91  In this image we can see so many books on the ...\n",
       "\n",
       "[507444 rows x 2 columns]"
      ]
     },
     "execution_count": 7,
     "metadata": {},
     "output_type": "execute_result"
    }
   ],
   "source": [
    "annotations"
   ]
  },
  {
   "cell_type": "code",
   "execution_count": 27,
   "id": "6c63373a-eb51-434d-8e79-754b48c01b7e",
   "metadata": {},
   "outputs": [
    {
     "name": "stdout",
     "output_type": "stream",
     "text": [
      "Images:  1743042\n"
     ]
    }
   ],
   "source": [
    "path = '../../disk/Data/open_image/'\n",
    "\n",
    "img_paths = []\n",
    "img_names = []\n",
    "for folder, subfolders, filenames in os.walk(path):\n",
    "    for img in filenames:\n",
    "        img_paths.append(folder+'/'+img)\n",
    "        img_names.append(img)\n",
    "            \n",
    "print('Images: ',len(img_names))\n"
   ]
  },
  {
   "cell_type": "code",
   "execution_count": 10,
   "id": "2d8b168d-9f86-443c-a24e-ffd9513b7706",
   "metadata": {},
   "outputs": [
    {
     "name": "stdout",
     "output_type": "stream",
     "text": [
      "['0d602fc924a0a2a5.jpg', '0d5ad6dead4fd8d4.jpg', '0061e0fb55ff2d5c.jpg', '0abf55bf669af9c6.jpg', '0383b6b35606ce7e.jpg']\n"
     ]
    }
   ],
   "source": [
    "print(img_names[:5])"
   ]
  },
  {
   "cell_type": "code",
   "execution_count": 106,
   "id": "54e58226-1ee4-4080-88cc-5bb199352690",
   "metadata": {},
   "outputs": [],
   "source": [
    "keyword = ['storm',\n",
    "           'snowfall',\n",
    "        ]\n",
    "exclude_keyword = ['blazer','horse','candle',\n",
    "                   'fireplace',\n",
    "                   'lamp',\n",
    "                   'photograph',\n",
    "                   'ski','board','says','oven','cook', 'living', 'plug', 'hyr', 'food', 'young','kitchen', 'extinguisher',\n",
    "                 'fireworks','vintage','department', 'kid', 'boy', 'grill','fire station','fox','engine', 'hyd','fires','jet','rocket']\n",
    "k_image_id = []"
   ]
  },
  {
   "cell_type": "code",
   "execution_count": 19,
   "id": "844b4322-f25d-4244-a608-bb7c67676c6f",
   "metadata": {},
   "outputs": [
    {
     "data": {
      "text/html": [
       "<div>\n",
       "<style scoped>\n",
       "    .dataframe tbody tr th:only-of-type {\n",
       "        vertical-align: middle;\n",
       "    }\n",
       "\n",
       "    .dataframe tbody tr th {\n",
       "        vertical-align: top;\n",
       "    }\n",
       "\n",
       "    .dataframe thead th {\n",
       "        text-align: right;\n",
       "    }\n",
       "</style>\n",
       "<table border=\"1\" class=\"dataframe\">\n",
       "  <thead>\n",
       "    <tr style=\"text-align: right;\">\n",
       "      <th></th>\n",
       "      <th>image_id</th>\n",
       "      <th>caption</th>\n",
       "    </tr>\n",
       "  </thead>\n",
       "  <tbody>\n",
       "    <tr>\n",
       "      <th>8</th>\n",
       "      <td>40c66d14998ad13a</td>\n",
       "      <td>In this image I can see a woman wearing red co...</td>\n",
       "    </tr>\n",
       "    <tr>\n",
       "      <th>56</th>\n",
       "      <td>7164732223313801</td>\n",
       "      <td>This is a person standing. This looks like a f...</td>\n",
       "    </tr>\n",
       "    <tr>\n",
       "      <th>558</th>\n",
       "      <td>faec0d8ce842e27e</td>\n",
       "      <td>This is an animated image , where there is a b...</td>\n",
       "    </tr>\n",
       "    <tr>\n",
       "      <th>826</th>\n",
       "      <td>de51ffcf704a22ab</td>\n",
       "      <td>In this image we can see group of vehicles par...</td>\n",
       "    </tr>\n",
       "    <tr>\n",
       "      <th>1025</th>\n",
       "      <td>2ad42a74006edb6f</td>\n",
       "      <td>In this picture I can see sculptures, there is...</td>\n",
       "    </tr>\n",
       "    <tr>\n",
       "      <th>...</th>\n",
       "      <td>...</td>\n",
       "      <td>...</td>\n",
       "    </tr>\n",
       "    <tr>\n",
       "      <th>506198</th>\n",
       "      <td>70c61f3f25c634b8</td>\n",
       "      <td>In this image, I can see few people standing a...</td>\n",
       "    </tr>\n",
       "    <tr>\n",
       "      <th>506239</th>\n",
       "      <td>3f232d160c0d2f5d</td>\n",
       "      <td>There are three people standing. This person i...</td>\n",
       "    </tr>\n",
       "    <tr>\n",
       "      <th>506493</th>\n",
       "      <td>5380decd21c84b97</td>\n",
       "      <td>In this image there is a tent supported with m...</td>\n",
       "    </tr>\n",
       "    <tr>\n",
       "      <th>506789</th>\n",
       "      <td>6c03acbd11f6e2be</td>\n",
       "      <td>In this picture we can see a room with pillows...</td>\n",
       "    </tr>\n",
       "    <tr>\n",
       "      <th>506976</th>\n",
       "      <td>32f40923efae3cd6</td>\n",
       "      <td>In the image there are fire rescue vehicles an...</td>\n",
       "    </tr>\n",
       "  </tbody>\n",
       "</table>\n",
       "<p>2044 rows × 2 columns</p>\n",
       "</div>"
      ],
      "text/plain": [
       "                image_id                                            caption\n",
       "8       40c66d14998ad13a  In this image I can see a woman wearing red co...\n",
       "56      7164732223313801  This is a person standing. This looks like a f...\n",
       "558     faec0d8ce842e27e  This is an animated image , where there is a b...\n",
       "826     de51ffcf704a22ab  In this image we can see group of vehicles par...\n",
       "1025    2ad42a74006edb6f  In this picture I can see sculptures, there is...\n",
       "...                  ...                                                ...\n",
       "506198  70c61f3f25c634b8  In this image, I can see few people standing a...\n",
       "506239  3f232d160c0d2f5d  There are three people standing. This person i...\n",
       "506493  5380decd21c84b97  In this image there is a tent supported with m...\n",
       "506789  6c03acbd11f6e2be  In this picture we can see a room with pillows...\n",
       "506976  32f40923efae3cd6  In the image there are fire rescue vehicles an...\n",
       "\n",
       "[2044 rows x 2 columns]"
      ]
     },
     "execution_count": 19,
     "metadata": {},
     "output_type": "execute_result"
    }
   ],
   "source": [
    "annotations[annotations['caption'].str.contains('fire', case=False)]"
   ]
  },
  {
   "cell_type": "code",
   "execution_count": 107,
   "id": "d554d608-05e7-403f-b861-f5328f9d68c0",
   "metadata": {},
   "outputs": [
    {
     "name": "stdout",
     "output_type": "stream",
     "text": [
      "keyword : [storm] // found: 14\n",
      "keyword : [snowfall] // found: 32\n",
      "final : 46\n",
      "excluded keyword:[blazer] found: 0\n",
      "excluded keyword:[horse] found: 0\n",
      "excluded keyword:[candle] found: 0\n",
      "excluded keyword:[fireplace] found: 0\n",
      "excluded keyword:[lamp] found: 2\n",
      "excluded keyword:[photograph] found: 0\n",
      "excluded keyword:[ski] found: 0\n",
      "excluded keyword:[board] found: 1\n",
      "excluded keyword:[says] found: 0\n",
      "excluded keyword:[oven] found: 0\n",
      "excluded keyword:[cook] found: 0\n",
      "excluded keyword:[living] found: 0\n",
      "excluded keyword:[plug] found: 0\n",
      "excluded keyword:[hyr] found: 0\n",
      "excluded keyword:[food] found: 0\n",
      "excluded keyword:[young] found: 0\n",
      "excluded keyword:[kitchen] found: 0\n",
      "excluded keyword:[extinguisher] found: 0\n",
      "excluded keyword:[fireworks] found: 0\n",
      "excluded keyword:[vintage] found: 0\n",
      "excluded keyword:[department] found: 0\n",
      "excluded keyword:[kid] found: 0\n",
      "excluded keyword:[boy] found: 0\n",
      "excluded keyword:[grill] found: 0\n",
      "excluded keyword:[fire station] found: 0\n",
      "excluded keyword:[fox] found: 0\n",
      "excluded keyword:[engine] found: 0\n",
      "excluded keyword:[hyd] found: 0\n",
      "excluded keyword:[fires] found: 0\n",
      "excluded keyword:[jet] found: 0\n",
      "excluded keyword:[rocket] found: 0\n",
      "final : 43\n",
      "droped duplicate images from multiple captions, After dropped: 43\n"
     ]
    }
   ],
   "source": [
    "find = annotations[annotations['caption'].str.contains('dododo', case=False)]\n",
    "\n",
    "for i in keyword:\n",
    "    find2 = annotations[annotations['caption'].str.contains(i, case=False)]\n",
    "    find = pd.concat([find,find2], ignore_index=True)\n",
    "    print(f'keyword : [{i}] // found: {len(find2)}')\n",
    "print(f'final : {len(find)}')\n",
    "## 결측지 유발 키워드 삭제\n",
    "for i in exclude_keyword:\n",
    "    origin_len = len(find)\n",
    "    find = find[~find['caption'].str.contains(i, case=False)]\n",
    "    print(f'excluded keyword:[{i}] found: {origin_len - len(find)}')\n",
    "print(f'final : {len(find)}')\n",
    "## 중복 이미지 삭제 (한 이미지에 대한 여러 caption)\n",
    "find.drop_duplicates(['image_id'], inplace=True ,ignore_index = True, keep = 'first')\n",
    "print(f'droped duplicate images from multiple captions, After dropped: {len(find)}')\n",
    "## 인덱스 정렬\n",
    "find.reset_index(inplace=True, drop=True)\n",
    "#find"
   ]
  },
  {
   "cell_type": "code",
   "execution_count": null,
   "id": "45596509-27b5-4926-b7da-63b2ef86a159",
   "metadata": {},
   "outputs": [],
   "source": [
    "find"
   ]
  },
  {
   "cell_type": "code",
   "execution_count": 109,
   "id": "1c8de4a1-af73-45e8-8471-9890b60f0c79",
   "metadata": {},
   "outputs": [],
   "source": [
    "find.sort_values(by=['image_id'],ascending=True, inplace=True)\n",
    "find.reset_index(drop=True, inplace=True)\n",
    "tmp = find['image_id'].value_counts().index.sort_values()"
   ]
  },
  {
   "cell_type": "code",
   "execution_count": null,
   "id": "dad9829d-43e4-493b-a15c-5efb77dbe4dc",
   "metadata": {},
   "outputs": [],
   "source": [
    "cnt = 4\n",
    "for i,key in enumerate(tmp):\n",
    "    if cnt == 4:\n",
    "        print('', end='\\n\\n\\n\\n')\n",
    "        print(f'{(i+1)/4}.')\n",
    "        cnt = 0\n",
    "    print(f\"'{key}'\", end=' ')\n",
    "    cnt+=1\n"
   ]
  },
  {
   "cell_type": "code",
   "execution_count": null,
   "id": "df61481a-bd4e-4bda-86dd-f37f5c8a049e",
   "metadata": {},
   "outputs": [],
   "source": [
    "## show img status\n",
    "\n",
    "back = 0\n",
    "plt.figure(figsize=(16,500))\n",
    "for i in range(len(find[back:])):\n",
    "    plt.subplot(100,4,i+1)\n",
    "    if i % 4 == 0:\n",
    "        plt.title(f\"{(i+1+back)/4}\")\n",
    "    plt.xticks([])\n",
    "    plt.yticks([])\n",
    "    plt.grid(False)\n",
    "    f_num = find['image_id'][i+back][0]\n",
    "    \n",
    "    path = '../../disk/Data/open_image/train_'+f_num+\"/\" + find['image_id'][i+back] +'.jpg'\n",
    "    im_bgr = cv2.imread(path)\n",
    "    im_rgb = im_bgr[:, :, ::-1]\n",
    "    plt.imshow(im_rgb, cmap=plt.cm.binary)\n",
    "    plt.xlabel(find['caption'][i+back][:35] + '\\n' + find['caption'][i+back][35:70] + '\\n' \n",
    "               + find['caption'][i+back][70:105] + '\\n image_id : ' + str(find['image_id'][i+back]) , loc='left', fontsize=10)\n",
    "    #plt.legend(find['image_id'][i])\n",
    "plt.show()"
   ]
  },
  {
   "cell_type": "code",
   "execution_count": 9,
   "id": "a26bc531-8dc1-4937-b504-db5daa4cb922",
   "metadata": {},
   "outputs": [
    {
     "name": "stdout",
     "output_type": "stream",
     "text": [
      "27\n",
      "27\n"
     ]
    }
   ],
   "source": [
    "length = ['02fd19498de1e94a', '290d59dab457a369', '295b7671477f50f9', '2e8300d0999c77b8', \n",
    "'31e0a1de0ee988a8', '3f63a70a78520377', '4080d016eb273aae', '7e2449f75a0a0acc', \n",
    "'9c24a74e0769736c', '004676114a592ae3', '0b023637f13a726a', '0d4c9140e6b02485',\n",
    "'0f44f7f46e94b877', '1c1396779a91706d', '3ce95037487f71aa', '76dbca04736cd468',\n",
    "'8d21e84881a8c7cc', 'b6258d9fa4842a39', 'b9331416a89998cd', 'c71ed44f0ff40ab8',\n",
    "'c9abbbebdf82a765', 'cdee239f0c42d32a', 'd78ae0ae07858c6d', 'd8f9319365edb45c', \n",
    "'fb8cb0720d3ed365', 'fc9e7c7089c900ca', 'fd0c8b2415814f84'\n",
    "                   ]\n",
    "print(len(length))\n",
    "print(len(set(length)))"
   ]
  },
  {
   "cell_type": "code",
   "execution_count": 14,
   "id": "1e34cec0-2dab-4922-b1d0-e72bd4477cd6",
   "metadata": {},
   "outputs": [
    {
     "name": "stdout",
     "output_type": "stream",
     "text": [
      "335\n"
     ]
    }
   ],
   "source": [
    "disaster_dataset = ['0218f76dff06752d', '02eab4f9ad6c0334', '0693141ad6ca7df3', '0bdfcf59dd6b55ce',\n",
    "'0ff480920c9928c5', '101b499a52d7f46a', '112caf3e075e5394', '132eac17a04c4517',\n",
    "'1550f14052bfec04', '183c1d7389c3b9ea', '1b24087aa0f9867b', '1df5638d77ff56cb',\n",
    "'1e2a454911be0c5f', '2341349abfc26e90', '24f67cf7b161ea6b', '2b3651e8ba31ee65',\n",
    "'2c67ed27579a6ea8', '345744962c7f4265', '34d50632542ecbb7', '35242c3f7a36c7bb', \n",
    "'36aee059e225bdaf', '3c6bf73ad74f1cd0', '3d789ac66fb6f955', '3f297fa8108336de',\n",
    "'3f75d6405bd8a83f', '56234c17e1d60456', '5b612117e5778a4f', '5c7d9dc0a050e458',\n",
    "'5d9d3da7f32e3ed0', '5dc549862bd6b8be', '6210ca5e86ae3d4e', '626d848b9b97ac60',\n",
    "'62f96f9bddee4d68', '676ed076e09c9831', '705926a75728804d', '73ec259eab888d00',\n",
    "'7633472d1ca39fe2', '78d846a0565d3bcd', '7b9ec91e0a4e22a9', '7e8eb56044f4b6fd',\n",
    "'7eaf75eb4e77e2fb', '818a844fd465ac22', '83b32c162d09a4f8', '84948dc5e331047f',\n",
    "'85f047ee06e75976', '88f9239e83cdb66d', '8b8fc6e31886cf55', '8e81cdd4461f27c4',\n",
    "'9272694dbd156cd5', '9e6328c01768659b', 'a052c41f030af85b', 'a0cfb16260ece855',\n",
    "'a2a59c80cef68850', 'a2e91881336cf349', 'a7a0b76240849487', 'a8f397a0f65a323c',\n",
    "'ade8e68f664d382f', 'b06aa91a6083c7c2', 'b3fec6a2d8c7536a', 'b85303b3bdfed978',\n",
    "'b8bc1b2847a360f1', 'be4d426c54e723b4', 'be5fb6daa44a3de5', 'bf8d2df0e0e9c22d',\n",
    "'bfdd567c7a0f948b', 'c5b72236f87adafc', 'c745a2779725f898', 'c9503eb51eee2f65', \n",
    "'cf2221aa10e29a2c', 'e22d5041146ddcf1', 'ef7aeb8f945dbab2', 'f5d7ec658b470898',\n",
    "'fd00a73e3f447913', '030f2923db6ddaf6', '073ff61ebe68b47d', '132dfe520c441034',\n",
    "'159a00eee2eb6487', '17982de737021028', '1833cb7590c4a1e2', '1bdc8c1dc627a63e',\n",
    "'20521f4ff0b2097b', '205beaeae430de7e', '207a67ddf458f89f', '2209a40e51151b46',\n",
    "'249ac87de157a925', '250f902696a958fb', '258e7a7b282a55e3', '2875f5fac953d475',\n",
    "'2b447b2177a103e9', '33ca13bf621e3611', '54703d04c4271a5a', '577e7ac0f47876b4',\n",
    "'59eef36095c31cc8', '6d94b519e2bd3f38', '7a1d683f722af2d3', '86067733c4e30d83',\n",
    "'87b2bdb4456388e1', '87c0da58e69c122c', '87b8f8da5c2257c7', '87cefa8085a5f80c',\n",
    "'8defa4da1a395afb', '8e1dc5d47fffa64f', '9068ed5b7b32bf63', '923db4841e8217a1',\n",
    "'990298e5cf07b5a6', 'a9883c4140659bbc', 'b25d2486ac41f4ad', 'b745f285c6773cc0',\n",
    "'b91bb39004f7c275', 'c27f49edbd32f10e', 'caf67de657621c17', 'd479d07b6d9ca5d1',\n",
    "'e103bc9c38834469', 'e4c1c08b0ff2fa78', 'e5aa9c1a2bf91af5', 'e8d034dcff14aca7',\n",
    "'e8f4478fd0d9e3fb', 'e9d456b279d6c0f5', 'ea7c157a5a35c414', 'ec9ab2f37c531c02',\n",
    "'ed389a47f3096a79', 'ed4796764c2d32d7', 'f1cc51ba23c2bc3d', 'f26cbe21df2edd66',\n",
    "'f461fc8edaabe84e', 'f87e3c6eecd99585', 'f973f950eb7c8b39', 'fb9d113cdc3e70b3',\n",
    "'fec82989d7ca0ee1', 'ffc4910c2c84a156','022b54e4e857ed33', '0de39b3791f2baa6', '15657f348712e734', '25099167e4022eba',\n",
    "'26518efac4887b3c', '3797b764d267b064', '428509df148d1a27', '49aec59730a5a8aa',\n",
    "'51255a7a1548080e', '52fde99971a5708c', '58d12e852edf194f', '5bbe14ccb14cd541', \n",
    "'64285be9eb0c2a46', '6c7b295c1bceb158', '6e16070bbbf48bde', '721af8090dfd27aa',\n",
    "'874550cc18780297', '8a224c3b493fe762', '8cd19147d2c4f6b6', '91328c6645715517',\n",
    "'a545a8059df4801f', 'b80089edc6bbc0ed', 'd0d6ed4f1ccd7041', 'd1db43f8dc0c3780', \n",
    "'e05bc81aa1d691d8', 'efd4e8e3e46acafc', 'f3c2b2265ca7bc45', 'fc365a2dd199e835',\n",
    "'02c93939fdf8ecf8', '2775831e363c6a57', '62e9f35dd18a0e3a', '69c78f20a6a30ba4',\n",
    "'743f72fd8aa0acb5', '75118fe313623da8', '76de10f902cfddf4', '79d0fd372493ef18',\n",
    "'9389024025360785', '975ba43fb83523bc', 'a8271e8c2fa02700', 'be906c2c331923f0',\n",
    "'bf63334e67a6c11d', 'c0dcc00f381bddcf', 'c214f06f43f83231', 'ce6f197f118b6c26',\n",
    "'d507d1241f0c4f33', 'e96bd3fbab0d4357','00d425f0986ac579', '0128105921974df0', '01c4f65ea29a5632', '05b3130e553c6084',\n",
    "'153e26395bea1973', '1656a46450a881f5', '17dba0da31436843', '189f6a62d7fa224c',\n",
    "'2debae83fc6544cb', '4b2120ef0487e439', '502e1d8cb6b58911', '514efb5aee482d6f', \n",
    "'560e387f1b361a5c', '6a335f6ff3ffb6fd', 'bd62b456d26d69ea', 'd49698a15222f7fc',\n",
    "'db1890e3518f1218', 'dc68faebac1558fa', 'dd4ceaf81843211a', 'e674841ecccb5a3c',\n",
    "'fe2badae70e3f274', '004676114a592ae3', '07cb63de6ead014f', '0a49797a8f240259',\n",
    "'1433fe91179ced97', '19c20d279292adfc', '212503981e231027', '2c7ed847f6aeca51',\n",
    "'2f1ce4561995ca5f', '339765506757ee9d', '418617c896a9cfb8', '50883ded4a923ac0',\n",
    "'50dbf6030e015e3d', '7311c4c9dbb5dcda', '75719757c412f287', '7cff597bf412c507',\n",
    "'8092f610922fae95', '88c21cb844af2cb6', '88de8cedc1b4dd07', '9d2e07001a74e2f6',\n",
    "'a9786487f36a069f', 'ba7f05226835eb4b', 'bb92b3c52eb018c8', 'c6dd39435d180e6f',\n",
    "'d359a9f8483d3079', 'def24e1521d2c2db', 'eaadc79ed74b13f9', 'ec03b3d3af20f1c4','002a6cf0d401929c', '009c5fb34590f1ca', '00c5ae08ce541b77','02272e5568435fda'\n",
    "'043ac011ff8afcf5', '04f67c62ee67f74b', '0589d82e0437d121', '0604cb9341631e15',\n",
    "'08fef6f3a0e3bbcb', '2c57d43b16d35db1', '3bba5ee24ec0ee54', '413a993b9bb464ab', \n",
    "'522c4fb0babb19f1', '55baf0e2c4186a11', '5763316a89f6298d', '6122e9cf06bd61ce',\n",
    "'6414f33c90e89519', '65258f8026ee8751', '678db2a731a13646', '6f7fc1281ee41e62',\n",
    "'7658e9d7ea54e4f6', '82e3aea3423ca41a', '96d9477747f15afd', 'a0f87eeae39baf57',\n",
    "'b74e7055559d0264', 'b8422e374555ab8a', 'b853a26933571d66','c478c70805c110f6',\n",
    "'da3ce31355e6391f''d6b1f98d28bf6e8a', 'd759ef76b9095152', 'dd45f271c163fe8c',\n",
    "'e7cef9a8ab2593a2', '0035c9cb0422e1b4', '0544618c0e2e0f86', '0622ef04fa206788',\n",
    "'130fafe560e3bed3', '132176446f85f7f2', '20d69896f91b6839', '26e3a9cb71c0c50c',\n",
    "'2b4e2b365696a3ce', '32ce6407b55b36a5', '32f367406aeab9c0', '3f1ec100e5841f58',\n",
    "'43fb43c26c3e7981', '55b5f0b32b5025f2', '5c1b0c84307e4de7', '6641673d1914fb8f',\n",
    "'685d73f92e75cdc4', '72e783657435987a', '7394dd66b6ff058d', '7782bdc79b6a0762',\n",
    "'79d5a46f6417fa10', '7c17a76dbe912bf1', '883631022c1e06c0', '9b30616c2fe56171',\n",
    "'a07b85e2b03909c1', 'a39bf6d02332b46d', 'ab84b2ffec20c9f4', 'adbf807d428052cc',\n",
    "'b0c6dcd7300299d4', 'b550ad701c8fded8', 'b9a10fcfcc7d4e73', 'b9d8c94d56b04e63',\n",
    "'bbfc8359da6971f6', 'bc1d16370ce2dd22', 'c4360ee77d317591', 'c9e540c74fae2648',\n",
    "'ca326d6f01ed21d4', 'cbf5687e145dc19f', 'cc144958ab2a65ee', 'd482545a853f3d25',\n",
    "'d91aa48d5dc31088', 'db5dce4627df903a', 'de2494dce555bec1', 'e49c8abd2d8eafe2',\n",
    "'eaa910f252495a1c', 'ecfe8082bc0a55ca', 'f182d5c35d8e8342', 'f1d9076f1641f959',\n",
    "'f1fad5ee685fc1b4', 'f307d5240a9b7ad9', 'f36101c507a1acfd', 'f55e1d7a19dfa563',\n",
    "'f835d77270d53a85', 'fed7dc7536817fc0','02fd19498de1e94a', '290d59dab457a369', '295b7671477f50f9', '2e8300d0999c77b8', \n",
    "'31e0a1de0ee988a8', '3f63a70a78520377', '4080d016eb273aae', '7e2449f75a0a0acc', \n",
    "'9c24a74e0769736c', '004676114a592ae3', '0b023637f13a726a', '0d4c9140e6b02485',\n",
    "'0f44f7f46e94b877', '1c1396779a91706d', '3ce95037487f71aa', '76dbca04736cd468',\n",
    "'8d21e84881a8c7cc', 'b6258d9fa4842a39', 'b9331416a89998cd', 'c71ed44f0ff40ab8',\n",
    "'c9abbbebdf82a765', 'cdee239f0c42d32a', 'd78ae0ae07858c6d', 'd8f9319365edb45c', \n",
    "'fb8cb0720d3ed365', 'fc9e7c7089c900ca', 'fd0c8b2415814f84'\n",
    "                   ]\n",
    "print(len(disaster_dataset))"
   ]
  },
  {
   "cell_type": "markdown",
   "id": "3dfbd71d-0f75-4812-85a7-eba229585889",
   "metadata": {
    "tags": []
   },
   "source": [
    "#### 재난 데이터셋 이동"
   ]
  },
  {
   "cell_type": "code",
   "execution_count": null,
   "id": "efd49754-71ac-46c7-90e4-da68e3fd6a0d",
   "metadata": {},
   "outputs": [],
   "source": [
    "import shutil\n",
    "\n",
    "tmp = []\n",
    "dest = '../Data/disaster_images/open_image_disaster/'\n",
    "path = '../../disk/Data/open_image/'\n",
    "for img in disaster_dataset:\n",
    "    from_path = path+'train_'+img[0]+'/'+img+'.jpg'\n",
    "    print(os.path.isfile(from_path))\n",
    "    if os.path.isfile(from_path) == True:\n",
    "        to_path = dest+img+'.jpg'\n",
    "        \n",
    "        #shutil.move(from_path,to_path)\n",
    "        \n",
    "\n",
    "#print(len(tmp))"
   ]
  },
  {
   "cell_type": "code",
   "execution_count": 23,
   "id": "3e620ee7-a468-4df5-98d9-0c9930965688",
   "metadata": {},
   "outputs": [
    {
     "name": "stdout",
     "output_type": "stream",
     "text": [
      "['In the picture I can see two men are standing on the ground. These men are wearing helmets and holdings objects. In the background I can see trees the fire the grass plants the sky and some other objects on the ground.', 'There are plants walls windows chairs and other objects. These are damaged due to fire. And the background is dark in color.', 'In this image there are so many trees on the mountain at the back there is some fire and smoke.', 'In this image I can see a ladder which is in red color. Background I can see a house with fire and a building in white and brown color trees in green color and sky in white color.', 'This picture shows couple of men standing they wore sunglasses on their face and caps on their heads and we see trees and fire on the ground.', 'Here we can see trees fire and smoke. In the background there is sky.', 'At the bottom of this image I can see a campfire around this there are some stones. In the background there is a sea and I can see the trees.', 'In this picture we can see a burning plane on the ground. On the top we can see the fire and smoke.', 'In this image we can see a group of trees and fire.', 'In the bottom left corner of the image a person is standing. Behind him there is fire. Behind the fire few people are standing. At the top of the image there is a building.', 'In the picture I can see the fire smoke a bike vehicles grass fence and people standing on the ground. In the background I can see the sky trees and some other things.', \"On the left side few people are blasting with the cannons in the middle it is a London bridge. On the right side there is a ship. At the top it's a sky.\", 'In this image I can see the tree grass and plants on the ground. To the side I can see the fire and smoke. In the background I can see the clouds and the sky.', 'In this picture we can see a group of people trees fire and some objects. In the background we can see the sky.', 'In this image there is a person carrying a bag. There are trees. Behind there is fire.', 'Here we can see fire and there are trees. In the background there is sky.', 'This image consists of two persons standing on the ground. At the bottom there is green grass on the ground. And we can see a fire along with the smoke. In the background there are many trees. At the top there is sky.', 'In this picture we can see a person standing here at the bottom there is grass we can see fire here in the background there are some trees we can see a tower and smoke here there is the sky at the top of the picture.', 'In the image we can see there is a vehicle which has caught fire.', 'In this picture we can see group of people in front of them we can see fire and few bowls on the gas stove and also we can see few bottles bowls glasses and other things on the countertop.', 'In this image I can see grass plants trees smoke and fire. This image is taken may be in the forest during a day.', 'On the left side this is fire on the right side there are few people.', 'In the foreground of this image there are three men standing on the grass wearing backpacks and helmets on their heads. In the background there are trees fire smoke and the sky.', 'In the image there is some wood is burnt on the land and around the fire there are plants and trees and there is a vehicle parked in between the plants.', 'In this image we can see the fire on the surface of the grass. In the background there are trees.', 'In this image there is a building with fire in front of the building there are ladders. In the background there are the sky and smoke.', 'In this image there are ships on the sea spraying water on the fire.', 'In this picture I see a van in front which is on fire and I see a man behind this man and I see something is written on the van and I see the path. In the background I see the buildings few people plants a tree and the cloudy sky.', 'In this picture we can see the view of the forest. In the center there is a fire and smoke in the forest. In the front bottom side we can see some green trees.', 'In the center of the image we can see trees hills are there. In the background of the image fire smoke is there. At the top right corner sky is there. At the bottom of the image ground is there.', 'Here we can see two persons and among them a person has helmet on his head and carrying a cylinder bag on his shoulders and he is watering on the fire and this is a wall.', 'In this image we can see two people on the ground. We can also see some branches of a tree fire and a light.', 'In this picture I can see trees and few trees caught fire and I can see smoke.', 'On the left side we see the trees. On the right side we see the trees. In the middle of the picture we see the fire. This picture is clicked in the dark. I think fire caught the forest.', 'In the middle of the image we can see a person behind the person we can see fire in the background we can see few trees and buildings.', 'In this image we can see fire there are some trees.', 'In this picture we can see fire and a few trees in the background.', 'In this image I can see the fire few people and many trees. In the background I can see the sky.', 'In this image we can see a vehicle grass plants fire smoke and trees. In the background there is sky.', 'At the bottom of this image there is a road. On the right side there are two poles and grass on the ground and there are two persons on a road. In the background there is fire and smoke from a building there are trees and sky.', 'In this image we can see one big building one tree some sand fire with smoke and at the top there is the sky.', 'In this image the forest is on fire there are two firefighters trying to put off the fire in this image there are trees and rocks.', 'There is fire on the trees. There are trees in the back. Also there is sky with sun in the background.', 'In this image  in the foreground there are people standing and in the middle there is a fire burning.', 'In this image we can see vehicle on road trees fire and smoke.', 'In this picture we can see a person on the ground here we can see fire with smoke grass dried leaves and some objects and in the background we can see trees sky.', 'In this image there is a person holding an object and walking on the road beside the person there are grass and trees in the middle of them there is a fire.', 'In this image we can see a man standing and holding a torch. He is wearing a mask. In the background we can see fire.', 'This image is clicked on the roads. At the bottom there is a road. In the front we can see a fire along with the smoke. On the left and right there are trees and buildings. At the top there is a sky.', 'In the foreground of the image we can see fire in a tree. In the background we can see a group of trees.', 'In the center of the image there are people. In the background of the image there is fire. At the top of the image there is sky.', 'In this picture I can see the fire on the ground. In the background I can see many trees plants and grass. At the bottom I can see many small stones. On the left I can see the smoke. At the top I can see the sky.', \"In this picture we can see fire in the forest. On the bottom we can see river. On the right we can see many trees. Here it's a sky. On the top we can see smoke.\", 'As we can see in the image there are trees current poles buildings and fire. The image is little dark.', 'In this image I can see a road and trees on both sides of the road. I can see some trees are burning on the right hand side of the road. I can see the fire and smoke. At the top of the image I can see the sky.\\xa0', 'This picture shows bunch of trees on the hill and we see a vehicle and fire with smoke.', 'This picture is clicked outside. In the foreground we can see the rocks water body and the green grass trees and some other items. In the background we can see the buildings vehicles and the fire like thing and some objects.', 'In the picture we can see a painting of hell with some people beating some people who are nude and between them we can see fire.', 'In this image there is a vehicle grass plants trees fire to the plants smoke and in the background there is sky.', 'As we can see in the image there is grass plants fire and trees. On the top there is sky and clouds.', 'In this image I can see number of people are standing near the railing. On the right side of the image I can see a plant and a tree. In the background I can see smoke and the fire.', 'In this image we can see a person bag trees fire smoke and other objects.', 'In this picture we can see an object tied with rope to the airplane and we can see an airplane in the air. We can see trees smoke fire and sky.', 'In this image we can see trees fire to the trees and the sky in the background.', 'This image consists of an ocean. In which there is a ship. In the background there is a sun and clouds in the sky. At the top there is a stand to which a fire is produced.', 'There are people poster it seems like a vehicle and fire in the foreground area of the image and sky in the background area.', 'In this picture we can see many trees and some trees are burning. On the left we can see smoke. Here we can see a plane above the trees. On the top right corner there is a sky. On the bottom we can see grass.', 'In this image we can see buildings and windows. At the bottom we can see two lights and a tree. On the left side we can see fire on the buildingsmoke. a clock and a name board on the wall and this is sky.', 'In this image we can see a building which was collapsed.', 'In the foreground of this image there is a building with collapsed wall. At the top there is the sky.', 'This is an outside view. Here I can see few children holding bricks in the hands and walking on the ground. In the background there are few buildings collapsed and there is a tree. At the top of the image I can see the sky.', 'It looks like a collapsed building where we can see a person standing on the bricks. In the background there are buildings trees mountain and the sky.', 'Here we can see a collapsed building and on the left there is a excavator. In the background there are buildingsglasshoarding on the building and clouds in the sky.', 'In this picture we can see collapses building the side we can see one more building and we can see two objects in front of the building.', 'This picture is clicked outside. On the right crane and we can see the bricks and stones lying on the ground and we can see the house which is partially collapsed. In the background there is a sky and we can see the tree and some buildings.', 'In this image I can see there is a collapsed building and there are wooden sticks and an object. And there is a fence. And in front there is grass. And at the back there are trees and a sky.', 'Here in this picture we can see a house being collapsed by a crane present over there and we can see windows on the house and we can see plants and gate also present over there and we can see clouds in sky.', 'In this picture we can see a collapsed building and to the wall there are pipes. Behind the wall there is a sky.', 'In the picture we can see a building which is collapsed and top of the picture there is clear sky.', 'In the foreground of the picture there are people and there is scrap due to collapse of building or houses. In the center of the picture there are fencing railing and pole. In the background there are trees.', 'This image is taken outdoors. At the bottom of the image there is a ground. In the middle of the image there are a few collapsed houses and there is a tree. Two men are standing on the ground and there is a pipe.', 'This is an edited image. In the center of the image we can see the collapse airplane. In the background of the image we can see the ground and grass. At the top of the image we can see the sky.', 'This is a black and white picture of a collapsed building and in the background there is sky.', 'On the left side of the image there is a collapsed building. There are roofs many wooden pieces and also there is a man. And on the right side of the image there is water with wooden logs and pieces.', 'This picture shows few buildings and we see few collapsed buildings.', 'In this image there is a collapsed building and beside that there is a tree.', 'In this image there is a collapsed building in front of that there is a garbage behind that there are some trees.', 'There are many collapsed buildings. In the back there are trees and sky. There are pillars and iron rods.', 'In this picture I can see a person standing there is a vehicle there is a collapsed building there are trees and in the background there is sky.', 'In this picture we can see a collapsed building. In the background of the image we can see the clouds are present in the sky.', 'In this image we can see a collapsed building. At the bottom there is a fence. In the background here are trees wires and a pole. At the top there is sky.', 'In this picture I can see a collapsed building. I can see a vehicle and in the background there is the sky.', 'This image consists of a building. It looks like it is collapsed. On the right there is a stand made up of metal. At the top there is sky.', 'In this image there are plants  trees a collapsed house and in the background there is sky.', 'In the image there is fencing. Behind the fencing there are some other things. And there is a collapsed building. In the background there are trees. And also there is sky.', 'In this picture i can see the collapse house. On the bottom i can see the fencing. In the background i can see many trees. On the right i can see the sky and clouds.', 'This is black and white picturewe can see buildingstreescurrent poles and sky. Bottom of the image we can see watermark.', 'In this image we can see a collapsed building in front of the building there are trees an iron pole and a sign board.', 'In this image in the front there are flowers and plants. In the background there is a building and there are windows.', 'In this image we can see trees a fire and ground.', 'This is an edited picture where I can see a house tree and in the background there are thunders in the sky.', 'In this image there are trees at the top of the image there are clouds and thunder in the sky.', 'In the picture we can see some trees in the dark and behind it we can see a sky with thunderstorms and clouds.', 'In the foreground of this image there are trees and the houses. At the top there is thunder in the sky.', 'Here we can see buildings with glass windows. Far there is a thunder and lights.', 'In this image we can see sky with clouds lightning electric poles electric cables buildings and electric lights.', 'This is an image clicked in the dark. At the bottom of this image I can see some trees and lights. On the top of the image I can see the thunders in the sky.', 'Vehicles are on the road. Here we can see trees grass light poles and current pole. We can see thunderstorm in the sky. Sky is cloudy.', 'In this image we can see some houses and trees and at the top we can see the sky with lightning.', 'At the bottom we can see a building poles fences trees plants doors. In the background we can see thunder in the sky.', 'In this picture we can see some buildings in the front. On the top we can see some lightning strikes in the sky and clouds.', 'In this image I can see a pole and in the background I can see clouds and thunders in the sky.', 'In this image we can see the lightning trees and other objects. At the top of the image there is the sky. At the bottom of the image there is a black surface.', 'At the bottom of the image I can see many buildings and two street lights. In the background I can see the thunders in the sky. At the top I can see the clouds.', 'In the picture we can see some trees and behind far away we can see hills and lights and behind the hills we can see a sky with thunderstorms.', 'At the bottom of this image there is water. On the left side there are branches of the trees having leaves. In the background there are boats on the water there are mountains and there are clouds and a thunder in the sky.', 'In this image we can see houses. We can see some poles. Among them we can see a light pole. We can see the ground. We can see some grass. There are a few trees. We can see the sky with thunder.', 'This picture is clicked outside. On the right we can see a car running on the road. In the background we can see the sky and we can see the rain and we can see the hills group of persons lightning and some other objects.', 'In the picture there are many buildings and there is a road in between those buildings few vehicles are parked beside the road and there are also many trees there is a thunder in the sky.', 'In this picture we can see a tent and few vehicles on the path. We can see some trees and plants. There is lightning in the sky. Sky is cloudy.', 'In this picture there are buildings and trees at the bottom side of the image and there is sky at the top side of the image.', \"Here we can see the road there's grass on the ground and we can see the sky.\", 'In this picture we can see the farmland. On the left we can see many tree. At the bottom we can see plants and grass. In the top right we can see the fog.', 'We can see peoplewater and trees. In the background we can see sky.', 'In the picture there is a building and beside the buildingtotal area is covered with dark fog and there is a grass and a big tree in front of the building.', 'In the foreground of this image there is a rock and few trees on the left. In the background there are few trees and the foggy sky.', 'In this image we can see ropeway cars. Here few people are riding ropeway car. Here we can see pole ropes. At the bottom we can see snow plants person. Background we can see fog trees.', 'In this image I can see few trees fog pole sky and the building.', 'In this picture we can see the water. At the top we can see the fog. On the left there is a bridge. At the bottom we can see the trees. In the bottom left corner we can see the pole fencing and other objects.', 'In this image I can see at the bottom there is water on the right side there are trees. At the top it is the foggy sky.', 'In this image I can see the view of the town. These are the houses. This looks like a road. I can see a current pole. These are the trees. In the background I can see few houses are covered with the fog.', 'In this image I can see few vehicles few people number of trees and fog. I can also see grass and an orange colour thing in the centre.', 'In this image I can see few trees mountains and fog. The sky is in blue color.', 'This is an outside view. At the bottom there are many plants and a rock. On the left side there is a wooden fencing. In the middle of the image there is a bridge. On the left side there are trees. This place is covered with the fog.', 'In this picture we can see fog in the front on the left side there are some trees we can see the sky at the top of the picture.', 'There is a machine and it is covered with the fog in the front there are few dry plants and a person is standing beside dry plants.', 'In this picture we can see leaves at the bottom in the background there are some trees we can see fog in the middle there is the sky at the left top of the picture.', 'This is a black and white picture. On the ground there is snow. On the trees there is snow. In the back there is fog.', 'In the center of the image there is a tree. At the bottom of the image there is grass. There is fog in the background of the image.', 'In the image we can see the graveyard and the snow. Here we can see the trees and the foggy sky.', 'It is a hill station with beautiful grass and rocks and in the right side there is a house and it is covered with fog.', 'In this image few people are walking on the grassland. Left side there is a person holding a stick. Left side there are few plants. Background there is fog.', 'Here in this picture we can see number of cars present on the ground and we can also see trees and plants present over there and we can see the whole place is covered with fog.', 'In the image we can see fog. Behind the fog there is water and trees.', 'In this image I can see the road. To the side of the road I can see the statues on the wall. In the background I can see many trees and the fog.', 'In the foreground of this image there are branches of a tree without leaves and it seems like there are shoes on it. In the background there are trees and the fog.', 'In this picture I can see few boats in the water and looks like fog and I can see couple of them seated on a boat.', 'In the middle it is a house at the bottom there are trees. At the top it is the foggy sky.', 'In this picture we can see two building with windows. In the center we can see the tree. On the top there is a foggy sky and sun.', 'It is a black and white picture. In this image we can see so many trees plants grass fog and sky.', 'In this picture there are mountains and there are trees on the mountain. At the top there is sky. At the bottom there is grass and there are plants and their might be fog.', 'This picture shows a tree and we see plants and few sticks and we see fog.', 'In this image we can see snow. On the right there are trees.', 'In this image we can see grass and plants with flowers on the ground and in the middle we can see stones on the path. In the background we can see the fog.', 'In the picture I can see the trees. I can see a road on the bottom right side. This is looking like a wooden bench in between the trees.', \"In this image in the front there's grass on the ground. In the center there are vehicles. In the background there are trees and the sky is cloudy and there is smoke.\", 'This picture is clicked outside the city. In the foreground we can see the plants and the stones on the ground. In the background we can see the sky.', 'In this picture I can see many trees. In the center I can see the fog. At the top I can see the sky.', 'In this image we can see a man holding a kid and a stroller in the ground on the right side there is a tree and sky in the background.', 'On the right side of the image we can see wooden sticks and trees. In the background there are trees water and sky.', 'In this picture we can see few trees fog and grass.', 'In this image I can see the trees and fog.', 'There is a surface of water at the bottom of this image. We can see trees in the middle of this image and the sky is in the background.', \"In the down side there are green color trees. At the top it's a foggy foggy.\", 'In this picture I can see sky tree and ground.', 'In this picture we can observe animals walking on the ground. There is a snowfall. We can observe some snow on the ground. There is a wooden railing. In the background there are trees.', 'In the image we can see there are many vehicles on the road. There are even buildings and light poles. We can even see there may be a tree. Everywhere there is a snow white in color and there is a snowfall.', 'This is a black and white image where we can see the snowfall light pole fence and the trees covered with snow.', 'In this image I can see a building along with the windows and there is a snowfall.', 'This image consists of many persons wearing helmets are standing on the road. And there is snowfall. In the background there is a building.', 'In the picture I can see the snowfall where we can see roads trees and vehicles are covered with snow. Here we can see people walking on the road I can see buildings light poles and the dark sky in the background.', 'In this picture I can observe a couple walking on the snow. I can observe snowfall in this picture. The background is dark.', 'In this image we can see motor vehicles on the road and snowfall.', 'In this picture we can see a woman holding a camera and in the background we can see snowfall on the grass.', 'In this picture we can see snow and trees. In the background there is sky.', 'In this image we can see trees poles light board and a building. Here we can see cars and snow.']\n"
     ]
    }
   ],
   "source": [
    "captions = []\n",
    "for img_id in disaster_dataset:\n",
    "    cap = annotations[annotations['image_id'] == img_id]['caption'].value_counts().index\n",
    "    for j in cap:\n",
    "        #print(j)\n",
    "        if len(j) < 250:\n",
    "            captions.append(j.rstrip('\\n').replace(\",\", \"\"))\n",
    "print(captions)"
   ]
  },
  {
   "cell_type": "code",
   "execution_count": 24,
   "id": "1ee839b0-2d7e-44eb-8cde-183eb2ef0e52",
   "metadata": {},
   "outputs": [
    {
     "name": "stdout",
     "output_type": "stream",
     "text": [
      "176\n"
     ]
    }
   ],
   "source": [
    "print(len(captions))"
   ]
  },
  {
   "cell_type": "code",
   "execution_count": null,
   "id": "9059a193-c44f-45b8-ba88-56b0fa441064",
   "metadata": {},
   "outputs": [],
   "source": []
  }
 ],
 "metadata": {
  "kernelspec": {
   "display_name": "torch-gpu",
   "language": "python",
   "name": "torch"
  },
  "language_info": {
   "codemirror_mode": {
    "name": "ipython",
    "version": 3
   },
   "file_extension": ".py",
   "mimetype": "text/x-python",
   "name": "python",
   "nbconvert_exporter": "python",
   "pygments_lexer": "ipython3",
   "version": "3.10.6"
  }
 },
 "nbformat": 4,
 "nbformat_minor": 5
}

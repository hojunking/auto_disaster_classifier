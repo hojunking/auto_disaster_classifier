{
 "cells": [
  {
   "cell_type": "code",
   "execution_count": 2,
   "id": "f27043f5-9dd4-4889-b75f-3af79f378c0c",
   "metadata": {},
   "outputs": [],
   "source": [
    "import json\n",
    "import os\n",
    "import pandas as pd\n",
    "import matplotlib.pyplot as plt\n",
    "import cv2"
   ]
  },
  {
   "cell_type": "code",
   "execution_count": 3,
   "id": "582ffe93-f8dc-49c0-8f27-75298ab719ad",
   "metadata": {},
   "outputs": [
    {
     "name": "stdout",
     "output_type": "stream",
     "text": [
      "1808\n"
     ]
    }
   ],
   "source": [
    "dir_path = \"../Data/disaster/generated/\"\n",
    "\n",
    "img_names = []\n",
    "for folder, subfolders, filenames in os.walk(dir_path):\n",
    "    for img in filenames:\n",
    "        img_names.append(folder+'/'+img)\n",
    "print(len(img_names))"
   ]
  },
  {
   "cell_type": "code",
   "execution_count": 14,
   "id": "dd342175-064c-4f17-81a9-53da6971f8f7",
   "metadata": {},
   "outputs": [
    {
     "name": "stdout",
     "output_type": "stream",
     "text": [
      "616\n"
     ]
    }
   ],
   "source": [
    "print(len(img_names))"
   ]
  },
  {
   "cell_type": "code",
   "execution_count": 6,
   "id": "ad50f300-a2be-42fb-98e1-cc25eb877bc5",
   "metadata": {},
   "outputs": [
    {
     "data": {
      "text/html": [
       "<div>\n",
       "<style scoped>\n",
       "    .dataframe tbody tr th:only-of-type {\n",
       "        vertical-align: middle;\n",
       "    }\n",
       "\n",
       "    .dataframe tbody tr th {\n",
       "        vertical-align: top;\n",
       "    }\n",
       "\n",
       "    .dataframe thead th {\n",
       "        text-align: right;\n",
       "    }\n",
       "</style>\n",
       "<table border=\"1\" class=\"dataframe\">\n",
       "  <thead>\n",
       "    <tr style=\"text-align: right;\">\n",
       "      <th></th>\n",
       "      <th>image_id</th>\n",
       "      <th>dir</th>\n",
       "    </tr>\n",
       "  </thead>\n",
       "  <tbody>\n",
       "    <tr>\n",
       "      <th>0</th>\n",
       "      <td>In this image we can see a man standing and ho...</td>\n",
       "      <td>../Data/generated/flickr</td>\n",
       "    </tr>\n",
       "    <tr>\n",
       "      <th>1</th>\n",
       "      <td>In this image I can see a building along with ...</td>\n",
       "      <td>../Data/generated/flickr</td>\n",
       "    </tr>\n",
       "    <tr>\n",
       "      <th>2</th>\n",
       "      <td>In this image few people are walking on the gr...</td>\n",
       "      <td>../Data/generated/flickr</td>\n",
       "    </tr>\n",
       "    <tr>\n",
       "      <th>3</th>\n",
       "      <td>This picture shows few buildings and we see fe...</td>\n",
       "      <td>../Data/generated/flickr</td>\n",
       "    </tr>\n",
       "    <tr>\n",
       "      <th>4</th>\n",
       "      <td>There is a machine and it is covered with the ...</td>\n",
       "      <td>../Data/generated/flickr</td>\n",
       "    </tr>\n",
       "    <tr>\n",
       "      <th>...</th>\n",
       "      <td>...</td>\n",
       "      <td>...</td>\n",
       "    </tr>\n",
       "    <tr>\n",
       "      <th>320</th>\n",
       "      <td>In the picture I can see two men are standing ...</td>\n",
       "      <td>../Data/generated/flickr/.ipynb_checkpoints</td>\n",
       "    </tr>\n",
       "    <tr>\n",
       "      <th>321</th>\n",
       "      <td>In the picture we can see a building which is ...</td>\n",
       "      <td>../Data/generated/flickr/.ipynb_checkpoints</td>\n",
       "    </tr>\n",
       "    <tr>\n",
       "      <th>322</th>\n",
       "      <td>\"In this picture we can see fire in the forest...</td>\n",
       "      <td>../Data/generated/flickr/.ipynb_checkpoints</td>\n",
       "    </tr>\n",
       "    <tr>\n",
       "      <th>323</th>\n",
       "      <td>In this image there are so many trees on the m...</td>\n",
       "      <td>../Data/generated/flickr/.ipynb_checkpoints</td>\n",
       "    </tr>\n",
       "    <tr>\n",
       "      <th>324</th>\n",
       "      <td>As we can see in the image there are trees cur...</td>\n",
       "      <td>../Data/generated/flickr/.ipynb_checkpoints</td>\n",
       "    </tr>\n",
       "  </tbody>\n",
       "</table>\n",
       "<p>325 rows × 2 columns</p>\n",
       "</div>"
      ],
      "text/plain": [
       "                                              image_id  \\\n",
       "0    In this image we can see a man standing and ho...   \n",
       "1    In this image I can see a building along with ...   \n",
       "2    In this image few people are walking on the gr...   \n",
       "3    This picture shows few buildings and we see fe...   \n",
       "4    There is a machine and it is covered with the ...   \n",
       "..                                                 ...   \n",
       "320  In the picture I can see two men are standing ...   \n",
       "321  In the picture we can see a building which is ...   \n",
       "322  \"In this picture we can see fire in the forest...   \n",
       "323  In this image there are so many trees on the m...   \n",
       "324  As we can see in the image there are trees cur...   \n",
       "\n",
       "                                             dir  \n",
       "0                       ../Data/generated/flickr  \n",
       "1                       ../Data/generated/flickr  \n",
       "2                       ../Data/generated/flickr  \n",
       "3                       ../Data/generated/flickr  \n",
       "4                       ../Data/generated/flickr  \n",
       "..                                           ...  \n",
       "320  ../Data/generated/flickr/.ipynb_checkpoints  \n",
       "321  ../Data/generated/flickr/.ipynb_checkpoints  \n",
       "322  ../Data/generated/flickr/.ipynb_checkpoints  \n",
       "323  ../Data/generated/flickr/.ipynb_checkpoints  \n",
       "324  ../Data/generated/flickr/.ipynb_checkpoints  \n",
       "\n",
       "[325 rows x 2 columns]"
      ]
     },
     "execution_count": 6,
     "metadata": {},
     "output_type": "execute_result"
    }
   ],
   "source": [
    "generated_img = pd.DataFrame(img_names, columns=['image_id'])\n",
    "generated_img['dir'] = generated_img['image_id'].apply(lambda x: os.path.dirname(x))\n",
    "generated_img['image_id'] = generated_img['image_id'].apply(lambda x: os.path.basename(x))\n",
    "\n",
    "generated_img"
   ]
  },
  {
   "cell_type": "code",
   "execution_count": null,
   "id": "ebd9c761-58d6-432f-b6a5-8c0c347adc32",
   "metadata": {},
   "outputs": [],
   "source": [
    "## show img status\n",
    "\n",
    "plt.figure(figsize=(16,500))\n",
    "for i, img in enumerate(img_names[:300]):\n",
    "    plt.subplot(100,4,i+1)\n",
    "    plt.xticks([])\n",
    "    plt.yticks([])\n",
    "    plt.grid(False)\n",
    "    \n",
    "    path = img\n",
    "    im_bgr = cv2.imread(path)\n",
    "    im_rgb = im_bgr[:, :, ::-1]\n",
    "    plt.imshow(im_rgb, cmap=plt.cm.binary)\n",
    "    plt.xlabel(img[27:60] + '\\n' + img[60:93] +'\\n' + img[93:126], loc='left', fontsize=12)\n",
    "plt.show()"
   ]
  },
  {
   "cell_type": "markdown",
   "id": "16e87805-fc62-4710-8427-7d70a78a7e23",
   "metadata": {},
   "source": [
    "##### image generation data"
   ]
  },
  {
   "cell_type": "code",
   "execution_count": 13,
   "id": "62e97bf5-650c-4ab8-a1fe-31b0de98e523",
   "metadata": {},
   "outputs": [],
   "source": [
    "data = ['In the picture I can see two men are standing on the ground. These men are wearing helmets and holdings objects. In the background I can see trees the fire the grass plants the sky and some other objects on the ground.', 'There are plants walls windows chairs and other objects. These are damaged due to fire. And the background is dark in color.', 'In this image there are so many trees on the mountain at the back there is some fire and smoke.', 'In this image I can see a ladder which is in red color. Background I can see a house with fire and a building in white and brown color trees in green color and sky in white color.', 'This picture shows couple of men standing they wore sunglasses on their face and caps on their heads and we see trees and fire on the ground.', 'Here we can see trees fire and smoke. In the background there is sky.', 'At the bottom of this image I can see a campfire around this there are some stones. In the background there is a sea and I can see the trees.', 'In this picture we can see a burning plane on the ground. On the top we can see the fire and smoke.', 'In this image we can see a group of trees and fire.', 'In the bottom left corner of the image a person is standing. Behind him there is fire. Behind the fire few people are standing. At the top of the image there is a building.', 'In the picture I can see the fire smoke a bike vehicles grass fence and people standing on the ground. In the background I can see the sky trees and some other things.', \"On the left side few people are blasting with the cannons in the middle it is a London bridge. On the right side there is a ship. At the top it's a sky.\", 'In this image I can see the tree grass and plants on the ground. To the side I can see the fire and smoke. In the background I can see the clouds and the sky.', 'In this picture we can see a group of people trees fire and some objects. In the background we can see the sky.', 'In this image there is a person carrying a bag. There are trees. Behind there is fire.', 'Here we can see fire and there are trees. In the background there is sky.', 'This image consists of two persons standing on the ground. At the bottom there is green grass on the ground. And we can see a fire along with the smoke. In the background there are many trees. At the top there is sky.', 'In this picture we can see a person standing here at the bottom there is grass we can see fire here in the background there are some trees we can see a tower and smoke here there is the sky at the top of the picture.', 'In the image we can see there is a vehicle which has caught fire.', 'In this picture we can see group of people in front of them we can see fire and few bowls on the gas stove and also we can see few bottles bowls glasses and other things on the countertop.', 'In this image I can see grass plants trees smoke and fire. This image is taken may be in the forest during a day.', 'On the left side this is fire on the right side there are few people.', 'In the foreground of this image there are three men standing on the grass wearing backpacks and helmets on their heads. In the background there are trees fire smoke and the sky.', 'In the image there is some wood is burnt on the land and around the fire there are plants and trees and there is a vehicle parked in between the plants.', 'In this image we can see the fire on the surface of the grass. In the background there are trees.', 'In this image there is a building with fire in front of the building there are ladders. In the background there are the sky and smoke.', 'In this image there are ships on the sea spraying water on the fire.', 'In this picture I see a van in front which is on fire and I see a man behind this man and I see something is written on the van and I see the path. In the background I see the buildings few people plants a tree and the cloudy sky.', 'In this picture we can see the view of the forest. In the center there is a fire and smoke in the forest. In the front bottom side we can see some green trees.', 'In the center of the image we can see trees hills are there. In the background of the image fire smoke is there. At the top right corner sky is there. At the bottom of the image ground is there.', 'Here we can see two persons and among them a person has helmet on his head and carrying a cylinder bag on his shoulders and he is watering on the fire and this is a wall.', 'In this image we can see two people on the ground. We can also see some branches of a tree fire and a light.', 'In this picture I can see trees and few trees caught fire and I can see smoke.', 'On the left side we see the trees. On the right side we see the trees. In the middle of the picture we see the fire. This picture is clicked in the dark. I think fire caught the forest.', 'In the middle of the image we can see a person behind the person we can see fire in the background we can see few trees and buildings.', 'In this image we can see fire there are some trees.', 'In this picture we can see fire and a few trees in the background.', 'In this image I can see the fire few people and many trees. In the background I can see the sky.', 'In this image we can see a vehicle grass plants fire smoke and trees. In the background there is sky.', 'At the bottom of this image there is a road. On the right side there are two poles and grass on the ground and there are two persons on a road. In the background there is fire and smoke from a building there are trees and sky.', 'In this image we can see one big building one tree some sand fire with smoke and at the top there is the sky.', 'In this image the forest is on fire there are two firefighters trying to put off the fire in this image there are trees and rocks.', 'There is fire on the trees. There are trees in the back. Also there is sky with sun in the background.', 'In this image  in the foreground there are people standing and in the middle there is a fire burning.', 'In this image we can see vehicle on road trees fire and smoke.', 'In this picture we can see a person on the ground here we can see fire with smoke grass dried leaves and some objects and in the background we can see trees sky.', 'In this image there is a person holding an object and walking on the road beside the person there are grass and trees in the middle of them there is a fire.', 'In this image we can see a man standing and holding a torch. He is wearing a mask. In the background we can see fire.', 'This image is clicked on the roads. At the bottom there is a road. In the front we can see a fire along with the smoke. On the left and right there are trees and buildings. At the top there is a sky.', 'In the foreground of the image we can see fire in a tree. In the background we can see a group of trees.', 'In the center of the image there are people. In the background of the image there is fire. At the top of the image there is sky.', 'In this picture I can see the fire on the ground. In the background I can see many trees plants and grass. At the bottom I can see many small stones. On the left I can see the smoke. At the top I can see the sky.', \"In this picture we can see fire in the forest. On the bottom we can see river. On the right we can see many trees. Here it's a sky. On the top we can see smoke.\", 'As we can see in the image there are trees current poles buildings and fire. The image is little dark.', 'In this image I can see a road and trees on both sides of the road. I can see some trees are burning on the right hand side of the road. I can see the fire and smoke. At the top of the image I can see the sky.\\xa0', 'This picture shows bunch of trees on the hill and we see a vehicle and fire with smoke.', 'This picture is clicked outside. In the foreground we can see the rocks water body and the green grass trees and some other items. In the background we can see the buildings vehicles and the fire like thing and some objects.', 'In the picture we can see a painting of hell with some people beating some people who are nude and between them we can see fire.', 'In this image there is a vehicle grass plants trees fire to the plants smoke and in the background there is sky.', 'As we can see in the image there is grass plants fire and trees. On the top there is sky and clouds.', 'In this image I can see number of people are standing near the railing. On the right side of the image I can see a plant and a tree. In the background I can see smoke and the fire.', 'In this image we can see a person bag trees fire smoke and other objects.', 'In this picture we can see an object tied with rope to the airplane and we can see an airplane in the air. We can see trees smoke fire and sky.', 'In this image we can see trees fire to the trees and the sky in the background.', 'This image consists of an ocean. In which there is a ship. In the background there is a sun and clouds in the sky. At the top there is a stand to which a fire is produced.', 'There are people poster it seems like a vehicle and fire in the foreground area of the image and sky in the background area.', 'In this picture we can see many trees and some trees are burning. On the left we can see smoke. Here we can see a plane above the trees. On the top right corner there is a sky. On the bottom we can see grass.', 'In this image we can see buildings and windows. At the bottom we can see two lights and a tree. On the left side we can see fire on the buildingsmoke. a clock and a name board on the wall and this is sky.', 'In this image we can see a building which was collapsed.', 'In the foreground of this image there is a building with collapsed wall. At the top there is the sky.', 'This is an outside view. Here I can see few children holding bricks in the hands and walking on the ground. In the background there are few buildings collapsed and there is a tree. At the top of the image I can see the sky.', 'It looks like a collapsed building where we can see a person standing on the bricks. In the background there are buildings trees mountain and the sky.', \n",
    "        'Here we can see a collapsed building and on the left there is a excavator. In the background there are buildingsglasshoarding on the building and clouds in the sky.', 'In this picture we can see collapses building the side we can see one more building and we can see two objects in front of the building.', 'This picture is clicked outside. On the right crane and we can see the bricks and stones lying on the ground and we can see the house which is partially collapsed. In the background there is a sky and we can see the tree and some buildings.', 'In this image I can see there is a collapsed building and there are wooden sticks and an object. And there is a fence. And in front there is grass. And at the back there are trees and a sky.', 'Here in this picture we can see a house being collapsed by a crane present over there and we can see windows on the house and we can see plants and gate also present over there and we can see clouds in sky.', 'In this picture we can see a collapsed building and to the wall there are pipes. Behind the wall there is a sky.', 'In the picture we can see a building which is collapsed and top of the picture there is clear sky.', 'In the foreground of the picture there are people and there is scrap due to collapse of building or houses. In the center of the picture there are fencing railing and pole. In the background there are trees.', 'This image is taken outdoors. At the bottom of the image there is a ground. In the middle of the image there are a few collapsed houses and there is a tree. Two men are standing on the ground and there is a pipe.', 'This is an edited image. In the center of the image we can see the collapse airplane. In the background of the image we can see the ground and grass. At the top of the image we can see the sky.', 'This is a black and white picture of a collapsed building and in the background there is sky.', 'On the left side of the image there is a collapsed building. There are roofs many wooden pieces and also there is a man. And on the right side of the image there is water with wooden logs and pieces.', 'This picture shows few buildings and we see few collapsed buildings.', 'In this image there is a collapsed building and beside that there is a tree.', 'In this image there is a collapsed building in front of that there is a garbage behind that there are some trees.', 'There are many collapsed buildings. In the back there are trees and sky. There are pillars and iron rods.', 'In this picture I can see a person standing there is a vehicle there is a collapsed building there are trees and in the background there is sky.', 'In this picture we can see a collapsed building. In the background of the image we can see the clouds are present in the sky.', 'In this image we can see a collapsed building. At the bottom there is a fence. In the background here are trees wires and a pole. At the top there is sky.', 'In this picture I can see a collapsed building. I can see a vehicle and in the background there is the sky.', 'This image consists of a building. It looks like it is collapsed. On the right there is a stand made up of metal. At the top there is sky.', 'In this image there are plants  trees a collapsed house and in the background there is sky.', 'In the image there is fencing. Behind the fencing there are some other things. And there is a collapsed building. In the background there are trees. And also there is sky.', 'In this picture i can see the collapse house. On the bottom i can see the fencing. In the background i can see many trees. On the right i can see the sky and clouds.', 'This is black and white picturewe can see buildingstreescurrent poles and sky. Bottom of the image we can see watermark.', 'In this image we can see a collapsed building in front of the building there are trees an iron pole and a sign board.', 'In this image in the front there are flowers and plants. In the background there is a building and there are windows.', 'In this image we can see trees a fire and ground.', 'This is an edited picture where I can see a house tree and in the background there are thunders in the sky.', 'In this image there are trees at the top of the image there are clouds and thunder in the sky.', 'In the picture we can see some trees in the dark and behind it we can see a sky with thunderstorms and clouds.', 'In the foreground of this image there are trees and the houses. At the top there is thunder in the sky.', 'Here we can see buildings with glass windows. Far there is a thunder and lights.', 'In this image we can see sky with clouds lightning electric poles electric cables buildings and electric lights.', 'This is an image clicked in the dark. At the bottom of this image I can see some trees and lights. On the top of the image I can see the thunders in the sky.', 'Vehicles are on the road. Here we can see trees grass light poles and current pole. We can see thunderstorm in the sky. Sky is cloudy.', 'In this image we can see some houses and trees and at the top we can see the sky with lightning.', 'At the bottom we can see a building poles fences trees plants doors. In the background we can see thunder in the sky.', 'In this picture we can see some buildings in the front. On the top we can see some lightning strikes in the sky and clouds.', 'In this image I can see a pole and in the background I can see clouds and thunders in the sky.', 'In this image we can see the lightning trees and other objects. At the top of the image there is the sky. At the bottom of the image there is a black surface.', 'At the bottom of the image I can see many buildings and two street lights. In the background I can see the thunders in the sky. At the top I can see the clouds.', 'In the picture we can see some trees and behind far away we can see hills and lights and behind the hills we can see a sky with thunderstorms.', 'At the bottom of this image there is water. On the left side there are branches of the trees having leaves. In the background there are boats on the water there are mountains and there are clouds and a thunder in the sky.', 'In this image we can see houses. We can see some poles. Among them we can see a light pole. We can see the ground. We can see some grass. There are a few trees. We can see the sky with thunder.', 'This picture is clicked outside. On the right we can see a car running on the road. In the background we can see the sky and we can see the rain and we can see the hills group of persons lightning and some other objects.', 'In the picture there are many buildings and there is a road in between those buildings few vehicles are parked beside the road and there are also many trees there is a thunder in the sky.', 'In this picture we can see a tent and few vehicles on the path. We can see some trees and plants. There is lightning in the sky. Sky is cloudy.', 'In this picture there are buildings and trees at the bottom side of the image and there is sky at the top side of the image.', \"Here we can see the road there's grass on the ground and we can see the sky.\", 'In this picture we can see the farmland. On the left we can see many tree. At the bottom we can see plants and grass. In the top right we can see the fog.', 'We can see peoplewater and trees. In the background we can see sky.', 'In the picture there is a building and beside the buildingtotal area is covered with dark fog and there is a grass and a big tree in front of the building.', 'In the foreground of this image there is a rock and few trees on the left. In the background there are few trees and the foggy sky.', 'In this image we can see ropeway cars. Here few people are riding ropeway car. Here we can see pole ropes. At the bottom we can see snow plants person. Background we can see fog trees.', 'In this image I can see few trees fog pole sky and the building.', 'In this picture we can see the water. At the top we can see the fog. On the left there is a bridge. At the bottom we can see the trees. In the bottom left corner we can see the pole fencing and other objects.', 'In this image I can see at the bottom there is water on the right side there are trees. At the top it is the foggy sky.', 'In this image I can see the view of the town. These are the houses. This looks like a road. I can see a current pole. These are the trees. In the background I can see few houses are covered with the fog.', 'In this image I can see few vehicles few people number of trees and fog. I can also see grass and an orange colour thing in the centre.', 'In this image I can see few trees mountains and fog. The sky is in blue color.', 'This is an outside view. At the bottom there are many plants and a rock. On the left side there is a wooden fencing. In the middle of the image there is a bridge. On the left side there are trees. This place is covered with the fog.', 'In this picture we can see fog in the front on the left side there are some trees we can see the sky at the top of the picture.', 'There is a machine and it is covered with the fog in the front there are few dry plants and a person is standing beside dry plants.', 'In this picture we can see leaves at the bottom in the background there are some trees we can see fog in the middle there is the sky at the left top of the picture.', 'This is a black and white picture. On the ground there is snow. On the trees there is snow. In the back there is fog.', 'In the center of the image there is a tree. At the bottom of the image there is grass. There is fog in the background of the image.', 'In the image we can see the graveyard and the snow. Here we can see the trees and the foggy sky.', 'It is a hill station with beautiful grass and rocks and in the right side there is a house and it is covered with fog.', 'In this image few people are walking on the grassland. Left side there is a person holding a stick. Left side there are few plants. Background there is fog.', 'Here in this picture we can see number of cars present on the ground and we can also see trees and plants present over there and we can see the whole place is covered with fog.',\n",
    "    'In the image we can see fog. Behind the fog there is water and trees.', 'In this image I can see the road. To the side of the road I can see the statues on the wall. In the background I can see many trees and the fog.', 'In the foreground of this image there are branches of a tree without leaves and it seems like there are shoes on it. In the background there are trees and the fog.', 'In this picture I can see few boats in the water and looks like fog and I can see couple of them seated on a boat.', 'In the middle it is a house at the bottom there are trees. At the top it is the foggy sky.', 'In this picture we can see two building with windows. In the center we can see the tree. On the top there is a foggy sky and sun.', 'It is a black and white picture. In this image we can see so many trees plants grass fog and sky.', 'In this picture there are mountains and there are trees on the mountain. At the top there is sky. At the bottom there is grass and there are plants and their might be fog.', 'This picture shows a tree and we see plants and few sticks and we see fog.', 'In this image we can see snow. On the right there are trees.', 'In this image we can see grass and plants with flowers on the ground and in the middle we can see stones on the path. In the background we can see the fog.', 'In the picture I can see the trees. I can see a road on the bottom right side. This is looking like a wooden bench in between the trees.', \"In this image in the front there's grass on the ground. In the center there are vehicles. In the background there are trees and the sky is cloudy and there is smoke.\", 'This picture is clicked outside the city. In the foreground we can see the plants and the stones on the ground. In the background we can see the sky.', 'In this picture I can see many trees. In the center I can see the fog. At the top I can see the sky.', 'In this image we can see a man holding a kid and a stroller in the ground on the right side there is a tree and sky in the background.', 'On the right side of the image we can see wooden sticks and trees. In the background there are trees water and sky.', 'In this picture we can see few trees fog and grass.', 'In this image I can see the trees and fog.', 'There is a surface of water at the bottom of this image. We can see trees in the middle of this image and the sky is in the background.', \"In the down side there are green color trees. At the top it's a foggy foggy.\", 'In this picture I can see sky tree and ground.', 'In this picture we can observe animals walking on the ground. There is a snowfall. We can observe some snow on the ground. There is a wooden railing. In the background there are trees.', 'In the image we can see there are many vehicles on the road. There are even buildings and light poles. We can even see there may be a tree. Everywhere there is a snow white in color and there is a snowfall.', 'This is a black and white image where we can see the snowfall light pole fence and the trees covered with snow.', 'In this image I can see a building along with the windows and there is a snowfall.', 'This image consists of many persons wearing helmets are standing on the road. And there is snowfall. In the background there is a building.', 'In the picture I can see the snowfall where we can see roads trees and vehicles are covered with snow. Here we can see people walking on the road I can see buildings light poles and the dark sky in the background.', 'In this picture I can observe a couple walking on the snow. I can observe snowfall in this picture. The background is dark.', 'In this image we can see motor vehicles on the road and snowfall.', 'In this picture we can see a woman holding a camera and in the background we can see snowfall on the grass.', 'In this picture we can see snow and trees. In the background there is sky.', 'In this image we can see trees poles light board and a building. Here we can see cars and snow.']"
   ]
  },
  {
   "cell_type": "code",
   "execution_count": 14,
   "id": "e0082e6d-1a83-4b37-b848-fad3df63b1e5",
   "metadata": {},
   "outputs": [
    {
     "name": "stdout",
     "output_type": "stream",
     "text": [
      "176\n"
     ]
    }
   ],
   "source": [
    "print(len(data))"
   ]
  },
  {
   "cell_type": "code",
   "execution_count": 16,
   "id": "9fb011ac-729b-4896-bda2-d04ef72b2937",
   "metadata": {},
   "outputs": [
    {
     "name": "stdout",
     "output_type": "stream",
     "text": [
      "['In this picture I can see a person standing there is a vehicle there is a collapsed building there are trees and in the background there is sky.', 'In this picture we can see a collapsed building. In the background of the image we can see the clouds are present in the sky.', 'In this image we can see a collapsed building. At the bottom there is a fence. In the background here are trees wires and a pole. At the top there is sky.', 'In this picture I can see a collapsed building. I can see a vehicle and in the background there is the sky.', 'This image consists of a building. It looks like it is collapsed. On the right there is a stand made up of metal. At the top there is sky.', 'In this image there are plants  trees a collapsed house and in the background there is sky.', 'In the image there is fencing. Behind the fencing there are some other things. And there is a collapsed building. In the background there are trees. And also there is sky.', 'In this picture i can see the collapse house. On the bottom i can see the fencing. In the background i can see many trees. On the right i can see the sky and clouds.', 'This is black and white picturewe can see buildingstreescurrent poles and sky. Bottom of the image we can see watermark.', 'In this image we can see a collapsed building in front of the building there are trees an iron pole and a sign board.', 'In this image in the front there are flowers and plants. In the background there is a building and there are windows.', 'In this image we can see trees a fire and ground.', 'This is an edited picture where I can see a house tree and in the background there are thunders in the sky.', 'In this image there are trees at the top of the image there are clouds and thunder in the sky.', 'In the picture we can see some trees in the dark and behind it we can see a sky with thunderstorms and clouds.', 'In the foreground of this image there are trees and the houses. At the top there is thunder in the sky.', 'Here we can see buildings with glass windows. Far there is a thunder and lights.', 'In this image we can see sky with clouds lightning electric poles electric cables buildings and electric lights.', 'This is an image clicked in the dark. At the bottom of this image I can see some trees and lights. On the top of the image I can see the thunders in the sky.', 'Vehicles are on the road. Here we can see trees grass light poles and current pole. We can see thunderstorm in the sky. Sky is cloudy.', 'In this image we can see some houses and trees and at the top we can see the sky with lightning.', 'At the bottom we can see a building poles fences trees plants doors. In the background we can see thunder in the sky.', 'In this picture we can see some buildings in the front. On the top we can see some lightning strikes in the sky and clouds.', 'In this image I can see a pole and in the background I can see clouds and thunders in the sky.', 'In this image we can see the lightning trees and other objects. At the top of the image there is the sky. At the bottom of the image there is a black surface.', 'At the bottom of the image I can see many buildings and two street lights. In the background I can see the thunders in the sky. At the top I can see the clouds.', 'In the picture we can see some trees and behind far away we can see hills and lights and behind the hills we can see a sky with thunderstorms.', 'At the bottom of this image there is water. On the left side there are branches of the trees having leaves. In the background there are boats on the water there are mountains and there are clouds and a thunder in the sky.', 'In this image we can see houses. We can see some poles. Among them we can see a light pole. We can see the ground. We can see some grass. There are a few trees. We can see the sky with thunder.', 'This picture is clicked outside. On the right we can see a car running on the road. In the background we can see the sky and we can see the rain and we can see the hills group of persons lightning and some other objects.', 'In the picture there are many buildings and there is a road in between those buildings few vehicles are parked beside the road and there are also many trees there is a thunder in the sky.', 'In this picture we can see a tent and few vehicles on the path. We can see some trees and plants. There is lightning in the sky. Sky is cloudy.', 'In this picture there are buildings and trees at the bottom side of the image and there is sky at the top side of the image.', \"Here we can see the road there's grass on the ground and we can see the sky.\", 'In this picture we can see the farmland. On the left we can see many tree. At the bottom we can see plants and grass. In the top right we can see the fog.', 'We can see peoplewater and trees. In the background we can see sky.', 'In the picture there is a building and beside the buildingtotal area is covered with dark fog and there is a grass and a big tree in front of the building.', 'In the foreground of this image there is a rock and few trees on the left. In the background there are few trees and the foggy sky.', 'In this image we can see ropeway cars. Here few people are riding ropeway car. Here we can see pole ropes. At the bottom we can see snow plants person. Background we can see fog trees.', 'In this image I can see few trees fog pole sky and the building.', 'In this picture we can see the water. At the top we can see the fog. On the left there is a bridge. At the bottom we can see the trees. In the bottom left corner we can see the pole fencing and other objects.', 'In this image I can see at the bottom there is water on the right side there are trees. At the top it is the foggy sky.', 'In this image I can see the view of the town. These are the houses. This looks like a road. I can see a current pole. These are the trees. In the background I can see few houses are covered with the fog.', 'In this image I can see few vehicles few people number of trees and fog. I can also see grass and an orange colour thing in the centre.', 'In this image I can see few trees mountains and fog. The sky is in blue color.', 'This is an outside view. At the bottom there are many plants and a rock. On the left side there is a wooden fencing. In the middle of the image there is a bridge. On the left side there are trees. This place is covered with the fog.', 'In this picture we can see fog in the front on the left side there are some trees we can see the sky at the top of the picture.', 'There is a machine and it is covered with the fog in the front there are few dry plants and a person is standing beside dry plants.', 'In this picture we can see leaves at the bottom in the background there are some trees we can see fog in the middle there is the sky at the left top of the picture.', 'This is a black and white picture. On the ground there is snow. On the trees there is snow. In the back there is fog.', 'In the center of the image there is a tree. At the bottom of the image there is grass. There is fog in the background of the image.', 'In the image we can see the graveyard and the snow. Here we can see the trees and the foggy sky.', 'It is a hill station with beautiful grass and rocks and in the right side there is a house and it is covered with fog.', 'In this image few people are walking on the grassland. Left side there is a person holding a stick. Left side there are few plants. Background there is fog.', 'Here in this picture we can see number of cars present on the ground and we can also see trees and plants present over there and we can see the whole place is covered with fog.', 'In the image we can see fog. Behind the fog there is water and trees.', 'In this image I can see the road. To the side of the road I can see the statues on the wall. In the background I can see many trees and the fog.', 'In the foreground of this image there are branches of a tree without leaves and it seems like there are shoes on it. In the background there are trees and the fog.', 'In this picture I can see few boats in the water and looks like fog and I can see couple of them seated on a boat.', 'In the middle it is a house at the bottom there are trees. At the top it is the foggy sky.', 'In this picture we can see two building with windows. In the center we can see the tree. On the top there is a foggy sky and sun.', 'It is a black and white picture. In this image we can see so many trees plants grass fog and sky.', 'In this picture there are mountains and there are trees on the mountain. At the top there is sky. At the bottom there is grass and there are plants and their might be fog.', 'This picture shows a tree and we see plants and few sticks and we see fog.', 'In this image we can see snow. On the right there are trees.', 'In this image we can see grass and plants with flowers on the ground and in the middle we can see stones on the path. In the background we can see the fog.', 'In the picture I can see the trees. I can see a road on the bottom right side. This is looking like a wooden bench in between the trees.', \"In this image in the front there's grass on the ground. In the center there are vehicles. In the background there are trees and the sky is cloudy and there is smoke.\", 'This picture is clicked outside the city. In the foreground we can see the plants and the stones on the ground. In the background we can see the sky.', 'In this picture I can see many trees. In the center I can see the fog. At the top I can see the sky.', 'In this image we can see a man holding a kid and a stroller in the ground on the right side there is a tree and sky in the background.', 'On the right side of the image we can see wooden sticks and trees. In the background there are trees water and sky.', 'In this picture we can see few trees fog and grass.', 'In this image I can see the trees and fog.', 'There is a surface of water at the bottom of this image. We can see trees in the middle of this image and the sky is in the background.', \"In the down side there are green color trees. At the top it's a foggy foggy.\", 'In this picture I can see sky tree and ground.', 'In this picture we can observe animals walking on the ground. There is a snowfall. We can observe some snow on the ground. There is a wooden railing. In the background there are trees.', 'In the image we can see there are many vehicles on the road. There are even buildings and light poles. We can even see there may be a tree. Everywhere there is a snow white in color and there is a snowfall.', 'This is a black and white image where we can see the snowfall light pole fence and the trees covered with snow.', 'In this image I can see a building along with the windows and there is a snowfall.', 'This image consists of many persons wearing helmets are standing on the road. And there is snowfall. In the background there is a building.', 'In the picture I can see the snowfall where we can see roads trees and vehicles are covered with snow. Here we can see people walking on the road I can see buildings light poles and the dark sky in the background.', 'In this picture I can observe a couple walking on the snow. I can observe snowfall in this picture. The background is dark.', 'In this image we can see motor vehicles on the road and snowfall.', 'In this picture we can see a woman holding a camera and in the background we can see snowfall on the grass.', 'In this picture we can see snow and trees. In the background there is sky.', 'In this image we can see trees poles light board and a building. Here we can see cars and snow.']\n"
     ]
    }
   ],
   "source": [
    "print(data[88:])"
   ]
  },
  {
   "cell_type": "code",
   "execution_count": null,
   "id": "81c48499-abec-4d01-b776-75c6aa9c0e31",
   "metadata": {},
   "outputs": [],
   "source": []
  }
 ],
 "metadata": {
  "kernelspec": {
   "display_name": "torch-gpu",
   "language": "python",
   "name": "torch"
  },
  "language_info": {
   "codemirror_mode": {
    "name": "ipython",
    "version": 3
   },
   "file_extension": ".py",
   "mimetype": "text/x-python",
   "name": "python",
   "nbconvert_exporter": "python",
   "pygments_lexer": "ipython3",
   "version": "3.10.6"
  }
 },
 "nbformat": 4,
 "nbformat_minor": 5
}

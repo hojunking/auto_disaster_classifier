{
 "cells": [
  {
   "cell_type": "code",
   "execution_count": 2,
   "id": "f27043f5-9dd4-4889-b75f-3af79f378c0c",
   "metadata": {},
   "outputs": [],
   "source": [
    "import json\n",
    "import os\n",
    "import pandas as pd\n",
    "import matplotlib.pyplot as plt\n",
    "import cv2"
   ]
  },
  {
   "cell_type": "code",
   "execution_count": 3,
   "id": "582ffe93-f8dc-49c0-8f27-75298ab719ad",
   "metadata": {},
   "outputs": [
    {
     "name": "stdout",
     "output_type": "stream",
     "text": [
      "1808\n"
     ]
    }
   ],
   "source": [
    "dir_path = \"../Data/disaster/generated/\"\n",
    "\n",
    "img_names = []\n",
    "for folder, subfolders, filenames in os.walk(dir_path):\n",
    "    for img in filenames:\n",
    "        img_names.append(folder+'/'+img)\n",
    "print(len(img_names))"
   ]
  },
  {
   "cell_type": "code",
   "execution_count": 14,
   "id": "dd342175-064c-4f17-81a9-53da6971f8f7",
   "metadata": {},
   "outputs": [
    {
     "name": "stdout",
     "output_type": "stream",
     "text": [
      "616\n"
     ]
    }
   ],
   "source": [
    "print(len(img_names))"
   ]
  },
  {
   "cell_type": "code",
   "execution_count": 6,
   "id": "ad50f300-a2be-42fb-98e1-cc25eb877bc5",
   "metadata": {},
   "outputs": [
    {
     "data": {
      "text/html": [
       "<div>\n",
       "<style scoped>\n",
       "    .dataframe tbody tr th:only-of-type {\n",
       "        vertical-align: middle;\n",
       "    }\n",
       "\n",
       "    .dataframe tbody tr th {\n",
       "        vertical-align: top;\n",
       "    }\n",
       "\n",
       "    .dataframe thead th {\n",
       "        text-align: right;\n",
       "    }\n",
       "</style>\n",
       "<table border=\"1\" class=\"dataframe\">\n",
       "  <thead>\n",
       "    <tr style=\"text-align: right;\">\n",
       "      <th></th>\n",
       "      <th>image_id</th>\n",
       "      <th>dir</th>\n",
       "    </tr>\n",
       "  </thead>\n",
       "  <tbody>\n",
       "    <tr>\n",
       "      <th>0</th>\n",
       "      <td>In this image we can see a man standing and ho...</td>\n",
       "      <td>../Data/generated/flickr</td>\n",
       "    </tr>\n",
       "    <tr>\n",
       "      <th>1</th>\n",
       "      <td>In this image I can see a building along with ...</td>\n",
       "      <td>../Data/generated/flickr</td>\n",
       "    </tr>\n",
       "    <tr>\n",
       "      <th>2</th>\n",
       "      <td>In this image few people are walking on the gr...</td>\n",
       "      <td>../Data/generated/flickr</td>\n",
       "    </tr>\n",
       "    <tr>\n",
       "      <th>3</th>\n",
       "      <td>This picture shows few buildings and we see fe...</td>\n",
       "      <td>../Data/generated/flickr</td>\n",
       "    </tr>\n",
       "    <tr>\n",
       "      <th>4</th>\n",
       "      <td>There is a machine and it is covered with the ...</td>\n",
       "      <td>../Data/generated/flickr</td>\n",
       "    </tr>\n",
       "    <tr>\n",
       "      <th>...</th>\n",
       "      <td>...</td>\n",
       "      <td>...</td>\n",
       "    </tr>\n",
       "    <tr>\n",
       "      <th>320</th>\n",
       "      <td>In the picture I can see two men are standing ...</td>\n",
       "      <td>../Data/generated/flickr/.ipynb_checkpoints</td>\n",
       "    </tr>\n",
       "    <tr>\n",
       "      <th>321</th>\n",
       "      <td>In the picture we can see a building which is ...</td>\n",
       "      <td>../Data/generated/flickr/.ipynb_checkpoints</td>\n",
       "    </tr>\n",
       "    <tr>\n",
       "      <th>322</th>\n",
       "      <td>\"In this picture we can see fire in the forest...</td>\n",
       "      <td>../Data/generated/flickr/.ipynb_checkpoints</td>\n",
       "    </tr>\n",
       "    <tr>\n",
       "      <th>323</th>\n",
       "      <td>In this image there are so many trees on the m...</td>\n",
       "      <td>../Data/generated/flickr/.ipynb_checkpoints</td>\n",
       "    </tr>\n",
       "    <tr>\n",
       "      <th>324</th>\n",
       "      <td>As we can see in the image there are trees cur...</td>\n",
       "      <td>../Data/generated/flickr/.ipynb_checkpoints</td>\n",
       "    </tr>\n",
       "  </tbody>\n",
       "</table>\n",
       "<p>325 rows × 2 columns</p>\n",
       "</div>"
      ],
      "text/plain": [
       "                                              image_id  \\\n",
       "0    In this image we can see a man standing and ho...   \n",
       "1    In this image I can see a building along with ...   \n",
       "2    In this image few people are walking on the gr...   \n",
       "3    This picture shows few buildings and we see fe...   \n",
       "4    There is a machine and it is covered with the ...   \n",
       "..                                                 ...   \n",
       "320  In the picture I can see two men are standing ...   \n",
       "321  In the picture we can see a building which is ...   \n",
       "322  \"In this picture we can see fire in the forest...   \n",
       "323  In this image there are so many trees on the m...   \n",
       "324  As we can see in the image there are trees cur...   \n",
       "\n",
       "                                             dir  \n",
       "0                       ../Data/generated/flickr  \n",
       "1                       ../Data/generated/flickr  \n",
       "2                       ../Data/generated/flickr  \n",
       "3                       ../Data/generated/flickr  \n",
       "4                       ../Data/generated/flickr  \n",
       "..                                           ...  \n",
       "320  ../Data/generated/flickr/.ipynb_checkpoints  \n",
       "321  ../Data/generated/flickr/.ipynb_checkpoints  \n",
       "322  ../Data/generated/flickr/.ipynb_checkpoints  \n",
       "323  ../Data/generated/flickr/.ipynb_checkpoints  \n",
       "324  ../Data/generated/flickr/.ipynb_checkpoints  \n",
       "\n",
       "[325 rows x 2 columns]"
      ]
     },
     "execution_count": 6,
     "metadata": {},
     "output_type": "execute_result"
    }
   ],
   "source": [
    "generated_img = pd.DataFrame(img_names, columns=['image_id'])\n",
    "generated_img['dir'] = generated_img['image_id'].apply(lambda x: os.path.dirname(x))\n",
    "generated_img['image_id'] = generated_img['image_id'].apply(lambda x: os.path.basename(x))\n",
    "\n",
    "generated_img"
   ]
  },
  {
   "cell_type": "code",
   "execution_count": null,
   "id": "ebd9c761-58d6-432f-b6a5-8c0c347adc32",
   "metadata": {},
   "outputs": [],
   "source": [
    "## show img status\n",
    "\n",
    "plt.figure(figsize=(16,500))\n",
    "for i, img in enumerate(img_names[:300]):\n",
    "    plt.subplot(100,4,i+1)\n",
    "    plt.xticks([])\n",
    "    plt.yticks([])\n",
    "    plt.grid(False)\n",
    "    \n",
    "    path = img\n",
    "    im_bgr = cv2.imread(path)\n",
    "    im_rgb = im_bgr[:, :, ::-1]\n",
    "    plt.imshow(im_rgb, cmap=plt.cm.binary)\n",
    "    plt.xlabel(img[27:60] + '\\n' + img[60:93] +'\\n' + img[93:126], loc='left', fontsize=12)\n",
    "plt.show()"
   ]
  },
  {
   "cell_type": "markdown",
   "id": "16e87805-fc62-4710-8427-7d70a78a7e23",
   "metadata": {},
   "source": [
    "##### image generation data"
   ]
  },
  {
   "cell_type": "code",
   "execution_count": 1,
   "id": "62e97bf5-650c-4ab8-a1fe-31b0de98e523",
   "metadata": {},
   "outputs": [],
   "source": [
    "data = ['this is the aftermath of a fire outside', 'A fire effect has been superimposed on a city street scene.', 'An airplane is dispensing fire repellent over a forest.', 'A plane is flying overhead disbursing fire retardant.', 'A jetliner sitting on top of an airport next to a fire.', 'A city street where a city bus and a car collided in an accident and fire and police personnel are around the vehicles.', 'Several fire fighters standing next to a car that a bus crashed into.', 'A firetruck spraying out water at a small airplane', 'Fire trucks spray water on a small plane on a busy airport runway.', 'Firefighters next to their trucks fight a blaze. ', 'a group of firefighters trying to stop a fire', 'A fire hose spurts water near a parked fire truck.', 'Hook and ladder fire truck at the scene of a night time fire.', 'a fireman a firetruck some hoses and a fire at night', 'A plane dropping fire retardant over a forest fire.', 'a plane drops fire retardant on a forest fire ', 'A bus waiting on the street near a fire.', 'A fire breaking out near a busy intersection.', 'A fire that is burning in the distance.', 'Firefighters are using the hose on a firetruck to spray water.', 'Firemen using the hose from the fire truck to put out a fire. ', 'A fire truck spraying water into a bunch of trees.', 'A fire truck putting out a fire next to a bridge.', 'Three firemen shoot water from a tower cannon on top of a fire truck next to a bridge ', 'A large red fire truck driving down a road.', 'A large fire truck in front of a burning fire.', 'a red yellow and white firetruck and some trees smoke and fire', 'A fire truck is parked along the side of the street', 'A bunch of firefighters performing a job of some sort.', 'several firetrucks with the firemen operating the hose', 'A city street filled with fire fighters putting out a  fire.', 'Fireman and hoses are on a small city road.', 'there are many fire fighters standing in this street', 'Three firefighters on and around a fire truck spraying water.', 'The firetruck carried the firefighters to the fire to put the blaze out. ', 'A team of firemen fighting to put out a fire at a business.', 'A fire truck spraying water onto something  from the truck', 'A couple of men standing on top of and around a fire truck.', 'A green truck is parked by a brush fire.', 'A sports utility vehicle driving in the brush during a fire. ', 'A truck driving away from a grass fire in an open field.', 'A jeep that is sitting in a field with a large fire and smoke in the background.', 'Many people watch something on fire with umbrellas. ', 'A group of people with umbrellas stand near a fire.', 'The people are standing outside of a fire.', 'A group of men tours a building that has had fire damage.', 'A firefighter on a ladder at the window of a brick building.', 'A firefighter standing on a ladder outside a window.', 'A fireman saves a suitcase from a smokey room.', 'A fireman rescuing a suitcase from a burning building. ', 'A large fire burning in the street with rioters looking on.', 'Person with camera in air taking video of large fire', 'A crowd is gathered around a bonfire in the street and someone is recording it', 'People standing around and taking pictures of a large fire outside a building.', 'A woman walking into  a house that has been on fire', 'A woman standing in a room destroyed by fire.', 'A person is standing inside of a fire damaged hotel room', 'The fragment of the burned plane rests on the ground.', 'A bus that has been burned is sitting in pieces on the street.', 'This burned out truck is parked next to a tree.', 'The interior of the room has been entirely burned.', 'A chair and a couple of pieces of furniture in a room that had been burned.', 'A lady stands in a flooded grassy spot surrounded by tents.', 'A woman under and umbrella standing in water on a flooded field with tents in the background.', 'Bench sitting in flood waters from near by river.', 'A bench looking out onto a flooded river. ', 'A steel bench overlooks a flooded swamp like area.', 'A group of people walking down a flooded city street.', 'Two cows wading through a flooded grass plain.', 'Two birds rest along the marshy shore of a flooded lake.', 'This toilet was covered in mud when the river reached flood stage.', 'A flooded field with several cows roaming through it', 'Cattle standing in flooding river near a forest.', 'An area flooded with water shows several brown and white cows in the distance.', 'a street that has been flooded with water ', 'A yellow barricade sitting on top of a flooded street.', 'Water floods an area with trees and street signs.', 'Not even a flood deters this bicyclist from his travel.', 'A car parked in a flooded area near a stop sign', 'A white car is stuck in a road that is flooded.', 'A neighborhood flooded with water with people sitting in the background.', 'A white car parked on top of a flooded street next to a  group of people.', 'During a flood some people take heir boat out to get around ', 'People are using a boat to travel through a flooded town.', 'A flooded area by a gas station where two people riding a boat. ', 'A flooded area with a couple of people riding a boat.', 'Two people floating in a boat on a flooded street.', 'A bench sits between two trees in a flooded area.', 'a flooded park bench and light pole behind a cluster of trees', 'A bench sitting in the middle of a flooded park.', 'A park bench sitting in a water flooded field.', 'A park bench submerged in water in a flood.', 'A bench under water in a park that has been flooded ', 'A red park bench sitting in the middle of a flooded area.', 'Native animals near flooded area with truck in large field.', 'A flooded city filled with water up to traffic light poll.', 'A flooded street with the water up to the traffic lights.', 'A flooded street at dusk and apartment buildings in the background.', 'Three green metal benches showing above a flooded area.', 'Flooding has occurred and the water has spilled over the street.', 'Park benches with water flooded and grass with buildings', 'A row of park benches sitting in flooded waters.', 'A bus is traveling through flooded land. ', 'Antique black and white photograph taken during the great flood of Paris', 'A truck sitting in a small town with flooded streets.', 'A bus is sitting parked next to a flooded street.', 'A admiring the flood waters that have consumed the street.', 'A dog is standing in floodwater beside a house.', 'A dog is sitting in the water of a flooded town. ', 'A cute German Shepard sits in the midst of flood waters.', 'A TV screen showing the scene of a massive city flood.', 'A green traffic light on a flooded street.', 'A traffic light stands near a flooded park.', 'A flooded street has a green traffic light on it.', 'A vulture stands alone next a muddy and flooded field', 'A black and white photograph of a train on a flooded track.', 'A couple of trains are moving down tracks flooded with water.', 'A large train is standing in a flood.', 'A bus caught in a flooded street. ', 'Two people walking in the rain and on a slightly flooded street.', 'A bathroom that has over flooded with water. ', 'A bathroom that has been flooded with yellow water.', 'A person with a yellow umbrella wades through a flooded street.', 'The street corner is flooded deep with water.', 'Two people examine a bicycle in a flooded road.', 'a person sitting on a side walk on a flooded street ', 'a flooded street with a street pole ', 'A street flooded with water next to traffic lights and lampposts.', 'Some streetlights in a largely flooded urban area', 'A flooded city street with a traffic light above it.', 'A flooded street scene in a city setting.', 'Umbrellas protect pedestrians during a heavy rainstorm. ', 'a woman standing on the steps to a flooded park', 'A park bench next to a flooded river. ', 'A row of palm trees and a traffic night in a rainstorm.', 'A group of people walking across a flooded park.', 'A man trying to get out of flooded waters.', 'A street next to a large building is flooded.', 'A man and woman on a motorcycle caught in flood waters.', 'A group of people walking on top of a flooded sidewalk.', 'A man carrying a small child above flooding waters.', 'Two pedestrians underneath their umbrellas walk across an open plaza in a rainstorm.', 'A group of people who are on a boat in a flooded area.', 'People stand beneath umbrellas on a flooded road.', 'A stop sign is in the middle of a flooded street.', 'Flooded area showing the top of some fence posts and a stop sign.', 'A stop sign in the middle of a flooded street.', 'A couple of men kayaking in a flooded park area through a gate.', 'Two men paddling kayaks down a flooded area between two fences.', 'A herd of animals standing on top of a flooded beach.', 'A group of birds flying over a flooded park.', 'The area around the park benches is flooded.', 'Two benches are visible in the flood waters.', 'A couple of park benches sitting in a flooded park.', 'A man stands with his bike in ankle deep water in a flooded city.', 'A man on a bike in a street that is flooded.', 'A man on a bicycle stands in flooding waters.', 'A man in shorts sits on his bike surrounded by flood water up to his calf. ', 'A wind surfer practices in a flooded park', 'A man is parasailing in a flooded area', 'A group of people standing in a flooded street.', 'flooding scene in South Asia with people standing in flood water', 'People crowd a flooded area with boats and construction vehicles.', 'A street is washed out by a flood.', 'The street sign is in the middle of the flood waters. ', 'A flooded street with a sign labelled \"floodway.\"', 'Flooded road with a truck approaching and trees on side ', 'A large flooded area over the paved road.', 'A lake is flooded over its banks several inches and people are sitting on benches.', 'Two park benches sitting in a flooded marina.', 'People sit on benches in a flooded plain beside a marina.', 'A city street with traffic lights flooded by water.', 'A flooded area is seen with water almost to the top of the stoplights.', 'A street with a high level of flood waters.', 'A flooded city street buildings and traffic signals submerged in water.', 'A flooded intersection with stop lights under water.', 'Flooded roads in an area with trees and houses. ', 'a flooded city street with a stop sign coming out of it ', 'A large metal container knocked over on a flooded street.', 'A traffic light sitting in the middle of a flooded street.', 'a man wading his two oxen through flood waters ', 'A bicycle parked next to a flooded river', 'A bicycle chained to a rail near a flooded area.', 'A bicycle leans against a fence near some flood waters.', 'A bicycle parked on a rail next to some flooding water.', 'a man sitting on a bench in a slightly flooded area ', 'A man on park bench in flooded area next to harbor.', 'a bench on a flooded surface near a tree', 'A ban sitting on a bench during a flood.', 'A car parked in a flooded area near a stop sign', 'A white car is stuck in a road that is flooded.', 'A neighborhood flooded with water with people sitting in the background.', 'A white car parked on top of a flooded street next to a  group of people.', 'A bunch of flooded boats on a dock', 'Small boat tipped sideways with a likely chance of flooding.', 'A man being flooded with water sitting under a white and green umbrella.', 'A woman walking down a flooded street with an umbrella.', 'a intersection is flooded with muddy water that is completely covering a part of a sidewalk', 'A road that has been flooded by several feet of water.', 'A street intersection completely flooded deep with water.', 'a couple of poles are in a flooded area', 'A car in flood waters in front of a camping area with camping trailers that is flooded.', 'A devastated area of a street with wrecks of cars and collapsed buildings ', 'A dark sky with thunder clouds looming over a distant church.', 'An airport filled with lots of airplanes under a lightning filled cloudy sky.', 'An airport up close and a strike of lightning in the distance. ', 'A lightning bolt hitting a city. The view is from miles away.', 'lightning striking during a storm in a city ', 'A clock above a building with clouds and lightning in background.', 'Cars are parked in heavy snow beside some houses.', 'A couple of parking meters in the heavy snow.', 'Two parking meters nearly buried in heavy snow.', 'Several benches covered in heavy snow out in the open.', 'A person follows a guide line to a church through heavy snow. ', 'Heavy snow covers a picnic bench next to a tree.', 'A dark night with heavy snow on a park bench.', 'A person walking up a road in a neighborhood with heavy snow.', 'A long line of traffic traveling on a foggy day.', 'Boats in a river on a foggy day. ', 'four sheep in a field standing in the foggy mist', 'Several small boats are on the water on a foggy day.', 'a group of small boats in the water during a foggy day', 'Cows crossing a paved road in the fog', 'Several cows are walking across a concrete area in the fog.', 'The herd of cows are traveling together in the fog outside.', 'Long suspension bridge on a foggy day with traffic on it. ', 'A glider is flying over the beach on a foggy day.', 'A woman wearing a wetsuit surfs on a foggy day. ', 'This is a view of a foggy day in the countryside.', 'A view of the harbor with ships moored on a very foggy day.', 'Harbor scene on a foggy day with dozens of boats side by side.', 'A train on the tracks on a very foggy day.', 'A train depot with one train in the fog.', 'A number of sheep grazing in the fog. ', 'sheep grazing in a grassy area in the fog', 'An airplane that is parked next to the terminal in the fog.', 'A man in a jacket wearing a backpack looks at the mountains on a foggy day.', 'A stop light is red on a foggy day. ', 'a giraffe in the fog standing under trees', 'A street and traffic signals in the fog.', 'London is visible on a foggy day. ', 'A scenic view of a foggy day in London.', 'A large boat floating in the water in the fog.', 'A man and dog on the beach in the fog.', 'The street lights are glowing in the fog.', 'Commercial aircraft on an airfield in the fog.', 'An overview picture of several buses parked in a lot on a foggy day ', 'An aerial view of a train car on tracks in the fog.', 'Red and yellow train with multiple people working on it in the fog.', 'Two men sitting on steps and selling goods in the fog.', 'blue Vietnamese street signs on a foggy day', 'A foggy day with a lone boat on the water.', 'a flock of sheep graze next to a lake on a foggy day', 'Several rock outcroppings on a foggy day in the ocean.', 'City traffic waiting for signal to change on foggy day.', 'rear end of a toyota in the fog', 'A plane on the runway on a foggy day', 'An empty street intersection on a foggy day.', 'A plane that is either landing or taking off on a foggy day. ', 'A lamb and a sheep standing in the foggy field.', 'A sheep and a lamb in a field in the fog.', 'Sheep standing in a field with tall grass in the fog.', 'Airplanes taxiing on an airport runway on foggy day. ', 'A bus is headed under a pass way on a foggy day.', 'Several sheep on a grassy field in the fog.', 'Sheep are standing on a grassy hill in the fog.', 'A ship on the water on a foggy day', 'A sailboat sits alone on the shore on a foggy day.', 'It is a very cloudy and foggy day over the water', 'A view of a a yield sign at a road entrance on a foggy day', 'A foggy day shows buildings in the background as a woman in a blue jacket has skates on in a brick courtyard.', 'A lady skating on in-line skate on a foggy day.', 'A cow is standing outside in the grass on a foggy day.', 'The Moose is grazing in the pasture on a foggy day.', 'A man parasails at the beach on a foggy day.', 'A plane taxiing on the runway on a foggy day.', 'A truck that has driven off the road on a foggy day.', 'Cars are at an intersection on a rainy foggy day.', 'a cow in a field on a very foggy day', 'A cow grazing upon a hill on a foggy day', 'a man siking in parking lot in the fog', 'An Asian sign on a highway on a foggy day.', 'Road signs on highway in foreign country on a foggy day.', 'A colorful train sits on the tracks on a foggy day.', 'a park bench in the fog with graffiti written on it', 'A school bus passes through an intersection on a foggy day.', \"A bus waiting it's turn to drive in the fog.\", 'A plane flies lowly over a tree covered hill in the fog. ', 'A group of sheep are out in the fog wandering.', 'a foggy day that has some lights by a road', 'This is a picture of cows running in the foggy countryside.', 'Cows are in motion on a field in the fog.', 'A train sits underneath an overpass on a foggy day.', 'A person walking with an umbrella at night in the fog.', 'A large ship floats through water in the fog. ', 'A cow looks at the camera as other cows graze in the green fields on a foggy day. ', 'A herd of cows grazing on a foggy day', 'Roadway intersection with traffic in city on foggy day.', 'The woman stands in the fog next to the train tracks.', 'A woman is in the fog next to a bus.', 'A woman on the side of train tracks in the fog', 'A para-surfer is surfing rough waves on a foggy day.']"
   ]
  },
  {
   "cell_type": "code",
   "execution_count": 2,
   "id": "e0082e6d-1a83-4b37-b848-fad3df63b1e5",
   "metadata": {},
   "outputs": [
    {
     "name": "stdout",
     "output_type": "stream",
     "text": [
      "302\n"
     ]
    }
   ],
   "source": [
    "print(len(data))"
   ]
  },
  {
   "cell_type": "code",
   "execution_count": 7,
   "id": "9fb011ac-729b-4896-bda2-d04ef72b2937",
   "metadata": {},
   "outputs": [
    {
     "name": "stdout",
     "output_type": "stream",
     "text": [
      "['a couple of poles are in a flooded area', 'A car in flood waters in front of a camping area with camping trailers that is flooded.', 'A devastated area of a street with wrecks of cars and collapsed buildings ', 'A dark sky with thunder clouds looming over a distant church.', 'An airport filled with lots of airplanes under a lightning filled cloudy sky.', 'An airport up close and a strike of lightning in the distance. ', 'A lightning bolt hitting a city. The view is from miles away.', 'lightning striking during a storm in a city ', 'A clock above a building with clouds and lightning in background.', 'Cars are parked in heavy snow beside some houses.', 'A couple of parking meters in the heavy snow.', 'Two parking meters nearly buried in heavy snow.', 'Several benches covered in heavy snow out in the open.', 'A person follows a guide line to a church through heavy snow. ', 'Heavy snow covers a picnic bench next to a tree.', 'A dark night with heavy snow on a park bench.', 'A person walking up a road in a neighborhood with heavy snow.', 'A long line of traffic traveling on a foggy day.', 'Boats in a river on a foggy day. ', 'four sheep in a field standing in the foggy mist', 'Several small boats are on the water on a foggy day.', 'a group of small boats in the water during a foggy day', 'Cows crossing a paved road in the fog', 'Several cows are walking across a concrete area in the fog.', 'The herd of cows are traveling together in the fog outside.', 'Long suspension bridge on a foggy day with traffic on it. ', 'A glider is flying over the beach on a foggy day.', 'A woman wearing a wetsuit surfs on a foggy day. ', 'This is a view of a foggy day in the countryside.', 'A view of the harbor with ships moored on a very foggy day.', 'Harbor scene on a foggy day with dozens of boats side by side.', 'A train on the tracks on a very foggy day.', 'A train depot with one train in the fog.', 'A number of sheep grazing in the fog. ', 'sheep grazing in a grassy area in the fog', 'An airplane that is parked next to the terminal in the fog.', 'A man in a jacket wearing a backpack looks at the mountains on a foggy day.', 'A stop light is red on a foggy day. ', 'a giraffe in the fog standing under trees', 'A street and traffic signals in the fog.', 'London is visible on a foggy day. ', 'A scenic view of a foggy day in London.', 'A large boat floating in the water in the fog.', 'A man and dog on the beach in the fog.', 'The street lights are glowing in the fog.', 'Commercial aircraft on an airfield in the fog.', 'An overview picture of several buses parked in a lot on a foggy day ', 'An aerial view of a train car on tracks in the fog.', 'Red and yellow train with multiple people working on it in the fog.', 'Two men sitting on steps and selling goods in the fog.', 'blue Vietnamese street signs on a foggy day', 'A foggy day with a lone boat on the water.', 'a flock of sheep graze next to a lake on a foggy day', 'Several rock outcroppings on a foggy day in the ocean.', 'City traffic waiting for signal to change on foggy day.', 'rear end of a toyota in the fog', 'A plane on the runway on a foggy day', 'An empty street intersection on a foggy day.', 'A plane that is either landing or taking off on a foggy day. ', 'A lamb and a sheep standing in the foggy field.', 'A sheep and a lamb in a field in the fog.', 'Sheep standing in a field with tall grass in the fog.', 'Airplanes taxiing on an airport runway on foggy day. ', 'A bus is headed under a pass way on a foggy day.', 'Several sheep on a grassy field in the fog.', 'Sheep are standing on a grassy hill in the fog.', 'A ship on the water on a foggy day', 'A sailboat sits alone on the shore on a foggy day.', 'It is a very cloudy and foggy day over the water', 'A view of a a yield sign at a road entrance on a foggy day', 'A foggy day shows buildings in the background as a woman in a blue jacket has skates on in a brick courtyard.', 'A lady skating on in-line skate on a foggy day.', 'A cow is standing outside in the grass on a foggy day.', 'The Moose is grazing in the pasture on a foggy day.', 'A man parasails at the beach on a foggy day.', 'A plane taxiing on the runway on a foggy day.', 'A truck that has driven off the road on a foggy day.', 'Cars are at an intersection on a rainy foggy day.', 'a cow in a field on a very foggy day', 'A cow grazing upon a hill on a foggy day', 'a man siking in parking lot in the fog', 'An Asian sign on a highway on a foggy day.', 'Road signs on highway in foreign country on a foggy day.', 'A colorful train sits on the tracks on a foggy day.', 'a park bench in the fog with graffiti written on it', 'A school bus passes through an intersection on a foggy day.', \"A bus waiting it's turn to drive in the fog.\", 'A plane flies lowly over a tree covered hill in the fog. ', 'A group of sheep are out in the fog wandering.', 'a foggy day that has some lights by a road', 'This is a picture of cows running in the foggy countryside.', 'Cows are in motion on a field in the fog.', 'A train sits underneath an overpass on a foggy day.', 'A person walking with an umbrella at night in the fog.', 'A large ship floats through water in the fog. ', 'A cow looks at the camera as other cows graze in the green fields on a foggy day. ', 'A herd of cows grazing on a foggy day', 'Roadway intersection with traffic in city on foggy day.', 'The woman stands in the fog next to the train tracks.', 'A woman is in the fog next to a bus.', 'A woman on the side of train tracks in the fog', 'A para-surfer is surfing rough waves on a foggy day.']\n"
     ]
    }
   ],
   "source": [
    "print(data[200:])"
   ]
  },
  {
   "cell_type": "code",
   "execution_count": null,
   "id": "81c48499-abec-4d01-b776-75c6aa9c0e31",
   "metadata": {},
   "outputs": [],
   "source": []
  }
 ],
 "metadata": {
  "kernelspec": {
   "display_name": "torch-gpu",
   "language": "python",
   "name": "torch"
  },
  "language_info": {
   "codemirror_mode": {
    "name": "ipython",
    "version": 3
   },
   "file_extension": ".py",
   "mimetype": "text/x-python",
   "name": "python",
   "nbconvert_exporter": "python",
   "pygments_lexer": "ipython3",
   "version": "3.10.6"
  }
 },
 "nbformat": 4,
 "nbformat_minor": 5
}

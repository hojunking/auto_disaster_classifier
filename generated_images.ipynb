{
 "cells": [
  {
   "cell_type": "code",
   "execution_count": 2,
   "id": "f27043f5-9dd4-4889-b75f-3af79f378c0c",
   "metadata": {},
   "outputs": [],
   "source": [
    "import json\n",
    "import os\n",
    "import pandas as pd\n",
    "import matplotlib.pyplot as plt\n",
    "import cv2"
   ]
  },
  {
   "cell_type": "code",
   "execution_count": 4,
   "id": "582ffe93-f8dc-49c0-8f27-75298ab719ad",
   "metadata": {},
   "outputs": [
    {
     "name": "stdout",
     "output_type": "stream",
     "text": [
      "616\n"
     ]
    }
   ],
   "source": [
    "dir_path = \"../Data/disaster/generated/open_image\"\n",
    "\n",
    "img_names = []\n",
    "for folder, subfolders, filenames in os.walk(dir_path):\n",
    "    for img in filenames:\n",
    "        img_names.append(folder+'/'+img)\n",
    "print(len(img_names))"
   ]
  },
  {
   "cell_type": "code",
   "execution_count": 14,
   "id": "dd342175-064c-4f17-81a9-53da6971f8f7",
   "metadata": {},
   "outputs": [
    {
     "name": "stdout",
     "output_type": "stream",
     "text": [
      "616\n"
     ]
    }
   ],
   "source": [
    "print(len(img_names))"
   ]
  },
  {
   "cell_type": "code",
   "execution_count": 6,
   "id": "ad50f300-a2be-42fb-98e1-cc25eb877bc5",
   "metadata": {},
   "outputs": [
    {
     "data": {
      "text/html": [
       "<div>\n",
       "<style scoped>\n",
       "    .dataframe tbody tr th:only-of-type {\n",
       "        vertical-align: middle;\n",
       "    }\n",
       "\n",
       "    .dataframe tbody tr th {\n",
       "        vertical-align: top;\n",
       "    }\n",
       "\n",
       "    .dataframe thead th {\n",
       "        text-align: right;\n",
       "    }\n",
       "</style>\n",
       "<table border=\"1\" class=\"dataframe\">\n",
       "  <thead>\n",
       "    <tr style=\"text-align: right;\">\n",
       "      <th></th>\n",
       "      <th>image_id</th>\n",
       "      <th>dir</th>\n",
       "    </tr>\n",
       "  </thead>\n",
       "  <tbody>\n",
       "    <tr>\n",
       "      <th>0</th>\n",
       "      <td>In this image we can see a man standing and ho...</td>\n",
       "      <td>../Data/generated/flickr</td>\n",
       "    </tr>\n",
       "    <tr>\n",
       "      <th>1</th>\n",
       "      <td>In this image I can see a building along with ...</td>\n",
       "      <td>../Data/generated/flickr</td>\n",
       "    </tr>\n",
       "    <tr>\n",
       "      <th>2</th>\n",
       "      <td>In this image few people are walking on the gr...</td>\n",
       "      <td>../Data/generated/flickr</td>\n",
       "    </tr>\n",
       "    <tr>\n",
       "      <th>3</th>\n",
       "      <td>This picture shows few buildings and we see fe...</td>\n",
       "      <td>../Data/generated/flickr</td>\n",
       "    </tr>\n",
       "    <tr>\n",
       "      <th>4</th>\n",
       "      <td>There is a machine and it is covered with the ...</td>\n",
       "      <td>../Data/generated/flickr</td>\n",
       "    </tr>\n",
       "    <tr>\n",
       "      <th>...</th>\n",
       "      <td>...</td>\n",
       "      <td>...</td>\n",
       "    </tr>\n",
       "    <tr>\n",
       "      <th>320</th>\n",
       "      <td>In the picture I can see two men are standing ...</td>\n",
       "      <td>../Data/generated/flickr/.ipynb_checkpoints</td>\n",
       "    </tr>\n",
       "    <tr>\n",
       "      <th>321</th>\n",
       "      <td>In the picture we can see a building which is ...</td>\n",
       "      <td>../Data/generated/flickr/.ipynb_checkpoints</td>\n",
       "    </tr>\n",
       "    <tr>\n",
       "      <th>322</th>\n",
       "      <td>\"In this picture we can see fire in the forest...</td>\n",
       "      <td>../Data/generated/flickr/.ipynb_checkpoints</td>\n",
       "    </tr>\n",
       "    <tr>\n",
       "      <th>323</th>\n",
       "      <td>In this image there are so many trees on the m...</td>\n",
       "      <td>../Data/generated/flickr/.ipynb_checkpoints</td>\n",
       "    </tr>\n",
       "    <tr>\n",
       "      <th>324</th>\n",
       "      <td>As we can see in the image there are trees cur...</td>\n",
       "      <td>../Data/generated/flickr/.ipynb_checkpoints</td>\n",
       "    </tr>\n",
       "  </tbody>\n",
       "</table>\n",
       "<p>325 rows × 2 columns</p>\n",
       "</div>"
      ],
      "text/plain": [
       "                                              image_id  \\\n",
       "0    In this image we can see a man standing and ho...   \n",
       "1    In this image I can see a building along with ...   \n",
       "2    In this image few people are walking on the gr...   \n",
       "3    This picture shows few buildings and we see fe...   \n",
       "4    There is a machine and it is covered with the ...   \n",
       "..                                                 ...   \n",
       "320  In the picture I can see two men are standing ...   \n",
       "321  In the picture we can see a building which is ...   \n",
       "322  \"In this picture we can see fire in the forest...   \n",
       "323  In this image there are so many trees on the m...   \n",
       "324  As we can see in the image there are trees cur...   \n",
       "\n",
       "                                             dir  \n",
       "0                       ../Data/generated/flickr  \n",
       "1                       ../Data/generated/flickr  \n",
       "2                       ../Data/generated/flickr  \n",
       "3                       ../Data/generated/flickr  \n",
       "4                       ../Data/generated/flickr  \n",
       "..                                           ...  \n",
       "320  ../Data/generated/flickr/.ipynb_checkpoints  \n",
       "321  ../Data/generated/flickr/.ipynb_checkpoints  \n",
       "322  ../Data/generated/flickr/.ipynb_checkpoints  \n",
       "323  ../Data/generated/flickr/.ipynb_checkpoints  \n",
       "324  ../Data/generated/flickr/.ipynb_checkpoints  \n",
       "\n",
       "[325 rows x 2 columns]"
      ]
     },
     "execution_count": 6,
     "metadata": {},
     "output_type": "execute_result"
    }
   ],
   "source": [
    "generated_img = pd.DataFrame(img_names, columns=['image_id'])\n",
    "generated_img['dir'] = generated_img['image_id'].apply(lambda x: os.path.dirname(x))\n",
    "generated_img['image_id'] = generated_img['image_id'].apply(lambda x: os.path.basename(x))\n",
    "\n",
    "generated_img"
   ]
  },
  {
   "cell_type": "code",
   "execution_count": null,
   "id": "ebd9c761-58d6-432f-b6a5-8c0c347adc32",
   "metadata": {},
   "outputs": [],
   "source": [
    "## show img status\n",
    "\n",
    "plt.figure(figsize=(16,500))\n",
    "for i, img in enumerate(img_names[:300]):\n",
    "    plt.subplot(100,4,i+1)\n",
    "    plt.xticks([])\n",
    "    plt.yticks([])\n",
    "    plt.grid(False)\n",
    "    \n",
    "    path = img\n",
    "    im_bgr = cv2.imread(path)\n",
    "    im_rgb = im_bgr[:, :, ::-1]\n",
    "    plt.imshow(im_rgb, cmap=plt.cm.binary)\n",
    "    plt.xlabel(img[27:60] + '\\n' + img[60:93] +'\\n' + img[93:126], loc='left', fontsize=12)\n",
    "plt.show()"
   ]
  },
  {
   "cell_type": "code",
   "execution_count": null,
   "id": "a77b865a-c4fc-4df5-a808-2101ddababec",
   "metadata": {},
   "outputs": [],
   "source": []
  }
 ],
 "metadata": {
  "kernelspec": {
   "display_name": "torch-gpu",
   "language": "python",
   "name": "torch"
  },
  "language_info": {
   "codemirror_mode": {
    "name": "ipython",
    "version": 3
   },
   "file_extension": ".py",
   "mimetype": "text/x-python",
   "name": "python",
   "nbconvert_exporter": "python",
   "pygments_lexer": "ipython3",
   "version": "3.10.6"
  }
 },
 "nbformat": 4,
 "nbformat_minor": 5
}

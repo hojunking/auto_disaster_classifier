{
 "cells": [
  {
   "cell_type": "code",
   "execution_count": 1,
   "id": "7f8fed1b-4c64-4a80-b6c5-6a5608a95ea6",
   "metadata": {},
   "outputs": [],
   "source": [
    "import json\n",
    "import jsonlines\n",
    "import os\n",
    "import pandas as pd\n",
    "import matplotlib.pyplot as plt\n",
    "import cv2\n",
    "dir_path = \"../Data/annotations/\"\n",
    "ano = \"open_images_train_v6_captions.jsonl\""
   ]
  },
  {
   "cell_type": "code",
   "execution_count": 15,
   "id": "9f7be42c-6f72-4547-901c-389572c09d60",
   "metadata": {},
   "outputs": [],
   "source": [
    "image_id = []\n",
    "captions = []\n",
    "with jsonlines.open(dir_path+ano, 'r') as f:\n",
    "    for line in f.iter():\n",
    "        #if line['image_id'][0] == '0':\n",
    "        image_id.append(line['image_id'])\n",
    "        captions.append(line['caption'])\n"
   ]
  },
  {
   "cell_type": "code",
   "execution_count": 16,
   "id": "3199bd09-7a66-45cb-9eed-aa44afe302c0",
   "metadata": {},
   "outputs": [],
   "source": [
    "annotations = pd.DataFrame(image_id, columns=['image_id'])\n",
    "annotations['caption'] = captions"
   ]
  },
  {
   "cell_type": "code",
   "execution_count": 24,
   "id": "dc33ee1c-b1a1-47c9-ab9a-0252c22b85c3",
   "metadata": {},
   "outputs": [
    {
     "data": {
      "text/html": [
       "<div>\n",
       "<style scoped>\n",
       "    .dataframe tbody tr th:only-of-type {\n",
       "        vertical-align: middle;\n",
       "    }\n",
       "\n",
       "    .dataframe tbody tr th {\n",
       "        vertical-align: top;\n",
       "    }\n",
       "\n",
       "    .dataframe thead th {\n",
       "        text-align: right;\n",
       "    }\n",
       "</style>\n",
       "<table border=\"1\" class=\"dataframe\">\n",
       "  <thead>\n",
       "    <tr style=\"text-align: right;\">\n",
       "      <th></th>\n",
       "      <th>image_id</th>\n",
       "      <th>caption</th>\n",
       "    </tr>\n",
       "  </thead>\n",
       "  <tbody>\n",
       "    <tr>\n",
       "      <th>0</th>\n",
       "      <td>fc06c1b59dd8ca6e</td>\n",
       "      <td>We can see dolls,book and papers on bed and we...</td>\n",
       "    </tr>\n",
       "    <tr>\n",
       "      <th>1</th>\n",
       "      <td>5833b3358fd949b5</td>\n",
       "      <td>In this picture I can see there is a airplane ...</td>\n",
       "    </tr>\n",
       "    <tr>\n",
       "      <th>2</th>\n",
       "      <td>67f1e4231b964a23</td>\n",
       "      <td>This looks like a black and white poster. I ca...</td>\n",
       "    </tr>\n",
       "    <tr>\n",
       "      <th>3</th>\n",
       "      <td>4839f5eac98771bf</td>\n",
       "      <td>In this image I can see on the left side it is...</td>\n",
       "    </tr>\n",
       "    <tr>\n",
       "      <th>4</th>\n",
       "      <td>64373c6a90e7b8dd</td>\n",
       "      <td>In this picture I can see group of people sitt...</td>\n",
       "    </tr>\n",
       "    <tr>\n",
       "      <th>...</th>\n",
       "      <td>...</td>\n",
       "      <td>...</td>\n",
       "    </tr>\n",
       "    <tr>\n",
       "      <th>507439</th>\n",
       "      <td>8cf26e4563f8c4bc</td>\n",
       "      <td>There is a lady wearing a tag and holding the ...</td>\n",
       "    </tr>\n",
       "    <tr>\n",
       "      <th>507440</th>\n",
       "      <td>c960dd40130f1d9a</td>\n",
       "      <td>In the image we can see there is a newspaper c...</td>\n",
       "    </tr>\n",
       "    <tr>\n",
       "      <th>507441</th>\n",
       "      <td>d4c2172f7f742d60</td>\n",
       "      <td>In the picture we can see table with drawers. ...</td>\n",
       "    </tr>\n",
       "    <tr>\n",
       "      <th>507442</th>\n",
       "      <td>60b2df9a3a7bd8d2</td>\n",
       "      <td>In this image we can see a girl. In the back t...</td>\n",
       "    </tr>\n",
       "    <tr>\n",
       "      <th>507443</th>\n",
       "      <td>c2a601516bf3bf91</td>\n",
       "      <td>In this image we can see so many books on the ...</td>\n",
       "    </tr>\n",
       "  </tbody>\n",
       "</table>\n",
       "<p>507444 rows × 2 columns</p>\n",
       "</div>"
      ],
      "text/plain": [
       "                image_id                                            caption\n",
       "0       fc06c1b59dd8ca6e  We can see dolls,book and papers on bed and we...\n",
       "1       5833b3358fd949b5  In this picture I can see there is a airplane ...\n",
       "2       67f1e4231b964a23  This looks like a black and white poster. I ca...\n",
       "3       4839f5eac98771bf  In this image I can see on the left side it is...\n",
       "4       64373c6a90e7b8dd  In this picture I can see group of people sitt...\n",
       "...                  ...                                                ...\n",
       "507439  8cf26e4563f8c4bc  There is a lady wearing a tag and holding the ...\n",
       "507440  c960dd40130f1d9a  In the image we can see there is a newspaper c...\n",
       "507441  d4c2172f7f742d60  In the picture we can see table with drawers. ...\n",
       "507442  60b2df9a3a7bd8d2  In this image we can see a girl. In the back t...\n",
       "507443  c2a601516bf3bf91  In this image we can see so many books on the ...\n",
       "\n",
       "[507444 rows x 2 columns]"
      ]
     },
     "execution_count": 24,
     "metadata": {},
     "output_type": "execute_result"
    }
   ],
   "source": [
    "annotations"
   ]
  },
  {
   "cell_type": "code",
   "execution_count": 27,
   "id": "6c63373a-eb51-434d-8e79-754b48c01b7e",
   "metadata": {},
   "outputs": [
    {
     "name": "stdout",
     "output_type": "stream",
     "text": [
      "Images:  1743042\n"
     ]
    }
   ],
   "source": [
    "path = '../../disk/Data/open_image/'\n",
    "\n",
    "img_paths = []\n",
    "img_names = []\n",
    "for folder, subfolders, filenames in os.walk(path):\n",
    "    for img in filenames:\n",
    "        img_paths.append(folder+'/'+img)\n",
    "        img_names.append(img)\n",
    "            \n",
    "print('Images: ',len(img_names))\n"
   ]
  },
  {
   "cell_type": "code",
   "execution_count": 10,
   "id": "2d8b168d-9f86-443c-a24e-ffd9513b7706",
   "metadata": {},
   "outputs": [
    {
     "name": "stdout",
     "output_type": "stream",
     "text": [
      "['0d602fc924a0a2a5.jpg', '0d5ad6dead4fd8d4.jpg', '0061e0fb55ff2d5c.jpg', '0abf55bf669af9c6.jpg', '0383b6b35606ce7e.jpg']\n"
     ]
    }
   ],
   "source": [
    "print(img_names[:5])"
   ]
  },
  {
   "cell_type": "code",
   "execution_count": 63,
   "id": "54e58226-1ee4-4080-88cc-5bb199352690",
   "metadata": {},
   "outputs": [],
   "source": [
    "keyword = ['tsunami',\n",
    "           'tidal wave',\n",
    "           'hail',\n",
    "           'hailstones',\n",
    "        ]\n",
    "exclude_keyword = ['blazer','horse','candle',\n",
    "                   'fireplace',\n",
    "                   'lamp',\n",
    "                   'photograph',\n",
    "                   'ski','board','says','oven','cook', 'living', 'plug', 'hyr', 'food', 'young','kitchen', 'extinguisher',\n",
    "                 'fireworks','vintage','department', 'kid', 'boy', 'grill','fire station','fox','engine', 'hyd','fires','jet','rocket']\n",
    "k_image_id = []"
   ]
  },
  {
   "cell_type": "code",
   "execution_count": 19,
   "id": "844b4322-f25d-4244-a608-bb7c67676c6f",
   "metadata": {},
   "outputs": [
    {
     "data": {
      "text/html": [
       "<div>\n",
       "<style scoped>\n",
       "    .dataframe tbody tr th:only-of-type {\n",
       "        vertical-align: middle;\n",
       "    }\n",
       "\n",
       "    .dataframe tbody tr th {\n",
       "        vertical-align: top;\n",
       "    }\n",
       "\n",
       "    .dataframe thead th {\n",
       "        text-align: right;\n",
       "    }\n",
       "</style>\n",
       "<table border=\"1\" class=\"dataframe\">\n",
       "  <thead>\n",
       "    <tr style=\"text-align: right;\">\n",
       "      <th></th>\n",
       "      <th>image_id</th>\n",
       "      <th>caption</th>\n",
       "    </tr>\n",
       "  </thead>\n",
       "  <tbody>\n",
       "    <tr>\n",
       "      <th>8</th>\n",
       "      <td>40c66d14998ad13a</td>\n",
       "      <td>In this image I can see a woman wearing red co...</td>\n",
       "    </tr>\n",
       "    <tr>\n",
       "      <th>56</th>\n",
       "      <td>7164732223313801</td>\n",
       "      <td>This is a person standing. This looks like a f...</td>\n",
       "    </tr>\n",
       "    <tr>\n",
       "      <th>558</th>\n",
       "      <td>faec0d8ce842e27e</td>\n",
       "      <td>This is an animated image , where there is a b...</td>\n",
       "    </tr>\n",
       "    <tr>\n",
       "      <th>826</th>\n",
       "      <td>de51ffcf704a22ab</td>\n",
       "      <td>In this image we can see group of vehicles par...</td>\n",
       "    </tr>\n",
       "    <tr>\n",
       "      <th>1025</th>\n",
       "      <td>2ad42a74006edb6f</td>\n",
       "      <td>In this picture I can see sculptures, there is...</td>\n",
       "    </tr>\n",
       "    <tr>\n",
       "      <th>...</th>\n",
       "      <td>...</td>\n",
       "      <td>...</td>\n",
       "    </tr>\n",
       "    <tr>\n",
       "      <th>506198</th>\n",
       "      <td>70c61f3f25c634b8</td>\n",
       "      <td>In this image, I can see few people standing a...</td>\n",
       "    </tr>\n",
       "    <tr>\n",
       "      <th>506239</th>\n",
       "      <td>3f232d160c0d2f5d</td>\n",
       "      <td>There are three people standing. This person i...</td>\n",
       "    </tr>\n",
       "    <tr>\n",
       "      <th>506493</th>\n",
       "      <td>5380decd21c84b97</td>\n",
       "      <td>In this image there is a tent supported with m...</td>\n",
       "    </tr>\n",
       "    <tr>\n",
       "      <th>506789</th>\n",
       "      <td>6c03acbd11f6e2be</td>\n",
       "      <td>In this picture we can see a room with pillows...</td>\n",
       "    </tr>\n",
       "    <tr>\n",
       "      <th>506976</th>\n",
       "      <td>32f40923efae3cd6</td>\n",
       "      <td>In the image there are fire rescue vehicles an...</td>\n",
       "    </tr>\n",
       "  </tbody>\n",
       "</table>\n",
       "<p>2044 rows × 2 columns</p>\n",
       "</div>"
      ],
      "text/plain": [
       "                image_id                                            caption\n",
       "8       40c66d14998ad13a  In this image I can see a woman wearing red co...\n",
       "56      7164732223313801  This is a person standing. This looks like a f...\n",
       "558     faec0d8ce842e27e  This is an animated image , where there is a b...\n",
       "826     de51ffcf704a22ab  In this image we can see group of vehicles par...\n",
       "1025    2ad42a74006edb6f  In this picture I can see sculptures, there is...\n",
       "...                  ...                                                ...\n",
       "506198  70c61f3f25c634b8  In this image, I can see few people standing a...\n",
       "506239  3f232d160c0d2f5d  There are three people standing. This person i...\n",
       "506493  5380decd21c84b97  In this image there is a tent supported with m...\n",
       "506789  6c03acbd11f6e2be  In this picture we can see a room with pillows...\n",
       "506976  32f40923efae3cd6  In the image there are fire rescue vehicles an...\n",
       "\n",
       "[2044 rows x 2 columns]"
      ]
     },
     "execution_count": 19,
     "metadata": {},
     "output_type": "execute_result"
    }
   ],
   "source": [
    "annotations[annotations['caption'].str.contains('fire', case=False)]"
   ]
  },
  {
   "cell_type": "code",
   "execution_count": 64,
   "id": "d554d608-05e7-403f-b861-f5328f9d68c0",
   "metadata": {},
   "outputs": [
    {
     "name": "stdout",
     "output_type": "stream",
     "text": [
      "keyword : [tsunami] // found: 0\n",
      "keyword : [tidal wave] // found: 0\n",
      "keyword : [hail] // found: 0\n",
      "keyword : [hailstones] // found: 0\n",
      "final : 0\n",
      "excluded keyword:[blazer] found: 0\n",
      "excluded keyword:[horse] found: 0\n",
      "excluded keyword:[candle] found: 0\n",
      "excluded keyword:[fireplace] found: 0\n",
      "excluded keyword:[lamp] found: 0\n",
      "excluded keyword:[photograph] found: 0\n",
      "excluded keyword:[ski] found: 0\n",
      "excluded keyword:[board] found: 0\n",
      "excluded keyword:[says] found: 0\n",
      "excluded keyword:[oven] found: 0\n",
      "excluded keyword:[cook] found: 0\n",
      "excluded keyword:[living] found: 0\n",
      "excluded keyword:[plug] found: 0\n",
      "excluded keyword:[hyr] found: 0\n",
      "excluded keyword:[food] found: 0\n",
      "excluded keyword:[young] found: 0\n",
      "excluded keyword:[kitchen] found: 0\n",
      "excluded keyword:[extinguisher] found: 0\n",
      "excluded keyword:[fireworks] found: 0\n",
      "excluded keyword:[vintage] found: 0\n",
      "excluded keyword:[department] found: 0\n",
      "excluded keyword:[kid] found: 0\n",
      "excluded keyword:[boy] found: 0\n",
      "excluded keyword:[grill] found: 0\n",
      "excluded keyword:[fire station] found: 0\n",
      "excluded keyword:[fox] found: 0\n",
      "excluded keyword:[engine] found: 0\n",
      "excluded keyword:[hyd] found: 0\n",
      "excluded keyword:[fires] found: 0\n",
      "excluded keyword:[jet] found: 0\n",
      "excluded keyword:[rocket] found: 0\n",
      "final : 0\n",
      "droped duplicate images from multiple captions, After dropped: 0\n"
     ]
    }
   ],
   "source": [
    "find = annotations[annotations['caption'].str.contains('dododo', case=False)]\n",
    "\n",
    "for i in keyword:\n",
    "    find2 = annotations[annotations['caption'].str.contains(i, case=False)]\n",
    "    find = pd.concat([find,find2], ignore_index=True)\n",
    "    print(f'keyword : [{i}] // found: {len(find2)}')\n",
    "print(f'final : {len(find)}')\n",
    "## 결측지 유발 키워드 삭제\n",
    "for i in exclude_keyword:\n",
    "    origin_len = len(find)\n",
    "    find = find[~find['caption'].str.contains(i, case=False)]\n",
    "    print(f'excluded keyword:[{i}] found: {origin_len - len(find)}')\n",
    "print(f'final : {len(find)}')\n",
    "## 중복 이미지 삭제 (한 이미지에 대한 여러 caption)\n",
    "find.drop_duplicates(['image_id'], inplace=True ,ignore_index = True, keep = 'first')\n",
    "print(f'droped duplicate images from multiple captions, After dropped: {len(find)}')\n",
    "## 인덱스 정렬\n",
    "find.reset_index(inplace=True, drop=True)\n",
    "#find"
   ]
  },
  {
   "cell_type": "code",
   "execution_count": 65,
   "id": "45596509-27b5-4926-b7da-63b2ef86a159",
   "metadata": {},
   "outputs": [
    {
     "data": {
      "text/html": [
       "<div>\n",
       "<style scoped>\n",
       "    .dataframe tbody tr th:only-of-type {\n",
       "        vertical-align: middle;\n",
       "    }\n",
       "\n",
       "    .dataframe tbody tr th {\n",
       "        vertical-align: top;\n",
       "    }\n",
       "\n",
       "    .dataframe thead th {\n",
       "        text-align: right;\n",
       "    }\n",
       "</style>\n",
       "<table border=\"1\" class=\"dataframe\">\n",
       "  <thead>\n",
       "    <tr style=\"text-align: right;\">\n",
       "      <th></th>\n",
       "      <th>image_id</th>\n",
       "      <th>caption</th>\n",
       "    </tr>\n",
       "  </thead>\n",
       "  <tbody>\n",
       "  </tbody>\n",
       "</table>\n",
       "</div>"
      ],
      "text/plain": [
       "Empty DataFrame\n",
       "Columns: [image_id, caption]\n",
       "Index: []"
      ]
     },
     "execution_count": 65,
     "metadata": {},
     "output_type": "execute_result"
    }
   ],
   "source": [
    "find"
   ]
  },
  {
   "cell_type": "code",
   "execution_count": 66,
   "id": "1c8de4a1-af73-45e8-8471-9890b60f0c79",
   "metadata": {},
   "outputs": [],
   "source": [
    "find.sort_values(by=['image_id'],ascending=True, inplace=True)\n",
    "find.reset_index(drop=True, inplace=True)\n",
    "tmp = find['image_id'].value_counts().index.sort_values()"
   ]
  },
  {
   "cell_type": "code",
   "execution_count": 67,
   "id": "dad9829d-43e4-493b-a15c-5efb77dbe4dc",
   "metadata": {},
   "outputs": [],
   "source": [
    "cnt = 4\n",
    "for i,key in enumerate(tmp):\n",
    "    if cnt == 4:\n",
    "        print('', end='\\n\\n\\n\\n')\n",
    "        print(f'{(i+1)/4}.')\n",
    "        cnt = 0\n",
    "    print(f\"'{key}'\", end=' ')\n",
    "    cnt+=1\n"
   ]
  },
  {
   "cell_type": "code",
   "execution_count": 68,
   "id": "df61481a-bd4e-4bda-86dd-f37f5c8a049e",
   "metadata": {},
   "outputs": [
    {
     "data": {
      "text/plain": [
       "<Figure size 1600x50000 with 0 Axes>"
      ]
     },
     "metadata": {},
     "output_type": "display_data"
    }
   ],
   "source": [
    "## show img status\n",
    "\n",
    "back = 0\n",
    "plt.figure(figsize=(16,500))\n",
    "for i in range(len(find[back:])):\n",
    "    plt.subplot(100,4,i+1)\n",
    "    if i % 4 == 0:\n",
    "        plt.title(f\"{(i+1+back)/4}\")\n",
    "    plt.xticks([])\n",
    "    plt.yticks([])\n",
    "    plt.grid(False)\n",
    "    f_num = find['image_id'][i+back][0]\n",
    "    \n",
    "    path = '../../disk/Data/open_image/train_'+f_num+\"/\" + find['image_id'][i+back] +'.jpg'\n",
    "    im_bgr = cv2.imread(path)\n",
    "    im_rgb = im_bgr[:, :, ::-1]\n",
    "    plt.imshow(im_rgb, cmap=plt.cm.binary)\n",
    "    plt.xlabel(find['caption'][i+back][:35] + '\\n' + find['caption'][i+back][35:70] + '\\n' \n",
    "               + find['caption'][i+back][70:105] + '\\n image_id : ' + str(find['image_id'][i+back]) , loc='left', fontsize=10)\n",
    "    #plt.legend(find['image_id'][i])\n",
    "plt.show()"
   ]
  },
  {
   "cell_type": "code",
   "execution_count": 113,
   "id": "1e34cec0-2dab-4922-b1d0-e72bd4477cd6",
   "metadata": {},
   "outputs": [],
   "source": [
    "disaster_dataset = ['005526753c3d4f8e',\n",
    "                   '0177c759a586204e',\n",
    "                   '0218f76dff06752d',\n",
    "                   '0693141ad6ca7df3',\n",
    "                   '0813556ae840d075',\n",
    "                    '0bdfcf59dd6b55ce',\n",
    "                   '0ff480920c9928c5','022b54e4e857ed33', '0a7e9cb174aa297d', '0de39b3791f2baa6',\n",
    "                    '0023b0e23b369b8d', '009c5fb34590f1ca', '0604cb9341631e15','0737d240e1558c1b',\n",
    "                    '00d425f0986ac579','0128105921974df0','01c4f65ea29a5632','05b3130e553c6084','0725cc4abfe58921'\n",
    "                    \n",
    "                   ]"
   ]
  },
  {
   "cell_type": "markdown",
   "id": "3dfbd71d-0f75-4812-85a7-eba229585889",
   "metadata": {},
   "source": [
    "##### 일반데이터셋 삭제"
   ]
  },
  {
   "cell_type": "code",
   "execution_count": 115,
   "id": "1c2868a1-6a68-4010-b26a-db39e2ff9757",
   "metadata": {},
   "outputs": [
    {
     "name": "stdout",
     "output_type": "stream",
     "text": [
      "Images:  14\n",
      "['0023b0e23b369b8d.jpg', '0a7e9cb174aa297d.jpg', '0693141ad6ca7df3.jpg', '0813556ae840d075.jpg', '022b54e4e857ed33.jpg', '0ff480920c9928c5.jpg', '0218f76dff06752d.jpg', '005526753c3d4f8e.jpg', '0177c759a586204e.jpg', '009c5fb34590f1ca.jpg', '0bdfcf59dd6b55ce.jpg', '0604cb9341631e15.jpg', '0de39b3791f2baa6.jpg', '0737d240e1558c1b.jpg']\n"
     ]
    }
   ],
   "source": [
    "# path = '../Data/train_0/'\n",
    "# img_names = []\n",
    "# for  folder, subfolders, filenames in os.walk(path):\n",
    "#     for img in filenames:\n",
    "#         if img[:-4] in disaster_dataset:\n",
    "#             img_names.append(img)\n",
    "#         else:\n",
    "#             os.remove(path + img)\n",
    "            \n",
    "# print('Images: ',len(img_names))\n",
    "# print(img_names)"
   ]
  },
  {
   "cell_type": "code",
   "execution_count": 116,
   "id": "f5ceb01d-7f84-47fa-9537-81bf798e3eff",
   "metadata": {},
   "outputs": [
    {
     "name": "stdout",
     "output_type": "stream",
     "text": [
      "Images:  28\n"
     ]
    }
   ],
   "source": [
    "for  folder, subfolders, filenames in os.walk(path):\n",
    "    for img in filenames:\n",
    "         img_names.append(img)\n",
    "print('Images: ',len(img_names))"
   ]
  },
  {
   "cell_type": "code",
   "execution_count": 125,
   "id": "3e620ee7-a468-4df5-98d9-0c9930965688",
   "metadata": {},
   "outputs": [
    {
     "name": "stdout",
     "output_type": "stream",
     "text": [
      "['This is an animated image. I can see three people lying on the floor and two people walking. There are some machines objects and fire.', 'In the center of the image we can see fire and some sticks. In the background of the image we can see a grass. At the top left corner we can see a person is holding bottle.', 'In the picture I can see two men are standing on the ground. These men are wearing helmets and holdings objects. In the background I can see trees the fire the grass plants the sky and some other objects on the ground.', 'In this image there are so many trees on the mountain at the back there is some fire and smoke.', 'In this image we can see people fence fire pole light and buildings. There is a dark background.', 'In this image I can see a ladder which is in red color. Background I can see a house with fire and a building in white and brown color trees in green color and sky in white color.', 'In the center of the image we can see a person walking on the ground. We can also see some motor vehicles in fire. On the backside we can see a staircase a group of people standing a building with windows and pillars a group of trees the smoke and the sky. We can also see some text on the image.', 'This image is taken outdoors. In the background there are a few hills and there is the sky with clouds. On the left side of the image there is a house with walls windows doors and a roof. There are many iron bars and a few collapsed wooden platforms. There are many stones and rocks on the ground. There are many objects. There is a wooden fence and there is a tree.', 'In this picture I can see group of people standing there are vehicles poles lights there are buildings and there is a collapsed building there are trees and in the background there is sky.', 'In this image we can see a building which was collapsed.', 'In the foreground of this image there is a building with collapsed wall. At the top there is the sky.', 'In this image we can see the hot air balloon in the fog. And we can see the hills. And we can see the sky with the clouds.', 'In the foreground of this image there is a rock and few trees on the left. In the background there are few trees and the foggy sky.', 'In this image I can see at the bottom there is water on the right side there are trees. At the top it is the foggy sky.', 'In this picture I can see there is a fish in the water and in the backdrop I can see there is a mountain and buildings and the sky is foggy.']\n"
     ]
    }
   ],
   "source": [
    "captions = []\n",
    "for img_id in disaster_dataset:\n",
    "    cap = annotations[annotations['image_id'] == img_id]['caption'].value_counts().index\n",
    "    for j in cap:\n",
    "        captions.append(j.rstrip('\\n').replace(\",\", \"\"))\n",
    "print(captions)"
   ]
  },
  {
   "cell_type": "code",
   "execution_count": 126,
   "id": "1ee839b0-2d7e-44eb-8cde-183eb2ef0e52",
   "metadata": {},
   "outputs": [
    {
     "name": "stdout",
     "output_type": "stream",
     "text": [
      "15\n"
     ]
    }
   ],
   "source": [
    "print(len(captions))"
   ]
  },
  {
   "cell_type": "code",
   "execution_count": null,
   "id": "fade9840-ffcf-4f9c-8bba-b27593677758",
   "metadata": {},
   "outputs": [],
   "source": []
  }
 ],
 "metadata": {
  "kernelspec": {
   "display_name": "torch-gpu",
   "language": "python",
   "name": "torch"
  },
  "language_info": {
   "codemirror_mode": {
    "name": "ipython",
    "version": 3
   },
   "file_extension": ".py",
   "mimetype": "text/x-python",
   "name": "python",
   "nbconvert_exporter": "python",
   "pygments_lexer": "ipython3",
   "version": "3.10.6"
  }
 },
 "nbformat": 4,
 "nbformat_minor": 5
}

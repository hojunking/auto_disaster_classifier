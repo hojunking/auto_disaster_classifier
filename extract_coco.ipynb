{
 "cells": [
  {
   "cell_type": "code",
   "execution_count": 1,
   "id": "d5999ef9-fbee-4944-8935-5b0fc217cf8e",
   "metadata": {},
   "outputs": [],
   "source": [
    "import json\n",
    "import os\n",
    "import pandas as pd\n",
    "import matplotlib.pyplot as plt\n",
    "\n",
    "dir_path = \"../Data/annotations/\"\n",
    "ano = \"captions_train2017.json\"\n",
    "keyword_file = \"kerwords.json\""
   ]
  },
  {
   "cell_type": "code",
   "execution_count": 2,
   "id": "4febd6cd-094d-4abc-8c30-20ecf0470618",
   "metadata": {},
   "outputs": [],
   "source": [
    "with open(dir_path+ano, 'r') as open_ano:\n",
    "    ano_json = json.load(open_ano)\n",
    "\n",
    "with open(dir_path+ano, 'r') as open_key:\n",
    "    keywords = json.load(open_key)\n",
    "open_ano.close()\n",
    "open_key.close()"
   ]
  },
  {
   "cell_type": "code",
   "execution_count": 14,
   "id": "3ace41f8-3701-407d-9f35-f722f49299b4",
   "metadata": {},
   "outputs": [
    {
     "data": {
      "text/plain": [
       "{'license': 3,\n",
       " 'file_name': '000000391895.jpg',\n",
       " 'coco_url': 'http://images.cocodataset.org/train2017/000000391895.jpg',\n",
       " 'height': 360,\n",
       " 'width': 640,\n",
       " 'date_captured': '2013-11-14 11:18:45',\n",
       " 'flickr_url': 'http://farm9.staticflickr.com/8186/8119368305_4e622c8349_z.jpg',\n",
       " 'id': 391895}"
      ]
     },
     "execution_count": 14,
     "metadata": {},
     "output_type": "execute_result"
    }
   ],
   "source": [
    "ano_json['images'][0]"
   ]
  },
  {
   "cell_type": "code",
   "execution_count": 16,
   "id": "80918f86-a50a-4b92-90cd-339795360454",
   "metadata": {},
   "outputs": [
    {
     "data": {
      "text/plain": [
       "'A bicycle replica with a clock as the front wheel.'"
      ]
     },
     "execution_count": 16,
     "metadata": {},
     "output_type": "execute_result"
    }
   ],
   "source": [
    "ano_json['annotations'][0]['caption']"
   ]
  },
  {
   "cell_type": "code",
   "execution_count": 17,
   "id": "fd4f06b4-de27-4924-a6d0-04d8c7615d83",
   "metadata": {},
   "outputs": [],
   "source": [
    "annotations = pd.DataFrame(ano_json['annotations'])"
   ]
  },
  {
   "cell_type": "code",
   "execution_count": 19,
   "id": "788f849d-af73-473e-a987-ad95760acf3c",
   "metadata": {},
   "outputs": [],
   "source": [
    "images = pd.DataFrame(ano_json['images'])"
   ]
  },
  {
   "cell_type": "code",
   "execution_count": 26,
   "id": "d1b62609-9d20-410b-8e6c-65d69fb81e84",
   "metadata": {},
   "outputs": [
    {
     "data": {
      "text/plain": [
       "'A bicycle replica with a clock as the front wheel.'"
      ]
     },
     "execution_count": 26,
     "metadata": {},
     "output_type": "execute_result"
    }
   ],
   "source": [
    "annotations['caption'][0]"
   ]
  },
  {
   "cell_type": "code",
   "execution_count": 38,
   "id": "0cb4f4c9-8310-4348-8d3f-3f5fded97b8b",
   "metadata": {},
   "outputs": [],
   "source": [
    "keyword = ['blaze']\n",
    "k_image_id = []"
   ]
  },
  {
   "cell_type": "code",
   "execution_count": 39,
   "id": "5498f1d6-ddfb-45fc-8682-6c0d12dc0a67",
   "metadata": {},
   "outputs": [
    {
     "data": {
      "text/plain": [
       "0          False\n",
       "1          False\n",
       "2          False\n",
       "3          False\n",
       "4          False\n",
       "           ...  \n",
       "1183501    False\n",
       "1183502    False\n",
       "1183503    False\n",
       "1183504    False\n",
       "1183505    False\n",
       "Name: caption, Length: 1183506, dtype: bool"
      ]
     },
     "execution_count": 39,
     "metadata": {},
     "output_type": "execute_result"
    }
   ],
   "source": [
    "find = annotations['caption'].str.contains('fire', case=False)\n",
    "for i in keyword:\n",
    "    find2 = annotations['caption'].str.contains(i, case=False)\n",
    "    find = pd.concat([find,find2], ignore_index=True)"
   ]
  },
  {
   "cell_type": "code",
   "execution_count": 40,
   "id": "4071fc6e-eca1-431f-8289-904692d0652e",
   "metadata": {},
   "outputs": [
    {
     "data": {
      "text/plain": [
       "154         4710\n",
       "216         6165\n",
       "231         6562\n",
       "242         6700\n",
       "266         7717\n",
       "           ...  \n",
       "587264    656143\n",
       "587289    657540\n",
       "587332    659835\n",
       "588863    717213\n",
       "589394    736656\n",
       "Name: id, Length: 7298, dtype: int64"
      ]
     },
     "execution_count": 40,
     "metadata": {},
     "output_type": "execute_result"
    }
   ],
   "source": [
    "annotations['id'][find]"
   ]
  },
  {
   "cell_type": "code",
   "execution_count": 37,
   "id": "57827cec-2846-4357-baf6-6da98bcf53b9",
   "metadata": {},
   "outputs": [
    {
     "name": "stdout",
     "output_type": "stream",
     "text": [
      "<class 'pandas.core.series.Series'>\n",
      "RangeIndex: 591753 entries, 0 to 591752\n",
      "Series name: caption\n",
      "Non-Null Count   Dtype\n",
      "--------------   -----\n",
      "591753 non-null  bool \n",
      "dtypes: bool(1)\n",
      "memory usage: 578.0 KB\n"
     ]
    }
   ],
   "source": [
    "find.info()"
   ]
  },
  {
   "cell_type": "code",
   "execution_count": 33,
   "id": "718fd529-a841-4d0d-adf1-f15d0b93a8fe",
   "metadata": {},
   "outputs": [
    {
     "data": {
      "text/plain": [
       "154         4710\n",
       "216         6165\n",
       "231         6562\n",
       "242         6700\n",
       "266         7717\n",
       "           ...  \n",
       "587264    656143\n",
       "587289    657540\n",
       "587332    659835\n",
       "588863    717213\n",
       "589394    736656\n",
       "Name: id, Length: 7151, dtype: int64"
      ]
     },
     "execution_count": 33,
     "metadata": {},
     "output_type": "execute_result"
    }
   ],
   "source": [
    "annotations['id'][find]"
   ]
  },
  {
   "cell_type": "code",
   "execution_count": null,
   "id": "acbbdcf5-65a4-4300-b09e-61693de5e561",
   "metadata": {},
   "outputs": [],
   "source": []
  }
 ],
 "metadata": {
  "kernelspec": {
   "display_name": "torch-gpu",
   "language": "python",
   "name": "torch"
  },
  "language_info": {
   "codemirror_mode": {
    "name": "ipython",
    "version": 3
   },
   "file_extension": ".py",
   "mimetype": "text/x-python",
   "name": "python",
   "nbconvert_exporter": "python",
   "pygments_lexer": "ipython3",
   "version": "3.10.6"
  }
 },
 "nbformat": 4,
 "nbformat_minor": 5
}

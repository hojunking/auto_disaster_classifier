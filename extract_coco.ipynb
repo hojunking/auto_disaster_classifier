{
 "cells": [
  {
   "cell_type": "code",
   "execution_count": 2,
   "id": "d5999ef9-fbee-4944-8935-5b0fc217cf8e",
   "metadata": {},
   "outputs": [],
   "source": [
    "import json\n",
    "import os\n",
    "import pandas as pd\n",
    "import matplotlib.pyplot as plt\n",
    "import cv2\n",
    "dir_path = \"../Data/annotations/\"\n",
    "ano = \"captions_train2017.json\"\n",
    "keyword_file = \"kerwords.json\""
   ]
  },
  {
   "cell_type": "code",
   "execution_count": 3,
   "id": "4febd6cd-094d-4abc-8c30-20ecf0470618",
   "metadata": {},
   "outputs": [],
   "source": [
    "with open(dir_path+ano, 'r') as open_ano:\n",
    "    ano_json = json.load(open_ano)\n",
    "\n",
    "with open(dir_path+ano, 'r') as open_key:\n",
    "    keywords = json.load(open_key)\n",
    "open_ano.close()\n",
    "open_key.close()"
   ]
  },
  {
   "cell_type": "code",
   "execution_count": 4,
   "id": "3ace41f8-3701-407d-9f35-f722f49299b4",
   "metadata": {},
   "outputs": [
    {
     "data": {
      "text/plain": [
       "{'license': 3,\n",
       " 'file_name': '000000391895.jpg',\n",
       " 'coco_url': 'http://images.cocodataset.org/train2017/000000391895.jpg',\n",
       " 'height': 360,\n",
       " 'width': 640,\n",
       " 'date_captured': '2013-11-14 11:18:45',\n",
       " 'flickr_url': 'http://farm9.staticflickr.com/8186/8119368305_4e622c8349_z.jpg',\n",
       " 'id': 391895}"
      ]
     },
     "execution_count": 4,
     "metadata": {},
     "output_type": "execute_result"
    }
   ],
   "source": [
    "ano_json['images'][0]"
   ]
  },
  {
   "cell_type": "code",
   "execution_count": 5,
   "id": "80918f86-a50a-4b92-90cd-339795360454",
   "metadata": {},
   "outputs": [
    {
     "data": {
      "text/plain": [
       "'A bicycle replica with a clock as the front wheel.'"
      ]
     },
     "execution_count": 5,
     "metadata": {},
     "output_type": "execute_result"
    }
   ],
   "source": [
    "ano_json['annotations'][0]['caption']"
   ]
  },
  {
   "cell_type": "code",
   "execution_count": 6,
   "id": "fd4f06b4-de27-4924-a6d0-04d8c7615d83",
   "metadata": {},
   "outputs": [],
   "source": [
    "annotations = pd.DataFrame(ano_json['annotations'])"
   ]
  },
  {
   "cell_type": "code",
   "execution_count": 7,
   "id": "788f849d-af73-473e-a987-ad95760acf3c",
   "metadata": {},
   "outputs": [],
   "source": [
    "images = pd.DataFrame(ano_json['images'])"
   ]
  },
  {
   "cell_type": "code",
   "execution_count": 7,
   "id": "d1b62609-9d20-410b-8e6c-65d69fb81e84",
   "metadata": {},
   "outputs": [
    {
     "data": {
      "text/html": [
       "<div>\n",
       "<style scoped>\n",
       "    .dataframe tbody tr th:only-of-type {\n",
       "        vertical-align: middle;\n",
       "    }\n",
       "\n",
       "    .dataframe tbody tr th {\n",
       "        vertical-align: top;\n",
       "    }\n",
       "\n",
       "    .dataframe thead th {\n",
       "        text-align: right;\n",
       "    }\n",
       "</style>\n",
       "<table border=\"1\" class=\"dataframe\">\n",
       "  <thead>\n",
       "    <tr style=\"text-align: right;\">\n",
       "      <th></th>\n",
       "      <th>image_id</th>\n",
       "      <th>id</th>\n",
       "      <th>caption</th>\n",
       "    </tr>\n",
       "  </thead>\n",
       "  <tbody>\n",
       "    <tr>\n",
       "      <th>0</th>\n",
       "      <td>203564</td>\n",
       "      <td>37</td>\n",
       "      <td>A bicycle replica with a clock as the front wh...</td>\n",
       "    </tr>\n",
       "    <tr>\n",
       "      <th>1</th>\n",
       "      <td>322141</td>\n",
       "      <td>49</td>\n",
       "      <td>A room with blue walls and a white sink and door.</td>\n",
       "    </tr>\n",
       "    <tr>\n",
       "      <th>2</th>\n",
       "      <td>16977</td>\n",
       "      <td>89</td>\n",
       "      <td>A car that seems to be parked illegally behind...</td>\n",
       "    </tr>\n",
       "    <tr>\n",
       "      <th>3</th>\n",
       "      <td>106140</td>\n",
       "      <td>98</td>\n",
       "      <td>A large passenger airplane flying through the ...</td>\n",
       "    </tr>\n",
       "    <tr>\n",
       "      <th>4</th>\n",
       "      <td>106140</td>\n",
       "      <td>101</td>\n",
       "      <td>There is a GOL plane taking off in a partly cl...</td>\n",
       "    </tr>\n",
       "    <tr>\n",
       "      <th>...</th>\n",
       "      <td>...</td>\n",
       "      <td>...</td>\n",
       "      <td>...</td>\n",
       "    </tr>\n",
       "    <tr>\n",
       "      <th>591748</th>\n",
       "      <td>133071</td>\n",
       "      <td>829655</td>\n",
       "      <td>a slice of bread is covered with a sour cream ...</td>\n",
       "    </tr>\n",
       "    <tr>\n",
       "      <th>591749</th>\n",
       "      <td>410182</td>\n",
       "      <td>829658</td>\n",
       "      <td>A long plate hold some fries with some sliders...</td>\n",
       "    </tr>\n",
       "    <tr>\n",
       "      <th>591750</th>\n",
       "      <td>180285</td>\n",
       "      <td>829665</td>\n",
       "      <td>Two women sit and pose with stuffed animals.</td>\n",
       "    </tr>\n",
       "    <tr>\n",
       "      <th>591751</th>\n",
       "      <td>133071</td>\n",
       "      <td>829693</td>\n",
       "      <td>White Plate with a lot of guacamole and an ext...</td>\n",
       "    </tr>\n",
       "    <tr>\n",
       "      <th>591752</th>\n",
       "      <td>133071</td>\n",
       "      <td>829717</td>\n",
       "      <td>A dinner plate has a lemon wedge garnishment.</td>\n",
       "    </tr>\n",
       "  </tbody>\n",
       "</table>\n",
       "<p>591753 rows × 3 columns</p>\n",
       "</div>"
      ],
      "text/plain": [
       "        image_id      id                                            caption\n",
       "0         203564      37  A bicycle replica with a clock as the front wh...\n",
       "1         322141      49  A room with blue walls and a white sink and door.\n",
       "2          16977      89  A car that seems to be parked illegally behind...\n",
       "3         106140      98  A large passenger airplane flying through the ...\n",
       "4         106140     101  There is a GOL plane taking off in a partly cl...\n",
       "...          ...     ...                                                ...\n",
       "591748    133071  829655  a slice of bread is covered with a sour cream ...\n",
       "591749    410182  829658  A long plate hold some fries with some sliders...\n",
       "591750    180285  829665       Two women sit and pose with stuffed animals.\n",
       "591751    133071  829693  White Plate with a lot of guacamole and an ext...\n",
       "591752    133071  829717      A dinner plate has a lemon wedge garnishment.\n",
       "\n",
       "[591753 rows x 3 columns]"
      ]
     },
     "execution_count": 7,
     "metadata": {},
     "output_type": "execute_result"
    }
   ],
   "source": [
    "annotations#['caption'][0]"
   ]
  },
  {
   "cell_type": "code",
   "execution_count": 8,
   "id": "0cb4f4c9-8310-4348-8d3f-3f5fded97b8b",
   "metadata": {},
   "outputs": [],
   "source": [
    "keyword = ['fire',\n",
    "           'forest fire',\n",
    "           'firefighter',\n",
    "           'burst',\n",
    "           'explode',\n",
    "           'explosion',\n",
    "           'blast',\n",
    "           'detonation',\n",
    "           'detonated',\n",
    "           'burned'\n",
    "        ]\n",
    "exclude_keyword = ['blazer','horse','candle','fireplace','fire place','ski','board','says','oven','wood','cook', 'old', 'living', 'plug', 'hyr', 'food', 'young','kitchen', 'extinguisher',\n",
    "                  'fireworks','vintage','department', 'kid', 'boy', 'grill','fire station','fox','engine', 'hyd','fires']\n",
    "k_image_id = []"
   ]
  },
  {
   "cell_type": "code",
   "execution_count": 440,
   "id": "e3211e37-28ff-40ca-b618-d6100cdfd1a3",
   "metadata": {},
   "outputs": [
    {
     "name": "stdout",
     "output_type": "stream",
     "text": [
      "final : 106\n",
      "final : 91\n",
      "droped duplicate images from multiple captions, After dropped: 67\n"
     ]
    }
   ],
   "source": [
    "keyword = '|'.join(keyword)\n",
    "\n",
    "find = annotations[annotations['caption'].str.contains(keyword, case=False)]\n",
    "print(f'final : {len(find)}')\n",
    "\n",
    "\n",
    "exclude_keyword = '|'.join(exclude_keyword)\n",
    "find = find[~find['caption'].str.contains(exclude_keyword, case=False)]\n",
    "print(f'final : {len(find)}')\n",
    "find.drop_duplicates(['image_id'], inplace=True ,ignore_index = True, keep = 'first')\n",
    "print(f'droped duplicate images from multiple captions, After dropped: {len(find)}')\n",
    "find.reset_index(inplace=True, drop=True)\n"
   ]
  },
  {
   "cell_type": "markdown",
   "id": "53186c10-eb08-4f2b-b1d8-3225a18e9ea4",
   "metadata": {},
   "source": [
    "##### 특정 키워드 caption에 포함된다면 hooking"
   ]
  },
  {
   "cell_type": "code",
   "execution_count": 13,
   "id": "5498f1d6-ddfb-45fc-8682-6c0d12dc0a67",
   "metadata": {},
   "outputs": [
    {
     "name": "stdout",
     "output_type": "stream",
     "text": [
      "keyword : [fire] // found: 7298\n",
      "keyword : [forest fire] // found: 3\n",
      "keyword : [firefighter] // found: 43\n",
      "keyword : [burst] // found: 11\n",
      "keyword : [explode] // found: 3\n",
      "keyword : [explosion] // found: 2\n",
      "keyword : [blast] // found: 9\n",
      "keyword : [detonation] // found: 0\n",
      "keyword : [detonated] // found: 0\n",
      "keyword : [burned] // found: 35\n",
      "final : 7404\n",
      "excluded keyword:[blazer] found: 0\n",
      "excluded keyword:[horse] found: 20\n",
      "excluded keyword:[candle] found: 16\n",
      "excluded keyword:[fireplace] found: 866\n",
      "excluded keyword:[fire place] found: 306\n",
      "excluded keyword:[ski] found: 8\n",
      "excluded keyword:[board] found: 30\n",
      "excluded keyword:[says] found: 11\n",
      "excluded keyword:[oven] found: 49\n",
      "excluded keyword:[wood] found: 100\n",
      "excluded keyword:[cook] found: 17\n",
      "excluded keyword:[old] found: 300\n",
      "excluded keyword:[living] found: 7\n",
      "excluded keyword:[plug] found: 22\n",
      "excluded keyword:[hyr] found: 21\n",
      "excluded keyword:[food] found: 8\n",
      "excluded keyword:[young] found: 74\n",
      "excluded keyword:[kitchen] found: 13\n",
      "excluded keyword:[extinguisher] found: 19\n",
      "excluded keyword:[fireworks] found: 25\n",
      "excluded keyword:[vintage] found: 11\n",
      "excluded keyword:[department] found: 29\n",
      "excluded keyword:[kid] found: 23\n",
      "excluded keyword:[boy] found: 51\n",
      "excluded keyword:[grill] found: 7\n",
      "excluded keyword:[fire station] found: 30\n",
      "excluded keyword:[fox] found: 2\n",
      "excluded keyword:[engine] found: 73\n",
      "excluded keyword:[hyd] found: 4543\n",
      "excluded keyword:[fires] found: 9\n",
      "final : 714\n",
      "droped duplicate images from multiple captions, After dropped: 307\n"
     ]
    }
   ],
   "source": [
    "find = annotations[annotations['caption'].str.contains('dododo', case=False)]\n",
    "\n",
    "for i in keyword:\n",
    "    find2 = annotations[annotations['caption'].str.contains(i, case=False)]\n",
    "    find = pd.concat([find,find2], ignore_index=True)\n",
    "    print(f'keyword : [{i}] // found: {len(find2)}')\n",
    "print(f'final : {len(find)}')\n",
    "## 결측지 유발 키워드 삭제\n",
    "for i in exclude_keyword:\n",
    "    origin_len = len(find)\n",
    "    find = find[~find['caption'].str.contains(i, case=False)]\n",
    "    print(f'excluded keyword:[{i}] found: {origin_len - len(find)}')\n",
    "print(f'final : {len(find)}')\n",
    "## 중복 이미지 삭제 (한 이미지에 대한 여러 caption)\n",
    "find.drop_duplicates(['image_id'], inplace=True ,ignore_index = True, keep = 'first')\n",
    "print(f'droped duplicate images from multiple captions, After dropped: {len(find)}')\n",
    "## 인덱스 정렬\n",
    "find.reset_index(inplace=True, drop=True)\n",
    "#find"
   ]
  },
  {
   "cell_type": "code",
   "execution_count": null,
   "id": "d2bdcfd0-6398-48f8-9796-d67f88bef889",
   "metadata": {},
   "outputs": [],
   "source": [
    "## show img status\n",
    "plt.figure(figsize=(16,500))\n",
    "for i in range(len(find)):\n",
    "    plt.subplot(100,4,i+1)\n",
    "    plt.xticks([])\n",
    "    plt.yticks([])\n",
    "    plt.grid(False)\n",
    "    k = str(find['image_id'][i]).zfill(12)\n",
    "    path = \"../Data/train2017/\" + k +'.jpg'\n",
    "    im_bgr = cv2.imread(path)\n",
    "    im_rgb = im_bgr[:, :, ::-1]\n",
    "    plt.imshow(im_rgb, cmap=plt.cm.binary)\n",
    "    plt.xlabel(find['caption'][i][:30] + '\\n' + find['caption'][i][30:60] + '\\n image_id : ' + str(find['image_id'][i]) , loc='left', fontsize=10)\n",
    "plt.show()"
   ]
  },
  {
   "cell_type": "code",
   "execution_count": 417,
   "id": "28e0e40e-c5f3-492d-a77b-1e6643fadb66",
   "metadata": {},
   "outputs": [
    {
     "data": {
      "text/plain": [
       "Int64Index([  6733,  49551,  67788,  75308,  86467,  88029, 103276, 105367,\n",
       "            118312, 127747, 135424, 142581, 144058, 157596, 160746, 162998,\n",
       "            164491, 165160, 172727, 180857, 191546, 203062, 209102, 220072,\n",
       "            234697, 237716, 248488, 253728, 261585, 271452, 275406, 280069,\n",
       "            286899, 302713, 308610, 318533, 333363, 345590, 353400, 370417,\n",
       "            372165, 376937, 381214, 400309, 406729, 429509, 435885, 436579,\n",
       "            441045, 445298, 448759, 453533, 463222, 469410, 474964, 515422,\n",
       "            517612, 525869, 538879, 540283, 541280, 555108, 558365, 563578,\n",
       "            572889, 575348, 578655],\n",
       "           dtype='int64')"
      ]
     },
     "execution_count": 417,
     "metadata": {},
     "output_type": "execute_result"
    }
   ],
   "source": [
    "tempest = find['image_id'].value_counts().index.sort_values()\n",
    "tempest"
   ]
  },
  {
   "cell_type": "code",
   "execution_count": 418,
   "id": "aafa813f-7211-4eda-8c3c-d6740aeb03fb",
   "metadata": {},
   "outputs": [
    {
     "data": {
      "text/plain": [
       "67"
      ]
     },
     "execution_count": 418,
     "metadata": {},
     "output_type": "execute_result"
    }
   ],
   "source": [
    "len(tempest)"
   ]
  },
  {
   "cell_type": "code",
   "execution_count": 12,
   "id": "09ffc355-600e-4ad2-a21f-da258adcec04",
   "metadata": {},
   "outputs": [
    {
     "name": "stdout",
     "output_type": "stream",
     "text": [
      "189\n"
     ]
    }
   ],
   "source": [
    "disaster_dataset = [581262, 382699, 374018, 184379, 140432, 564186, 351382, 216015, 483146, 454755, 39542, 180721,\n",
    "                    391887, 369576, 393633, 244171, 520810, 368586, 375826, 423562, 436385, 51119, 278706, 350089,\n",
    "                    731, 2453, 4489,   6845,  12647,  15112,  34525,  34985,  52308,  53719,  58624,  63147, 67868,\n",
    "                    73187, 103404, 127006, 132791, 150161, 172255, 176440, 184606, 195992, 196099, 209063, 211263,\n",
    "                    213826, 219472, 219657, 222245, 225246, 227248, 242762, 254418, 263453, 273001, 273174, 275027,\n",
    "                    285605, 289846, 318415, 334936, 335217, 338703, 365170, 365295, 397617,398523, 416266, 422307, 442431,\n",
    "                    450308, 456343,465601, 465638, 468602, 474862, 487299, 490978, 493828, 494404, 498679, 508672,\n",
    "                    534194, 53719, 540943, 545924, 552573, 574456, 575753, 576700, 285679, 244674, 80462, 235221,\n",
    "                    5169,  26097,  46118,  62589, 105640, 114701, 134981, 143490, 160163, 165061, 195951, 198463,\n",
    "                    328569, 367838, 374241, 395765, 453954, 455044, 459003, 474653, 482320, 498241, 530876, 543332,\n",
    "                    6733,  49551,  67788,  75308,  86467,  88029, 103276, 105367, 118312, 127747, 135424, 142581,\n",
    "                    144058, 157596, 160746, 162998, 164491, 165160, 172727, 180857, 191546, 203062, 209102, 220072,\n",
    "                    234697, 237716, 248488, 253728, 261585, 271452, 275406, 280069, 286899, 302713, 308610, 318533,\n",
    "                    333363, 345590, 353400, 370417, 372165, 376937, 381214, 400309, 406729, 429509, 435885, 436579,\n",
    "                    441045, 445298, 448759, 453533, 463222, 469410, 474964, 515422, 517612, 525869, 538879, 540283,\n",
    "                    541280, 555108, 558365, 563578, 572889, 575348, 578655]\n",
    "print(len(disaster_dataset))"
   ]
  },
  {
   "cell_type": "code",
   "execution_count": null,
   "id": "758533d9-b3b0-415c-8b0d-98fd19ae7628",
   "metadata": {},
   "outputs": [],
   "source": [
    "## show img status\n",
    "plt.figure(figsize=(16,80))\n",
    "for i in range(len(disaster_dataset)):\n",
    "    plt.subplot(20,4,i+1)\n",
    "    plt.xticks([])\n",
    "    plt.yticks([])\n",
    "    plt.grid(False)\n",
    "    k = str(disaster_dataset[i]).zfill(12)\n",
    "    path = \"../Data/train2017/\" + k +'.jpg'\n",
    "    #print(path)\n",
    "    im_bgr = cv2.imread(path)\n",
    "    im_rgb = im_bgr[:, :, ::-1]\n",
    "    plt.imshow(im_rgb, cmap=plt.cm.binary)\n",
    "    plt.xlabel('image_id : ' + str(disaster_dataset[i]) , loc='left', fontsize=10)\n",
    "plt.show()"
   ]
  },
  {
   "cell_type": "markdown",
   "id": "f50ba23f-8179-41d5-ba12-8081eba86172",
   "metadata": {},
   "source": [
    "##### caption extraction for image generation"
   ]
  },
  {
   "cell_type": "code",
   "execution_count": 9,
   "id": "6ae7ff24-7cf0-4aa7-a061-7f4f1fcc192b",
   "metadata": {},
   "outputs": [],
   "source": [
    "annotations['image_id'] = annotations['image_id'].apply(str)"
   ]
  },
  {
   "cell_type": "code",
   "execution_count": 10,
   "id": "2a2fc80d-5ed7-47bd-97f7-0510d4d41c5a",
   "metadata": {},
   "outputs": [
    {
     "data": {
      "text/plain": [
       "Index(['A fire hydrant and some debris on the street. ',\n",
       "       'The scene of a fire accident and a fire hydrant covered in ash. ',\n",
       "       'this is the aftermath of a fire outside',\n",
       "       'a old fire hydrogen that is next to a torn down buliding',\n",
       "       'A fire hydrant beside a burned building in a city.'],\n",
       "      dtype='object')"
      ]
     },
     "execution_count": 10,
     "metadata": {},
     "output_type": "execute_result"
    }
   ],
   "source": [
    "annotations[annotations['image_id'].str.contains(str(581262), case=False)]['caption'].value_counts().index"
   ]
  },
  {
   "cell_type": "code",
   "execution_count": 11,
   "id": "fcd77446-6da6-4351-adc3-e8e3d18d8273",
   "metadata": {},
   "outputs": [
    {
     "data": {
      "text/html": [
       "<div>\n",
       "<style scoped>\n",
       "    .dataframe tbody tr th:only-of-type {\n",
       "        vertical-align: middle;\n",
       "    }\n",
       "\n",
       "    .dataframe tbody tr th {\n",
       "        vertical-align: top;\n",
       "    }\n",
       "\n",
       "    .dataframe thead th {\n",
       "        text-align: right;\n",
       "    }\n",
       "</style>\n",
       "<table border=\"1\" class=\"dataframe\">\n",
       "  <thead>\n",
       "    <tr style=\"text-align: right;\">\n",
       "      <th></th>\n",
       "      <th>image_id</th>\n",
       "      <th>id</th>\n",
       "      <th>caption</th>\n",
       "    </tr>\n",
       "  </thead>\n",
       "  <tbody>\n",
       "    <tr>\n",
       "      <th>311212</th>\n",
       "      <td>39542</td>\n",
       "      <td>62329</td>\n",
       "      <td>Firemen using the hose from the fire truck to ...</td>\n",
       "    </tr>\n",
       "    <tr>\n",
       "      <th>311229</th>\n",
       "      <td>39542</td>\n",
       "      <td>62731</td>\n",
       "      <td>Firefighters are using the hose on a firetruck...</td>\n",
       "    </tr>\n",
       "    <tr>\n",
       "      <th>311241</th>\n",
       "      <td>39542</td>\n",
       "      <td>62989</td>\n",
       "      <td>A fire truck spraying water into a bunch of tr...</td>\n",
       "    </tr>\n",
       "    <tr>\n",
       "      <th>311252</th>\n",
       "      <td>39542</td>\n",
       "      <td>63358</td>\n",
       "      <td>A fire truck putting out a fire next to a bridge.</td>\n",
       "    </tr>\n",
       "    <tr>\n",
       "      <th>311322</th>\n",
       "      <td>39542</td>\n",
       "      <td>64720</td>\n",
       "      <td>Three firemen shoot water from a tower cannon ...</td>\n",
       "    </tr>\n",
       "    <tr>\n",
       "      <th>322229</th>\n",
       "      <td>395425</td>\n",
       "      <td>340690</td>\n",
       "      <td>A semi trailer truck driving down the road wit...</td>\n",
       "    </tr>\n",
       "    <tr>\n",
       "      <th>322236</th>\n",
       "      <td>395425</td>\n",
       "      <td>340774</td>\n",
       "      <td>Large truck carrying three tractors on the str...</td>\n",
       "    </tr>\n",
       "    <tr>\n",
       "      <th>322238</th>\n",
       "      <td>395425</td>\n",
       "      <td>340813</td>\n",
       "      <td>Truck with three trackors on the back of it.</td>\n",
       "    </tr>\n",
       "    <tr>\n",
       "      <th>322312</th>\n",
       "      <td>395425</td>\n",
       "      <td>342049</td>\n",
       "      <td>Three large wheel trucks are on another truck.</td>\n",
       "    </tr>\n",
       "    <tr>\n",
       "      <th>322771</th>\n",
       "      <td>395425</td>\n",
       "      <td>351883</td>\n",
       "      <td>A large truck carries three tractors on a trai...</td>\n",
       "    </tr>\n",
       "    <tr>\n",
       "      <th>364878</th>\n",
       "      <td>395424</td>\n",
       "      <td>594811</td>\n",
       "      <td>Two elephants walk around in an enclosure.</td>\n",
       "    </tr>\n",
       "    <tr>\n",
       "      <th>370805</th>\n",
       "      <td>395424</td>\n",
       "      <td>744937</td>\n",
       "      <td>Two gray elephants walking around an enclosure...</td>\n",
       "    </tr>\n",
       "    <tr>\n",
       "      <th>370833</th>\n",
       "      <td>395424</td>\n",
       "      <td>745534</td>\n",
       "      <td>Two elephants that are standing next to each o...</td>\n",
       "    </tr>\n",
       "    <tr>\n",
       "      <th>370900</th>\n",
       "      <td>395424</td>\n",
       "      <td>747172</td>\n",
       "      <td>Two elephants standing next to each other in f...</td>\n",
       "    </tr>\n",
       "    <tr>\n",
       "      <th>371170</th>\n",
       "      <td>395424</td>\n",
       "      <td>754363</td>\n",
       "      <td>A couple of elephants running through a zoo fi...</td>\n",
       "    </tr>\n",
       "    <tr>\n",
       "      <th>535814</th>\n",
       "      <td>395426</td>\n",
       "      <td>772146</td>\n",
       "      <td>A group of men sitting around a room together.</td>\n",
       "    </tr>\n",
       "    <tr>\n",
       "      <th>535887</th>\n",
       "      <td>395426</td>\n",
       "      <td>774396</td>\n",
       "      <td>The three mens are sitting there talking and l...</td>\n",
       "    </tr>\n",
       "    <tr>\n",
       "      <th>535970</th>\n",
       "      <td>395426</td>\n",
       "      <td>776199</td>\n",
       "      <td>a group of people sitting on some couches</td>\n",
       "    </tr>\n",
       "    <tr>\n",
       "      <th>535973</th>\n",
       "      <td>395426</td>\n",
       "      <td>776304</td>\n",
       "      <td>a couple of people are sitting on couches</td>\n",
       "    </tr>\n",
       "    <tr>\n",
       "      <th>536149</th>\n",
       "      <td>395426</td>\n",
       "      <td>781083</td>\n",
       "      <td>Three guys sitting around a room watching some...</td>\n",
       "    </tr>\n",
       "  </tbody>\n",
       "</table>\n",
       "</div>"
      ],
      "text/plain": [
       "       image_id      id                                            caption\n",
       "311212    39542   62329  Firemen using the hose from the fire truck to ...\n",
       "311229    39542   62731  Firefighters are using the hose on a firetruck...\n",
       "311241    39542   62989  A fire truck spraying water into a bunch of tr...\n",
       "311252    39542   63358  A fire truck putting out a fire next to a bridge.\n",
       "311322    39542   64720  Three firemen shoot water from a tower cannon ...\n",
       "322229   395425  340690  A semi trailer truck driving down the road wit...\n",
       "322236   395425  340774  Large truck carrying three tractors on the str...\n",
       "322238   395425  340813       Truck with three trackors on the back of it.\n",
       "322312   395425  342049     Three large wheel trucks are on another truck.\n",
       "322771   395425  351883  A large truck carries three tractors on a trai...\n",
       "364878   395424  594811        Two elephants walk around in an enclosure. \n",
       "370805   395424  744937  Two gray elephants walking around an enclosure...\n",
       "370833   395424  745534  Two elephants that are standing next to each o...\n",
       "370900   395424  747172  Two elephants standing next to each other in f...\n",
       "371170   395424  754363  A couple of elephants running through a zoo fi...\n",
       "535814   395426  772146     A group of men sitting around a room together.\n",
       "535887   395426  774396  The three mens are sitting there talking and l...\n",
       "535970   395426  776199         a group of people sitting on some couches \n",
       "535973   395426  776304          a couple of people are sitting on couches\n",
       "536149   395426  781083  Three guys sitting around a room watching some..."
      ]
     },
     "execution_count": 11,
     "metadata": {},
     "output_type": "execute_result"
    }
   ],
   "source": [
    "annotations[annotations['image_id'].str.contains(str(disaster_dataset[10]), case=False)]"
   ]
  },
  {
   "cell_type": "code",
   "execution_count": 13,
   "id": "9af83515-43b9-4420-9c46-300728819a60",
   "metadata": {},
   "outputs": [
    {
     "data": {
      "text/html": [
       "<div>\n",
       "<style scoped>\n",
       "    .dataframe tbody tr th:only-of-type {\n",
       "        vertical-align: middle;\n",
       "    }\n",
       "\n",
       "    .dataframe tbody tr th {\n",
       "        vertical-align: top;\n",
       "    }\n",
       "\n",
       "    .dataframe thead th {\n",
       "        text-align: right;\n",
       "    }\n",
       "</style>\n",
       "<table border=\"1\" class=\"dataframe\">\n",
       "  <thead>\n",
       "    <tr style=\"text-align: right;\">\n",
       "      <th></th>\n",
       "      <th>image_id</th>\n",
       "      <th>id</th>\n",
       "      <th>caption</th>\n",
       "    </tr>\n",
       "  </thead>\n",
       "  <tbody>\n",
       "    <tr>\n",
       "      <th>311212</th>\n",
       "      <td>39542</td>\n",
       "      <td>62329</td>\n",
       "      <td>Firemen using the hose from the fire truck to ...</td>\n",
       "    </tr>\n",
       "    <tr>\n",
       "      <th>311229</th>\n",
       "      <td>39542</td>\n",
       "      <td>62731</td>\n",
       "      <td>Firefighters are using the hose on a firetruck...</td>\n",
       "    </tr>\n",
       "    <tr>\n",
       "      <th>311241</th>\n",
       "      <td>39542</td>\n",
       "      <td>62989</td>\n",
       "      <td>A fire truck spraying water into a bunch of tr...</td>\n",
       "    </tr>\n",
       "    <tr>\n",
       "      <th>311252</th>\n",
       "      <td>39542</td>\n",
       "      <td>63358</td>\n",
       "      <td>A fire truck putting out a fire next to a bridge.</td>\n",
       "    </tr>\n",
       "    <tr>\n",
       "      <th>311322</th>\n",
       "      <td>39542</td>\n",
       "      <td>64720</td>\n",
       "      <td>Three firemen shoot water from a tower cannon ...</td>\n",
       "    </tr>\n",
       "  </tbody>\n",
       "</table>\n",
       "</div>"
      ],
      "text/plain": [
       "       image_id     id                                            caption\n",
       "311212    39542  62329  Firemen using the hose from the fire truck to ...\n",
       "311229    39542  62731  Firefighters are using the hose on a firetruck...\n",
       "311241    39542  62989  A fire truck spraying water into a bunch of tr...\n",
       "311252    39542  63358  A fire truck putting out a fire next to a bridge.\n",
       "311322    39542  64720  Three firemen shoot water from a tower cannon ..."
      ]
     },
     "execution_count": 13,
     "metadata": {},
     "output_type": "execute_result"
    }
   ],
   "source": [
    "annotations[annotations['image_id']==str(disaster_dataset[10])]"
   ]
  },
  {
   "cell_type": "code",
   "execution_count": 1,
   "id": "60e1a78f-5494-46bb-821a-054cd162fd6c",
   "metadata": {},
   "outputs": [],
   "source": [
    "keyword = ['fire',\n",
    "           'forest fire',\n",
    "           'firefighter',\n",
    "           'burst',\n",
    "           'explode',\n",
    "           'explosion',\n",
    "           'blast',\n",
    "           'detonation',\n",
    "           'detonated',\n",
    "           'burned',\n",
    "           \n",
    "           'earthquake',\n",
    "           'earth tremor',\n",
    "           'vibration in the earth',\n",
    "           'landslip',\n",
    "           'avalanche',\n",
    "           'landslide',\n",
    "           'collapse',\n",
    "           'cave in',\n",
    "           'collapsed',\n",
    "           'drought',\n",
    "           \n",
    "           'tempest',\n",
    "           'windstorm',\n",
    "           'rainstorm',\n",
    "           'whirlwind',\n",
    "           'flood',\n",
    "           'inundate',\n",
    "           \n",
    "           'tsunami',\n",
    "           'tidal wave',\n",
    "           'hail',\n",
    "           'hailstones',\n",
    "           \n",
    "           'hurricane',\n",
    "           'typhoon',\n",
    "           'cyclone',\n",
    "           'tornado',\n",
    "           'dust devil',\n",
    "           'twister',\n",
    "           \n",
    "           'thunder',\n",
    "           'lightning',\n",
    "           'thunderstorm',\n",
    "           'thunderbolt',\n",
    "           \n",
    "           'foggy day',\n",
    "           'in the fog',\n",
    "           'dense fog'\n",
    "           \n",
    "           'snow storm',\n",
    "           'heavy snowfall',\n",
    "           'heavy snow',\n",
    "        ]\n",
    "exclude_keyword = ['blazer','horse','candle','fireplace','fire place','ski','board','says','oven','wood','cook', 'old', 'living', 'plug', 'hyr', 'food', 'young','kitchen', 'extinguisher',\n",
    "                  'fireworks','vintage','department', 'kid', 'boy', 'grill','fire station','fox','engine', 'hyd','fires']"
   ]
  },
  {
   "cell_type": "code",
   "execution_count": 14,
   "id": "6e0b3fbe-85fc-4a6d-9c90-3167acdc7880",
   "metadata": {},
   "outputs": [
    {
     "data": {
      "text/html": [
       "<div>\n",
       "<style scoped>\n",
       "    .dataframe tbody tr th:only-of-type {\n",
       "        vertical-align: middle;\n",
       "    }\n",
       "\n",
       "    .dataframe tbody tr th {\n",
       "        vertical-align: top;\n",
       "    }\n",
       "\n",
       "    .dataframe thead th {\n",
       "        text-align: right;\n",
       "    }\n",
       "</style>\n",
       "<table border=\"1\" class=\"dataframe\">\n",
       "  <thead>\n",
       "    <tr style=\"text-align: right;\">\n",
       "      <th></th>\n",
       "      <th>image_id</th>\n",
       "      <th>id</th>\n",
       "      <th>caption</th>\n",
       "    </tr>\n",
       "  </thead>\n",
       "  <tbody>\n",
       "    <tr>\n",
       "      <th>54317</th>\n",
       "      <td>581262</td>\n",
       "      <td>747205</td>\n",
       "      <td>A fire hydrant and some debris on the street.</td>\n",
       "    </tr>\n",
       "    <tr>\n",
       "      <th>54490</th>\n",
       "      <td>581262</td>\n",
       "      <td>752327</td>\n",
       "      <td>The scene of a fire accident and a fire hydran...</td>\n",
       "    </tr>\n",
       "    <tr>\n",
       "      <th>54692</th>\n",
       "      <td>581262</td>\n",
       "      <td>757819</td>\n",
       "      <td>this is the aftermath of a fire outside</td>\n",
       "    </tr>\n",
       "    <tr>\n",
       "      <th>54777</th>\n",
       "      <td>581262</td>\n",
       "      <td>760187</td>\n",
       "      <td>a old fire hydrogen that is next to a torn dow...</td>\n",
       "    </tr>\n",
       "    <tr>\n",
       "      <th>54839</th>\n",
       "      <td>581262</td>\n",
       "      <td>761597</td>\n",
       "      <td>A fire hydrant beside a burned building in a c...</td>\n",
       "    </tr>\n",
       "  </tbody>\n",
       "</table>\n",
       "</div>"
      ],
      "text/plain": [
       "      image_id      id                                            caption\n",
       "54317   581262  747205     A fire hydrant and some debris on the street. \n",
       "54490   581262  752327  The scene of a fire accident and a fire hydran...\n",
       "54692   581262  757819            this is the aftermath of a fire outside\n",
       "54777   581262  760187  a old fire hydrogen that is next to a torn dow...\n",
       "54839   581262  761597  A fire hydrant beside a burned building in a c..."
      ]
     },
     "execution_count": 14,
     "metadata": {},
     "output_type": "execute_result"
    }
   ],
   "source": [
    "captions_5 = annotations[annotations['image_id']== str(581262)]\n",
    "captions_5"
   ]
  },
  {
   "cell_type": "code",
   "execution_count": 19,
   "id": "ad37d47f-4e7a-4327-b338-7705554a4e70",
   "metadata": {},
   "outputs": [
    {
     "name": "stdout",
     "output_type": "stream",
     "text": [
      "num of captions : 302\n"
     ]
    }
   ],
   "source": [
    "captions = []\n",
    "\n",
    "#captions_5 = annotations[annotations['image_id']== str(i)]['caption'].value_counts().index\n",
    "for img_id in disaster_dataset:\n",
    "    captions_5 = annotations[annotations['image_id']== str(img_id)]\n",
    "    #print(captions_5)\n",
    "    \n",
    "    found = captions_5[captions_5['caption'].str.contains('dododo', case=False)]\n",
    "\n",
    "    for i in keyword:\n",
    "        found2 = captions_5[captions_5['caption'].str.contains(i, case=False)]\n",
    "        found = pd.concat([found,found2], ignore_index=True)\n",
    "\n",
    "    ## 결측지 유발 키워드 삭제\n",
    "    for i in exclude_keyword:\n",
    "        origin_len = len(found)\n",
    "        found = found[~found['caption'].str.contains(i, case=False)]\n",
    "    \n",
    "    extracted = found['caption'].value_counts().index\n",
    "    for j in extracted:\n",
    "        captions.append(j.rstrip('\\n').replace(\",\", \"\"))\n",
    "        \n",
    "print(f'num of captions : {len(captions)}')"
   ]
  },
  {
   "cell_type": "markdown",
   "id": "6673aafc-4690-4a21-b7f4-9020dc6223df",
   "metadata": {},
   "source": [
    "#### delimiter ' ,'기준 문자열 안의 ,를 제거"
   ]
  },
  {
   "cell_type": "code",
   "execution_count": 20,
   "id": "2f44e9bd-d55f-4ead-bf70-31f0602953ed",
   "metadata": {},
   "outputs": [
    {
     "name": "stdout",
     "output_type": "stream",
     "text": [
      "['this is the aftermath of a fire outside', 'A fire effect has been superimposed on a city street scene.', 'An airplane is dispensing fire repellent over a forest.', 'A plane is flying overhead disbursing fire retardant.', 'A jetliner sitting on top of an airport next to a fire.', 'A city street where a city bus and a car collided in an accident and fire and police personnel are around the vehicles.', 'Several fire fighters standing next to a car that a bus crashed into.', 'A firetruck spraying out water at a small airplane', 'Fire trucks spray water on a small plane on a busy airport runway.', 'Firefighters next to their trucks fight a blaze. ', 'a group of firefighters trying to stop a fire', 'A fire hose spurts water near a parked fire truck.', 'Hook and ladder fire truck at the scene of a night time fire.', 'a fireman a firetruck some hoses and a fire at night', 'A plane dropping fire retardant over a forest fire.', 'a plane drops fire retardant on a forest fire ', 'A bus waiting on the street near a fire.', 'A fire breaking out near a busy intersection.', 'A fire that is burning in the distance.', 'Firefighters are using the hose on a firetruck to spray water.', 'Firemen using the hose from the fire truck to put out a fire. ', 'A fire truck spraying water into a bunch of trees.', 'A fire truck putting out a fire next to a bridge.', 'Three firemen shoot water from a tower cannon on top of a fire truck next to a bridge ', 'A large red fire truck driving down a road.', 'A large fire truck in front of a burning fire.', 'a red yellow and white firetruck and some trees smoke and fire', 'A fire truck is parked along the side of the street', 'A bunch of firefighters performing a job of some sort.', 'several firetrucks with the firemen operating the hose', 'A city street filled with fire fighters putting out a  fire.', 'Fireman and hoses are on a small city road.', 'there are many fire fighters standing in this street', 'Three firefighters on and around a fire truck spraying water.', 'The firetruck carried the firefighters to the fire to put the blaze out. ', 'A team of firemen fighting to put out a fire at a business.', 'A fire truck spraying water onto something  from the truck', 'A couple of men standing on top of and around a fire truck.', 'A green truck is parked by a brush fire.', 'A sports utility vehicle driving in the brush during a fire. ', 'A truck driving away from a grass fire in an open field.', 'A jeep that is sitting in a field with a large fire and smoke in the background.', 'Many people watch something on fire with umbrellas. ', 'A group of people with umbrellas stand near a fire.', 'The people are standing outside of a fire.', 'A group of men tours a building that has had fire damage.', 'A firefighter on a ladder at the window of a brick building.', 'A firefighter standing on a ladder outside a window.', 'A fireman saves a suitcase from a smokey room.', 'A fireman rescuing a suitcase from a burning building. ', 'A large fire burning in the street with rioters looking on.', 'Person with camera in air taking video of large fire', 'A crowd is gathered around a bonfire in the street and someone is recording it', 'People standing around and taking pictures of a large fire outside a building.', 'A woman walking into  a house that has been on fire', 'A woman standing in a room destroyed by fire.', 'A person is standing inside of a fire damaged hotel room', 'The fragment of the burned plane rests on the ground.', 'A bus that has been burned is sitting in pieces on the street.', 'This burned out truck is parked next to a tree.', 'The interior of the room has been entirely burned.', 'A chair and a couple of pieces of furniture in a room that had been burned.', 'A lady stands in a flooded grassy spot surrounded by tents.', 'A woman under and umbrella standing in water on a flooded field with tents in the background.', 'Bench sitting in flood waters from near by river.', 'A bench looking out onto a flooded river. ', 'A steel bench overlooks a flooded swamp like area.', 'A group of people walking down a flooded city street.', 'Two cows wading through a flooded grass plain.', 'Two birds rest along the marshy shore of a flooded lake.', 'This toilet was covered in mud when the river reached flood stage.', 'A flooded field with several cows roaming through it', 'Cattle standing in flooding river near a forest.', 'An area flooded with water shows several brown and white cows in the distance.', 'a street that has been flooded with water ', 'A yellow barricade sitting on top of a flooded street.', 'Water floods an area with trees and street signs.', 'Not even a flood deters this bicyclist from his travel.', 'A car parked in a flooded area near a stop sign', 'A white car is stuck in a road that is flooded.', 'A neighborhood flooded with water with people sitting in the background.', 'A white car parked on top of a flooded street next to a  group of people.', 'During a flood some people take heir boat out to get around ', 'People are using a boat to travel through a flooded town.', 'A flooded area by a gas station where two people riding a boat. ', 'A flooded area with a couple of people riding a boat.', 'Two people floating in a boat on a flooded street.', 'A bench sits between two trees in a flooded area.', 'a flooded park bench and light pole behind a cluster of trees', 'A bench sitting in the middle of a flooded park.', 'A park bench sitting in a water flooded field.', 'A park bench submerged in water in a flood.', 'A bench under water in a park that has been flooded ', 'A red park bench sitting in the middle of a flooded area.', 'Native animals near flooded area with truck in large field.', 'A flooded city filled with water up to traffic light poll.', 'A flooded street with the water up to the traffic lights.', 'A flooded street at dusk and apartment buildings in the background.', 'Three green metal benches showing above a flooded area.', 'Flooding has occurred and the water has spilled over the street.', 'Park benches with water flooded and grass with buildings', 'A row of park benches sitting in flooded waters.', 'A bus is traveling through flooded land. ', 'Antique black and white photograph taken during the great flood of Paris', 'A truck sitting in a small town with flooded streets.', 'A bus is sitting parked next to a flooded street.', 'A admiring the flood waters that have consumed the street.', 'A dog is standing in floodwater beside a house.', 'A dog is sitting in the water of a flooded town. ', 'A cute German Shepard sits in the midst of flood waters.', 'A TV screen showing the scene of a massive city flood.', 'A green traffic light on a flooded street.', 'A traffic light stands near a flooded park.', 'A flooded street has a green traffic light on it.', 'A vulture stands alone next a muddy and flooded field', 'A black and white photograph of a train on a flooded track.', 'A couple of trains are moving down tracks flooded with water.', 'A large train is standing in a flood.', 'A bus caught in a flooded street. ', 'Two people walking in the rain and on a slightly flooded street.', 'A bathroom that has over flooded with water. ', 'A bathroom that has been flooded with yellow water.', 'A person with a yellow umbrella wades through a flooded street.', 'The street corner is flooded deep with water.', 'Two people examine a bicycle in a flooded road.', 'a person sitting on a side walk on a flooded street ', 'a flooded street with a street pole ', 'A street flooded with water next to traffic lights and lampposts.', 'Some streetlights in a largely flooded urban area', 'A flooded city street with a traffic light above it.', 'A flooded street scene in a city setting.', 'Umbrellas protect pedestrians during a heavy rainstorm. ', 'a woman standing on the steps to a flooded park', 'A park bench next to a flooded river. ', 'A row of palm trees and a traffic night in a rainstorm.', 'A group of people walking across a flooded park.', 'A man trying to get out of flooded waters.', 'A street next to a large building is flooded.', 'A man and woman on a motorcycle caught in flood waters.', 'A group of people walking on top of a flooded sidewalk.', 'A man carrying a small child above flooding waters.', 'Two pedestrians underneath their umbrellas walk across an open plaza in a rainstorm.', 'A group of people who are on a boat in a flooded area.', 'People stand beneath umbrellas on a flooded road.', 'A stop sign is in the middle of a flooded street.', 'Flooded area showing the top of some fence posts and a stop sign.', 'A stop sign in the middle of a flooded street.', 'A couple of men kayaking in a flooded park area through a gate.', 'Two men paddling kayaks down a flooded area between two fences.', 'A herd of animals standing on top of a flooded beach.', 'A group of birds flying over a flooded park.', 'The area around the park benches is flooded.', 'Two benches are visible in the flood waters.', 'A couple of park benches sitting in a flooded park.', 'A man stands with his bike in ankle deep water in a flooded city.', 'A man on a bike in a street that is flooded.', 'A man on a bicycle stands in flooding waters.', 'A man in shorts sits on his bike surrounded by flood water up to his calf. ', 'A wind surfer practices in a flooded park', 'A man is parasailing in a flooded area', 'A group of people standing in a flooded street.', 'flooding scene in South Asia with people standing in flood water', 'People crowd a flooded area with boats and construction vehicles.', 'A street is washed out by a flood.', 'The street sign is in the middle of the flood waters. ', 'A flooded street with a sign labelled \"floodway.\"', 'Flooded road with a truck approaching and trees on side ', 'A large flooded area over the paved road.', 'A lake is flooded over its banks several inches and people are sitting on benches.', 'Two park benches sitting in a flooded marina.', 'People sit on benches in a flooded plain beside a marina.', 'A city street with traffic lights flooded by water.', 'A flooded area is seen with water almost to the top of the stoplights.', 'A street with a high level of flood waters.', 'A flooded city street buildings and traffic signals submerged in water.', 'A flooded intersection with stop lights under water.', 'Flooded roads in an area with trees and houses. ', 'a flooded city street with a stop sign coming out of it ', 'A large metal container knocked over on a flooded street.', 'A traffic light sitting in the middle of a flooded street.', 'a man wading his two oxen through flood waters ', 'A bicycle parked next to a flooded river', 'A bicycle chained to a rail near a flooded area.', 'A bicycle leans against a fence near some flood waters.', 'A bicycle parked on a rail next to some flooding water.', 'a man sitting on a bench in a slightly flooded area ', 'A man on park bench in flooded area next to harbor.', 'a bench on a flooded surface near a tree', 'A ban sitting on a bench during a flood.', 'A car parked in a flooded area near a stop sign', 'A white car is stuck in a road that is flooded.', 'A neighborhood flooded with water with people sitting in the background.', 'A white car parked on top of a flooded street next to a  group of people.', 'A bunch of flooded boats on a dock', 'Small boat tipped sideways with a likely chance of flooding.', 'A man being flooded with water sitting under a white and green umbrella.', 'A woman walking down a flooded street with an umbrella.', 'a intersection is flooded with muddy water that is completely covering a part of a sidewalk', 'A road that has been flooded by several feet of water.', 'A street intersection completely flooded deep with water.', 'a couple of poles are in a flooded area', 'A car in flood waters in front of a camping area with camping trailers that is flooded.', 'A devastated area of a street with wrecks of cars and collapsed buildings ', 'A dark sky with thunder clouds looming over a distant church.', 'An airport filled with lots of airplanes under a lightning filled cloudy sky.', 'An airport up close and a strike of lightning in the distance. ', 'A lightning bolt hitting a city. The view is from miles away.', 'lightning striking during a storm in a city ', 'A clock above a building with clouds and lightning in background.', 'Cars are parked in heavy snow beside some houses.', 'A couple of parking meters in the heavy snow.', 'Two parking meters nearly buried in heavy snow.', 'Several benches covered in heavy snow out in the open.', 'A person follows a guide line to a church through heavy snow. ', 'Heavy snow covers a picnic bench next to a tree.', 'A dark night with heavy snow on a park bench.', 'A person walking up a road in a neighborhood with heavy snow.', 'A long line of traffic traveling on a foggy day.', 'Boats in a river on a foggy day. ', 'four sheep in a field standing in the foggy mist', 'Several small boats are on the water on a foggy day.', 'a group of small boats in the water during a foggy day', 'Cows crossing a paved road in the fog', 'Several cows are walking across a concrete area in the fog.', 'The herd of cows are traveling together in the fog outside.', 'Long suspension bridge on a foggy day with traffic on it. ', 'A glider is flying over the beach on a foggy day.', 'A woman wearing a wetsuit surfs on a foggy day. ', 'This is a view of a foggy day in the countryside.', 'A view of the harbor with ships moored on a very foggy day.', 'Harbor scene on a foggy day with dozens of boats side by side.', 'A train on the tracks on a very foggy day.', 'A train depot with one train in the fog.', 'A number of sheep grazing in the fog. ', 'sheep grazing in a grassy area in the fog', 'An airplane that is parked next to the terminal in the fog.', 'A man in a jacket wearing a backpack looks at the mountains on a foggy day.', 'A stop light is red on a foggy day. ', 'a giraffe in the fog standing under trees', 'A street and traffic signals in the fog.', 'London is visible on a foggy day. ', 'A scenic view of a foggy day in London.', 'A large boat floating in the water in the fog.', 'A man and dog on the beach in the fog.', 'The street lights are glowing in the fog.', 'Commercial aircraft on an airfield in the fog.', 'An overview picture of several buses parked in a lot on a foggy day ', 'An aerial view of a train car on tracks in the fog.', 'Red and yellow train with multiple people working on it in the fog.', 'Two men sitting on steps and selling goods in the fog.', 'blue Vietnamese street signs on a foggy day', 'A foggy day with a lone boat on the water.', 'a flock of sheep graze next to a lake on a foggy day', 'Several rock outcroppings on a foggy day in the ocean.', 'City traffic waiting for signal to change on foggy day.', 'rear end of a toyota in the fog', 'A plane on the runway on a foggy day', 'An empty street intersection on a foggy day.', 'A plane that is either landing or taking off on a foggy day. ', 'A lamb and a sheep standing in the foggy field.', 'A sheep and a lamb in a field in the fog.', 'Sheep standing in a field with tall grass in the fog.', 'Airplanes taxiing on an airport runway on foggy day. ', 'A bus is headed under a pass way on a foggy day.', 'Several sheep on a grassy field in the fog.', 'Sheep are standing on a grassy hill in the fog.', 'A ship on the water on a foggy day', 'A sailboat sits alone on the shore on a foggy day.', 'It is a very cloudy and foggy day over the water', 'A view of a a yield sign at a road entrance on a foggy day', 'A foggy day shows buildings in the background as a woman in a blue jacket has skates on in a brick courtyard.', 'A lady skating on in-line skate on a foggy day.', 'A cow is standing outside in the grass on a foggy day.', 'The Moose is grazing in the pasture on a foggy day.', 'A man parasails at the beach on a foggy day.', 'A plane taxiing on the runway on a foggy day.', 'A truck that has driven off the road on a foggy day.', 'Cars are at an intersection on a rainy foggy day.', 'a cow in a field on a very foggy day', 'A cow grazing upon a hill on a foggy day', 'a man siking in parking lot in the fog', 'An Asian sign on a highway on a foggy day.', 'Road signs on highway in foreign country on a foggy day.', 'A colorful train sits on the tracks on a foggy day.', 'a park bench in the fog with graffiti written on it', 'A school bus passes through an intersection on a foggy day.', \"A bus waiting it's turn to drive in the fog.\", 'A plane flies lowly over a tree covered hill in the fog. ', 'A group of sheep are out in the fog wandering.', 'a foggy day that has some lights by a road', 'This is a picture of cows running in the foggy countryside.', 'Cows are in motion on a field in the fog.', 'A train sits underneath an overpass on a foggy day.', 'A person walking with an umbrella at night in the fog.', 'A large ship floats through water in the fog. ', 'A cow looks at the camera as other cows graze in the green fields on a foggy day. ', 'A herd of cows grazing on a foggy day', 'Roadway intersection with traffic in city on foggy day.', 'The woman stands in the fog next to the train tracks.', 'A woman is in the fog next to a bus.', 'A woman on the side of train tracks in the fog', 'A para-surfer is surfing rough waves on a foggy day.']\n"
     ]
    }
   ],
   "source": [
    "# captions = [caption.replace(\",\", \"\") for caption in captions]\n",
    "print(captions)"
   ]
  },
  {
   "cell_type": "code",
   "execution_count": null,
   "id": "70811872-41bf-4801-8d77-7bcdeb988d2f",
   "metadata": {},
   "outputs": [],
   "source": []
  },
  {
   "cell_type": "code",
   "execution_count": null,
   "id": "b4a54c16-d588-421d-b517-c10bf3826b7e",
   "metadata": {},
   "outputs": [],
   "source": []
  }
 ],
 "metadata": {
  "kernelspec": {
   "display_name": "torch-gpu",
   "language": "python",
   "name": "torch"
  },
  "language_info": {
   "codemirror_mode": {
    "name": "ipython",
    "version": 3
   },
   "file_extension": ".py",
   "mimetype": "text/x-python",
   "name": "python",
   "nbconvert_exporter": "python",
   "pygments_lexer": "ipython3",
   "version": "3.10.6"
  }
 },
 "nbformat": 4,
 "nbformat_minor": 5
}

{
 "cells": [
  {
   "cell_type": "code",
   "execution_count": 15,
   "id": "764483ff-6d37-4c38-afea-6ca7ce969ed3",
   "metadata": {},
   "outputs": [],
   "source": [
    "import json\n",
    "import os\n",
    "import pandas as pd\n",
    "import matplotlib.pyplot as plt\n",
    "import cv2\n",
    "import random"
   ]
  },
  {
   "cell_type": "markdown",
   "id": "cc8e29e0-3d71-4616-8018-dae7b182e6d5",
   "metadata": {},
   "source": [
    "### coco: 894 // flickr: 184 // open_image: 616"
   ]
  },
  {
   "cell_type": "code",
   "execution_count": 16,
   "id": "a2ee79fb-c022-4338-824c-5b5c9f04c28a",
   "metadata": {},
   "outputs": [
    {
     "name": "stdout",
     "output_type": "stream",
     "text": [
      "10057\n"
     ]
    }
   ],
   "source": [
    "dir_path = \"../Data/disaster/train/\"\n",
    "\n",
    "img_names = []\n",
    "for folder, subfolders, filenames in os.walk(dir_path):\n",
    "    for img in filenames:\n",
    "        img_names.append(folder+'/'+img)\n",
    "random.shuffle(img_names)\n",
    "\n",
    "\n",
    "disaster = img_names\n",
    "print(len(disaster))"
   ]
  },
  {
   "cell_type": "code",
   "execution_count": 17,
   "id": "35bf8cde-2b7e-487e-bb3b-f6eaa7aeb7c3",
   "metadata": {},
   "outputs": [
    {
     "name": "stdout",
     "output_type": "stream",
     "text": [
      "30000\n"
     ]
    }
   ],
   "source": [
    "## open_image 8000장\n",
    "dir_path = \"../../disk/Data/open_image/train_0/\"\n",
    "\n",
    "img_names = []\n",
    "for folder, subfolders, filenames in os.walk(dir_path):\n",
    "    for img in filenames:\n",
    "        img_names.append(folder+'/'+img)\n",
    "random.shuffle(img_names)\n",
    "open_image_non = img_names[:30000]\n",
    "print(len(open_image_non))"
   ]
  },
  {
   "cell_type": "code",
   "execution_count": 18,
   "id": "613ddeef-8e99-4d74-9e96-ea68ee84dd84",
   "metadata": {},
   "outputs": [
    {
     "name": "stdout",
     "output_type": "stream",
     "text": [
      "30000\n"
     ]
    }
   ],
   "source": [
    "## coco_image 1만장\n",
    "dir_path = \"../Data/train2017\"\n",
    "\n",
    "img_names = []\n",
    "for folder, subfolders, filenames in os.walk(dir_path):\n",
    "    for img in filenames:\n",
    "        img_names.append(folder+'/'+img)\n",
    "random.shuffle(img_names)\n",
    "coco_non = img_names[:30000]\n",
    "print(len(coco_non))"
   ]
  },
  {
   "cell_type": "code",
   "execution_count": 19,
   "id": "da8c07aa-5518-42cc-b6fd-a37f5b173cf4",
   "metadata": {},
   "outputs": [
    {
     "name": "stdout",
     "output_type": "stream",
     "text": [
      "['../Data/train2017/000000063492.jpg', '../Data/train2017/000000306109.jpg', '../Data/train2017/000000266715.jpg']\n"
     ]
    }
   ],
   "source": [
    "print(coco_non[:3])"
   ]
  },
  {
   "cell_type": "code",
   "execution_count": 20,
   "id": "d02cef0b-c402-4ff8-9910-350dc9c293da",
   "metadata": {},
   "outputs": [
    {
     "name": "stdout",
     "output_type": "stream",
     "text": [
      "60000\n"
     ]
    }
   ],
   "source": [
    "non = coco_non + open_image_non\n",
    "random.shuffle(non)\n",
    "print(len(non))"
   ]
  },
  {
   "cell_type": "markdown",
   "id": "d81c2b71-38b1-4aa6-bb85-596a0c81b4af",
   "metadata": {},
   "source": [
    "##### labeling"
   ]
  },
  {
   "cell_type": "markdown",
   "id": "7407e693-4f18-400f-b089-61c88177d662",
   "metadata": {},
   "source": [
    "##### split train, test"
   ]
  },
  {
   "cell_type": "code",
   "execution_count": 7,
   "id": "3e295090-90d6-4458-8350-7eb180a76e2b",
   "metadata": {},
   "outputs": [],
   "source": [
    "### train: test (4:1)\n",
    "## 36000 (1/4), 4000 (1/4)\n",
    "# non_ratio=6400\n",
    "# dis_ratio=6400\n",
    "# trn_disater = non[:non_ratio] + disaster[:dis_ratio]\n",
    "# tst_disater = non[non_ratio:] + disaster[dis_ratio:]\n",
    "# trn_label = [0]*int(len(non[:non_ratio])) + [1]*int(len(disaster[:dis_ratio]))\n",
    "# tst_label = [0]*int(len(non[non_ratio:])) + [1]*int(len(disaster[dis_ratio:]))\n",
    "# print(len(trn_label))\n",
    "# print(len(tst_label))"
   ]
  },
  {
   "cell_type": "code",
   "execution_count": 21,
   "id": "c2776c34-4999-45b5-b39c-5be1b7267822",
   "metadata": {},
   "outputs": [
    {
     "name": "stdout",
     "output_type": "stream",
     "text": [
      "70057\n"
     ]
    }
   ],
   "source": [
    "trn_disater = non + disaster\n",
    "trn_label = [0]*int(len(non)) + [1]*int(len(disaster))\n",
    "print(len(trn_label))"
   ]
  },
  {
   "cell_type": "code",
   "execution_count": 22,
   "id": "8eca9502-3980-4fa4-8cc1-043238843469",
   "metadata": {},
   "outputs": [
    {
     "data": {
      "text/html": [
       "<div>\n",
       "<style scoped>\n",
       "    .dataframe tbody tr th:only-of-type {\n",
       "        vertical-align: middle;\n",
       "    }\n",
       "\n",
       "    .dataframe tbody tr th {\n",
       "        vertical-align: top;\n",
       "    }\n",
       "\n",
       "    .dataframe thead th {\n",
       "        text-align: right;\n",
       "    }\n",
       "</style>\n",
       "<table border=\"1\" class=\"dataframe\">\n",
       "  <thead>\n",
       "    <tr style=\"text-align: right;\">\n",
       "      <th></th>\n",
       "      <th>image_id</th>\n",
       "      <th>dir</th>\n",
       "      <th>label</th>\n",
       "    </tr>\n",
       "  </thead>\n",
       "  <tbody>\n",
       "    <tr>\n",
       "      <th>0</th>\n",
       "      <td>0f57da9abfe832bc.jpg</td>\n",
       "      <td>../../disk/Data/open_image/train_0</td>\n",
       "      <td>0</td>\n",
       "    </tr>\n",
       "    <tr>\n",
       "      <th>1</th>\n",
       "      <td>00dfbe9fe376ea0f.jpg</td>\n",
       "      <td>../../disk/Data/open_image/train_0</td>\n",
       "      <td>0</td>\n",
       "    </tr>\n",
       "    <tr>\n",
       "      <th>2</th>\n",
       "      <td>012594b84cddbad1.jpg</td>\n",
       "      <td>../../disk/Data/open_image/train_0</td>\n",
       "      <td>0</td>\n",
       "    </tr>\n",
       "    <tr>\n",
       "      <th>3</th>\n",
       "      <td>000000330082.jpg</td>\n",
       "      <td>../Data/train2017</td>\n",
       "      <td>0</td>\n",
       "    </tr>\n",
       "    <tr>\n",
       "      <th>4</th>\n",
       "      <td>0878da155681cc97.jpg</td>\n",
       "      <td>../../disk/Data/open_image/train_0</td>\n",
       "      <td>0</td>\n",
       "    </tr>\n",
       "    <tr>\n",
       "      <th>...</th>\n",
       "      <td>...</td>\n",
       "      <td>...</td>\n",
       "      <td>...</td>\n",
       "    </tr>\n",
       "    <tr>\n",
       "      <th>70052</th>\n",
       "      <td>earthquake_035.jpg</td>\n",
       "      <td>../Data/disaster/train/origin_images/crawling/...</td>\n",
       "      <td>1</td>\n",
       "    </tr>\n",
       "    <tr>\n",
       "      <th>70053</th>\n",
       "      <td>blizzard_270.jpg</td>\n",
       "      <td>../Data/disaster/train/origin_images/crawling/...</td>\n",
       "      <td>1</td>\n",
       "    </tr>\n",
       "    <tr>\n",
       "      <th>70054</th>\n",
       "      <td>A bathroom that has over flooded with water._0...</td>\n",
       "      <td>../Data/disaster/train/generated1/coco</td>\n",
       "      <td>1</td>\n",
       "    </tr>\n",
       "    <tr>\n",
       "      <th>70055</th>\n",
       "      <td>000000530876_contrast.jpg</td>\n",
       "      <td>../Data/disaster/train/augmented/contrast</td>\n",
       "      <td>1</td>\n",
       "    </tr>\n",
       "    <tr>\n",
       "      <th>70056</th>\n",
       "      <td>In this image I can see few vehicles few peopl...</td>\n",
       "      <td>../Data/disaster/train/generated1/open_image</td>\n",
       "      <td>1</td>\n",
       "    </tr>\n",
       "  </tbody>\n",
       "</table>\n",
       "<p>70057 rows × 3 columns</p>\n",
       "</div>"
      ],
      "text/plain": [
       "                                                image_id  \\\n",
       "0                                   0f57da9abfe832bc.jpg   \n",
       "1                                   00dfbe9fe376ea0f.jpg   \n",
       "2                                   012594b84cddbad1.jpg   \n",
       "3                                       000000330082.jpg   \n",
       "4                                   0878da155681cc97.jpg   \n",
       "...                                                  ...   \n",
       "70052                                 earthquake_035.jpg   \n",
       "70053                                   blizzard_270.jpg   \n",
       "70054  A bathroom that has over flooded with water._0...   \n",
       "70055                          000000530876_contrast.jpg   \n",
       "70056  In this image I can see few vehicles few peopl...   \n",
       "\n",
       "                                                     dir  label  \n",
       "0                     ../../disk/Data/open_image/train_0      0  \n",
       "1                     ../../disk/Data/open_image/train_0      0  \n",
       "2                     ../../disk/Data/open_image/train_0      0  \n",
       "3                                      ../Data/train2017      0  \n",
       "4                     ../../disk/Data/open_image/train_0      0  \n",
       "...                                                  ...    ...  \n",
       "70052  ../Data/disaster/train/origin_images/crawling/...      1  \n",
       "70053  ../Data/disaster/train/origin_images/crawling/...      1  \n",
       "70054             ../Data/disaster/train/generated1/coco      1  \n",
       "70055          ../Data/disaster/train/augmented/contrast      1  \n",
       "70056       ../Data/disaster/train/generated1/open_image      1  \n",
       "\n",
       "[70057 rows x 3 columns]"
      ]
     },
     "execution_count": 22,
     "metadata": {},
     "output_type": "execute_result"
    }
   ],
   "source": [
    "trn_df = pd.DataFrame(trn_disater, columns=['image_id'])\n",
    "trn_df['dir'] = trn_df['image_id'].apply(lambda x: os.path.dirname(x))\n",
    "trn_df['image_id'] = trn_df['image_id'].apply(lambda x: os.path.basename(x))\n",
    "trn_df['label'] = trn_label\n",
    "train = trn_df\n",
    "train"
   ]
  },
  {
   "cell_type": "code",
   "execution_count": 24,
   "id": "289a1e8c-e9b0-4a29-bf55-7ad7e191527a",
   "metadata": {},
   "outputs": [],
   "source": [
    "project_name = 'disaster_classfication_inception_resnet_v2_6010_f'\n",
    "user = 'hojunking'\n",
    "run_name = 'disaster_classfication_inception_resnet_v2_6010_f'"
   ]
  },
  {
   "cell_type": "code",
   "execution_count": null,
   "id": "65f38af9-b1d5-4052-b100-ef44d2072635",
   "metadata": {},
   "outputs": [
    {
     "data": {
      "text/html": [
       "Finishing last run (ID:20z1096e) before initializing another..."
      ],
      "text/plain": [
       "<IPython.core.display.HTML object>"
      ]
     },
     "metadata": {},
     "output_type": "display_data"
    },
    {
     "data": {
      "text/html": [
       "Waiting for W&B process to finish... <strong style=\"color:green\">(success).</strong>"
      ],
      "text/plain": [
       "<IPython.core.display.HTML object>"
      ]
     },
     "metadata": {},
     "output_type": "display_data"
    },
    {
     "data": {
      "application/vnd.jupyter.widget-view+json": {
       "model_id": "417e0d75d2ae4792b63d2252c616de87",
       "version_major": 2,
       "version_minor": 0
      },
      "text/plain": [
       "VBox(children=(Label(value='0.001 MB of 0.001 MB uploaded (0.000 MB deduped)\\r'), FloatProgress(value=1.0, max…"
      ]
     },
     "metadata": {},
     "output_type": "display_data"
    },
    {
     "data": {
      "text/html": [
       "Synced <strong style=\"color:#cdcd00\">stilted-snowball-2</strong>: <a href=\"https://wandb.ai/hojunking/disaster_classfication_inception_resnet_v2_6010_f/runs/20z1096e\" target=\"_blank\">https://wandb.ai/hojunking/disaster_classfication_inception_resnet_v2_6010_f/runs/20z1096e</a><br/>Synced 6 W&B file(s), 0 media file(s), 0 artifact file(s) and 0 other file(s)"
      ],
      "text/plain": [
       "<IPython.core.display.HTML object>"
      ]
     },
     "metadata": {},
     "output_type": "display_data"
    },
    {
     "data": {
      "text/html": [
       "Find logs at: <code>./wandb/run-20230411_012033-20z1096e/logs</code>"
      ],
      "text/plain": [
       "<IPython.core.display.HTML object>"
      ]
     },
     "metadata": {},
     "output_type": "display_data"
    },
    {
     "data": {
      "text/html": [
       "Successfully finished last run (ID:20z1096e). Initializing new run:<br/>"
      ],
      "text/plain": [
       "<IPython.core.display.HTML object>"
      ]
     },
     "metadata": {},
     "output_type": "display_data"
    },
    {
     "data": {
      "application/vnd.jupyter.widget-view+json": {
       "model_id": "dff19a663b2f46df9cbe20e16d9b619c",
       "version_major": 2,
       "version_minor": 0
      },
      "text/plain": [
       "VBox(children=(Label(value='Waiting for wandb.init()...\\r'), FloatProgress(value=0.016668860200055254, max=1.0…"
      ]
     },
     "metadata": {},
     "output_type": "display_data"
    },
    {
     "data": {
      "text/html": [
       "wandb version 0.14.2 is available!  To upgrade, please run:\n",
       " $ pip install wandb --upgrade"
      ],
      "text/plain": [
       "<IPython.core.display.HTML object>"
      ]
     },
     "metadata": {},
     "output_type": "display_data"
    },
    {
     "data": {
      "text/html": [
       "Tracking run with wandb version 0.13.4"
      ],
      "text/plain": [
       "<IPython.core.display.HTML object>"
      ]
     },
     "metadata": {},
     "output_type": "display_data"
    },
    {
     "data": {
      "text/html": [
       "Run data is saved locally in <code>/home/hojun/git/disaster_classifier/wandb/run-20230411_012245-dvmebit2</code>"
      ],
      "text/plain": [
       "<IPython.core.display.HTML object>"
      ]
     },
     "metadata": {},
     "output_type": "display_data"
    },
    {
     "data": {
      "text/html": [
       "Syncing run <strong><a href=\"https://wandb.ai/hojunking/disaster_classfication_inception_resnet_v2_6010_f/runs/dvmebit2\" target=\"_blank\">firm-shadow-3</a></strong> to <a href=\"https://wandb.ai/hojunking/disaster_classfication_inception_resnet_v2_6010_f\" target=\"_blank\">Weights & Biases</a> (<a href=\"https://wandb.me/run\" target=\"_blank\">docs</a>)<br/>"
      ],
      "text/plain": [
       "<IPython.core.display.HTML object>"
      ]
     },
     "metadata": {},
     "output_type": "display_data"
    },
    {
     "name": "stdout",
     "output_type": "stream",
     "text": [
      "Model: inception_resnet_v2\n",
      "Training start with fold: 0 epoch: 200 \n",
      "\n",
      "model.block8.branch1.1.bn.weight: True\n",
      "model.block8.branch1.1.bn.bias: True\n",
      "model.block8.branch1.2.conv.weight: True\n",
      "model.block8.branch1.2.bn.weight: True\n",
      "model.block8.branch1.2.bn.bias: True\n",
      "model.block8.conv2d.weight: True\n",
      "model.block8.conv2d.bias: True\n",
      "model.conv2d_7b.conv.weight: True\n",
      "model.conv2d_7b.bn.weight: True\n",
      "model.conv2d_7b.bn.bias: True\n",
      "model.classif.weight: True\n",
      "model.classif.bias: True\n",
      "Fold: 0\n",
      "Epoch 0/199\n"
     ]
    },
    {
     "name": "stderr",
     "output_type": "stream",
     "text": [
      "epoch 0 loss: 0.5277:  15%|██▉                 | 65/438 [02:14<05:06,  1.22it/s]libpng warning: iCCP: known incorrect sRGB profile\n",
      "epoch 0 loss: 0.1531: 100%|███████████████████| 438/438 [17:40<00:00,  2.42s/it]\n",
      "epoch 0 loss: 0.1313: 100%|███████████████████| 438/438 [05:27<00:00,  1.34it/s]\n"
     ]
    },
    {
     "name": "stdout",
     "output_type": "stream",
     "text": [
      "Fold: 0\n",
      "Epoch 1/199\n"
     ]
    },
    {
     "name": "stderr",
     "output_type": "stream",
     "text": [
      "epoch 1 loss: 0.1506:  14%|██▊                 | 62/438 [00:33<03:08,  1.99it/s]libpng warning: iCCP: known incorrect sRGB profile\n",
      "epoch 1 loss: 0.1056: 100%|███████████████████| 438/438 [03:42<00:00,  1.97it/s]\n",
      "epoch 1 loss: 0.1118: 100%|███████████████████| 438/438 [01:48<00:00,  4.04it/s]\n"
     ]
    },
    {
     "name": "stdout",
     "output_type": "stream",
     "text": [
      "Fold: 0\n",
      "Epoch 2/199\n"
     ]
    },
    {
     "name": "stderr",
     "output_type": "stream",
     "text": [
      "epoch 2 loss: 0.1155:  14%|██▊                 | 62/438 [00:32<03:07,  2.00it/s]libpng warning: iCCP: known incorrect sRGB profile\n",
      "epoch 2 loss: 0.0795: 100%|███████████████████| 438/438 [03:41<00:00,  1.98it/s]\n",
      "epoch 2 loss: 0.1059: 100%|███████████████████| 438/438 [01:48<00:00,  4.04it/s]\n"
     ]
    },
    {
     "name": "stdout",
     "output_type": "stream",
     "text": [
      "Fold: 0\n",
      "Epoch 3/199\n"
     ]
    },
    {
     "name": "stderr",
     "output_type": "stream",
     "text": [
      "epoch 3 loss: 0.0882:  14%|██▊                 | 62/438 [00:32<03:08,  2.00it/s]libpng warning: iCCP: known incorrect sRGB profile\n",
      "epoch 3 loss: 0.0577: 100%|███████████████████| 438/438 [03:41<00:00,  1.97it/s]\n",
      "epoch 3 loss: 0.1067: 100%|███████████████████| 438/438 [01:48<00:00,  4.03it/s]\n"
     ]
    },
    {
     "name": "stdout",
     "output_type": "stream",
     "text": [
      "Fold: 0\n",
      "Epoch 4/199\n"
     ]
    },
    {
     "name": "stderr",
     "output_type": "stream",
     "text": [
      "epoch 4 loss: 0.0560:  14%|██▊                 | 62/438 [00:33<03:08,  1.99it/s]libpng warning: iCCP: known incorrect sRGB profile\n",
      "epoch 4 loss: 0.0406: 100%|███████████████████| 438/438 [03:41<00:00,  1.98it/s]\n",
      "epoch 4 loss: 0.1131: 100%|███████████████████| 438/438 [01:48<00:00,  4.02it/s]"
     ]
    },
    {
     "name": "stdout",
     "output_type": "stream",
     "text": [
      "EarlyStopping counter: 1 out of 3\n",
      "Best F1 score from now: 0.9214888296661107\n",
      "Fold: 0\n",
      "Epoch 5/199\n"
     ]
    },
    {
     "name": "stderr",
     "output_type": "stream",
     "text": [
      "\n",
      "epoch 5 loss: 0.0350:  14%|██▊                 | 62/438 [00:33<03:08,  1.99it/s]libpng warning: iCCP: known incorrect sRGB profile\n",
      "epoch 5 loss: 0.0267: 100%|███████████████████| 438/438 [03:41<00:00,  1.98it/s]\n",
      "epoch 5 loss: 0.1216: 100%|███████████████████| 438/438 [01:48<00:00,  4.02it/s]"
     ]
    },
    {
     "name": "stdout",
     "output_type": "stream",
     "text": [
      "EarlyStopping counter: 2 out of 3\n",
      "Best F1 score from now: 0.9214888296661107\n",
      "Fold: 0\n",
      "Epoch 6/199\n"
     ]
    },
    {
     "name": "stderr",
     "output_type": "stream",
     "text": [
      "\n",
      "epoch 6 loss: 0.0218:  14%|██▊                 | 62/438 [00:32<03:07,  2.00it/s]libpng warning: iCCP: known incorrect sRGB profile\n",
      "epoch 6 loss: 0.0168: 100%|███████████████████| 438/438 [03:41<00:00,  1.98it/s]\n",
      "epoch 6 loss: 0.1316: 100%|███████████████████| 438/438 [01:49<00:00,  4.01it/s]\n"
     ]
    },
    {
     "name": "stdout",
     "output_type": "stream",
     "text": [
      "Fold: 0\n",
      "Epoch 7/199\n"
     ]
    },
    {
     "name": "stderr",
     "output_type": "stream",
     "text": [
      "epoch 7 loss: 0.0139:  14%|██▊                 | 62/438 [00:33<03:08,  1.99it/s]libpng warning: iCCP: known incorrect sRGB profile\n",
      "epoch 7 loss: 0.0102: 100%|███████████████████| 438/438 [03:41<00:00,  1.98it/s]\n",
      "epoch 7 loss: 0.1430: 100%|███████████████████| 438/438 [01:49<00:00,  4.01it/s]\n"
     ]
    },
    {
     "name": "stdout",
     "output_type": "stream",
     "text": [
      "Fold: 0\n",
      "Epoch 8/199\n"
     ]
    },
    {
     "name": "stderr",
     "output_type": "stream",
     "text": [
      "epoch 8 loss: 0.0093:  14%|██▊                 | 62/438 [00:32<03:08,  2.00it/s]libpng warning: iCCP: known incorrect sRGB profile\n",
      "epoch 8 loss: 0.0067: 100%|███████████████████| 438/438 [03:41<00:00,  1.98it/s]\n",
      "epoch 8 loss: 0.1576: 100%|███████████████████| 438/438 [01:48<00:00,  4.04it/s]"
     ]
    },
    {
     "name": "stdout",
     "output_type": "stream",
     "text": [
      "EarlyStopping counter: 1 out of 3\n",
      "Best F1 score from now: 0.922036562206856\n",
      "Fold: 0\n",
      "Epoch 9/199\n"
     ]
    },
    {
     "name": "stderr",
     "output_type": "stream",
     "text": [
      "\n",
      "epoch 9 loss: 0.0076:  14%|██▊                 | 62/438 [00:33<03:08,  1.99it/s]libpng warning: iCCP: known incorrect sRGB profile\n",
      "epoch 9 loss: 0.0049: 100%|███████████████████| 438/438 [03:42<00:00,  1.97it/s]\n",
      "epoch 9 loss: 0.1661: 100%|███████████████████| 438/438 [01:48<00:00,  4.03it/s]\n"
     ]
    },
    {
     "name": "stdout",
     "output_type": "stream",
     "text": [
      "Fold: 0\n",
      "Epoch 10/199\n"
     ]
    },
    {
     "name": "stderr",
     "output_type": "stream",
     "text": [
      "epoch 10 loss: 0.0048:  14%|██▋                | 62/438 [00:33<03:13,  1.94it/s]libpng warning: iCCP: known incorrect sRGB profile\n",
      "epoch 10 loss: 0.0048: 100%|██████████████████| 438/438 [03:46<00:00,  1.94it/s]\n",
      "epoch 10 loss: 0.1727: 100%|██████████████████| 438/438 [01:48<00:00,  4.03it/s]"
     ]
    },
    {
     "name": "stdout",
     "output_type": "stream",
     "text": [
      "EarlyStopping counter: 1 out of 3\n",
      "Best F1 score from now: 0.922787420005818\n",
      "Fold: 0\n",
      "Epoch 11/199\n"
     ]
    },
    {
     "name": "stderr",
     "output_type": "stream",
     "text": [
      "\n",
      "epoch 11 loss: 0.0039:  14%|██▋                | 62/438 [00:33<03:08,  1.99it/s]libpng warning: iCCP: known incorrect sRGB profile\n",
      "epoch 11 loss: 0.0043:  62%|███████████▏      | 273/438 [02:18<01:22,  2.00it/s]"
     ]
    }
   ],
   "source": [
    "%run classification_baseline.ipynb"
   ]
  },
  {
   "cell_type": "code",
   "execution_count": 3,
   "id": "1e4a5897-a99f-4b5b-a3db-a4e7911d2df6",
   "metadata": {},
   "outputs": [
    {
     "name": "stdout",
     "output_type": "stream",
     "text": [
      "400\n"
     ]
    }
   ],
   "source": [
    "dir_path = \"../Data/disaster/test\"\n",
    "\n",
    "img_names = []\n",
    "for folder, subfolders, filenames in os.walk(dir_path):\n",
    "    for img in filenames:\n",
    "        img_names.append(folder+'/'+img)\n",
    "random.shuffle(img_names)\n",
    "\n",
    "disaster_test = img_names\n",
    "print(len(disaster_test))"
   ]
  },
  {
   "cell_type": "code",
   "execution_count": 9,
   "id": "0155e498-dc73-409a-ab98-7a721d1177ea",
   "metadata": {},
   "outputs": [
    {
     "name": "stdout",
     "output_type": "stream",
     "text": [
      "2000\n"
     ]
    }
   ],
   "source": [
    "## open_image 1만장\n",
    "dir_path = \"../../disk/Data/open_image/train_1/\"\n",
    "\n",
    "img_names = []\n",
    "for folder, subfolders, filenames in os.walk(dir_path):\n",
    "    for img in filenames:\n",
    "        img_names.append(folder+'/'+img)\n",
    "random.shuffle(img_names)\n",
    "open_image_non_test = img_names[:2000]\n",
    "print(len(open_image_non_test))"
   ]
  },
  {
   "cell_type": "code",
   "execution_count": 10,
   "id": "3fd89ac2-5685-4b51-bd34-e469f29be1ac",
   "metadata": {},
   "outputs": [
    {
     "name": "stdout",
     "output_type": "stream",
     "text": [
      "2400\n"
     ]
    }
   ],
   "source": [
    "tst_disater = open_image_non_test + disaster_test\n",
    "tst_label = [0]*int(len(open_image_non_test)) + [1]*int(len(disaster_test))\n",
    "print(len(tst_label))"
   ]
  },
  {
   "cell_type": "code",
   "execution_count": 11,
   "id": "019ccd37-04c2-48ac-9dae-9752808dc271",
   "metadata": {},
   "outputs": [
    {
     "data": {
      "text/html": [
       "<div>\n",
       "<style scoped>\n",
       "    .dataframe tbody tr th:only-of-type {\n",
       "        vertical-align: middle;\n",
       "    }\n",
       "\n",
       "    .dataframe tbody tr th {\n",
       "        vertical-align: top;\n",
       "    }\n",
       "\n",
       "    .dataframe thead th {\n",
       "        text-align: right;\n",
       "    }\n",
       "</style>\n",
       "<table border=\"1\" class=\"dataframe\">\n",
       "  <thead>\n",
       "    <tr style=\"text-align: right;\">\n",
       "      <th></th>\n",
       "      <th>image_id</th>\n",
       "      <th>dir</th>\n",
       "      <th>label</th>\n",
       "    </tr>\n",
       "  </thead>\n",
       "  <tbody>\n",
       "    <tr>\n",
       "      <th>0</th>\n",
       "      <td>1160a2e553cfed66.jpg</td>\n",
       "      <td>../../disk/Data/open_image/train_1</td>\n",
       "      <td>0</td>\n",
       "    </tr>\n",
       "    <tr>\n",
       "      <th>1</th>\n",
       "      <td>154d5fc5899beb32.jpg</td>\n",
       "      <td>../../disk/Data/open_image/train_1</td>\n",
       "      <td>0</td>\n",
       "    </tr>\n",
       "    <tr>\n",
       "      <th>2</th>\n",
       "      <td>19b5d2d2e7428301.jpg</td>\n",
       "      <td>../../disk/Data/open_image/train_1</td>\n",
       "      <td>0</td>\n",
       "    </tr>\n",
       "    <tr>\n",
       "      <th>3</th>\n",
       "      <td>120ea2671e0c0dd4.jpg</td>\n",
       "      <td>../../disk/Data/open_image/train_1</td>\n",
       "      <td>0</td>\n",
       "    </tr>\n",
       "    <tr>\n",
       "      <th>4</th>\n",
       "      <td>14bdf0a0083d9713.jpg</td>\n",
       "      <td>../../disk/Data/open_image/train_1</td>\n",
       "      <td>0</td>\n",
       "    </tr>\n",
       "    <tr>\n",
       "      <th>...</th>\n",
       "      <td>...</td>\n",
       "      <td>...</td>\n",
       "      <td>...</td>\n",
       "    </tr>\n",
       "    <tr>\n",
       "      <th>2395</th>\n",
       "      <td>thunderstorm_039.jpg</td>\n",
       "      <td>../Data/disaster/test/origin_images/crawling/t...</td>\n",
       "      <td>1</td>\n",
       "    </tr>\n",
       "    <tr>\n",
       "      <th>2396</th>\n",
       "      <td>fog_disasterfog_136.jpg</td>\n",
       "      <td>../Data/disaster/test/origin_images/crawling/f...</td>\n",
       "      <td>1</td>\n",
       "    </tr>\n",
       "    <tr>\n",
       "      <th>2397</th>\n",
       "      <td>fire_disasterfire_032.jpg</td>\n",
       "      <td>../Data/disaster/test/origin_images/crawling/f...</td>\n",
       "      <td>1</td>\n",
       "    </tr>\n",
       "    <tr>\n",
       "      <th>2398</th>\n",
       "      <td>blizzard_disasterblizzard_069.jpg</td>\n",
       "      <td>../Data/disaster/test/origin_images/crawling/b...</td>\n",
       "      <td>1</td>\n",
       "    </tr>\n",
       "    <tr>\n",
       "      <th>2399</th>\n",
       "      <td>thunderstorm_277.jpg</td>\n",
       "      <td>../Data/disaster/test/origin_images/crawling/t...</td>\n",
       "      <td>1</td>\n",
       "    </tr>\n",
       "  </tbody>\n",
       "</table>\n",
       "<p>2400 rows × 3 columns</p>\n",
       "</div>"
      ],
      "text/plain": [
       "                               image_id  \\\n",
       "0                  1160a2e553cfed66.jpg   \n",
       "1                  154d5fc5899beb32.jpg   \n",
       "2                  19b5d2d2e7428301.jpg   \n",
       "3                  120ea2671e0c0dd4.jpg   \n",
       "4                  14bdf0a0083d9713.jpg   \n",
       "...                                 ...   \n",
       "2395               thunderstorm_039.jpg   \n",
       "2396            fog_disasterfog_136.jpg   \n",
       "2397          fire_disasterfire_032.jpg   \n",
       "2398  blizzard_disasterblizzard_069.jpg   \n",
       "2399               thunderstorm_277.jpg   \n",
       "\n",
       "                                                    dir  label  \n",
       "0                    ../../disk/Data/open_image/train_1      0  \n",
       "1                    ../../disk/Data/open_image/train_1      0  \n",
       "2                    ../../disk/Data/open_image/train_1      0  \n",
       "3                    ../../disk/Data/open_image/train_1      0  \n",
       "4                    ../../disk/Data/open_image/train_1      0  \n",
       "...                                                 ...    ...  \n",
       "2395  ../Data/disaster/test/origin_images/crawling/t...      1  \n",
       "2396  ../Data/disaster/test/origin_images/crawling/f...      1  \n",
       "2397  ../Data/disaster/test/origin_images/crawling/f...      1  \n",
       "2398  ../Data/disaster/test/origin_images/crawling/b...      1  \n",
       "2399  ../Data/disaster/test/origin_images/crawling/t...      1  \n",
       "\n",
       "[2400 rows x 3 columns]"
      ]
     },
     "execution_count": 11,
     "metadata": {},
     "output_type": "execute_result"
    }
   ],
   "source": [
    "tst_df = pd.DataFrame(tst_disater, columns=['image_id'])\n",
    "tst_df['dir'] = tst_df['image_id'].apply(lambda x: os.path.dirname(x))\n",
    "tst_df['image_id'] = tst_df['image_id'].apply(lambda x: os.path.basename(x))\n",
    "tst_df['label'] = tst_label\n",
    "test = tst_df\n",
    "test"
   ]
  },
  {
   "cell_type": "code",
   "execution_count": 29,
   "id": "f2d6fb7d-7845-4508-a426-00ba4ddfac22",
   "metadata": {},
   "outputs": [],
   "source": [
    "dist.destroy_process_group()"
   ]
  },
  {
   "cell_type": "code",
   "execution_count": 12,
   "id": "316cf642-fed5-4b93-9efd-b6aa89a9ec07",
   "metadata": {},
   "outputs": [
    {
     "name": "stderr",
     "output_type": "stream",
     "text": [
      "100%|███████████████████████████████████████████| 19/19 [02:12<00:00,  6.97s/it]\n"
     ]
    }
   ],
   "source": [
    "model_name = 'inception_resnet_v2'\n",
    "model_dir = model_name + '/inception_resnet_v2_6010'\n",
    "%run eval_test.ipynb"
   ]
  },
  {
   "cell_type": "code",
   "execution_count": 13,
   "id": "2e738224-f5c0-4cbb-8d10-30e6fae9c760",
   "metadata": {},
   "outputs": [
    {
     "name": "stdout",
     "output_type": "stream",
     "text": [
      "accuracy: 0.9671\n",
      "f1_score: 0.9368\n",
      "confusion_matrix \n",
      "-------------------------\n",
      " [[1991    9]\n",
      " [  70  330]]\n"
     ]
    }
   ],
   "source": [
    "print(f'accuracy: {test_acc:.4f}')\n",
    "print(f'f1_score: {epoch_f1:.4f}')\n",
    "print(f'confusion_matrix \\n-------------------------\\n {test_matrix}')"
   ]
  },
  {
   "cell_type": "code",
   "execution_count": 11,
   "id": "aa7fb1d5-efe3-44a9-87ee-c0022633b42f",
   "metadata": {},
   "outputs": [
    {
     "data": {
      "text/html": [
       "<div>\n",
       "<style scoped>\n",
       "    .dataframe tbody tr th:only-of-type {\n",
       "        vertical-align: middle;\n",
       "    }\n",
       "\n",
       "    .dataframe tbody tr th {\n",
       "        vertical-align: top;\n",
       "    }\n",
       "\n",
       "    .dataframe thead th {\n",
       "        text-align: right;\n",
       "    }\n",
       "</style>\n",
       "<table border=\"1\" class=\"dataframe\">\n",
       "  <thead>\n",
       "    <tr style=\"text-align: right;\">\n",
       "      <th></th>\n",
       "      <th>image_id</th>\n",
       "      <th>dir</th>\n",
       "      <th>label</th>\n",
       "      <th>pred</th>\n",
       "      <th>confidence score</th>\n",
       "    </tr>\n",
       "  </thead>\n",
       "  <tbody>\n",
       "    <tr>\n",
       "      <th>0</th>\n",
       "      <td>13d191db596a5e4a.jpg</td>\n",
       "      <td>../../disk/Data/open_image/train_1</td>\n",
       "      <td>0</td>\n",
       "      <td>1</td>\n",
       "      <td>0.918041</td>\n",
       "    </tr>\n",
       "    <tr>\n",
       "      <th>1</th>\n",
       "      <td>1cfd32a632fa0771.jpg</td>\n",
       "      <td>../../disk/Data/open_image/train_1</td>\n",
       "      <td>0</td>\n",
       "      <td>1</td>\n",
       "      <td>0.700170</td>\n",
       "    </tr>\n",
       "    <tr>\n",
       "      <th>2</th>\n",
       "      <td>1a7a43cb6ae3ed7b.jpg</td>\n",
       "      <td>../../disk/Data/open_image/train_1</td>\n",
       "      <td>0</td>\n",
       "      <td>1</td>\n",
       "      <td>0.665575</td>\n",
       "    </tr>\n",
       "    <tr>\n",
       "      <th>3</th>\n",
       "      <td>1410f35aeb2ae8af.jpg</td>\n",
       "      <td>../../disk/Data/open_image/train_1</td>\n",
       "      <td>0</td>\n",
       "      <td>1</td>\n",
       "      <td>0.993265</td>\n",
       "    </tr>\n",
       "    <tr>\n",
       "      <th>4</th>\n",
       "      <td>13628048cf4a80cd.jpg</td>\n",
       "      <td>../../disk/Data/open_image/train_1</td>\n",
       "      <td>0</td>\n",
       "      <td>1</td>\n",
       "      <td>0.930421</td>\n",
       "    </tr>\n",
       "    <tr>\n",
       "      <th>...</th>\n",
       "      <td>...</td>\n",
       "      <td>...</td>\n",
       "      <td>...</td>\n",
       "      <td>...</td>\n",
       "      <td>...</td>\n",
       "    </tr>\n",
       "    <tr>\n",
       "      <th>558</th>\n",
       "      <td>blizzard_disasterblizzard_305.jpg</td>\n",
       "      <td>../Data/disaster/test/origin_images/crawling/b...</td>\n",
       "      <td>1</td>\n",
       "      <td>0</td>\n",
       "      <td>0.924526</td>\n",
       "    </tr>\n",
       "    <tr>\n",
       "      <th>559</th>\n",
       "      <td>tempest_041.jpg</td>\n",
       "      <td>../Data/disaster/test/origin_images/crawling/t...</td>\n",
       "      <td>1</td>\n",
       "      <td>0</td>\n",
       "      <td>0.999252</td>\n",
       "    </tr>\n",
       "    <tr>\n",
       "      <th>560</th>\n",
       "      <td>000000073187.jpg</td>\n",
       "      <td>../Data/disaster/test/origin_images/COCO_disaster</td>\n",
       "      <td>1</td>\n",
       "      <td>0</td>\n",
       "      <td>0.999304</td>\n",
       "    </tr>\n",
       "    <tr>\n",
       "      <th>561</th>\n",
       "      <td>000000234697.jpg</td>\n",
       "      <td>../Data/disaster/test/origin_images/COCO_disaster</td>\n",
       "      <td>1</td>\n",
       "      <td>0</td>\n",
       "      <td>0.999646</td>\n",
       "    </tr>\n",
       "    <tr>\n",
       "      <th>562</th>\n",
       "      <td>000000213826.jpg</td>\n",
       "      <td>../Data/disaster/test/origin_images/COCO_disaster</td>\n",
       "      <td>1</td>\n",
       "      <td>0</td>\n",
       "      <td>0.992844</td>\n",
       "    </tr>\n",
       "  </tbody>\n",
       "</table>\n",
       "<p>563 rows × 5 columns</p>\n",
       "</div>"
      ],
      "text/plain": [
       "                              image_id  \\\n",
       "0                 13d191db596a5e4a.jpg   \n",
       "1                 1cfd32a632fa0771.jpg   \n",
       "2                 1a7a43cb6ae3ed7b.jpg   \n",
       "3                 1410f35aeb2ae8af.jpg   \n",
       "4                 13628048cf4a80cd.jpg   \n",
       "..                                 ...   \n",
       "558  blizzard_disasterblizzard_305.jpg   \n",
       "559                    tempest_041.jpg   \n",
       "560                   000000073187.jpg   \n",
       "561                   000000234697.jpg   \n",
       "562                   000000213826.jpg   \n",
       "\n",
       "                                                   dir  label  pred  \\\n",
       "0                   ../../disk/Data/open_image/train_1      0     1   \n",
       "1                   ../../disk/Data/open_image/train_1      0     1   \n",
       "2                   ../../disk/Data/open_image/train_1      0     1   \n",
       "3                   ../../disk/Data/open_image/train_1      0     1   \n",
       "4                   ../../disk/Data/open_image/train_1      0     1   \n",
       "..                                                 ...    ...   ...   \n",
       "558  ../Data/disaster/test/origin_images/crawling/b...      1     0   \n",
       "559  ../Data/disaster/test/origin_images/crawling/t...      1     0   \n",
       "560  ../Data/disaster/test/origin_images/COCO_disaster      1     0   \n",
       "561  ../Data/disaster/test/origin_images/COCO_disaster      1     0   \n",
       "562  ../Data/disaster/test/origin_images/COCO_disaster      1     0   \n",
       "\n",
       "     confidence score  \n",
       "0            0.918041  \n",
       "1            0.700170  \n",
       "2            0.665575  \n",
       "3            0.993265  \n",
       "4            0.930421  \n",
       "..                ...  \n",
       "558          0.924526  \n",
       "559          0.999252  \n",
       "560          0.999304  \n",
       "561          0.999646  \n",
       "562          0.992844  \n",
       "\n",
       "[563 rows x 5 columns]"
      ]
     },
     "execution_count": 11,
     "metadata": {},
     "output_type": "execute_result"
    }
   ],
   "source": [
    "non_matched_idx = test['label'] != test['pred']\n",
    "non_matched = test[non_matched_idx].reset_index(inplace = False, drop=True)\n",
    "non_matched"
   ]
  },
  {
   "cell_type": "code",
   "execution_count": null,
   "id": "723b1ad3-5b31-4452-95f7-e97107e78017",
   "metadata": {},
   "outputs": [],
   "source": [
    "## show img status\n",
    "\n",
    "back = 0\n",
    "plt.figure(figsize=(16,600))\n",
    "for i in range(len(non_matched[back:])):\n",
    "    plt.subplot(150,4,i+1)\n",
    "    #if i % 4 == 0:\n",
    "        #plt.title(f\"{(i+1+back)/4}\")\n",
    "    plt.xticks([])\n",
    "    plt.yticks([])\n",
    "    plt.grid(False)\n",
    "    path = non_matched['dir'][i+back] + '/' + non_matched['image_id'][i+back]\n",
    "    im_bgr = cv2.imread(path)\n",
    "    im_rgb = im_bgr[:, :, ::-1]\n",
    "    plt.imshow(im_rgb, cmap=plt.cm.binary)\n",
    "    \n",
    "plt.show()"
   ]
  },
  {
   "cell_type": "code",
   "execution_count": 24,
   "id": "792ea43b-10d3-4b9e-967a-8a8b847b73a5",
   "metadata": {},
   "outputs": [],
   "source": [
    "test.to_csv('test_result/nsb2_oi_tst.csv', index=False)"
   ]
  },
  {
   "cell_type": "code",
   "execution_count": 8,
   "id": "b083d85d-1a89-4249-b198-b5f5cc72e520",
   "metadata": {},
   "outputs": [
    {
     "data": {
      "text/plain": [
       "0.9963420273292325"
      ]
     },
     "execution_count": 8,
     "metadata": {},
     "output_type": "execute_result"
    }
   ],
   "source": [
    "test_acc = np.sum(test.label == test.pred) / len(test)\n",
    "test_acc"
   ]
  },
  {
   "cell_type": "code",
   "execution_count": 14,
   "id": "c51708f2-3744-406d-97e2-666933aad2c9",
   "metadata": {},
   "outputs": [
    {
     "ename": "NameError",
     "evalue": "name 'model' is not defined",
     "output_type": "error",
     "traceback": [
      "\u001b[0;31m---------------------------------------------------------------------------\u001b[0m",
      "\u001b[0;31mNameError\u001b[0m                                 Traceback (most recent call last)",
      "Input \u001b[0;32mIn [14]\u001b[0m, in \u001b[0;36m<cell line: 1>\u001b[0;34m()\u001b[0m\n\u001b[0;32m----> 1\u001b[0m \u001b[38;5;28;01mfor\u001b[39;00m name, param \u001b[38;5;129;01min\u001b[39;00m \u001b[43mmodel\u001b[49m\u001b[38;5;241m.\u001b[39mnamed_parameters():\n\u001b[1;32m      2\u001b[0m     \u001b[38;5;28mprint\u001b[39m(name, param\u001b[38;5;241m.\u001b[39mrequires_grad)\n",
      "\u001b[0;31mNameError\u001b[0m: name 'model' is not defined"
     ]
    }
   ],
   "source": []
  },
  {
   "cell_type": "code",
   "execution_count": null,
   "id": "0ddb3e8e-d3a3-42e2-9312-7b43fdb4ddf4",
   "metadata": {},
   "outputs": [],
   "source": []
  }
 ],
 "metadata": {
  "kernelspec": {
   "display_name": "torch-gpu",
   "language": "python",
   "name": "torch"
  },
  "language_info": {
   "codemirror_mode": {
    "name": "ipython",
    "version": 3
   },
   "file_extension": ".py",
   "mimetype": "text/x-python",
   "name": "python",
   "nbconvert_exporter": "python",
   "pygments_lexer": "ipython3",
   "version": "3.10.6"
  }
 },
 "nbformat": 4,
 "nbformat_minor": 5
}

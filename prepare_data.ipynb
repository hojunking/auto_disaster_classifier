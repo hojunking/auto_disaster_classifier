{
 "cells": [
  {
   "cell_type": "code",
   "execution_count": 8,
   "id": "764483ff-6d37-4c38-afea-6ca7ce969ed3",
   "metadata": {},
   "outputs": [],
   "source": [
    "import json\n",
    "import os\n",
    "import pandas as pd\n",
    "import matplotlib.pyplot as plt\n",
    "import cv2\n",
    "import random"
   ]
  },
  {
   "cell_type": "markdown",
   "id": "cc8e29e0-3d71-4616-8018-dae7b182e6d5",
   "metadata": {},
   "source": [
    "### coco: 894 // flickr: 184 // open_image: 616"
   ]
  },
  {
   "cell_type": "code",
   "execution_count": 9,
   "id": "a2ee79fb-c022-4338-824c-5b5c9f04c28a",
   "metadata": {},
   "outputs": [
    {
     "name": "stdout",
     "output_type": "stream",
     "text": [
      "10057\n"
     ]
    }
   ],
   "source": [
    "dir_path = \"../Data/disaster/train\"\n",
    "\n",
    "img_names = []\n",
    "for folder, subfolders, filenames in os.walk(dir_path):\n",
    "    for img in filenames:\n",
    "        img_names.append(folder+'/'+img)\n",
    "random.shuffle(img_names)\n",
    "\n",
    "\n",
    "disaster = img_names\n",
    "print(len(disaster))"
   ]
  },
  {
   "cell_type": "code",
   "execution_count": 10,
   "id": "35bf8cde-2b7e-487e-bb3b-f6eaa7aeb7c3",
   "metadata": {},
   "outputs": [
    {
     "name": "stdout",
     "output_type": "stream",
     "text": [
      "15000\n"
     ]
    }
   ],
   "source": [
    "## open_image 8000장\n",
    "dir_path = \"../../disk/Data/open_image/train_0/\"\n",
    "\n",
    "img_names = []\n",
    "for folder, subfolders, filenames in os.walk(dir_path):\n",
    "    for img in filenames:\n",
    "        img_names.append(folder+'/'+img)\n",
    "random.shuffle(img_names)\n",
    "open_image_non = img_names[:15000]\n",
    "print(len(open_image_non))"
   ]
  },
  {
   "cell_type": "code",
   "execution_count": 11,
   "id": "613ddeef-8e99-4d74-9e96-ea68ee84dd84",
   "metadata": {},
   "outputs": [
    {
     "name": "stdout",
     "output_type": "stream",
     "text": [
      "15000\n"
     ]
    }
   ],
   "source": [
    "## coco_image 1만장\n",
    "dir_path = \"../Data/train2017\"\n",
    "\n",
    "img_names = []\n",
    "for folder, subfolders, filenames in os.walk(dir_path):\n",
    "    for img in filenames:\n",
    "        img_names.append(folder+'/'+img)\n",
    "random.shuffle(img_names)\n",
    "coco_non = img_names[:15000]\n",
    "print(len(coco_non))"
   ]
  },
  {
   "cell_type": "code",
   "execution_count": 12,
   "id": "da8c07aa-5518-42cc-b6fd-a37f5b173cf4",
   "metadata": {},
   "outputs": [
    {
     "name": "stdout",
     "output_type": "stream",
     "text": [
      "['../Data/train2017/000000095517.jpg', '../Data/train2017/000000082216.jpg', '../Data/train2017/000000117677.jpg']\n"
     ]
    }
   ],
   "source": [
    "print(coco_non[:3])"
   ]
  },
  {
   "cell_type": "code",
   "execution_count": 13,
   "id": "d02cef0b-c402-4ff8-9910-350dc9c293da",
   "metadata": {},
   "outputs": [
    {
     "name": "stdout",
     "output_type": "stream",
     "text": [
      "30000\n"
     ]
    }
   ],
   "source": [
    "non = coco_non + open_image_non\n",
    "random.shuffle(non)\n",
    "print(len(non))"
   ]
  },
  {
   "cell_type": "markdown",
   "id": "d81c2b71-38b1-4aa6-bb85-596a0c81b4af",
   "metadata": {},
   "source": [
    "##### labeling"
   ]
  },
  {
   "cell_type": "markdown",
   "id": "7407e693-4f18-400f-b089-61c88177d662",
   "metadata": {},
   "source": [
    "##### split train, test"
   ]
  },
  {
   "cell_type": "code",
   "execution_count": 7,
   "id": "3e295090-90d6-4458-8350-7eb180a76e2b",
   "metadata": {},
   "outputs": [
    {
     "name": "stdout",
     "output_type": "stream",
     "text": [
      "12800\n",
      "3200\n"
     ]
    }
   ],
   "source": [
    "### train: test (4:1)\n",
    "## 36000 (1/4), 4000 (1/4)\n",
    "# non_ratio=6400\n",
    "# dis_ratio=6400\n",
    "# trn_disater = non[:non_ratio] + disaster[:dis_ratio]\n",
    "# tst_disater = non[non_ratio:] + disaster[dis_ratio:]\n",
    "# trn_label = [0]*int(len(non[:non_ratio])) + [1]*int(len(disaster[:dis_ratio]))\n",
    "# tst_label = [0]*int(len(non[non_ratio:])) + [1]*int(len(disaster[dis_ratio:]))\n",
    "# print(len(trn_label))\n",
    "# print(len(tst_label))"
   ]
  },
  {
   "cell_type": "code",
   "execution_count": 14,
   "id": "c2776c34-4999-45b5-b39c-5be1b7267822",
   "metadata": {},
   "outputs": [
    {
     "name": "stdout",
     "output_type": "stream",
     "text": [
      "40057\n"
     ]
    }
   ],
   "source": [
    "trn_disater = non + disaster\n",
    "trn_label = [0]*int(len(non)) + [1]*int(len(disaster))\n",
    "print(len(trn_label))"
   ]
  },
  {
   "cell_type": "code",
   "execution_count": 15,
   "id": "8eca9502-3980-4fa4-8cc1-043238843469",
   "metadata": {},
   "outputs": [
    {
     "data": {
      "text/html": [
       "<div>\n",
       "<style scoped>\n",
       "    .dataframe tbody tr th:only-of-type {\n",
       "        vertical-align: middle;\n",
       "    }\n",
       "\n",
       "    .dataframe tbody tr th {\n",
       "        vertical-align: top;\n",
       "    }\n",
       "\n",
       "    .dataframe thead th {\n",
       "        text-align: right;\n",
       "    }\n",
       "</style>\n",
       "<table border=\"1\" class=\"dataframe\">\n",
       "  <thead>\n",
       "    <tr style=\"text-align: right;\">\n",
       "      <th></th>\n",
       "      <th>image_id</th>\n",
       "      <th>dir</th>\n",
       "      <th>label</th>\n",
       "    </tr>\n",
       "  </thead>\n",
       "  <tbody>\n",
       "    <tr>\n",
       "      <th>0</th>\n",
       "      <td>000000273230.jpg</td>\n",
       "      <td>../Data/train2017</td>\n",
       "      <td>0</td>\n",
       "    </tr>\n",
       "    <tr>\n",
       "      <th>1</th>\n",
       "      <td>000000562664.jpg</td>\n",
       "      <td>../Data/train2017</td>\n",
       "      <td>0</td>\n",
       "    </tr>\n",
       "    <tr>\n",
       "      <th>2</th>\n",
       "      <td>046cbbb3909854b9.jpg</td>\n",
       "      <td>../../disk/Data/open_image/train_0</td>\n",
       "      <td>0</td>\n",
       "    </tr>\n",
       "    <tr>\n",
       "      <th>3</th>\n",
       "      <td>048a2aefcf5a073b.jpg</td>\n",
       "      <td>../../disk/Data/open_image/train_0</td>\n",
       "      <td>0</td>\n",
       "    </tr>\n",
       "    <tr>\n",
       "      <th>4</th>\n",
       "      <td>07e726531536e603.jpg</td>\n",
       "      <td>../../disk/Data/open_image/train_0</td>\n",
       "      <td>0</td>\n",
       "    </tr>\n",
       "    <tr>\n",
       "      <th>...</th>\n",
       "      <td>...</td>\n",
       "      <td>...</td>\n",
       "      <td>...</td>\n",
       "    </tr>\n",
       "    <tr>\n",
       "      <th>40052</th>\n",
       "      <td>earthquake_072_HorizontalFlip.jpg</td>\n",
       "      <td>../Data/disaster/train/augmented/HorizontalFlip</td>\n",
       "      <td>1</td>\n",
       "    </tr>\n",
       "    <tr>\n",
       "      <th>40053</th>\n",
       "      <td>A stop sign in the middle of a flooded street....</td>\n",
       "      <td>../Data/disaster/train/generated1/coco</td>\n",
       "      <td>1</td>\n",
       "    </tr>\n",
       "    <tr>\n",
       "      <th>40054</th>\n",
       "      <td>thunderstorm_121_HorizontalFlip.jpg</td>\n",
       "      <td>../Data/disaster/train/augmented/HorizontalFlip</td>\n",
       "      <td>1</td>\n",
       "    </tr>\n",
       "    <tr>\n",
       "      <th>40055</th>\n",
       "      <td>fog_161_CenterCrop.jpg</td>\n",
       "      <td>../Data/disaster/train/augmented/CenterCrop</td>\n",
       "      <td>1</td>\n",
       "    </tr>\n",
       "    <tr>\n",
       "      <th>40056</th>\n",
       "      <td>thunderstorm_247_CenterCrop.jpg</td>\n",
       "      <td>../Data/disaster/train/augmented/CenterCrop</td>\n",
       "      <td>1</td>\n",
       "    </tr>\n",
       "  </tbody>\n",
       "</table>\n",
       "<p>40057 rows × 3 columns</p>\n",
       "</div>"
      ],
      "text/plain": [
       "                                                image_id  \\\n",
       "0                                       000000273230.jpg   \n",
       "1                                       000000562664.jpg   \n",
       "2                                   046cbbb3909854b9.jpg   \n",
       "3                                   048a2aefcf5a073b.jpg   \n",
       "4                                   07e726531536e603.jpg   \n",
       "...                                                  ...   \n",
       "40052                  earthquake_072_HorizontalFlip.jpg   \n",
       "40053  A stop sign in the middle of a flooded street....   \n",
       "40054                thunderstorm_121_HorizontalFlip.jpg   \n",
       "40055                             fog_161_CenterCrop.jpg   \n",
       "40056                    thunderstorm_247_CenterCrop.jpg   \n",
       "\n",
       "                                                   dir  label  \n",
       "0                                    ../Data/train2017      0  \n",
       "1                                    ../Data/train2017      0  \n",
       "2                   ../../disk/Data/open_image/train_0      0  \n",
       "3                   ../../disk/Data/open_image/train_0      0  \n",
       "4                   ../../disk/Data/open_image/train_0      0  \n",
       "...                                                ...    ...  \n",
       "40052  ../Data/disaster/train/augmented/HorizontalFlip      1  \n",
       "40053           ../Data/disaster/train/generated1/coco      1  \n",
       "40054  ../Data/disaster/train/augmented/HorizontalFlip      1  \n",
       "40055      ../Data/disaster/train/augmented/CenterCrop      1  \n",
       "40056      ../Data/disaster/train/augmented/CenterCrop      1  \n",
       "\n",
       "[40057 rows x 3 columns]"
      ]
     },
     "execution_count": 15,
     "metadata": {},
     "output_type": "execute_result"
    }
   ],
   "source": [
    "trn_df = pd.DataFrame(trn_disater, columns=['image_id'])\n",
    "trn_df['dir'] = trn_df['image_id'].apply(lambda x: os.path.dirname(x))\n",
    "trn_df['image_id'] = trn_df['image_id'].apply(lambda x: os.path.basename(x))\n",
    "trn_df['label'] = trn_label\n",
    "train = trn_df\n",
    "train"
   ]
  },
  {
   "cell_type": "code",
   "execution_count": 16,
   "id": "289a1e8c-e9b0-4a29-bf55-7ad7e191527a",
   "metadata": {},
   "outputs": [],
   "source": [
    "project_name = 'disaster_classfication_inception_resnet_v2_3010_a'\n",
    "user = 'hojunking'\n",
    "run_name = 'disaster_classfication_inception_resnet_v2_3010_a'"
   ]
  },
  {
   "cell_type": "code",
   "execution_count": 17,
   "id": "65f38af9-b1d5-4052-b100-ef44d2072635",
   "metadata": {},
   "outputs": [
    {
     "name": "stderr",
     "output_type": "stream",
     "text": [
      "Failed to detect the name of this notebook, you can set it manually with the WANDB_NOTEBOOK_NAME environment variable to enable code saving.\n",
      "\u001b[34m\u001b[1mwandb\u001b[0m: Currently logged in as: \u001b[33mhojunking\u001b[0m. Use \u001b[1m`wandb login --relogin`\u001b[0m to force relogin\n"
     ]
    },
    {
     "data": {
      "text/html": [
       "wandb version 0.14.0 is available!  To upgrade, please run:\n",
       " $ pip install wandb --upgrade"
      ],
      "text/plain": [
       "<IPython.core.display.HTML object>"
      ]
     },
     "metadata": {},
     "output_type": "display_data"
    },
    {
     "data": {
      "text/html": [
       "Tracking run with wandb version 0.13.4"
      ],
      "text/plain": [
       "<IPython.core.display.HTML object>"
      ]
     },
     "metadata": {},
     "output_type": "display_data"
    },
    {
     "data": {
      "text/html": [
       "Run data is saved locally in <code>/home/hojun/git/disaster_classifier/wandb/run-20230319_195228-1h9av8gz</code>"
      ],
      "text/plain": [
       "<IPython.core.display.HTML object>"
      ]
     },
     "metadata": {},
     "output_type": "display_data"
    },
    {
     "data": {
      "text/html": [
       "Syncing run <strong><a href=\"https://wandb.ai/hojunking/disaster_classfication_inception_resnet_v2_3010_a/runs/1h9av8gz\" target=\"_blank\">stellar-water-1</a></strong> to <a href=\"https://wandb.ai/hojunking/disaster_classfication_inception_resnet_v2_3010_a\" target=\"_blank\">Weights & Biases</a> (<a href=\"https://wandb.me/run\" target=\"_blank\">docs</a>)<br/>"
      ],
      "text/plain": [
       "<IPython.core.display.HTML object>"
      ]
     },
     "metadata": {},
     "output_type": "display_data"
    },
    {
     "name": "stdout",
     "output_type": "stream",
     "text": [
      "Training start with fold: 0 epoch: 200 \n",
      "\n",
      "All training process\n",
      "All training process\n",
      "All training process\n",
      "All training process\n",
      "All training process\n",
      "All training process\n",
      "All training process\n",
      "All training process\n",
      "All training process\n",
      "All training process\n",
      "All training process\n",
      "All training process\n",
      "All training process\n",
      "All training process\n",
      "All training process\n",
      "All training process\n",
      "All training process\n",
      "All training process\n",
      "All training process\n",
      "All training process\n",
      "All training process\n",
      "All training process\n",
      "All training process\n",
      "All training process\n",
      "All training process\n",
      "All training process\n",
      "All training process\n",
      "All training process\n",
      "All training process\n",
      "All training process\n",
      "All training process\n",
      "All training process\n",
      "All training process\n",
      "All training process\n",
      "All training process\n",
      "All training process\n",
      "All training process\n",
      "All training process\n",
      "All training process\n",
      "All training process\n",
      "All training process\n",
      "All training process\n",
      "All training process\n",
      "All training process\n",
      "All training process\n",
      "All training process\n",
      "All training process\n",
      "All training process\n",
      "All training process\n",
      "All training process\n",
      "All training process\n",
      "All training process\n",
      "All training process\n",
      "All training process\n",
      "All training process\n",
      "All training process\n",
      "All training process\n",
      "All training process\n",
      "All training process\n",
      "All training process\n",
      "All training process\n",
      "All training process\n",
      "All training process\n",
      "All training process\n",
      "All training process\n",
      "All training process\n",
      "All training process\n",
      "All training process\n",
      "All training process\n",
      "All training process\n",
      "All training process\n",
      "All training process\n",
      "All training process\n",
      "All training process\n",
      "All training process\n",
      "All training process\n",
      "All training process\n",
      "All training process\n",
      "All training process\n",
      "All training process\n",
      "All training process\n",
      "All training process\n",
      "All training process\n",
      "All training process\n",
      "All training process\n",
      "All training process\n",
      "All training process\n",
      "All training process\n",
      "All training process\n",
      "All training process\n",
      "All training process\n",
      "All training process\n",
      "All training process\n",
      "All training process\n",
      "All training process\n",
      "All training process\n",
      "All training process\n",
      "All training process\n",
      "All training process\n",
      "All training process\n",
      "All training process\n",
      "All training process\n",
      "All training process\n",
      "All training process\n",
      "All training process\n",
      "All training process\n",
      "All training process\n",
      "All training process\n",
      "All training process\n",
      "All training process\n",
      "All training process\n",
      "All training process\n",
      "All training process\n",
      "All training process\n",
      "All training process\n",
      "All training process\n",
      "All training process\n",
      "All training process\n",
      "All training process\n",
      "All training process\n",
      "All training process\n",
      "All training process\n",
      "All training process\n",
      "All training process\n",
      "All training process\n",
      "All training process\n",
      "All training process\n",
      "All training process\n",
      "All training process\n",
      "All training process\n",
      "All training process\n",
      "All training process\n",
      "All training process\n",
      "All training process\n",
      "All training process\n",
      "All training process\n",
      "All training process\n",
      "All training process\n",
      "All training process\n",
      "All training process\n",
      "All training process\n",
      "All training process\n",
      "All training process\n",
      "All training process\n",
      "All training process\n",
      "All training process\n",
      "All training process\n",
      "All training process\n",
      "All training process\n",
      "All training process\n",
      "All training process\n",
      "All training process\n",
      "All training process\n",
      "All training process\n",
      "All training process\n",
      "All training process\n",
      "All training process\n",
      "All training process\n",
      "All training process\n",
      "All training process\n",
      "All training process\n",
      "All training process\n",
      "All training process\n",
      "All training process\n",
      "All training process\n",
      "All training process\n",
      "All training process\n",
      "All training process\n",
      "All training process\n",
      "All training process\n",
      "All training process\n",
      "All training process\n",
      "All training process\n",
      "All training process\n",
      "All training process\n",
      "All training process\n",
      "All training process\n",
      "All training process\n",
      "All training process\n",
      "All training process\n",
      "All training process\n",
      "All training process\n",
      "All training process\n",
      "All training process\n",
      "All training process\n",
      "All training process\n",
      "All training process\n",
      "All training process\n",
      "All training process\n",
      "All training process\n",
      "All training process\n",
      "All training process\n",
      "All training process\n",
      "All training process\n",
      "All training process\n",
      "All training process\n",
      "All training process\n",
      "All training process\n",
      "All training process\n",
      "All training process\n",
      "All training process\n",
      "All training process\n",
      "All training process\n",
      "All training process\n",
      "All training process\n",
      "All training process\n",
      "All training process\n",
      "All training process\n",
      "All training process\n",
      "All training process\n",
      "All training process\n",
      "All training process\n",
      "All training process\n",
      "All training process\n",
      "All training process\n",
      "All training process\n",
      "All training process\n",
      "All training process\n",
      "All training process\n",
      "All training process\n",
      "All training process\n",
      "All training process\n",
      "All training process\n",
      "All training process\n",
      "All training process\n",
      "All training process\n",
      "All training process\n",
      "All training process\n",
      "All training process\n",
      "All training process\n",
      "All training process\n",
      "All training process\n",
      "All training process\n",
      "All training process\n",
      "All training process\n",
      "All training process\n",
      "All training process\n",
      "All training process\n",
      "All training process\n",
      "All training process\n",
      "All training process\n",
      "All training process\n",
      "All training process\n",
      "All training process\n",
      "All training process\n",
      "All training process\n",
      "All training process\n",
      "All training process\n",
      "All training process\n",
      "All training process\n",
      "All training process\n",
      "All training process\n",
      "All training process\n",
      "All training process\n",
      "All training process\n",
      "All training process\n",
      "All training process\n",
      "All training process\n",
      "All training process\n",
      "All training process\n",
      "All training process\n",
      "All training process\n",
      "All training process\n",
      "All training process\n",
      "All training process\n",
      "All training process\n",
      "All training process\n",
      "All training process\n",
      "All training process\n",
      "All training process\n",
      "All training process\n",
      "All training process\n",
      "All training process\n",
      "All training process\n",
      "All training process\n",
      "All training process\n",
      "All training process\n",
      "All training process\n",
      "All training process\n",
      "All training process\n",
      "All training process\n",
      "All training process\n",
      "All training process\n",
      "All training process\n",
      "All training process\n",
      "All training process\n",
      "All training process\n",
      "All training process\n",
      "All training process\n",
      "All training process\n",
      "All training process\n",
      "All training process\n",
      "All training process\n",
      "All training process\n",
      "All training process\n",
      "All training process\n",
      "All training process\n",
      "All training process\n",
      "All training process\n",
      "All training process\n",
      "All training process\n",
      "Fold: 0\n",
      "Epoch 0/199\n"
     ]
    },
    {
     "name": "stderr",
     "output_type": "stream",
     "text": [
      "epoch 0 loss: 0.2348: 100%|███████████████████| 251/251 [08:35<00:00,  2.05s/it]\n",
      "epoch 0 loss: 0.0591:  77%|███████████████▍    | 97/126 [01:57<00:05,  5.70it/s]libpng warning: iCCP: known incorrect sRGB profile\n",
      "epoch 0 loss: 0.0795: 100%|███████████████████| 126/126 [02:00<00:00,  1.04it/s]\n"
     ]
    },
    {
     "name": "stdout",
     "output_type": "stream",
     "text": [
      "Fold: 0\n",
      "Epoch 1/199\n"
     ]
    },
    {
     "name": "stderr",
     "output_type": "stream",
     "text": [
      "epoch 1 loss: 0.0222: 100%|███████████████████| 251/251 [01:33<00:00,  2.68it/s]\n",
      "epoch 1 loss: 0.0477:  72%|██████████████▍     | 91/126 [00:13<00:04,  7.62it/s]libpng warning: iCCP: known incorrect sRGB profile\n",
      "epoch 1 loss: 0.0650: 100%|███████████████████| 126/126 [00:17<00:00,  7.10it/s]\n"
     ]
    },
    {
     "name": "stdout",
     "output_type": "stream",
     "text": [
      "Fold: 0\n",
      "Epoch 2/199\n"
     ]
    },
    {
     "name": "stderr",
     "output_type": "stream",
     "text": [
      "epoch 2 loss: 0.0042: 100%|███████████████████| 251/251 [01:33<00:00,  2.69it/s]\n",
      "epoch 2 loss: 0.0388:  78%|███████████████▌    | 98/126 [00:14<00:03,  8.02it/s]libpng warning: iCCP: known incorrect sRGB profile\n",
      "epoch 2 loss: 0.0631: 100%|███████████████████| 126/126 [00:17<00:00,  7.31it/s]\n"
     ]
    },
    {
     "name": "stdout",
     "output_type": "stream",
     "text": [
      "Fold: 0\n",
      "Epoch 3/199\n"
     ]
    },
    {
     "name": "stderr",
     "output_type": "stream",
     "text": [
      "epoch 3 loss: 0.0015: 100%|███████████████████| 251/251 [01:33<00:00,  2.69it/s]\n",
      "epoch 3 loss: 0.0351:  75%|███████████████     | 95/126 [00:13<00:03,  8.83it/s]libpng warning: iCCP: known incorrect sRGB profile\n",
      "epoch 3 loss: 0.0636: 100%|███████████████████| 126/126 [00:17<00:00,  7.36it/s]\n"
     ]
    },
    {
     "name": "stdout",
     "output_type": "stream",
     "text": [
      "Fold: 0\n",
      "Epoch 4/199\n"
     ]
    },
    {
     "name": "stderr",
     "output_type": "stream",
     "text": [
      "epoch 4 loss: 0.0008: 100%|███████████████████| 251/251 [01:33<00:00,  2.69it/s]\n",
      "epoch 4 loss: 0.0379:  78%|███████████████▌    | 98/126 [00:13<00:03,  8.94it/s]libpng warning: iCCP: known incorrect sRGB profile\n",
      "epoch 4 loss: 0.0640: 100%|███████████████████| 126/126 [00:17<00:00,  7.40it/s]\n"
     ]
    },
    {
     "name": "stdout",
     "output_type": "stream",
     "text": [
      "Fold: 0\n",
      "Epoch 5/199\n"
     ]
    },
    {
     "name": "stderr",
     "output_type": "stream",
     "text": [
      "epoch 5 loss: 0.0005: 100%|███████████████████| 251/251 [01:33<00:00,  2.69it/s]\n",
      "epoch 5 loss: 0.0392:  77%|███████████████▍    | 97/126 [00:13<00:03,  8.36it/s]libpng warning: iCCP: known incorrect sRGB profile\n",
      "epoch 5 loss: 0.0643: 100%|███████████████████| 126/126 [00:17<00:00,  7.41it/s]\n"
     ]
    },
    {
     "name": "stdout",
     "output_type": "stream",
     "text": [
      "Fold: 0\n",
      "Epoch 6/199\n"
     ]
    },
    {
     "name": "stderr",
     "output_type": "stream",
     "text": [
      "epoch 6 loss: 0.0004: 100%|███████████████████| 251/251 [01:32<00:00,  2.70it/s]\n",
      "epoch 6 loss: 0.0377:  75%|███████████████     | 95/126 [00:13<00:03,  9.16it/s]libpng warning: iCCP: known incorrect sRGB profile\n",
      "epoch 6 loss: 0.0645: 100%|███████████████████| 126/126 [00:17<00:00,  7.19it/s]\n"
     ]
    },
    {
     "name": "stdout",
     "output_type": "stream",
     "text": [
      "Fold: 0\n",
      "Epoch 7/199\n"
     ]
    },
    {
     "name": "stderr",
     "output_type": "stream",
     "text": [
      "epoch 7 loss: 0.0003: 100%|███████████████████| 251/251 [01:33<00:00,  2.69it/s]\n",
      "epoch 7 loss: 0.0375:  74%|██████████████▊     | 93/126 [00:13<00:04,  6.79it/s]libpng warning: iCCP: known incorrect sRGB profile\n",
      "epoch 7 loss: 0.0649: 100%|███████████████████| 126/126 [00:17<00:00,  7.38it/s]\n"
     ]
    },
    {
     "name": "stdout",
     "output_type": "stream",
     "text": [
      "Fold: 0\n",
      "Epoch 8/199\n"
     ]
    },
    {
     "name": "stderr",
     "output_type": "stream",
     "text": [
      "epoch 8 loss: 0.0002: 100%|███████████████████| 251/251 [01:32<00:00,  2.70it/s]\n",
      "epoch 8 loss: 0.0415:  78%|███████████████▌    | 98/126 [00:13<00:03,  8.88it/s]libpng warning: iCCP: known incorrect sRGB profile\n",
      "epoch 8 loss: 0.0653: 100%|███████████████████| 126/126 [00:17<00:00,  7.33it/s]\n"
     ]
    },
    {
     "name": "stdout",
     "output_type": "stream",
     "text": [
      "Fold: 0\n",
      "Epoch 9/199\n"
     ]
    },
    {
     "name": "stderr",
     "output_type": "stream",
     "text": [
      "epoch 9 loss: 0.0002: 100%|███████████████████| 251/251 [01:32<00:00,  2.70it/s]\n",
      "epoch 9 loss: 0.0424:  77%|███████████████▍    | 97/126 [00:13<00:03,  9.04it/s]libpng warning: iCCP: known incorrect sRGB profile\n",
      "epoch 9 loss: 0.0656: 100%|███████████████████| 126/126 [00:16<00:00,  7.55it/s]\n"
     ]
    },
    {
     "name": "stdout",
     "output_type": "stream",
     "text": [
      "Fold: 0\n",
      "Epoch 10/199\n"
     ]
    },
    {
     "name": "stderr",
     "output_type": "stream",
     "text": [
      "epoch 10 loss: 0.0001: 100%|██████████████████| 251/251 [01:33<00:00,  2.69it/s]\n",
      "epoch 10 loss: 0.0402:  71%|█████████████▌     | 90/126 [00:12<00:04,  8.64it/s]libpng warning: iCCP: known incorrect sRGB profile\n",
      "epoch 10 loss: 0.0661: 100%|██████████████████| 126/126 [00:17<00:00,  7.32it/s]"
     ]
    },
    {
     "name": "stdout",
     "output_type": "stream",
     "text": [
      "EarlyStopping counter: 1 out of 5\n",
      "Best F1 score from now: 0.9775374371375016\n",
      "Fold: 0\n",
      "Epoch 11/199\n"
     ]
    },
    {
     "name": "stderr",
     "output_type": "stream",
     "text": [
      "\n",
      "epoch 11 loss: 0.0001: 100%|██████████████████| 251/251 [01:33<00:00,  2.69it/s]\n",
      "epoch 11 loss: 0.0408:  76%|██████████████▍    | 96/126 [00:13<00:03,  9.08it/s]libpng warning: iCCP: known incorrect sRGB profile\n",
      "epoch 11 loss: 0.0666: 100%|██████████████████| 126/126 [00:16<00:00,  7.53it/s]\n"
     ]
    },
    {
     "name": "stdout",
     "output_type": "stream",
     "text": [
      "Fold: 0\n",
      "Epoch 12/199\n"
     ]
    },
    {
     "name": "stderr",
     "output_type": "stream",
     "text": [
      "epoch 12 loss: 0.0001: 100%|██████████████████| 251/251 [01:33<00:00,  2.70it/s]\n",
      "epoch 12 loss: 0.0437:  78%|██████████████▊    | 98/126 [00:13<00:03,  9.06it/s]libpng warning: iCCP: known incorrect sRGB profile\n",
      "epoch 12 loss: 0.0672: 100%|██████████████████| 126/126 [00:16<00:00,  7.49it/s]\n"
     ]
    },
    {
     "name": "stdout",
     "output_type": "stream",
     "text": [
      "Fold: 0\n",
      "Epoch 13/199\n"
     ]
    },
    {
     "name": "stderr",
     "output_type": "stream",
     "text": [
      "epoch 13 loss: 0.0001: 100%|██████████████████| 251/251 [01:33<00:00,  2.70it/s]\n",
      "epoch 13 loss: 0.0410:  74%|██████████████     | 93/126 [00:13<00:03,  8.68it/s]libpng warning: iCCP: known incorrect sRGB profile\n",
      "epoch 13 loss: 0.0676: 100%|██████████████████| 126/126 [00:17<00:00,  7.38it/s]\n"
     ]
    },
    {
     "name": "stdout",
     "output_type": "stream",
     "text": [
      "Fold: 0\n",
      "Epoch 14/199\n"
     ]
    },
    {
     "name": "stderr",
     "output_type": "stream",
     "text": [
      "epoch 14 loss: 0.0001: 100%|██████████████████| 251/251 [01:33<00:00,  2.69it/s]\n",
      "epoch 14 loss: 0.0419:  76%|██████████████▍    | 96/126 [00:13<00:03,  7.81it/s]libpng warning: iCCP: known incorrect sRGB profile\n",
      "epoch 14 loss: 0.0681: 100%|██████████████████| 126/126 [00:17<00:00,  7.38it/s]\n"
     ]
    },
    {
     "name": "stdout",
     "output_type": "stream",
     "text": [
      "Fold: 0\n",
      "Epoch 15/199\n"
     ]
    },
    {
     "name": "stderr",
     "output_type": "stream",
     "text": [
      "epoch 15 loss: 0.0001: 100%|██████████████████| 251/251 [01:33<00:00,  2.69it/s]\n",
      "epoch 15 loss: 0.0417:  74%|██████████████     | 93/126 [00:13<00:03,  8.98it/s]libpng warning: iCCP: known incorrect sRGB profile\n",
      "epoch 15 loss: 0.0682: 100%|██████████████████| 126/126 [00:17<00:00,  7.31it/s]"
     ]
    },
    {
     "name": "stdout",
     "output_type": "stream",
     "text": [
      "EarlyStopping counter: 1 out of 5\n",
      "Best F1 score from now: 0.9788825962931416\n",
      "Fold: 0\n",
      "Epoch 16/199\n"
     ]
    },
    {
     "name": "stderr",
     "output_type": "stream",
     "text": [
      "\n",
      "epoch 16 loss: 0.0001: 100%|██████████████████| 251/251 [01:33<00:00,  2.70it/s]\n",
      "epoch 16 loss: 0.0455:  77%|██████████████▋    | 97/126 [00:14<00:03,  9.06it/s]libpng warning: iCCP: known incorrect sRGB profile\n",
      "epoch 16 loss: 0.0686: 100%|██████████████████| 126/126 [00:17<00:00,  7.23it/s]\n"
     ]
    },
    {
     "name": "stdout",
     "output_type": "stream",
     "text": [
      "Fold: 0\n",
      "Epoch 17/199\n"
     ]
    },
    {
     "name": "stderr",
     "output_type": "stream",
     "text": [
      "epoch 17 loss: 0.0000: 100%|██████████████████| 251/251 [01:33<00:00,  2.69it/s]\n",
      "epoch 17 loss: 0.0456:  78%|██████████████▊    | 98/126 [00:13<00:03,  8.03it/s]libpng warning: iCCP: known incorrect sRGB profile\n",
      "epoch 17 loss: 0.0688: 100%|██████████████████| 126/126 [00:16<00:00,  7.50it/s]\n"
     ]
    },
    {
     "name": "stdout",
     "output_type": "stream",
     "text": [
      "Fold: 0\n",
      "Epoch 18/199\n"
     ]
    },
    {
     "name": "stderr",
     "output_type": "stream",
     "text": [
      "epoch 18 loss: 0.0000: 100%|██████████████████| 251/251 [01:33<00:00,  2.68it/s]\n",
      "epoch 18 loss: 0.0467:  77%|██████████████▋    | 97/126 [00:14<00:03,  9.07it/s]libpng warning: iCCP: known incorrect sRGB profile\n",
      "epoch 18 loss: 0.0690: 100%|██████████████████| 126/126 [00:17<00:00,  7.29it/s]\n"
     ]
    },
    {
     "name": "stdout",
     "output_type": "stream",
     "text": [
      "Fold: 0\n",
      "Epoch 19/199\n"
     ]
    },
    {
     "name": "stderr",
     "output_type": "stream",
     "text": [
      "epoch 19 loss: 0.0000: 100%|██████████████████| 251/251 [01:33<00:00,  2.69it/s]\n",
      "epoch 19 loss: 0.0422:  74%|██████████████     | 93/126 [00:13<00:04,  7.23it/s]libpng warning: iCCP: known incorrect sRGB profile\n",
      "epoch 19 loss: 0.0689: 100%|██████████████████| 126/126 [00:17<00:00,  7.33it/s]\n"
     ]
    },
    {
     "name": "stdout",
     "output_type": "stream",
     "text": [
      "Fold: 0\n",
      "Epoch 20/199\n"
     ]
    },
    {
     "name": "stderr",
     "output_type": "stream",
     "text": [
      "epoch 20 loss: 0.0000: 100%|██████████████████| 251/251 [01:32<00:00,  2.71it/s]\n",
      "epoch 20 loss: 0.0455:  78%|██████████████▊    | 98/126 [00:13<00:03,  8.67it/s]libpng warning: iCCP: known incorrect sRGB profile\n",
      "epoch 20 loss: 0.0691: 100%|██████████████████| 126/126 [00:16<00:00,  7.45it/s]\n"
     ]
    },
    {
     "name": "stdout",
     "output_type": "stream",
     "text": [
      "Fold: 0\n",
      "Epoch 21/199\n"
     ]
    },
    {
     "name": "stderr",
     "output_type": "stream",
     "text": [
      "epoch 21 loss: 0.0000: 100%|██████████████████| 251/251 [01:32<00:00,  2.70it/s]\n",
      "epoch 21 loss: 0.0435:  75%|██████████████▎    | 95/126 [00:13<00:03,  9.02it/s]libpng warning: iCCP: known incorrect sRGB profile\n",
      "epoch 21 loss: 0.0694: 100%|██████████████████| 126/126 [00:16<00:00,  7.50it/s]\n"
     ]
    },
    {
     "name": "stdout",
     "output_type": "stream",
     "text": [
      "Fold: 0\n",
      "Epoch 22/199\n"
     ]
    },
    {
     "name": "stderr",
     "output_type": "stream",
     "text": [
      "epoch 22 loss: 0.0000: 100%|██████████████████| 251/251 [01:33<00:00,  2.69it/s]\n",
      "epoch 22 loss: 0.0441:  76%|██████████████▍    | 96/126 [00:13<00:03,  8.98it/s]libpng warning: iCCP: known incorrect sRGB profile\n",
      "epoch 22 loss: 0.0698: 100%|██████████████████| 126/126 [00:16<00:00,  7.50it/s]\n"
     ]
    },
    {
     "name": "stdout",
     "output_type": "stream",
     "text": [
      "Fold: 0\n",
      "Epoch 23/199\n"
     ]
    },
    {
     "name": "stderr",
     "output_type": "stream",
     "text": [
      "epoch 23 loss: 0.0000: 100%|██████████████████| 251/251 [01:32<00:00,  2.71it/s]\n",
      "epoch 23 loss: 0.0473:  78%|██████████████▊    | 98/126 [00:14<00:03,  9.30it/s]libpng warning: iCCP: known incorrect sRGB profile\n",
      "epoch 23 loss: 0.0703: 100%|██████████████████| 126/126 [00:17<00:00,  7.35it/s]\n"
     ]
    },
    {
     "name": "stdout",
     "output_type": "stream",
     "text": [
      "EarlyStopping counter: 1 out of 5\n",
      "Best F1 score from now: 0.9800432330194988\n",
      "Fold: 0\n",
      "Epoch 24/199\n"
     ]
    },
    {
     "name": "stderr",
     "output_type": "stream",
     "text": [
      "epoch 24 loss: 0.0000: 100%|██████████████████| 251/251 [01:33<00:00,  2.69it/s]\n",
      "epoch 24 loss: 0.0448:  72%|█████████████▋     | 91/126 [00:12<00:04,  8.58it/s]libpng warning: iCCP: known incorrect sRGB profile\n",
      "epoch 24 loss: 0.0708: 100%|██████████████████| 126/126 [00:16<00:00,  7.41it/s]\n"
     ]
    },
    {
     "name": "stdout",
     "output_type": "stream",
     "text": [
      "Fold: 0\n",
      "Epoch 25/199\n"
     ]
    },
    {
     "name": "stderr",
     "output_type": "stream",
     "text": [
      "epoch 25 loss: 0.0000: 100%|██████████████████| 251/251 [01:33<00:00,  2.69it/s]\n",
      "epoch 25 loss: 0.0481:  77%|██████████████▋    | 97/126 [00:14<00:03,  7.72it/s]libpng warning: iCCP: known incorrect sRGB profile\n",
      "epoch 25 loss: 0.0716: 100%|██████████████████| 126/126 [00:17<00:00,  7.31it/s]"
     ]
    },
    {
     "name": "stdout",
     "output_type": "stream",
     "text": [
      "EarlyStopping counter: 1 out of 5\n",
      "Best F1 score from now: 0.9802128264479042\n",
      "Fold: 0\n",
      "Epoch 26/199\n"
     ]
    },
    {
     "name": "stderr",
     "output_type": "stream",
     "text": [
      "\n",
      "epoch 26 loss: 0.0000: 100%|██████████████████| 251/251 [01:33<00:00,  2.68it/s]\n",
      "epoch 26 loss: 0.0479:  78%|██████████████▊    | 98/126 [00:13<00:03,  7.68it/s]libpng warning: iCCP: known incorrect sRGB profile\n",
      "epoch 26 loss: 0.0718: 100%|██████████████████| 126/126 [00:16<00:00,  7.49it/s]"
     ]
    },
    {
     "name": "stdout",
     "output_type": "stream",
     "text": [
      "EarlyStopping counter: 2 out of 5\n",
      "Best F1 score from now: 0.9802128264479042\n",
      "Fold: 0\n",
      "Epoch 27/199\n"
     ]
    },
    {
     "name": "stderr",
     "output_type": "stream",
     "text": [
      "\n",
      "epoch 27 loss: 0.0000: 100%|██████████████████| 251/251 [01:33<00:00,  2.69it/s]\n",
      "epoch 27 loss: 0.0485:  77%|██████████████▋    | 97/126 [00:13<00:03,  7.45it/s]libpng warning: iCCP: known incorrect sRGB profile\n",
      "epoch 27 loss: 0.0720: 100%|██████████████████| 126/126 [00:17<00:00,  7.34it/s]\n"
     ]
    },
    {
     "name": "stdout",
     "output_type": "stream",
     "text": [
      "EarlyStopping counter: 3 out of 5\n",
      "Best F1 score from now: 0.9802128264479042\n",
      "Fold: 0\n",
      "Epoch 28/199\n"
     ]
    },
    {
     "name": "stderr",
     "output_type": "stream",
     "text": [
      "epoch 28 loss: 0.0000: 100%|██████████████████| 251/251 [01:33<00:00,  2.69it/s]\n",
      "epoch 28 loss: 0.0456:  76%|██████████████▍    | 96/126 [00:13<00:03,  9.07it/s]libpng warning: iCCP: known incorrect sRGB profile\n",
      "epoch 28 loss: 0.0722: 100%|██████████████████| 126/126 [00:17<00:00,  7.29it/s]\n"
     ]
    },
    {
     "name": "stdout",
     "output_type": "stream",
     "text": [
      "EarlyStopping counter: 4 out of 5\n",
      "Best F1 score from now: 0.9802128264479042\n",
      "Fold: 0\n",
      "Epoch 29/199\n"
     ]
    },
    {
     "name": "stderr",
     "output_type": "stream",
     "text": [
      "epoch 29 loss: 0.0000: 100%|██████████████████| 251/251 [01:33<00:00,  2.68it/s]\n",
      "epoch 29 loss: 0.0487:  77%|██████████████▋    | 97/126 [00:13<00:03,  9.07it/s]libpng warning: iCCP: known incorrect sRGB profile\n",
      "epoch 29 loss: 0.0723: 100%|██████████████████| 126/126 [00:16<00:00,  7.42it/s]\n"
     ]
    },
    {
     "name": "stdout",
     "output_type": "stream",
     "text": [
      "EarlyStopping counter: 5 out of 5\n",
      "Best F1 score from now: 0.9802128264479042\n",
      "stop called\n",
      "time : 1:04:29\n",
      "fold: 0, Best Epoch : 24/ 30\n",
      "fold: 0, Best Train Marco F1 : 1.00000\n",
      "[[24000     0]\n",
      " [    0  8045]]\n",
      "fold: 0, Best Valid Marco F1 : 0.98021\n",
      "[[5947   53]\n",
      " [  66 1946]]\n",
      "---------------------------------------------------------\n",
      "Training start with fold: 1 epoch: 200 \n",
      "\n",
      "All training process\n",
      "All training process\n",
      "All training process\n",
      "All training process\n",
      "All training process\n",
      "All training process\n",
      "All training process\n",
      "All training process\n",
      "All training process\n",
      "All training process\n",
      "All training process\n",
      "All training process\n",
      "All training process\n",
      "All training process\n",
      "All training process\n",
      "All training process\n",
      "All training process\n",
      "All training process\n",
      "All training process\n",
      "All training process\n",
      "All training process\n",
      "All training process\n",
      "All training process\n",
      "All training process\n",
      "All training process\n",
      "All training process\n",
      "All training process\n",
      "All training process\n",
      "All training process\n",
      "All training process\n",
      "All training process\n",
      "All training process\n",
      "All training process\n",
      "All training process\n",
      "All training process\n",
      "All training process\n",
      "All training process\n",
      "All training process\n",
      "All training process\n",
      "All training process\n",
      "All training process\n",
      "All training process\n",
      "All training process\n",
      "All training process\n",
      "All training process\n",
      "All training process\n",
      "All training process\n",
      "All training process\n",
      "All training process\n",
      "All training process\n",
      "All training process\n",
      "All training process\n",
      "All training process\n",
      "All training process\n",
      "All training process\n",
      "All training process\n",
      "All training process\n",
      "All training process\n",
      "All training process\n",
      "All training process\n",
      "All training process\n",
      "All training process\n",
      "All training process\n",
      "All training process\n",
      "All training process\n",
      "All training process\n",
      "All training process\n",
      "All training process\n",
      "All training process\n",
      "All training process\n",
      "All training process\n",
      "All training process\n",
      "All training process\n",
      "All training process\n",
      "All training process\n",
      "All training process\n",
      "All training process\n",
      "All training process\n",
      "All training process\n",
      "All training process\n",
      "All training process\n",
      "All training process\n",
      "All training process\n",
      "All training process\n",
      "All training process\n",
      "All training process\n",
      "All training process\n",
      "All training process\n",
      "All training process\n",
      "All training process\n",
      "All training process\n",
      "All training process\n",
      "All training process\n",
      "All training process\n",
      "All training process\n",
      "All training process\n",
      "All training process\n",
      "All training process\n",
      "All training process\n",
      "All training process\n",
      "All training process\n",
      "All training process\n",
      "All training process\n",
      "All training process\n",
      "All training process\n",
      "All training process\n",
      "All training process\n",
      "All training process\n",
      "All training process\n",
      "All training process\n",
      "All training process\n",
      "All training process\n",
      "All training process\n",
      "All training process\n",
      "All training process\n",
      "All training process\n",
      "All training process\n",
      "All training process\n",
      "All training process\n",
      "All training process\n",
      "All training process\n",
      "All training process\n",
      "All training process\n",
      "All training process\n",
      "All training process\n",
      "All training process\n",
      "All training process\n",
      "All training process\n",
      "All training process\n",
      "All training process\n",
      "All training process\n",
      "All training process\n",
      "All training process\n",
      "All training process\n",
      "All training process\n",
      "All training process\n",
      "All training process\n",
      "All training process\n",
      "All training process\n",
      "All training process\n",
      "All training process\n",
      "All training process\n",
      "All training process\n",
      "All training process\n",
      "All training process\n",
      "All training process\n",
      "All training process\n",
      "All training process\n",
      "All training process\n",
      "All training process\n",
      "All training process\n",
      "All training process\n",
      "All training process\n",
      "All training process\n",
      "All training process\n",
      "All training process\n",
      "All training process\n",
      "All training process\n",
      "All training process\n",
      "All training process\n",
      "All training process\n",
      "All training process\n",
      "All training process\n",
      "All training process\n",
      "All training process\n",
      "All training process\n",
      "All training process\n",
      "All training process\n",
      "All training process\n",
      "All training process\n",
      "All training process\n",
      "All training process\n",
      "All training process\n",
      "All training process\n",
      "All training process\n",
      "All training process\n",
      "All training process\n",
      "All training process\n",
      "All training process\n",
      "All training process\n",
      "All training process\n",
      "All training process\n",
      "All training process\n",
      "All training process\n",
      "All training process\n",
      "All training process\n",
      "All training process\n",
      "All training process\n",
      "All training process\n",
      "All training process\n",
      "All training process\n",
      "All training process\n",
      "All training process\n",
      "All training process\n",
      "All training process\n",
      "All training process\n",
      "All training process\n",
      "All training process\n",
      "All training process\n",
      "All training process\n",
      "All training process\n",
      "All training process\n",
      "All training process\n",
      "All training process\n",
      "All training process\n",
      "All training process\n",
      "All training process\n",
      "All training process\n",
      "All training process\n",
      "All training process\n",
      "All training process\n",
      "All training process\n",
      "All training process\n",
      "All training process\n",
      "All training process\n",
      "All training process\n",
      "All training process\n",
      "All training process\n",
      "All training process\n",
      "All training process\n",
      "All training process\n",
      "All training process\n",
      "All training process\n",
      "All training process\n",
      "All training process\n",
      "All training process\n",
      "All training process\n",
      "All training process\n",
      "All training process\n",
      "All training process\n",
      "All training process\n",
      "All training process\n",
      "All training process\n",
      "All training process\n",
      "All training process\n",
      "All training process\n",
      "All training process\n",
      "All training process\n",
      "All training process\n",
      "All training process\n",
      "All training process\n",
      "All training process\n",
      "All training process\n",
      "All training process\n",
      "All training process\n",
      "All training process\n",
      "All training process\n",
      "All training process\n",
      "All training process\n",
      "All training process\n",
      "All training process\n",
      "All training process\n",
      "All training process\n",
      "All training process\n",
      "All training process\n",
      "All training process\n",
      "All training process\n",
      "All training process\n",
      "All training process\n",
      "All training process\n",
      "All training process\n",
      "All training process\n",
      "All training process\n",
      "All training process\n",
      "All training process\n",
      "All training process\n",
      "All training process\n",
      "All training process\n",
      "All training process\n",
      "All training process\n",
      "All training process\n",
      "All training process\n",
      "All training process\n",
      "All training process\n",
      "All training process\n",
      "All training process\n",
      "All training process\n",
      "All training process\n",
      "All training process\n",
      "All training process\n",
      "All training process\n",
      "All training process\n",
      "All training process\n",
      "All training process\n",
      "All training process\n",
      "All training process\n",
      "All training process\n",
      "All training process\n",
      "All training process\n",
      "All training process\n",
      "All training process\n",
      "All training process\n",
      "All training process\n",
      "All training process\n",
      "All training process\n",
      "All training process\n",
      "All training process\n",
      "All training process\n",
      "All training process\n",
      "All training process\n",
      "All training process\n",
      "Fold: 1\n",
      "Epoch 0/199\n"
     ]
    },
    {
     "name": "stderr",
     "output_type": "stream",
     "text": [
      "epoch 0 loss: 0.4296:  68%|████████████▉      | 171/251 [01:03<00:28,  2.80it/s]libpng warning: iCCP: known incorrect sRGB profile\n",
      "epoch 0 loss: 0.2599: 100%|███████████████████| 251/251 [01:32<00:00,  2.70it/s]\n",
      "epoch 0 loss: 0.0768: 100%|███████████████████| 126/126 [00:16<00:00,  7.51it/s]\n"
     ]
    },
    {
     "name": "stdout",
     "output_type": "stream",
     "text": [
      "Fold: 1\n",
      "Epoch 1/199\n"
     ]
    },
    {
     "name": "stderr",
     "output_type": "stream",
     "text": [
      "epoch 1 loss: 0.0317:  68%|████████████▉      | 171/251 [01:03<00:28,  2.77it/s]libpng warning: iCCP: known incorrect sRGB profile\n",
      "epoch 1 loss: 0.0218: 100%|███████████████████| 251/251 [01:32<00:00,  2.70it/s]\n",
      "epoch 1 loss: 0.0596: 100%|███████████████████| 126/126 [00:17<00:00,  7.31it/s]\n"
     ]
    },
    {
     "name": "stdout",
     "output_type": "stream",
     "text": [
      "Fold: 1\n",
      "Epoch 2/199\n"
     ]
    },
    {
     "name": "stderr",
     "output_type": "stream",
     "text": [
      "epoch 2 loss: 0.0051:  68%|████████████▉      | 171/251 [01:04<00:28,  2.80it/s]libpng warning: iCCP: known incorrect sRGB profile\n",
      "epoch 2 loss: 0.0038: 100%|███████████████████| 251/251 [01:33<00:00,  2.69it/s]\n",
      "epoch 2 loss: 0.0584: 100%|███████████████████| 126/126 [00:17<00:00,  7.40it/s]\n"
     ]
    },
    {
     "name": "stdout",
     "output_type": "stream",
     "text": [
      "Fold: 1\n",
      "Epoch 3/199\n"
     ]
    },
    {
     "name": "stderr",
     "output_type": "stream",
     "text": [
      "epoch 3 loss: 0.0017:  69%|█████████████      | 172/251 [01:04<00:29,  2.66it/s]libpng warning: iCCP: known incorrect sRGB profile\n",
      "epoch 3 loss: 0.0015: 100%|███████████████████| 251/251 [01:33<00:00,  2.68it/s]\n",
      "epoch 3 loss: 0.0591: 100%|███████████████████| 126/126 [00:16<00:00,  7.41it/s]\n"
     ]
    },
    {
     "name": "stdout",
     "output_type": "stream",
     "text": [
      "Fold: 1\n",
      "Epoch 4/199\n"
     ]
    },
    {
     "name": "stderr",
     "output_type": "stream",
     "text": [
      "epoch 4 loss: 0.0009:  68%|████████████▉      | 171/251 [01:04<00:28,  2.78it/s]libpng warning: iCCP: known incorrect sRGB profile\n",
      "epoch 4 loss: 0.0009: 100%|███████████████████| 251/251 [01:32<00:00,  2.70it/s]\n",
      "epoch 4 loss: 0.0595: 100%|███████████████████| 126/126 [00:17<00:00,  7.36it/s]\n"
     ]
    },
    {
     "name": "stdout",
     "output_type": "stream",
     "text": [
      "Fold: 1\n",
      "Epoch 5/199\n"
     ]
    },
    {
     "name": "stderr",
     "output_type": "stream",
     "text": [
      "epoch 5 loss: 0.0006:  68%|████████████▉      | 171/251 [01:03<00:28,  2.78it/s]libpng warning: iCCP: known incorrect sRGB profile\n",
      "epoch 5 loss: 0.0006: 100%|███████████████████| 251/251 [01:33<00:00,  2.70it/s]\n",
      "epoch 5 loss: 0.0602: 100%|███████████████████| 126/126 [00:17<00:00,  7.22it/s]\n"
     ]
    },
    {
     "name": "stdout",
     "output_type": "stream",
     "text": [
      "Fold: 1\n",
      "Epoch 6/199\n"
     ]
    },
    {
     "name": "stderr",
     "output_type": "stream",
     "text": [
      "epoch 6 loss: 0.0004:  68%|████████████▉      | 171/251 [01:04<00:28,  2.80it/s]libpng warning: iCCP: known incorrect sRGB profile\n",
      "epoch 6 loss: 0.0004: 100%|███████████████████| 251/251 [01:33<00:00,  2.69it/s]\n",
      "epoch 6 loss: 0.0604: 100%|███████████████████| 126/126 [00:17<00:00,  7.37it/s]\n"
     ]
    },
    {
     "name": "stdout",
     "output_type": "stream",
     "text": [
      "Fold: 1\n",
      "Epoch 7/199\n"
     ]
    },
    {
     "name": "stderr",
     "output_type": "stream",
     "text": [
      "epoch 7 loss: 0.0003:  68%|████████████▉      | 171/251 [01:03<00:29,  2.68it/s]libpng warning: iCCP: known incorrect sRGB profile\n",
      "epoch 7 loss: 0.0003: 100%|███████████████████| 251/251 [01:32<00:00,  2.71it/s]\n",
      "epoch 7 loss: 0.0607: 100%|███████████████████| 126/126 [00:17<00:00,  7.17it/s]\n"
     ]
    },
    {
     "name": "stdout",
     "output_type": "stream",
     "text": [
      "Fold: 1\n",
      "Epoch 8/199\n"
     ]
    },
    {
     "name": "stderr",
     "output_type": "stream",
     "text": [
      "epoch 8 loss: 0.0002:  68%|████████████▉      | 171/251 [01:03<00:28,  2.80it/s]libpng warning: iCCP: known incorrect sRGB profile\n",
      "epoch 8 loss: 0.0002: 100%|███████████████████| 251/251 [01:33<00:00,  2.69it/s]\n",
      "epoch 8 loss: 0.0613: 100%|███████████████████| 126/126 [00:16<00:00,  7.49it/s]"
     ]
    },
    {
     "name": "stdout",
     "output_type": "stream",
     "text": [
      "EarlyStopping counter: 1 out of 5\n",
      "Best F1 score from now: 0.9793780074534821\n",
      "Fold: 1\n",
      "Epoch 9/199\n"
     ]
    },
    {
     "name": "stderr",
     "output_type": "stream",
     "text": [
      "\n",
      "epoch 9 loss: 0.0002:  68%|████████████▉      | 171/251 [01:04<00:28,  2.79it/s]libpng warning: iCCP: known incorrect sRGB profile\n",
      "epoch 9 loss: 0.0002: 100%|███████████████████| 251/251 [01:33<00:00,  2.69it/s]\n",
      "epoch 9 loss: 0.0620: 100%|███████████████████| 126/126 [00:17<00:00,  7.40it/s]\n"
     ]
    },
    {
     "name": "stdout",
     "output_type": "stream",
     "text": [
      "Fold: 1\n",
      "Epoch 10/199\n"
     ]
    },
    {
     "name": "stderr",
     "output_type": "stream",
     "text": [
      "epoch 10 loss: 0.0002:  69%|████████████▎     | 172/251 [01:04<00:28,  2.76it/s]libpng warning: iCCP: known incorrect sRGB profile\n",
      "epoch 10 loss: 0.0002: 100%|██████████████████| 251/251 [01:32<00:00,  2.70it/s]\n",
      "epoch 10 loss: 0.0623: 100%|██████████████████| 126/126 [00:17<00:00,  7.38it/s]\n"
     ]
    },
    {
     "name": "stdout",
     "output_type": "stream",
     "text": [
      "Fold: 1\n",
      "Epoch 11/199\n"
     ]
    },
    {
     "name": "stderr",
     "output_type": "stream",
     "text": [
      "epoch 11 loss: 0.0001:  68%|████████████▎     | 171/251 [01:03<00:28,  2.79it/s]libpng warning: iCCP: known incorrect sRGB profile\n",
      "epoch 11 loss: 0.0001: 100%|██████████████████| 251/251 [01:33<00:00,  2.70it/s]\n",
      "epoch 11 loss: 0.0629: 100%|██████████████████| 126/126 [00:16<00:00,  7.42it/s]"
     ]
    },
    {
     "name": "stdout",
     "output_type": "stream",
     "text": [
      "EarlyStopping counter: 1 out of 5\n",
      "Best F1 score from now: 0.9802128264479042\n",
      "Fold: 1\n",
      "Epoch 12/199\n"
     ]
    },
    {
     "name": "stderr",
     "output_type": "stream",
     "text": [
      "\n",
      "epoch 12 loss: 0.0001:  68%|████████████▎     | 171/251 [01:03<00:28,  2.78it/s]libpng warning: iCCP: known incorrect sRGB profile\n",
      "epoch 12 loss: 0.0001: 100%|██████████████████| 251/251 [01:32<00:00,  2.71it/s]\n",
      "epoch 12 loss: 0.0634: 100%|██████████████████| 126/126 [00:16<00:00,  7.45it/s]\n"
     ]
    },
    {
     "name": "stdout",
     "output_type": "stream",
     "text": [
      "EarlyStopping counter: 2 out of 5\n",
      "Best F1 score from now: 0.9802128264479042\n",
      "Fold: 1\n",
      "Epoch 13/199\n"
     ]
    },
    {
     "name": "stderr",
     "output_type": "stream",
     "text": [
      "epoch 13 loss: 0.0001:  68%|████████████▎     | 171/251 [01:04<00:28,  2.79it/s]libpng warning: iCCP: known incorrect sRGB profile\n",
      "epoch 13 loss: 0.0001: 100%|██████████████████| 251/251 [01:33<00:00,  2.70it/s]\n",
      "epoch 13 loss: 0.0641: 100%|██████████████████| 126/126 [00:17<00:00,  7.27it/s]\n"
     ]
    },
    {
     "name": "stdout",
     "output_type": "stream",
     "text": [
      "Fold: 1\n",
      "Epoch 14/199\n"
     ]
    },
    {
     "name": "stderr",
     "output_type": "stream",
     "text": [
      "epoch 14 loss: 0.0001:  68%|████████████▎     | 171/251 [01:04<00:28,  2.79it/s]libpng warning: iCCP: known incorrect sRGB profile\n",
      "epoch 14 loss: 0.0001: 100%|██████████████████| 251/251 [01:33<00:00,  2.69it/s]\n",
      "epoch 14 loss: 0.0638: 100%|██████████████████| 126/126 [00:17<00:00,  7.35it/s]\n"
     ]
    },
    {
     "name": "stdout",
     "output_type": "stream",
     "text": [
      "Fold: 1\n",
      "Epoch 15/199\n"
     ]
    },
    {
     "name": "stderr",
     "output_type": "stream",
     "text": [
      "epoch 15 loss: 0.0001:  69%|████████████▎     | 172/251 [01:04<00:29,  2.72it/s]libpng warning: iCCP: known incorrect sRGB profile\n",
      "epoch 15 loss: 0.0001: 100%|██████████████████| 251/251 [01:33<00:00,  2.68it/s]\n",
      "epoch 15 loss: 0.0645: 100%|██████████████████| 126/126 [00:17<00:00,  7.17it/s]\n"
     ]
    },
    {
     "name": "stdout",
     "output_type": "stream",
     "text": [
      "Fold: 1\n",
      "Epoch 16/199\n"
     ]
    },
    {
     "name": "stderr",
     "output_type": "stream",
     "text": [
      "epoch 16 loss: 0.0001:  68%|████████████▎     | 171/251 [01:04<00:28,  2.79it/s]libpng warning: iCCP: known incorrect sRGB profile\n",
      "epoch 16 loss: 0.0001: 100%|██████████████████| 251/251 [01:33<00:00,  2.68it/s]\n",
      "epoch 16 loss: 0.0649: 100%|██████████████████| 126/126 [00:17<00:00,  7.38it/s]"
     ]
    },
    {
     "name": "stdout",
     "output_type": "stream",
     "text": [
      "EarlyStopping counter: 1 out of 5\n",
      "Best F1 score from now: 0.9810473673883444\n",
      "Fold: 1\n",
      "Epoch 17/199\n"
     ]
    },
    {
     "name": "stderr",
     "output_type": "stream",
     "text": [
      "\n",
      "epoch 17 loss: 0.0000:  68%|████████████▎     | 171/251 [01:03<00:28,  2.80it/s]libpng warning: iCCP: known incorrect sRGB profile\n",
      "epoch 17 loss: 0.0001: 100%|██████████████████| 251/251 [01:33<00:00,  2.70it/s]\n",
      "epoch 17 loss: 0.0654: 100%|██████████████████| 126/126 [00:16<00:00,  7.49it/s]"
     ]
    },
    {
     "name": "stdout",
     "output_type": "stream",
     "text": [
      "EarlyStopping counter: 2 out of 5\n",
      "Best F1 score from now: 0.9810473673883444\n",
      "Fold: 1\n",
      "Epoch 18/199\n"
     ]
    },
    {
     "name": "stderr",
     "output_type": "stream",
     "text": [
      "\n",
      "epoch 18 loss: 0.0000:  68%|████████████▎     | 171/251 [01:03<00:28,  2.78it/s]libpng warning: iCCP: known incorrect sRGB profile\n",
      "epoch 18 loss: 0.0000: 100%|██████████████████| 251/251 [01:33<00:00,  2.70it/s]\n",
      "epoch 18 loss: 0.0657: 100%|██████████████████| 126/126 [00:17<00:00,  7.30it/s]\n"
     ]
    },
    {
     "name": "stdout",
     "output_type": "stream",
     "text": [
      "Fold: 1\n",
      "Epoch 19/199\n"
     ]
    },
    {
     "name": "stderr",
     "output_type": "stream",
     "text": [
      "epoch 19 loss: 0.0000:  68%|████████████▎     | 171/251 [01:04<00:28,  2.78it/s]libpng warning: iCCP: known incorrect sRGB profile\n",
      "epoch 19 loss: 0.0000: 100%|██████████████████| 251/251 [01:33<00:00,  2.69it/s]\n",
      "epoch 19 loss: 0.0662: 100%|██████████████████| 126/126 [00:17<00:00,  7.27it/s]\n"
     ]
    },
    {
     "name": "stdout",
     "output_type": "stream",
     "text": [
      "Fold: 1\n",
      "Epoch 20/199\n"
     ]
    },
    {
     "name": "stderr",
     "output_type": "stream",
     "text": [
      "epoch 20 loss: 0.0000:  68%|████████████▎     | 171/251 [01:03<00:30,  2.64it/s]libpng warning: iCCP: known incorrect sRGB profile\n",
      "epoch 20 loss: 0.0000: 100%|██████████████████| 251/251 [01:32<00:00,  2.70it/s]\n",
      "epoch 20 loss: 0.0665: 100%|██████████████████| 126/126 [00:17<00:00,  7.25it/s]\n"
     ]
    },
    {
     "name": "stdout",
     "output_type": "stream",
     "text": [
      "Fold: 1\n",
      "Epoch 21/199\n"
     ]
    },
    {
     "name": "stderr",
     "output_type": "stream",
     "text": [
      "epoch 21 loss: 0.0000:  68%|████████████▎     | 171/251 [01:04<00:29,  2.71it/s]libpng warning: iCCP: known incorrect sRGB profile\n",
      "epoch 21 loss: 0.0000: 100%|██████████████████| 251/251 [01:33<00:00,  2.69it/s]\n",
      "epoch 21 loss: 0.0668: 100%|██████████████████| 126/126 [00:17<00:00,  7.40it/s]"
     ]
    },
    {
     "name": "stdout",
     "output_type": "stream",
     "text": [
      "EarlyStopping counter: 1 out of 5\n",
      "Best F1 score from now: 0.9817184400808661\n",
      "Fold: 1\n",
      "Epoch 22/199\n"
     ]
    },
    {
     "name": "stderr",
     "output_type": "stream",
     "text": [
      "\n",
      "epoch 22 loss: 0.0000:  68%|████████████▎     | 171/251 [01:04<00:28,  2.79it/s]libpng warning: iCCP: known incorrect sRGB profile\n",
      "epoch 22 loss: 0.0000: 100%|██████████████████| 251/251 [01:33<00:00,  2.70it/s]\n",
      "epoch 22 loss: 0.0672: 100%|██████████████████| 126/126 [00:16<00:00,  7.53it/s]\n"
     ]
    },
    {
     "name": "stdout",
     "output_type": "stream",
     "text": [
      "EarlyStopping counter: 2 out of 5\n",
      "Best F1 score from now: 0.9817184400808661\n",
      "Fold: 1\n",
      "Epoch 23/199\n"
     ]
    },
    {
     "name": "stderr",
     "output_type": "stream",
     "text": [
      "epoch 23 loss: 0.0000:  69%|████████████▎     | 172/251 [01:04<00:28,  2.75it/s]libpng warning: iCCP: known incorrect sRGB profile\n",
      "epoch 23 loss: 0.0000: 100%|██████████████████| 251/251 [01:33<00:00,  2.69it/s]\n",
      "epoch 23 loss: 0.0675: 100%|██████████████████| 126/126 [00:17<00:00,  7.12it/s]"
     ]
    },
    {
     "name": "stdout",
     "output_type": "stream",
     "text": [
      "EarlyStopping counter: 3 out of 5\n",
      "Best F1 score from now: 0.9817184400808661\n",
      "Fold: 1\n",
      "Epoch 24/199\n"
     ]
    },
    {
     "name": "stderr",
     "output_type": "stream",
     "text": [
      "\n",
      "epoch 24 loss: 0.0000:  69%|████████████▎     | 172/251 [01:04<00:28,  2.75it/s]libpng warning: iCCP: known incorrect sRGB profile\n",
      "epoch 24 loss: 0.0000: 100%|██████████████████| 251/251 [01:33<00:00,  2.67it/s]\n",
      "epoch 24 loss: 0.0678: 100%|██████████████████| 126/126 [00:17<00:00,  7.35it/s]"
     ]
    },
    {
     "name": "stdout",
     "output_type": "stream",
     "text": [
      "EarlyStopping counter: 4 out of 5\n",
      "Best F1 score from now: 0.9817184400808661\n",
      "Fold: 1\n",
      "Epoch 25/199\n"
     ]
    },
    {
     "name": "stderr",
     "output_type": "stream",
     "text": [
      "\n",
      "epoch 25 loss: 0.0000:  68%|████████████▎     | 171/251 [01:03<00:30,  2.62it/s]libpng warning: iCCP: known incorrect sRGB profile\n",
      "epoch 25 loss: 0.0000: 100%|██████████████████| 251/251 [01:32<00:00,  2.71it/s]\n",
      "epoch 25 loss: 0.0680: 100%|██████████████████| 126/126 [00:16<00:00,  7.48it/s]\n"
     ]
    },
    {
     "name": "stdout",
     "output_type": "stream",
     "text": [
      "Fold: 1\n",
      "Epoch 26/199\n"
     ]
    },
    {
     "name": "stderr",
     "output_type": "stream",
     "text": [
      "epoch 26 loss: 0.0000:  69%|████████████▎     | 172/251 [01:04<00:28,  2.73it/s]libpng warning: iCCP: known incorrect sRGB profile\n",
      "epoch 26 loss: 0.0000: 100%|██████████████████| 251/251 [01:33<00:00,  2.68it/s]\n",
      "epoch 26 loss: 0.0682: 100%|██████████████████| 126/126 [00:17<00:00,  7.32it/s]\n"
     ]
    },
    {
     "name": "stdout",
     "output_type": "stream",
     "text": [
      "EarlyStopping counter: 1 out of 5\n",
      "Best F1 score from now: 0.9820567828618902\n",
      "Fold: 1\n",
      "Epoch 27/199\n"
     ]
    },
    {
     "name": "stderr",
     "output_type": "stream",
     "text": [
      "epoch 27 loss: 0.0000:  68%|████████████▎     | 171/251 [01:04<00:30,  2.65it/s]libpng warning: iCCP: known incorrect sRGB profile\n",
      "epoch 27 loss: 0.0000: 100%|██████████████████| 251/251 [01:33<00:00,  2.68it/s]\n",
      "epoch 27 loss: 0.0684: 100%|██████████████████| 126/126 [00:17<00:00,  7.34it/s]\n"
     ]
    },
    {
     "name": "stdout",
     "output_type": "stream",
     "text": [
      "Fold: 1\n",
      "Epoch 28/199\n"
     ]
    },
    {
     "name": "stderr",
     "output_type": "stream",
     "text": [
      "epoch 28 loss: 0.0000:  68%|████████████▎     | 171/251 [01:04<00:29,  2.67it/s]libpng warning: iCCP: known incorrect sRGB profile\n",
      "epoch 28 loss: 0.0000: 100%|██████████████████| 251/251 [01:33<00:00,  2.68it/s]\n",
      "epoch 28 loss: 0.0685: 100%|██████████████████| 126/126 [00:16<00:00,  7.43it/s]"
     ]
    },
    {
     "name": "stdout",
     "output_type": "stream",
     "text": [
      "EarlyStopping counter: 1 out of 5\n",
      "Best F1 score from now: 0.9822199767774833\n",
      "Fold: 1\n",
      "Epoch 29/199\n"
     ]
    },
    {
     "name": "stderr",
     "output_type": "stream",
     "text": [
      "\n",
      "epoch 29 loss: 0.0000:  68%|████████████▎     | 171/251 [01:04<00:28,  2.80it/s]libpng warning: iCCP: known incorrect sRGB profile\n",
      "epoch 29 loss: 0.0000: 100%|██████████████████| 251/251 [01:33<00:00,  2.67it/s]\n",
      "epoch 29 loss: 0.0687: 100%|██████████████████| 126/126 [00:17<00:00,  7.34it/s]\n"
     ]
    },
    {
     "name": "stdout",
     "output_type": "stream",
     "text": [
      "Fold: 1\n",
      "Epoch 30/199\n"
     ]
    },
    {
     "name": "stderr",
     "output_type": "stream",
     "text": [
      "epoch 30 loss: 0.0000:  68%|████████████▎     | 171/251 [01:04<00:29,  2.73it/s]libpng warning: iCCP: known incorrect sRGB profile\n",
      "epoch 30 loss: 0.0000: 100%|██████████████████| 251/251 [01:33<00:00,  2.69it/s]\n",
      "epoch 30 loss: 0.0689: 100%|██████████████████| 126/126 [00:17<00:00,  7.23it/s]"
     ]
    },
    {
     "name": "stdout",
     "output_type": "stream",
     "text": [
      "EarlyStopping counter: 1 out of 5\n",
      "Best F1 score from now: 0.982389064660744\n",
      "Fold: 1\n",
      "Epoch 31/199\n"
     ]
    },
    {
     "name": "stderr",
     "output_type": "stream",
     "text": [
      "\n",
      "epoch 31 loss: 0.0000:  68%|████████████▎     | 171/251 [01:03<00:28,  2.78it/s]libpng warning: iCCP: known incorrect sRGB profile\n",
      "epoch 31 loss: 0.0000: 100%|██████████████████| 251/251 [01:33<00:00,  2.68it/s]\n",
      "epoch 31 loss: 0.0690: 100%|██████████████████| 126/126 [00:17<00:00,  7.21it/s]"
     ]
    },
    {
     "name": "stdout",
     "output_type": "stream",
     "text": [
      "EarlyStopping counter: 2 out of 5\n",
      "Best F1 score from now: 0.982389064660744\n",
      "Fold: 1\n",
      "Epoch 32/199\n"
     ]
    },
    {
     "name": "stderr",
     "output_type": "stream",
     "text": [
      "\n",
      "epoch 32 loss: 0.0000:  69%|████████████▎     | 172/251 [01:04<00:28,  2.74it/s]libpng warning: iCCP: known incorrect sRGB profile\n",
      "epoch 32 loss: 0.0000: 100%|██████████████████| 251/251 [01:33<00:00,  2.69it/s]\n",
      "epoch 32 loss: 0.0692: 100%|██████████████████| 126/126 [00:17<00:00,  7.33it/s]\n"
     ]
    },
    {
     "name": "stdout",
     "output_type": "stream",
     "text": [
      "EarlyStopping counter: 3 out of 5\n",
      "Best F1 score from now: 0.982389064660744\n",
      "Fold: 1\n",
      "Epoch 33/199\n"
     ]
    },
    {
     "name": "stderr",
     "output_type": "stream",
     "text": [
      "epoch 33 loss: 0.0000:  69%|████████████▎     | 172/251 [01:04<00:30,  2.58it/s]libpng warning: iCCP: known incorrect sRGB profile\n",
      "epoch 33 loss: 0.0000: 100%|██████████████████| 251/251 [01:33<00:00,  2.69it/s]\n",
      "epoch 33 loss: 0.0694: 100%|██████████████████| 126/126 [00:16<00:00,  7.44it/s]"
     ]
    },
    {
     "name": "stdout",
     "output_type": "stream",
     "text": [
      "EarlyStopping counter: 4 out of 5\n",
      "Best F1 score from now: 0.982389064660744\n",
      "Fold: 1\n",
      "Epoch 34/199\n"
     ]
    },
    {
     "name": "stderr",
     "output_type": "stream",
     "text": [
      "\n",
      "epoch 34 loss: 0.0000:  68%|████████████▎     | 171/251 [01:04<00:28,  2.79it/s]libpng warning: iCCP: known incorrect sRGB profile\n",
      "epoch 34 loss: 0.0000: 100%|██████████████████| 251/251 [01:33<00:00,  2.68it/s]\n",
      "epoch 34 loss: 0.0696: 100%|██████████████████| 126/126 [00:17<00:00,  7.33it/s]\n"
     ]
    },
    {
     "name": "stdout",
     "output_type": "stream",
     "text": [
      "EarlyStopping counter: 5 out of 5\n",
      "Best F1 score from now: 0.982389064660744\n",
      "stop called\n",
      "time : 1:05:05\n",
      "fold: 1, Best Epoch : 29/ 35\n",
      "fold: 1, Best Train Marco F1 : 1.00000\n",
      "[[24000     0]\n",
      " [    0  8045]]\n",
      "fold: 1, Best Valid Marco F1 : 0.98239\n",
      "[[5951   49]\n",
      " [  57 1955]]\n",
      "---------------------------------------------------------\n",
      "Training start with fold: 2 epoch: 200 \n",
      "\n",
      "All training process\n",
      "All training process\n",
      "All training process\n",
      "All training process\n",
      "All training process\n",
      "All training process\n",
      "All training process\n",
      "All training process\n",
      "All training process\n",
      "All training process\n",
      "All training process\n",
      "All training process\n",
      "All training process\n",
      "All training process\n",
      "All training process\n",
      "All training process\n",
      "All training process\n",
      "All training process\n",
      "All training process\n",
      "All training process\n",
      "All training process\n",
      "All training process\n",
      "All training process\n",
      "All training process\n",
      "All training process\n",
      "All training process\n",
      "All training process\n",
      "All training process\n",
      "All training process\n",
      "All training process\n",
      "All training process\n",
      "All training process\n",
      "All training process\n",
      "All training process\n",
      "All training process\n",
      "All training process\n",
      "All training process\n",
      "All training process\n",
      "All training process\n",
      "All training process\n",
      "All training process\n",
      "All training process\n",
      "All training process\n",
      "All training process\n",
      "All training process\n",
      "All training process\n",
      "All training process\n",
      "All training process\n",
      "All training process\n",
      "All training process\n",
      "All training process\n",
      "All training process\n",
      "All training process\n",
      "All training process\n",
      "All training process\n",
      "All training process\n",
      "All training process\n",
      "All training process\n",
      "All training process\n",
      "All training process\n",
      "All training process\n",
      "All training process\n",
      "All training process\n",
      "All training process\n",
      "All training process\n",
      "All training process\n",
      "All training process\n",
      "All training process\n",
      "All training process\n",
      "All training process\n",
      "All training process\n",
      "All training process\n",
      "All training process\n",
      "All training process\n",
      "All training process\n",
      "All training process\n",
      "All training process\n",
      "All training process\n",
      "All training process\n",
      "All training process\n",
      "All training process\n",
      "All training process\n",
      "All training process\n",
      "All training process\n",
      "All training process\n",
      "All training process\n",
      "All training process\n",
      "All training process\n",
      "All training process\n",
      "All training process\n",
      "All training process\n",
      "All training process\n",
      "All training process\n",
      "All training process\n",
      "All training process\n",
      "All training process\n",
      "All training process\n",
      "All training process\n",
      "All training process\n",
      "All training process\n",
      "All training process\n",
      "All training process\n",
      "All training process\n",
      "All training process\n",
      "All training process\n",
      "All training process\n",
      "All training process\n",
      "All training process\n",
      "All training process\n",
      "All training process\n",
      "All training process\n",
      "All training process\n",
      "All training process\n",
      "All training process\n",
      "All training process\n",
      "All training process\n",
      "All training process\n",
      "All training process\n",
      "All training process\n",
      "All training process\n",
      "All training process\n",
      "All training process\n",
      "All training process\n",
      "All training process\n",
      "All training process\n",
      "All training process\n",
      "All training process\n",
      "All training process\n",
      "All training process\n",
      "All training process\n",
      "All training process\n",
      "All training process\n",
      "All training process\n",
      "All training process\n",
      "All training process\n",
      "All training process\n",
      "All training process\n",
      "All training process\n",
      "All training process\n",
      "All training process\n",
      "All training process\n",
      "All training process\n",
      "All training process\n",
      "All training process\n",
      "All training process\n",
      "All training process\n",
      "All training process\n",
      "All training process\n",
      "All training process\n",
      "All training process\n",
      "All training process\n",
      "All training process\n",
      "All training process\n",
      "All training process\n",
      "All training process\n",
      "All training process\n",
      "All training process\n",
      "All training process\n",
      "All training process\n",
      "All training process\n",
      "All training process\n",
      "All training process\n",
      "All training process\n",
      "All training process\n",
      "All training process\n",
      "All training process\n",
      "All training process\n",
      "All training process\n",
      "All training process\n",
      "All training process\n",
      "All training process\n",
      "All training process\n",
      "All training process\n",
      "All training process\n",
      "All training process\n",
      "All training process\n",
      "All training process\n",
      "All training process\n",
      "All training process\n",
      "All training process\n",
      "All training process\n",
      "All training process\n",
      "All training process\n",
      "All training process\n",
      "All training process\n",
      "All training process\n",
      "All training process\n",
      "All training process\n",
      "All training process\n",
      "All training process\n",
      "All training process\n",
      "All training process\n",
      "All training process\n",
      "All training process\n",
      "All training process\n",
      "All training process\n",
      "All training process\n",
      "All training process\n",
      "All training process\n",
      "All training process\n",
      "All training process\n",
      "All training process\n",
      "All training process\n",
      "All training process\n",
      "All training process\n",
      "All training process\n",
      "All training process\n",
      "All training process\n",
      "All training process\n",
      "All training process\n",
      "All training process\n",
      "All training process\n",
      "All training process\n",
      "All training process\n",
      "All training process\n",
      "All training process\n",
      "All training process\n",
      "All training process\n",
      "All training process\n",
      "All training process\n",
      "All training process\n",
      "All training process\n",
      "All training process\n",
      "All training process\n",
      "All training process\n",
      "All training process\n",
      "All training process\n",
      "All training process\n",
      "All training process\n",
      "All training process\n",
      "All training process\n",
      "All training process\n",
      "All training process\n",
      "All training process\n",
      "All training process\n",
      "All training process\n",
      "All training process\n",
      "All training process\n",
      "All training process\n",
      "All training process\n",
      "All training process\n",
      "All training process\n",
      "All training process\n",
      "All training process\n",
      "All training process\n",
      "All training process\n",
      "All training process\n",
      "All training process\n",
      "All training process\n",
      "All training process\n",
      "All training process\n",
      "All training process\n",
      "All training process\n",
      "All training process\n",
      "All training process\n",
      "All training process\n",
      "All training process\n",
      "All training process\n",
      "All training process\n",
      "All training process\n",
      "All training process\n",
      "All training process\n",
      "All training process\n",
      "All training process\n",
      "All training process\n",
      "All training process\n",
      "All training process\n",
      "All training process\n",
      "All training process\n",
      "All training process\n",
      "All training process\n",
      "All training process\n",
      "All training process\n",
      "All training process\n",
      "All training process\n",
      "All training process\n",
      "All training process\n",
      "All training process\n",
      "All training process\n",
      "All training process\n",
      "All training process\n",
      "All training process\n",
      "All training process\n",
      "All training process\n",
      "All training process\n",
      "All training process\n",
      "All training process\n",
      "All training process\n",
      "All training process\n",
      "All training process\n",
      "All training process\n",
      "All training process\n",
      "All training process\n",
      "All training process\n",
      "All training process\n",
      "All training process\n",
      "All training process\n",
      "All training process\n",
      "All training process\n",
      "All training process\n",
      "All training process\n",
      "Fold: 2\n",
      "Epoch 0/199\n"
     ]
    },
    {
     "name": "stderr",
     "output_type": "stream",
     "text": [
      "epoch 0 loss: 0.3857:  73%|█████████████▊     | 182/251 [01:08<00:25,  2.67it/s]libpng warning: iCCP: known incorrect sRGB profile\n",
      "epoch 0 loss: 0.2451: 100%|███████████████████| 251/251 [01:38<00:00,  2.54it/s]\n",
      "epoch 0 loss: 0.0876: 100%|███████████████████| 126/126 [00:17<00:00,  7.27it/s]\n"
     ]
    },
    {
     "name": "stdout",
     "output_type": "stream",
     "text": [
      "Fold: 2\n",
      "Epoch 1/199\n"
     ]
    },
    {
     "name": "stderr",
     "output_type": "stream",
     "text": [
      "epoch 1 loss: 0.0316:  73%|█████████████▊     | 183/251 [01:09<00:24,  2.76it/s]libpng warning: iCCP: known incorrect sRGB profile\n",
      "epoch 1 loss: 0.0229: 100%|███████████████████| 251/251 [01:34<00:00,  2.66it/s]\n",
      "epoch 1 loss: 0.0782: 100%|███████████████████| 126/126 [00:16<00:00,  7.49it/s]\n"
     ]
    },
    {
     "name": "stdout",
     "output_type": "stream",
     "text": [
      "Fold: 2\n",
      "Epoch 2/199\n"
     ]
    },
    {
     "name": "stderr",
     "output_type": "stream",
     "text": [
      "epoch 2 loss: 0.0055:  73%|█████████████▊     | 182/251 [01:08<00:25,  2.71it/s]libpng warning: iCCP: known incorrect sRGB profile\n",
      "epoch 2 loss: 0.0042: 100%|███████████████████| 251/251 [01:34<00:00,  2.66it/s]\n",
      "epoch 2 loss: 0.0766: 100%|███████████████████| 126/126 [00:16<00:00,  7.45it/s]\n"
     ]
    },
    {
     "name": "stdout",
     "output_type": "stream",
     "text": [
      "Fold: 2\n",
      "Epoch 3/199\n"
     ]
    },
    {
     "name": "stderr",
     "output_type": "stream",
     "text": [
      "epoch 3 loss: 0.0016:  73%|█████████████▊     | 182/251 [01:08<00:25,  2.71it/s]libpng warning: iCCP: known incorrect sRGB profile\n",
      "epoch 3 loss: 0.0014: 100%|███████████████████| 251/251 [01:34<00:00,  2.66it/s]\n",
      "epoch 3 loss: 0.0767: 100%|███████████████████| 126/126 [00:16<00:00,  7.59it/s]\n"
     ]
    },
    {
     "name": "stdout",
     "output_type": "stream",
     "text": [
      "Fold: 2\n",
      "Epoch 4/199\n"
     ]
    },
    {
     "name": "stderr",
     "output_type": "stream",
     "text": [
      "epoch 4 loss: 0.0009:  73%|█████████████▊     | 182/251 [01:08<00:26,  2.62it/s]libpng warning: iCCP: known incorrect sRGB profile\n",
      "epoch 4 loss: 0.0008: 100%|███████████████████| 251/251 [01:34<00:00,  2.66it/s]\n",
      "epoch 4 loss: 0.0773: 100%|███████████████████| 126/126 [00:17<00:00,  7.39it/s]\n"
     ]
    },
    {
     "name": "stdout",
     "output_type": "stream",
     "text": [
      "Fold: 2\n",
      "Epoch 5/199\n"
     ]
    },
    {
     "name": "stderr",
     "output_type": "stream",
     "text": [
      "epoch 5 loss: 0.0006:  73%|█████████████▊     | 183/251 [01:09<00:24,  2.76it/s]libpng warning: iCCP: known incorrect sRGB profile\n",
      "epoch 5 loss: 0.0005: 100%|███████████████████| 251/251 [01:34<00:00,  2.66it/s]\n",
      "epoch 5 loss: 0.0783: 100%|███████████████████| 126/126 [00:17<00:00,  7.38it/s]\n"
     ]
    },
    {
     "name": "stdout",
     "output_type": "stream",
     "text": [
      "Fold: 2\n",
      "Epoch 6/199\n"
     ]
    },
    {
     "name": "stderr",
     "output_type": "stream",
     "text": [
      "epoch 6 loss: 0.0004:  73%|█████████████▊     | 182/251 [01:08<00:25,  2.72it/s]libpng warning: iCCP: known incorrect sRGB profile\n",
      "epoch 6 loss: 0.0004: 100%|███████████████████| 251/251 [01:33<00:00,  2.67it/s]\n",
      "epoch 6 loss: 0.0792: 100%|███████████████████| 126/126 [00:16<00:00,  7.43it/s]\n"
     ]
    },
    {
     "name": "stdout",
     "output_type": "stream",
     "text": [
      "Fold: 2\n",
      "Epoch 7/199\n"
     ]
    },
    {
     "name": "stderr",
     "output_type": "stream",
     "text": [
      "epoch 7 loss: 0.0003:  73%|█████████████▊     | 182/251 [01:08<00:25,  2.69it/s]libpng warning: iCCP: known incorrect sRGB profile\n",
      "epoch 7 loss: 0.0003: 100%|███████████████████| 251/251 [01:34<00:00,  2.67it/s]\n",
      "epoch 7 loss: 0.0801: 100%|███████████████████| 126/126 [00:17<00:00,  7.23it/s]"
     ]
    },
    {
     "name": "stdout",
     "output_type": "stream",
     "text": [
      "EarlyStopping counter: 1 out of 5\n",
      "Best F1 score from now: 0.9745498334233698\n",
      "Fold: 2\n",
      "Epoch 8/199\n"
     ]
    },
    {
     "name": "stderr",
     "output_type": "stream",
     "text": [
      "\n",
      "epoch 8 loss: 0.0002:  73%|█████████████▊     | 182/251 [01:08<00:25,  2.72it/s]libpng warning: iCCP: known incorrect sRGB profile\n",
      "epoch 8 loss: 0.0002: 100%|███████████████████| 251/251 [01:34<00:00,  2.67it/s]\n",
      "epoch 8 loss: 0.0810: 100%|███████████████████| 126/126 [00:17<00:00,  7.35it/s]\n"
     ]
    },
    {
     "name": "stdout",
     "output_type": "stream",
     "text": [
      "Fold: 2\n",
      "Epoch 9/199\n"
     ]
    },
    {
     "name": "stderr",
     "output_type": "stream",
     "text": [
      "epoch 9 loss: 0.0002:  73%|█████████████▊     | 182/251 [01:08<00:25,  2.72it/s]libpng warning: iCCP: known incorrect sRGB profile\n",
      "epoch 9 loss: 0.0002: 100%|███████████████████| 251/251 [01:33<00:00,  2.68it/s]\n",
      "epoch 9 loss: 0.0818: 100%|███████████████████| 126/126 [00:17<00:00,  7.38it/s]\n"
     ]
    },
    {
     "name": "stdout",
     "output_type": "stream",
     "text": [
      "EarlyStopping counter: 1 out of 5\n",
      "Best F1 score from now: 0.975053001860982\n",
      "Fold: 2\n",
      "Epoch 10/199\n"
     ]
    },
    {
     "name": "stderr",
     "output_type": "stream",
     "text": [
      "epoch 10 loss: 0.0002:  73%|█████████████     | 182/251 [01:09<00:26,  2.61it/s]libpng warning: iCCP: known incorrect sRGB profile\n",
      "epoch 10 loss: 0.0001: 100%|██████████████████| 251/251 [01:34<00:00,  2.65it/s]\n",
      "epoch 10 loss: 0.0826: 100%|██████████████████| 126/126 [00:16<00:00,  7.48it/s]"
     ]
    },
    {
     "name": "stdout",
     "output_type": "stream",
     "text": [
      "EarlyStopping counter: 2 out of 5\n",
      "Best F1 score from now: 0.975053001860982\n",
      "Fold: 2\n",
      "Epoch 11/199\n"
     ]
    },
    {
     "name": "stderr",
     "output_type": "stream",
     "text": [
      "\n",
      "epoch 11 loss: 0.0001:  73%|█████████████     | 182/251 [01:09<00:25,  2.69it/s]libpng warning: iCCP: known incorrect sRGB profile\n",
      "epoch 11 loss: 0.0001: 100%|██████████████████| 251/251 [01:34<00:00,  2.65it/s]\n",
      "epoch 11 loss: 0.0833: 100%|██████████████████| 126/126 [00:17<00:00,  7.33it/s]"
     ]
    },
    {
     "name": "stdout",
     "output_type": "stream",
     "text": [
      "EarlyStopping counter: 3 out of 5\n",
      "Best F1 score from now: 0.975053001860982\n",
      "Fold: 2\n",
      "Epoch 12/199\n"
     ]
    },
    {
     "name": "stderr",
     "output_type": "stream",
     "text": [
      "\n",
      "epoch 12 loss: 0.0001:  73%|█████████████     | 182/251 [01:09<00:27,  2.52it/s]libpng warning: iCCP: known incorrect sRGB profile\n",
      "epoch 12 loss: 0.0001: 100%|██████████████████| 251/251 [01:34<00:00,  2.66it/s]\n",
      "epoch 12 loss: 0.0840: 100%|██████████████████| 126/126 [00:16<00:00,  7.44it/s]\n"
     ]
    },
    {
     "name": "stdout",
     "output_type": "stream",
     "text": [
      "EarlyStopping counter: 4 out of 5\n",
      "Best F1 score from now: 0.975053001860982\n",
      "Fold: 2\n",
      "Epoch 13/199\n"
     ]
    },
    {
     "name": "stderr",
     "output_type": "stream",
     "text": [
      "epoch 13 loss: 0.0001:  73%|█████████████     | 182/251 [01:09<00:25,  2.70it/s]libpng warning: iCCP: known incorrect sRGB profile\n",
      "epoch 13 loss: 0.0001: 100%|██████████████████| 251/251 [01:34<00:00,  2.64it/s]\n",
      "epoch 13 loss: 0.0847: 100%|██████████████████| 126/126 [00:17<00:00,  7.36it/s]\n"
     ]
    },
    {
     "name": "stdout",
     "output_type": "stream",
     "text": [
      "EarlyStopping counter: 5 out of 5\n",
      "Best F1 score from now: 0.975053001860982\n",
      "stop called\n",
      "time : 0:26:19\n",
      "fold: 2, Best Epoch : 8/ 14\n",
      "fold: 2, Best Train Marco F1 : 1.00000\n",
      "[[24000     0]\n",
      " [    0  8046]]\n",
      "fold: 2, Best Valid Marco F1 : 0.97505\n",
      "[[5931   69]\n",
      " [  81 1930]]\n",
      "---------------------------------------------------------\n",
      "Training start with fold: 3 epoch: 200 \n",
      "\n",
      "All training process\n",
      "All training process\n",
      "All training process\n",
      "All training process\n",
      "All training process\n",
      "All training process\n",
      "All training process\n",
      "All training process\n",
      "All training process\n",
      "All training process\n",
      "All training process\n",
      "All training process\n",
      "All training process\n",
      "All training process\n",
      "All training process\n",
      "All training process\n",
      "All training process\n",
      "All training process\n",
      "All training process\n",
      "All training process\n",
      "All training process\n",
      "All training process\n",
      "All training process\n",
      "All training process\n",
      "All training process\n",
      "All training process\n",
      "All training process\n",
      "All training process\n",
      "All training process\n",
      "All training process\n",
      "All training process\n",
      "All training process\n",
      "All training process\n",
      "All training process\n",
      "All training process\n",
      "All training process\n",
      "All training process\n",
      "All training process\n",
      "All training process\n",
      "All training process\n",
      "All training process\n",
      "All training process\n",
      "All training process\n",
      "All training process\n",
      "All training process\n",
      "All training process\n",
      "All training process\n",
      "All training process\n",
      "All training process\n",
      "All training process\n",
      "All training process\n",
      "All training process\n",
      "All training process\n",
      "All training process\n",
      "All training process\n",
      "All training process\n",
      "All training process\n",
      "All training process\n",
      "All training process\n",
      "All training process\n",
      "All training process\n",
      "All training process\n",
      "All training process\n",
      "All training process\n",
      "All training process\n",
      "All training process\n",
      "All training process\n",
      "All training process\n",
      "All training process\n",
      "All training process\n",
      "All training process\n",
      "All training process\n",
      "All training process\n",
      "All training process\n",
      "All training process\n",
      "All training process\n",
      "All training process\n",
      "All training process\n",
      "All training process\n",
      "All training process\n",
      "All training process\n",
      "All training process\n",
      "All training process\n",
      "All training process\n",
      "All training process\n",
      "All training process\n",
      "All training process\n",
      "All training process\n",
      "All training process\n",
      "All training process\n",
      "All training process\n",
      "All training process\n",
      "All training process\n",
      "All training process\n",
      "All training process\n",
      "All training process\n",
      "All training process\n",
      "All training process\n",
      "All training process\n",
      "All training process\n",
      "All training process\n",
      "All training process\n",
      "All training process\n",
      "All training process\n",
      "All training process\n",
      "All training process\n",
      "All training process\n",
      "All training process\n",
      "All training process\n",
      "All training process\n",
      "All training process\n",
      "All training process\n",
      "All training process\n",
      "All training process\n",
      "All training process\n",
      "All training process\n",
      "All training process\n",
      "All training process\n",
      "All training process\n",
      "All training process\n",
      "All training process\n",
      "All training process\n",
      "All training process\n",
      "All training process\n",
      "All training process\n",
      "All training process\n",
      "All training process\n",
      "All training process\n",
      "All training process\n",
      "All training process\n",
      "All training process\n",
      "All training process\n",
      "All training process\n",
      "All training process\n",
      "All training process\n",
      "All training process\n",
      "All training process\n",
      "All training process\n",
      "All training process\n",
      "All training process\n",
      "All training process\n",
      "All training process\n",
      "All training process\n",
      "All training process\n",
      "All training process\n",
      "All training process\n",
      "All training process\n",
      "All training process\n",
      "All training process\n",
      "All training process\n",
      "All training process\n",
      "All training process\n",
      "All training process\n",
      "All training process\n",
      "All training process\n",
      "All training process\n",
      "All training process\n",
      "All training process\n",
      "All training process\n",
      "All training process\n",
      "All training process\n",
      "All training process\n",
      "All training process\n",
      "All training process\n",
      "All training process\n",
      "All training process\n",
      "All training process\n",
      "All training process\n",
      "All training process\n",
      "All training process\n",
      "All training process\n",
      "All training process\n",
      "All training process\n",
      "All training process\n",
      "All training process\n",
      "All training process\n",
      "All training process\n",
      "All training process\n",
      "All training process\n",
      "All training process\n",
      "All training process\n",
      "All training process\n",
      "All training process\n",
      "All training process\n",
      "All training process\n",
      "All training process\n",
      "All training process\n",
      "All training process\n",
      "All training process\n",
      "All training process\n",
      "All training process\n",
      "All training process\n",
      "All training process\n",
      "All training process\n",
      "All training process\n",
      "All training process\n",
      "All training process\n",
      "All training process\n",
      "All training process\n",
      "All training process\n",
      "All training process\n",
      "All training process\n",
      "All training process\n",
      "All training process\n",
      "All training process\n",
      "All training process\n",
      "All training process\n",
      "All training process\n",
      "All training process\n",
      "All training process\n",
      "All training process\n",
      "All training process\n",
      "All training process\n",
      "All training process\n",
      "All training process\n",
      "All training process\n",
      "All training process\n",
      "All training process\n",
      "All training process\n",
      "All training process\n",
      "All training process\n",
      "All training process\n",
      "All training process\n",
      "All training process\n",
      "All training process\n",
      "All training process\n",
      "All training process\n",
      "All training process\n",
      "All training process\n",
      "All training process\n",
      "All training process\n",
      "All training process\n",
      "All training process\n",
      "All training process\n",
      "All training process\n",
      "All training process\n",
      "All training process\n",
      "All training process\n",
      "All training process\n",
      "All training process\n",
      "All training process\n",
      "All training process\n",
      "All training process\n",
      "All training process\n",
      "All training process\n",
      "All training process\n",
      "All training process\n",
      "All training process\n",
      "All training process\n",
      "All training process\n",
      "All training process\n",
      "All training process\n",
      "All training process\n",
      "All training process\n",
      "All training process\n",
      "All training process\n",
      "All training process\n",
      "All training process\n",
      "All training process\n",
      "All training process\n",
      "All training process\n",
      "All training process\n",
      "All training process\n",
      "All training process\n",
      "All training process\n",
      "All training process\n",
      "All training process\n",
      "All training process\n",
      "All training process\n",
      "All training process\n",
      "All training process\n",
      "All training process\n",
      "All training process\n",
      "All training process\n",
      "All training process\n",
      "All training process\n",
      "All training process\n",
      "All training process\n",
      "All training process\n",
      "All training process\n",
      "All training process\n",
      "All training process\n",
      "All training process\n",
      "All training process\n",
      "All training process\n",
      "All training process\n",
      "All training process\n",
      "All training process\n",
      "All training process\n",
      "All training process\n",
      "All training process\n",
      "All training process\n",
      "All training process\n",
      "All training process\n",
      "All training process\n",
      "All training process\n",
      "All training process\n",
      "All training process\n",
      "All training process\n",
      "All training process\n",
      "All training process\n",
      "Fold: 3\n",
      "Epoch 0/199\n"
     ]
    },
    {
     "name": "stderr",
     "output_type": "stream",
     "text": [
      "epoch 0 loss: 0.8664:  29%|█████▊              | 73/251 [00:28<01:04,  2.77it/s]libpng warning: iCCP: known incorrect sRGB profile\n",
      "epoch 0 loss: 0.2472: 100%|███████████████████| 251/251 [01:34<00:00,  2.67it/s]\n",
      "epoch 0 loss: 0.0890: 100%|███████████████████| 126/126 [00:17<00:00,  7.38it/s]\n"
     ]
    },
    {
     "name": "stdout",
     "output_type": "stream",
     "text": [
      "Fold: 3\n",
      "Epoch 1/199\n"
     ]
    },
    {
     "name": "stderr",
     "output_type": "stream",
     "text": [
      "epoch 1 loss: 0.0588:  29%|█████▊              | 73/251 [00:28<01:06,  2.67it/s]libpng warning: iCCP: known incorrect sRGB profile\n",
      "epoch 1 loss: 0.0220: 100%|███████████████████| 251/251 [01:34<00:00,  2.66it/s]\n",
      "epoch 1 loss: 0.0760: 100%|███████████████████| 126/126 [00:16<00:00,  7.47it/s]\n"
     ]
    },
    {
     "name": "stdout",
     "output_type": "stream",
     "text": [
      "Fold: 3\n",
      "Epoch 2/199\n"
     ]
    },
    {
     "name": "stderr",
     "output_type": "stream",
     "text": [
      "epoch 2 loss: 0.0057:  29%|█████▊              | 73/251 [00:28<01:04,  2.76it/s]libpng warning: iCCP: known incorrect sRGB profile\n",
      "epoch 2 loss: 0.0034: 100%|███████████████████| 251/251 [01:34<00:00,  2.66it/s]\n",
      "epoch 2 loss: 0.0745: 100%|███████████████████| 126/126 [00:17<00:00,  7.41it/s]\n"
     ]
    },
    {
     "name": "stdout",
     "output_type": "stream",
     "text": [
      "Fold: 3\n",
      "Epoch 3/199\n"
     ]
    },
    {
     "name": "stderr",
     "output_type": "stream",
     "text": [
      "epoch 3 loss: 0.0014:  29%|█████▊              | 73/251 [00:28<01:04,  2.77it/s]libpng warning: iCCP: known incorrect sRGB profile\n",
      "epoch 3 loss: 0.0013: 100%|███████████████████| 251/251 [01:34<00:00,  2.66it/s]\n",
      "epoch 3 loss: 0.0737: 100%|███████████████████| 126/126 [00:17<00:00,  7.41it/s]\n"
     ]
    },
    {
     "name": "stdout",
     "output_type": "stream",
     "text": [
      "Fold: 3\n",
      "Epoch 4/199\n"
     ]
    },
    {
     "name": "stderr",
     "output_type": "stream",
     "text": [
      "epoch 4 loss: 0.0008:  29%|█████▊              | 73/251 [00:29<01:04,  2.76it/s]libpng warning: iCCP: known incorrect sRGB profile\n",
      "epoch 4 loss: 0.0007: 100%|███████████████████| 251/251 [01:34<00:00,  2.65it/s]\n",
      "epoch 4 loss: 0.0738: 100%|███████████████████| 126/126 [00:16<00:00,  7.44it/s]\n"
     ]
    },
    {
     "name": "stdout",
     "output_type": "stream",
     "text": [
      "Fold: 3\n",
      "Epoch 5/199\n"
     ]
    },
    {
     "name": "stderr",
     "output_type": "stream",
     "text": [
      "epoch 5 loss: 0.0005:  29%|█████▊              | 73/251 [00:28<01:04,  2.75it/s]libpng warning: iCCP: known incorrect sRGB profile\n",
      "epoch 5 loss: 0.0005: 100%|███████████████████| 251/251 [01:34<00:00,  2.65it/s]\n",
      "epoch 5 loss: 0.0750: 100%|███████████████████| 126/126 [00:17<00:00,  7.39it/s]\n"
     ]
    },
    {
     "name": "stdout",
     "output_type": "stream",
     "text": [
      "Fold: 3\n",
      "Epoch 6/199\n"
     ]
    },
    {
     "name": "stderr",
     "output_type": "stream",
     "text": [
      "epoch 6 loss: 0.0003:  29%|█████▊              | 73/251 [00:28<01:08,  2.59it/s]libpng warning: iCCP: known incorrect sRGB profile\n",
      "epoch 6 loss: 0.0003: 100%|███████████████████| 251/251 [01:33<00:00,  2.67it/s]\n",
      "epoch 6 loss: 0.0740: 100%|███████████████████| 126/126 [00:17<00:00,  7.33it/s]\n"
     ]
    },
    {
     "name": "stdout",
     "output_type": "stream",
     "text": [
      "Fold: 3\n",
      "Epoch 7/199\n"
     ]
    },
    {
     "name": "stderr",
     "output_type": "stream",
     "text": [
      "epoch 7 loss: 0.0003:  29%|█████▊              | 73/251 [00:29<01:04,  2.75it/s]libpng warning: iCCP: known incorrect sRGB profile\n",
      "epoch 7 loss: 0.0003: 100%|███████████████████| 251/251 [01:34<00:00,  2.65it/s]\n",
      "epoch 7 loss: 0.0773: 100%|███████████████████| 126/126 [00:17<00:00,  7.27it/s]\n"
     ]
    },
    {
     "name": "stdout",
     "output_type": "stream",
     "text": [
      "EarlyStopping counter: 1 out of 5\n",
      "Best F1 score from now: 0.9739945333658955\n",
      "Fold: 3\n",
      "Epoch 8/199\n"
     ]
    },
    {
     "name": "stderr",
     "output_type": "stream",
     "text": [
      "epoch 8 loss: 0.0002:  29%|█████▊              | 73/251 [00:29<01:04,  2.74it/s]libpng warning: iCCP: known incorrect sRGB profile\n",
      "epoch 8 loss: 0.0002: 100%|███████████████████| 251/251 [01:35<00:00,  2.64it/s]\n",
      "epoch 8 loss: 0.0783: 100%|███████████████████| 126/126 [00:16<00:00,  7.45it/s]"
     ]
    },
    {
     "name": "stdout",
     "output_type": "stream",
     "text": [
      "EarlyStopping counter: 2 out of 5\n",
      "Best F1 score from now: 0.9739945333658955\n",
      "Fold: 3\n",
      "Epoch 9/199\n"
     ]
    },
    {
     "name": "stderr",
     "output_type": "stream",
     "text": [
      "\n",
      "epoch 9 loss: 0.0002:  29%|█████▊              | 73/251 [00:29<01:04,  2.76it/s]libpng warning: iCCP: known incorrect sRGB profile\n",
      "epoch 9 loss: 0.0002: 100%|███████████████████| 251/251 [01:34<00:00,  2.65it/s]\n",
      "epoch 9 loss: 0.0790: 100%|███████████████████| 126/126 [00:16<00:00,  7.44it/s]"
     ]
    },
    {
     "name": "stdout",
     "output_type": "stream",
     "text": [
      "EarlyStopping counter: 3 out of 5\n",
      "Best F1 score from now: 0.9739945333658955\n",
      "Fold: 3\n",
      "Epoch 10/199\n"
     ]
    },
    {
     "name": "stderr",
     "output_type": "stream",
     "text": [
      "\n",
      "epoch 10 loss: 0.0001:  29%|█████▌             | 73/251 [00:29<01:04,  2.74it/s]libpng warning: iCCP: known incorrect sRGB profile\n",
      "epoch 10 loss: 0.0001: 100%|██████████████████| 251/251 [01:35<00:00,  2.64it/s]\n",
      "epoch 10 loss: 0.0797: 100%|██████████████████| 126/126 [00:16<00:00,  7.61it/s]"
     ]
    },
    {
     "name": "stdout",
     "output_type": "stream",
     "text": [
      "EarlyStopping counter: 4 out of 5\n",
      "Best F1 score from now: 0.9739945333658955\n",
      "Fold: 3\n",
      "Epoch 11/199\n"
     ]
    },
    {
     "name": "stderr",
     "output_type": "stream",
     "text": [
      "\n",
      "epoch 11 loss: 0.0001:  29%|█████▌             | 73/251 [00:29<01:04,  2.74it/s]libpng warning: iCCP: known incorrect sRGB profile\n",
      "epoch 11 loss: 0.0001: 100%|██████████████████| 251/251 [01:34<00:00,  2.65it/s]\n",
      "epoch 11 loss: 0.0806: 100%|██████████████████| 126/126 [00:16<00:00,  7.58it/s]\n"
     ]
    },
    {
     "name": "stdout",
     "output_type": "stream",
     "text": [
      "EarlyStopping counter: 5 out of 5\n",
      "Best F1 score from now: 0.9739945333658955\n",
      "stop called\n",
      "time : 0:22:32\n",
      "fold: 3, Best Epoch : 6/ 12\n",
      "fold: 3, Best Train Marco F1 : 1.00000\n",
      "[[24000     0]\n",
      " [    0  8046]]\n",
      "fold: 3, Best Valid Marco F1 : 0.97399\n",
      "[[5935   65]\n",
      " [  91 1920]]\n",
      "---------------------------------------------------------\n",
      "Training start with fold: 4 epoch: 200 \n",
      "\n",
      "All training process\n",
      "All training process\n",
      "All training process\n",
      "All training process\n",
      "All training process\n",
      "All training process\n",
      "All training process\n",
      "All training process\n",
      "All training process\n",
      "All training process\n",
      "All training process\n",
      "All training process\n",
      "All training process\n",
      "All training process\n",
      "All training process\n",
      "All training process\n",
      "All training process\n",
      "All training process\n",
      "All training process\n",
      "All training process\n",
      "All training process\n",
      "All training process\n",
      "All training process\n",
      "All training process\n",
      "All training process\n",
      "All training process\n",
      "All training process\n",
      "All training process\n",
      "All training process\n",
      "All training process\n",
      "All training process\n",
      "All training process\n",
      "All training process\n",
      "All training process\n",
      "All training process\n",
      "All training process\n",
      "All training process\n",
      "All training process\n",
      "All training process\n",
      "All training process\n",
      "All training process\n",
      "All training process\n",
      "All training process\n",
      "All training process\n",
      "All training process\n",
      "All training process\n",
      "All training process\n",
      "All training process\n",
      "All training process\n",
      "All training process\n",
      "All training process\n",
      "All training process\n",
      "All training process\n",
      "All training process\n",
      "All training process\n",
      "All training process\n",
      "All training process\n",
      "All training process\n",
      "All training process\n",
      "All training process\n",
      "All training process\n",
      "All training process\n",
      "All training process\n",
      "All training process\n",
      "All training process\n",
      "All training process\n",
      "All training process\n",
      "All training process\n",
      "All training process\n",
      "All training process\n",
      "All training process\n",
      "All training process\n",
      "All training process\n",
      "All training process\n",
      "All training process\n",
      "All training process\n",
      "All training process\n",
      "All training process\n",
      "All training process\n",
      "All training process\n",
      "All training process\n",
      "All training process\n",
      "All training process\n",
      "All training process\n",
      "All training process\n",
      "All training process\n",
      "All training process\n",
      "All training process\n",
      "All training process\n",
      "All training process\n",
      "All training process\n",
      "All training process\n",
      "All training process\n",
      "All training process\n",
      "All training process\n",
      "All training process\n",
      "All training process\n",
      "All training process\n",
      "All training process\n",
      "All training process\n",
      "All training process\n",
      "All training process\n",
      "All training process\n",
      "All training process\n",
      "All training process\n",
      "All training process\n",
      "All training process\n",
      "All training process\n",
      "All training process\n",
      "All training process\n",
      "All training process\n",
      "All training process\n",
      "All training process\n",
      "All training process\n",
      "All training process\n",
      "All training process\n",
      "All training process\n",
      "All training process\n",
      "All training process\n",
      "All training process\n",
      "All training process\n",
      "All training process\n",
      "All training process\n",
      "All training process\n",
      "All training process\n",
      "All training process\n",
      "All training process\n",
      "All training process\n",
      "All training process\n",
      "All training process\n",
      "All training process\n",
      "All training process\n",
      "All training process\n",
      "All training process\n",
      "All training process\n",
      "All training process\n",
      "All training process\n",
      "All training process\n",
      "All training process\n",
      "All training process\n",
      "All training process\n",
      "All training process\n",
      "All training process\n",
      "All training process\n",
      "All training process\n",
      "All training process\n",
      "All training process\n",
      "All training process\n",
      "All training process\n",
      "All training process\n",
      "All training process\n",
      "All training process\n",
      "All training process\n",
      "All training process\n",
      "All training process\n",
      "All training process\n",
      "All training process\n",
      "All training process\n",
      "All training process\n",
      "All training process\n",
      "All training process\n",
      "All training process\n",
      "All training process\n",
      "All training process\n",
      "All training process\n",
      "All training process\n",
      "All training process\n",
      "All training process\n",
      "All training process\n",
      "All training process\n",
      "All training process\n",
      "All training process\n",
      "All training process\n",
      "All training process\n",
      "All training process\n",
      "All training process\n",
      "All training process\n",
      "All training process\n",
      "All training process\n",
      "All training process\n",
      "All training process\n",
      "All training process\n",
      "All training process\n",
      "All training process\n",
      "All training process\n",
      "All training process\n",
      "All training process\n",
      "All training process\n",
      "All training process\n",
      "All training process\n",
      "All training process\n",
      "All training process\n",
      "All training process\n",
      "All training process\n",
      "All training process\n",
      "All training process\n",
      "All training process\n",
      "All training process\n",
      "All training process\n",
      "All training process\n",
      "All training process\n",
      "All training process\n",
      "All training process\n",
      "All training process\n",
      "All training process\n",
      "All training process\n",
      "All training process\n",
      "All training process\n",
      "All training process\n",
      "All training process\n",
      "All training process\n",
      "All training process\n",
      "All training process\n",
      "All training process\n",
      "All training process\n",
      "All training process\n",
      "All training process\n",
      "All training process\n",
      "All training process\n",
      "All training process\n",
      "All training process\n",
      "All training process\n",
      "All training process\n",
      "All training process\n",
      "All training process\n",
      "All training process\n",
      "All training process\n",
      "All training process\n",
      "All training process\n",
      "All training process\n",
      "All training process\n",
      "All training process\n",
      "All training process\n",
      "All training process\n",
      "All training process\n",
      "All training process\n",
      "All training process\n",
      "All training process\n",
      "All training process\n",
      "All training process\n",
      "All training process\n",
      "All training process\n",
      "All training process\n",
      "All training process\n",
      "All training process\n",
      "All training process\n",
      "All training process\n",
      "All training process\n",
      "All training process\n",
      "All training process\n",
      "All training process\n",
      "All training process\n",
      "All training process\n",
      "All training process\n",
      "All training process\n",
      "All training process\n",
      "All training process\n",
      "All training process\n",
      "All training process\n",
      "All training process\n",
      "All training process\n",
      "All training process\n",
      "All training process\n",
      "All training process\n",
      "All training process\n",
      "All training process\n",
      "All training process\n",
      "All training process\n",
      "All training process\n",
      "All training process\n",
      "All training process\n",
      "All training process\n",
      "All training process\n",
      "All training process\n",
      "All training process\n",
      "All training process\n",
      "All training process\n",
      "All training process\n",
      "All training process\n",
      "All training process\n",
      "All training process\n",
      "All training process\n",
      "All training process\n",
      "All training process\n",
      "All training process\n",
      "All training process\n",
      "All training process\n",
      "All training process\n",
      "All training process\n",
      "All training process\n",
      "All training process\n",
      "All training process\n",
      "All training process\n",
      "All training process\n",
      "All training process\n",
      "All training process\n",
      "All training process\n",
      "All training process\n",
      "All training process\n",
      "All training process\n",
      "All training process\n",
      "Fold: 4\n",
      "Epoch 0/199\n"
     ]
    },
    {
     "name": "stderr",
     "output_type": "stream",
     "text": [
      "epoch 0 loss: 0.8769:  55%|██████████▍        | 138/251 [00:52<00:41,  2.71it/s]libpng warning: iCCP: known incorrect sRGB profile\n",
      "epoch 0 loss: 0.3656: 100%|███████████████████| 251/251 [01:34<00:00,  2.67it/s]\n",
      "epoch 0 loss: 0.0924: 100%|███████████████████| 126/126 [00:17<00:00,  7.25it/s]\n"
     ]
    },
    {
     "name": "stdout",
     "output_type": "stream",
     "text": [
      "Fold: 4\n",
      "Epoch 1/199\n"
     ]
    },
    {
     "name": "stderr",
     "output_type": "stream",
     "text": [
      "epoch 1 loss: 0.0295:  55%|██████████▍        | 138/251 [00:52<00:41,  2.71it/s]libpng warning: iCCP: known incorrect sRGB profile\n",
      "epoch 1 loss: 0.0194: 100%|███████████████████| 251/251 [01:34<00:00,  2.66it/s]\n",
      "epoch 1 loss: 0.0766: 100%|███████████████████| 126/126 [00:17<00:00,  7.24it/s]\n"
     ]
    },
    {
     "name": "stdout",
     "output_type": "stream",
     "text": [
      "Fold: 4\n",
      "Epoch 2/199\n"
     ]
    },
    {
     "name": "stderr",
     "output_type": "stream",
     "text": [
      "epoch 2 loss: 0.0049:  55%|██████████▍        | 138/251 [00:52<00:41,  2.73it/s]libpng warning: iCCP: known incorrect sRGB profile\n",
      "epoch 2 loss: 0.0038: 100%|███████████████████| 251/251 [01:34<00:00,  2.65it/s]\n",
      "epoch 2 loss: 0.0767: 100%|███████████████████| 126/126 [00:17<00:00,  7.32it/s]\n"
     ]
    },
    {
     "name": "stdout",
     "output_type": "stream",
     "text": [
      "Fold: 4\n",
      "Epoch 3/199\n"
     ]
    },
    {
     "name": "stderr",
     "output_type": "stream",
     "text": [
      "epoch 3 loss: 0.0017:  55%|██████████▍        | 138/251 [00:52<00:41,  2.70it/s]libpng warning: iCCP: known incorrect sRGB profile\n",
      "epoch 3 loss: 0.0015: 100%|███████████████████| 251/251 [01:34<00:00,  2.66it/s]\n",
      "epoch 3 loss: 0.0760: 100%|███████████████████| 126/126 [00:17<00:00,  7.24it/s]\n"
     ]
    },
    {
     "name": "stdout",
     "output_type": "stream",
     "text": [
      "Fold: 4\n",
      "Epoch 4/199\n"
     ]
    },
    {
     "name": "stderr",
     "output_type": "stream",
     "text": [
      "epoch 4 loss: 0.0008:  55%|██████████▍        | 138/251 [00:52<00:41,  2.71it/s]libpng warning: iCCP: known incorrect sRGB profile\n",
      "epoch 4 loss: 0.0008: 100%|███████████████████| 251/251 [01:34<00:00,  2.66it/s]\n",
      "epoch 4 loss: 0.0752: 100%|███████████████████| 126/126 [00:17<00:00,  7.38it/s]\n"
     ]
    },
    {
     "name": "stdout",
     "output_type": "stream",
     "text": [
      "Fold: 4\n",
      "Epoch 5/199\n"
     ]
    },
    {
     "name": "stderr",
     "output_type": "stream",
     "text": [
      "epoch 5 loss: 0.0005:  55%|██████████▍        | 138/251 [00:52<00:43,  2.62it/s]libpng warning: iCCP: known incorrect sRGB profile\n",
      "epoch 5 loss: 0.0006: 100%|███████████████████| 251/251 [01:34<00:00,  2.66it/s]\n",
      "epoch 5 loss: 0.0754: 100%|███████████████████| 126/126 [00:17<00:00,  7.24it/s]\n"
     ]
    },
    {
     "name": "stdout",
     "output_type": "stream",
     "text": [
      "Fold: 4\n",
      "Epoch 6/199\n"
     ]
    },
    {
     "name": "stderr",
     "output_type": "stream",
     "text": [
      "epoch 6 loss: 0.0004:  55%|██████████▍        | 138/251 [00:52<00:41,  2.73it/s]libpng warning: iCCP: known incorrect sRGB profile\n",
      "epoch 6 loss: 0.0004: 100%|███████████████████| 251/251 [01:34<00:00,  2.66it/s]\n",
      "epoch 6 loss: 0.0761: 100%|███████████████████| 126/126 [00:17<00:00,  7.26it/s]\n"
     ]
    },
    {
     "name": "stdout",
     "output_type": "stream",
     "text": [
      "Fold: 4\n",
      "Epoch 7/199\n"
     ]
    },
    {
     "name": "stderr",
     "output_type": "stream",
     "text": [
      "epoch 7 loss: 0.0003:  55%|██████████▍        | 138/251 [00:52<00:41,  2.74it/s]libpng warning: iCCP: known incorrect sRGB profile\n",
      "epoch 7 loss: 0.0003: 100%|███████████████████| 251/251 [01:34<00:00,  2.66it/s]\n",
      "epoch 7 loss: 0.0764: 100%|███████████████████| 126/126 [00:17<00:00,  7.22it/s]\n"
     ]
    },
    {
     "name": "stdout",
     "output_type": "stream",
     "text": [
      "Fold: 4\n",
      "Epoch 8/199\n"
     ]
    },
    {
     "name": "stderr",
     "output_type": "stream",
     "text": [
      "epoch 8 loss: 0.0002:  55%|██████████▍        | 138/251 [00:52<00:41,  2.73it/s]libpng warning: iCCP: known incorrect sRGB profile\n",
      "epoch 8 loss: 0.0002: 100%|███████████████████| 251/251 [01:34<00:00,  2.66it/s]\n",
      "epoch 8 loss: 0.0768: 100%|███████████████████| 126/126 [00:17<00:00,  7.16it/s]\n"
     ]
    },
    {
     "name": "stdout",
     "output_type": "stream",
     "text": [
      "Fold: 4\n",
      "Epoch 9/199\n"
     ]
    },
    {
     "name": "stderr",
     "output_type": "stream",
     "text": [
      "epoch 9 loss: 0.0002:  55%|██████████▍        | 138/251 [00:52<00:41,  2.72it/s]libpng warning: iCCP: known incorrect sRGB profile\n",
      "epoch 9 loss: 0.0002: 100%|███████████████████| 251/251 [01:34<00:00,  2.66it/s]\n",
      "epoch 9 loss: 0.0773: 100%|███████████████████| 126/126 [00:17<00:00,  7.35it/s]\n"
     ]
    },
    {
     "name": "stdout",
     "output_type": "stream",
     "text": [
      "Fold: 4\n",
      "Epoch 10/199\n"
     ]
    },
    {
     "name": "stderr",
     "output_type": "stream",
     "text": [
      "epoch 10 loss: 0.0001:  55%|█████████▉        | 138/251 [00:52<00:41,  2.73it/s]libpng warning: iCCP: known incorrect sRGB profile\n",
      "epoch 10 loss: 0.0002: 100%|██████████████████| 251/251 [01:34<00:00,  2.67it/s]\n",
      "epoch 10 loss: 0.0778: 100%|██████████████████| 126/126 [00:17<00:00,  7.34it/s]\n"
     ]
    },
    {
     "name": "stdout",
     "output_type": "stream",
     "text": [
      "Fold: 4\n",
      "Epoch 11/199\n"
     ]
    },
    {
     "name": "stderr",
     "output_type": "stream",
     "text": [
      "epoch 11 loss: 0.0001:  55%|█████████▉        | 138/251 [00:52<00:41,  2.72it/s]libpng warning: iCCP: known incorrect sRGB profile\n",
      "epoch 11 loss: 0.0001: 100%|██████████████████| 251/251 [01:34<00:00,  2.66it/s]\n",
      "epoch 11 loss: 0.0784: 100%|██████████████████| 126/126 [00:17<00:00,  7.06it/s]\n"
     ]
    },
    {
     "name": "stdout",
     "output_type": "stream",
     "text": [
      "Fold: 4\n",
      "Epoch 12/199\n"
     ]
    },
    {
     "name": "stderr",
     "output_type": "stream",
     "text": [
      "epoch 12 loss: 0.0001:  55%|█████████▉        | 138/251 [00:52<00:41,  2.72it/s]libpng warning: iCCP: known incorrect sRGB profile\n",
      "epoch 12 loss: 0.0001: 100%|██████████████████| 251/251 [01:33<00:00,  2.67it/s]\n",
      "epoch 12 loss: 0.0789: 100%|██████████████████| 126/126 [00:17<00:00,  7.41it/s]\n"
     ]
    },
    {
     "name": "stdout",
     "output_type": "stream",
     "text": [
      "Fold: 4\n",
      "Epoch 13/199\n"
     ]
    },
    {
     "name": "stderr",
     "output_type": "stream",
     "text": [
      "epoch 13 loss: 0.0001:  55%|█████████▉        | 138/251 [00:52<00:41,  2.72it/s]libpng warning: iCCP: known incorrect sRGB profile\n",
      "epoch 13 loss: 0.0001: 100%|██████████████████| 251/251 [01:33<00:00,  2.67it/s]\n",
      "epoch 13 loss: 0.0793: 100%|██████████████████| 126/126 [00:16<00:00,  7.49it/s]\n"
     ]
    },
    {
     "name": "stdout",
     "output_type": "stream",
     "text": [
      "Fold: 4\n",
      "Epoch 14/199\n"
     ]
    },
    {
     "name": "stderr",
     "output_type": "stream",
     "text": [
      "epoch 14 loss: 0.0001:  55%|█████████▉        | 139/251 [00:53<00:40,  2.75it/s]libpng warning: iCCP: known incorrect sRGB profile\n",
      "epoch 14 loss: 0.0001: 100%|██████████████████| 251/251 [01:34<00:00,  2.67it/s]\n",
      "epoch 14 loss: 0.0798: 100%|██████████████████| 126/126 [00:17<00:00,  7.10it/s]"
     ]
    },
    {
     "name": "stdout",
     "output_type": "stream",
     "text": [
      "EarlyStopping counter: 1 out of 5\n",
      "Best F1 score from now: 0.9730844051589703\n",
      "Fold: 4\n",
      "Epoch 15/199\n"
     ]
    },
    {
     "name": "stderr",
     "output_type": "stream",
     "text": [
      "\n",
      "epoch 15 loss: 0.0001:  55%|█████████▉        | 138/251 [00:52<00:41,  2.71it/s]libpng warning: iCCP: known incorrect sRGB profile\n",
      "epoch 15 loss: 0.0001: 100%|██████████████████| 251/251 [01:34<00:00,  2.65it/s]\n",
      "epoch 15 loss: 0.0804: 100%|██████████████████| 126/126 [00:17<00:00,  7.26it/s]\n"
     ]
    },
    {
     "name": "stdout",
     "output_type": "stream",
     "text": [
      "Fold: 4\n",
      "Epoch 16/199\n"
     ]
    },
    {
     "name": "stderr",
     "output_type": "stream",
     "text": [
      "epoch 16 loss: 0.0001:  55%|█████████▉        | 138/251 [00:52<00:42,  2.66it/s]libpng warning: iCCP: known incorrect sRGB profile\n",
      "epoch 16 loss: 0.0001: 100%|██████████████████| 251/251 [01:34<00:00,  2.67it/s]\n",
      "epoch 16 loss: 0.0808: 100%|██████████████████| 126/126 [00:17<00:00,  7.31it/s]\n"
     ]
    },
    {
     "name": "stdout",
     "output_type": "stream",
     "text": [
      "Fold: 4\n",
      "Epoch 17/199\n"
     ]
    },
    {
     "name": "stderr",
     "output_type": "stream",
     "text": [
      "epoch 17 loss: 0.0000:  55%|█████████▉        | 138/251 [00:52<00:41,  2.72it/s]libpng warning: iCCP: known incorrect sRGB profile\n",
      "epoch 17 loss: 0.0001: 100%|██████████████████| 251/251 [01:34<00:00,  2.66it/s]\n",
      "epoch 17 loss: 0.0812: 100%|██████████████████| 126/126 [00:16<00:00,  7.43it/s]\n"
     ]
    },
    {
     "name": "stdout",
     "output_type": "stream",
     "text": [
      "Fold: 4\n",
      "Epoch 18/199\n"
     ]
    },
    {
     "name": "stderr",
     "output_type": "stream",
     "text": [
      "epoch 18 loss: 0.0000:  55%|█████████▉        | 138/251 [00:52<00:41,  2.73it/s]libpng warning: iCCP: known incorrect sRGB profile\n",
      "epoch 18 loss: 0.0000: 100%|██████████████████| 251/251 [01:34<00:00,  2.65it/s]\n",
      "epoch 18 loss: 0.0817: 100%|██████████████████| 126/126 [00:17<00:00,  7.20it/s]\n"
     ]
    },
    {
     "name": "stdout",
     "output_type": "stream",
     "text": [
      "Fold: 4\n",
      "Epoch 19/199\n"
     ]
    },
    {
     "name": "stderr",
     "output_type": "stream",
     "text": [
      "epoch 19 loss: 0.0000:  55%|█████████▉        | 138/251 [00:52<00:41,  2.71it/s]libpng warning: iCCP: known incorrect sRGB profile\n",
      "epoch 19 loss: 0.0000: 100%|██████████████████| 251/251 [01:34<00:00,  2.65it/s]\n",
      "epoch 19 loss: 0.0822: 100%|██████████████████| 126/126 [00:17<00:00,  7.17it/s]"
     ]
    },
    {
     "name": "stdout",
     "output_type": "stream",
     "text": [
      "EarlyStopping counter: 1 out of 5\n",
      "Best F1 score from now: 0.974447607121872\n",
      "Fold: 4\n",
      "Epoch 20/199\n"
     ]
    },
    {
     "name": "stderr",
     "output_type": "stream",
     "text": [
      "\n",
      "epoch 20 loss: 0.0000:  55%|█████████▉        | 138/251 [00:52<00:41,  2.72it/s]libpng warning: iCCP: known incorrect sRGB profile\n",
      "epoch 20 loss: 0.0000: 100%|██████████████████| 251/251 [01:33<00:00,  2.67it/s]\n",
      "epoch 20 loss: 0.0826: 100%|██████████████████| 126/126 [00:17<00:00,  7.26it/s]\n"
     ]
    },
    {
     "name": "stdout",
     "output_type": "stream",
     "text": [
      "Fold: 4\n",
      "Epoch 21/199\n"
     ]
    },
    {
     "name": "stderr",
     "output_type": "stream",
     "text": [
      "epoch 21 loss: 0.0000:  55%|█████████▉        | 138/251 [00:52<00:41,  2.72it/s]libpng warning: iCCP: known incorrect sRGB profile\n",
      "epoch 21 loss: 0.0000: 100%|██████████████████| 251/251 [01:34<00:00,  2.67it/s]\n",
      "epoch 21 loss: 0.0830: 100%|██████████████████| 126/126 [00:17<00:00,  7.34it/s]\n"
     ]
    },
    {
     "name": "stdout",
     "output_type": "stream",
     "text": [
      "EarlyStopping counter: 1 out of 5\n",
      "Best F1 score from now: 0.9746103536925572\n",
      "Fold: 4\n",
      "Epoch 22/199\n"
     ]
    },
    {
     "name": "stderr",
     "output_type": "stream",
     "text": [
      "epoch 22 loss: 0.0000:  55%|█████████▉        | 138/251 [00:52<00:41,  2.73it/s]libpng warning: iCCP: known incorrect sRGB profile\n",
      "epoch 22 loss: 0.0000: 100%|██████████████████| 251/251 [01:34<00:00,  2.66it/s]\n",
      "epoch 22 loss: 0.0835: 100%|██████████████████| 126/126 [00:17<00:00,  7.07it/s]"
     ]
    },
    {
     "name": "stdout",
     "output_type": "stream",
     "text": [
      "EarlyStopping counter: 2 out of 5\n",
      "Best F1 score from now: 0.9746103536925572\n",
      "Fold: 4\n",
      "Epoch 23/199\n"
     ]
    },
    {
     "name": "stderr",
     "output_type": "stream",
     "text": [
      "\n",
      "epoch 23 loss: 0.0000:  55%|█████████▉        | 138/251 [00:52<00:41,  2.73it/s]libpng warning: iCCP: known incorrect sRGB profile\n",
      "epoch 23 loss: 0.0000: 100%|██████████████████| 251/251 [01:34<00:00,  2.66it/s]\n",
      "epoch 23 loss: 0.0839: 100%|██████████████████| 126/126 [00:17<00:00,  7.15it/s]"
     ]
    },
    {
     "name": "stdout",
     "output_type": "stream",
     "text": [
      "EarlyStopping counter: 3 out of 5\n",
      "Best F1 score from now: 0.9746103536925572\n",
      "Fold: 4\n",
      "Epoch 24/199\n"
     ]
    },
    {
     "name": "stderr",
     "output_type": "stream",
     "text": [
      "\n",
      "epoch 24 loss: 0.0000:  55%|█████████▉        | 138/251 [00:52<00:41,  2.72it/s]libpng warning: iCCP: known incorrect sRGB profile\n",
      "epoch 24 loss: 0.0000: 100%|██████████████████| 251/251 [01:34<00:00,  2.66it/s]\n",
      "epoch 24 loss: 0.0843: 100%|██████████████████| 126/126 [00:17<00:00,  7.23it/s]\n"
     ]
    },
    {
     "name": "stdout",
     "output_type": "stream",
     "text": [
      "EarlyStopping counter: 4 out of 5\n",
      "Best F1 score from now: 0.9746103536925572\n",
      "Fold: 4\n",
      "Epoch 25/199\n"
     ]
    },
    {
     "name": "stderr",
     "output_type": "stream",
     "text": [
      "epoch 25 loss: 0.0000:  55%|█████████▉        | 138/251 [00:53<00:41,  2.70it/s]libpng warning: iCCP: known incorrect sRGB profile\n",
      "epoch 25 loss: 0.0000: 100%|██████████████████| 251/251 [01:34<00:00,  2.66it/s]\n",
      "epoch 25 loss: 0.0846: 100%|██████████████████| 126/126 [00:17<00:00,  7.11it/s]\n"
     ]
    },
    {
     "name": "stdout",
     "output_type": "stream",
     "text": [
      "EarlyStopping counter: 5 out of 5\n",
      "Best F1 score from now: 0.9746103536925572\n",
      "stop called\n",
      "time : 0:48:53\n",
      "fold: 4, Best Epoch : 20/ 26\n",
      "fold: 4, Best Train Marco F1 : 1.00000\n",
      "[[24000     0]\n",
      " [    0  8046]]\n",
      "fold: 4, Best Valid Marco F1 : 0.97461\n",
      "[[5943   57]\n",
      " [  95 1916]]\n",
      "---------------------------------------------------------\n",
      "best_fold : 0.982389064660744\n",
      " Top fold : 1\n"
     ]
    }
   ],
   "source": [
    "%run classification_baseline.ipynb"
   ]
  },
  {
   "cell_type": "code",
   "execution_count": 18,
   "id": "1e4a5897-a99f-4b5b-a3db-a4e7911d2df6",
   "metadata": {},
   "outputs": [
    {
     "name": "stdout",
     "output_type": "stream",
     "text": [
      "400\n"
     ]
    }
   ],
   "source": [
    "dir_path = \"../Data/disaster/test\"\n",
    "\n",
    "img_names = []\n",
    "for folder, subfolders, filenames in os.walk(dir_path):\n",
    "    for img in filenames:\n",
    "        img_names.append(folder+'/'+img)\n",
    "random.shuffle(img_names)\n",
    "\n",
    "disaster_test = img_names\n",
    "print(len(disaster_test))"
   ]
  },
  {
   "cell_type": "code",
   "execution_count": 19,
   "id": "0155e498-dc73-409a-ab98-7a721d1177ea",
   "metadata": {},
   "outputs": [
    {
     "name": "stdout",
     "output_type": "stream",
     "text": [
      "20000\n"
     ]
    }
   ],
   "source": [
    "## open_image 1만장\n",
    "dir_path = \"../../disk/Data/open_image/train_1/\"\n",
    "\n",
    "img_names = []\n",
    "for folder, subfolders, filenames in os.walk(dir_path):\n",
    "    for img in filenames:\n",
    "        img_names.append(folder+'/'+img)\n",
    "random.shuffle(img_names)\n",
    "open_image_non_test = img_names[:20000]\n",
    "print(len(open_image_non_test))"
   ]
  },
  {
   "cell_type": "code",
   "execution_count": 20,
   "id": "3fd89ac2-5685-4b51-bd34-e469f29be1ac",
   "metadata": {},
   "outputs": [
    {
     "name": "stdout",
     "output_type": "stream",
     "text": [
      "20400\n"
     ]
    }
   ],
   "source": [
    "tst_disater = open_image_non_test + disaster_test\n",
    "tst_label = [0]*int(len(open_image_non_test)) + [1]*int(len(disaster_test))\n",
    "print(len(tst_label))"
   ]
  },
  {
   "cell_type": "code",
   "execution_count": 21,
   "id": "019ccd37-04c2-48ac-9dae-9752808dc271",
   "metadata": {},
   "outputs": [
    {
     "data": {
      "text/html": [
       "<div>\n",
       "<style scoped>\n",
       "    .dataframe tbody tr th:only-of-type {\n",
       "        vertical-align: middle;\n",
       "    }\n",
       "\n",
       "    .dataframe tbody tr th {\n",
       "        vertical-align: top;\n",
       "    }\n",
       "\n",
       "    .dataframe thead th {\n",
       "        text-align: right;\n",
       "    }\n",
       "</style>\n",
       "<table border=\"1\" class=\"dataframe\">\n",
       "  <thead>\n",
       "    <tr style=\"text-align: right;\">\n",
       "      <th></th>\n",
       "      <th>image_id</th>\n",
       "      <th>dir</th>\n",
       "      <th>label</th>\n",
       "    </tr>\n",
       "  </thead>\n",
       "  <tbody>\n",
       "    <tr>\n",
       "      <th>0</th>\n",
       "      <td>136458d0da88828b.jpg</td>\n",
       "      <td>../../disk/Data/open_image/train_1</td>\n",
       "      <td>0</td>\n",
       "    </tr>\n",
       "    <tr>\n",
       "      <th>1</th>\n",
       "      <td>10745c353b5ac23c.jpg</td>\n",
       "      <td>../../disk/Data/open_image/train_1</td>\n",
       "      <td>0</td>\n",
       "    </tr>\n",
       "    <tr>\n",
       "      <th>2</th>\n",
       "      <td>1acdf3a5be90b86a.jpg</td>\n",
       "      <td>../../disk/Data/open_image/train_1</td>\n",
       "      <td>0</td>\n",
       "    </tr>\n",
       "    <tr>\n",
       "      <th>3</th>\n",
       "      <td>1e96463d79b68919.jpg</td>\n",
       "      <td>../../disk/Data/open_image/train_1</td>\n",
       "      <td>0</td>\n",
       "    </tr>\n",
       "    <tr>\n",
       "      <th>4</th>\n",
       "      <td>116ea9f20bc62c1d.jpg</td>\n",
       "      <td>../../disk/Data/open_image/train_1</td>\n",
       "      <td>0</td>\n",
       "    </tr>\n",
       "    <tr>\n",
       "      <th>...</th>\n",
       "      <td>...</td>\n",
       "      <td>...</td>\n",
       "      <td>...</td>\n",
       "    </tr>\n",
       "    <tr>\n",
       "      <th>20395</th>\n",
       "      <td>blizzard_disasterblizzard_123.jpg</td>\n",
       "      <td>../Data/disaster/test/origin_images/crawling/b...</td>\n",
       "      <td>1</td>\n",
       "    </tr>\n",
       "    <tr>\n",
       "      <th>20396</th>\n",
       "      <td>tempest_043.jpg</td>\n",
       "      <td>../Data/disaster/test/origin_images/crawling/t...</td>\n",
       "      <td>1</td>\n",
       "    </tr>\n",
       "    <tr>\n",
       "      <th>20397</th>\n",
       "      <td>32ce6407b55b36a5.jpg</td>\n",
       "      <td>../Data/disaster/test/origin_images/open_image...</td>\n",
       "      <td>1</td>\n",
       "    </tr>\n",
       "    <tr>\n",
       "      <th>20398</th>\n",
       "      <td>000000328569.jpg</td>\n",
       "      <td>../Data/disaster/test/origin_images/COCO_disaster</td>\n",
       "      <td>1</td>\n",
       "    </tr>\n",
       "    <tr>\n",
       "      <th>20399</th>\n",
       "      <td>thunderstorm_346.jpg</td>\n",
       "      <td>../Data/disaster/test/origin_images/crawling/t...</td>\n",
       "      <td>1</td>\n",
       "    </tr>\n",
       "  </tbody>\n",
       "</table>\n",
       "<p>20400 rows × 3 columns</p>\n",
       "</div>"
      ],
      "text/plain": [
       "                                image_id  \\\n",
       "0                   136458d0da88828b.jpg   \n",
       "1                   10745c353b5ac23c.jpg   \n",
       "2                   1acdf3a5be90b86a.jpg   \n",
       "3                   1e96463d79b68919.jpg   \n",
       "4                   116ea9f20bc62c1d.jpg   \n",
       "...                                  ...   \n",
       "20395  blizzard_disasterblizzard_123.jpg   \n",
       "20396                    tempest_043.jpg   \n",
       "20397               32ce6407b55b36a5.jpg   \n",
       "20398                   000000328569.jpg   \n",
       "20399               thunderstorm_346.jpg   \n",
       "\n",
       "                                                     dir  label  \n",
       "0                     ../../disk/Data/open_image/train_1      0  \n",
       "1                     ../../disk/Data/open_image/train_1      0  \n",
       "2                     ../../disk/Data/open_image/train_1      0  \n",
       "3                     ../../disk/Data/open_image/train_1      0  \n",
       "4                     ../../disk/Data/open_image/train_1      0  \n",
       "...                                                  ...    ...  \n",
       "20395  ../Data/disaster/test/origin_images/crawling/b...      1  \n",
       "20396  ../Data/disaster/test/origin_images/crawling/t...      1  \n",
       "20397  ../Data/disaster/test/origin_images/open_image...      1  \n",
       "20398  ../Data/disaster/test/origin_images/COCO_disaster      1  \n",
       "20399  ../Data/disaster/test/origin_images/crawling/t...      1  \n",
       "\n",
       "[20400 rows x 3 columns]"
      ]
     },
     "execution_count": 21,
     "metadata": {},
     "output_type": "execute_result"
    }
   ],
   "source": [
    "tst_df = pd.DataFrame(tst_disater, columns=['image_id'])\n",
    "tst_df['dir'] = tst_df['image_id'].apply(lambda x: os.path.dirname(x))\n",
    "tst_df['image_id'] = tst_df['image_id'].apply(lambda x: os.path.basename(x))\n",
    "tst_df['label'] = tst_label\n",
    "test = tst_df\n",
    "test"
   ]
  },
  {
   "cell_type": "code",
   "execution_count": 24,
   "id": "f2d6fb7d-7845-4508-a426-00ba4ddfac22",
   "metadata": {},
   "outputs": [],
   "source": [
    "dist.destroy_process_group()"
   ]
  },
  {
   "cell_type": "code",
   "execution_count": 22,
   "id": "316cf642-fed5-4b93-9efd-b6aa89a9ec07",
   "metadata": {},
   "outputs": [
    {
     "name": "stderr",
     "output_type": "stream",
     "text": [
      "100%|█████████████████████████████████████████| 160/160 [06:00<00:00,  2.25s/it]\n"
     ]
    }
   ],
   "source": [
    "model_name = 'tf_efficientnet_b2_ns'\n",
    "model_dir = model_name + '/tf_efficientnet_b2_ns_1'\n",
    "%run eval_test.ipynb"
   ]
  },
  {
   "cell_type": "code",
   "execution_count": 23,
   "id": "2e738224-f5c0-4cbb-8d10-30e6fae9c760",
   "metadata": {},
   "outputs": [
    {
     "name": "stdout",
     "output_type": "stream",
     "text": [
      "accuracy: 0.9800\n",
      "f1_score: 0.8080\n",
      "confusion_matrix \n",
      "-------------------------\n",
      " [[19652   348]\n",
      " [   59   341]]\n"
     ]
    }
   ],
   "source": [
    "print(f'accuracy: {test_acc:.4f}')\n",
    "print(f'f1_score: {epoch_f1:.4f}')\n",
    "print(f'confusion_matrix \\n-------------------------\\n {test_matrix}')"
   ]
  },
  {
   "cell_type": "code",
   "execution_count": 11,
   "id": "aa7fb1d5-efe3-44a9-87ee-c0022633b42f",
   "metadata": {},
   "outputs": [
    {
     "data": {
      "text/html": [
       "<div>\n",
       "<style scoped>\n",
       "    .dataframe tbody tr th:only-of-type {\n",
       "        vertical-align: middle;\n",
       "    }\n",
       "\n",
       "    .dataframe tbody tr th {\n",
       "        vertical-align: top;\n",
       "    }\n",
       "\n",
       "    .dataframe thead th {\n",
       "        text-align: right;\n",
       "    }\n",
       "</style>\n",
       "<table border=\"1\" class=\"dataframe\">\n",
       "  <thead>\n",
       "    <tr style=\"text-align: right;\">\n",
       "      <th></th>\n",
       "      <th>image_id</th>\n",
       "      <th>dir</th>\n",
       "      <th>label</th>\n",
       "      <th>pred</th>\n",
       "      <th>confidence score</th>\n",
       "    </tr>\n",
       "  </thead>\n",
       "  <tbody>\n",
       "    <tr>\n",
       "      <th>0</th>\n",
       "      <td>13d191db596a5e4a.jpg</td>\n",
       "      <td>../../disk/Data/open_image/train_1</td>\n",
       "      <td>0</td>\n",
       "      <td>1</td>\n",
       "      <td>0.918041</td>\n",
       "    </tr>\n",
       "    <tr>\n",
       "      <th>1</th>\n",
       "      <td>1cfd32a632fa0771.jpg</td>\n",
       "      <td>../../disk/Data/open_image/train_1</td>\n",
       "      <td>0</td>\n",
       "      <td>1</td>\n",
       "      <td>0.700170</td>\n",
       "    </tr>\n",
       "    <tr>\n",
       "      <th>2</th>\n",
       "      <td>1a7a43cb6ae3ed7b.jpg</td>\n",
       "      <td>../../disk/Data/open_image/train_1</td>\n",
       "      <td>0</td>\n",
       "      <td>1</td>\n",
       "      <td>0.665575</td>\n",
       "    </tr>\n",
       "    <tr>\n",
       "      <th>3</th>\n",
       "      <td>1410f35aeb2ae8af.jpg</td>\n",
       "      <td>../../disk/Data/open_image/train_1</td>\n",
       "      <td>0</td>\n",
       "      <td>1</td>\n",
       "      <td>0.993265</td>\n",
       "    </tr>\n",
       "    <tr>\n",
       "      <th>4</th>\n",
       "      <td>13628048cf4a80cd.jpg</td>\n",
       "      <td>../../disk/Data/open_image/train_1</td>\n",
       "      <td>0</td>\n",
       "      <td>1</td>\n",
       "      <td>0.930421</td>\n",
       "    </tr>\n",
       "    <tr>\n",
       "      <th>...</th>\n",
       "      <td>...</td>\n",
       "      <td>...</td>\n",
       "      <td>...</td>\n",
       "      <td>...</td>\n",
       "      <td>...</td>\n",
       "    </tr>\n",
       "    <tr>\n",
       "      <th>558</th>\n",
       "      <td>blizzard_disasterblizzard_305.jpg</td>\n",
       "      <td>../Data/disaster/test/origin_images/crawling/b...</td>\n",
       "      <td>1</td>\n",
       "      <td>0</td>\n",
       "      <td>0.924526</td>\n",
       "    </tr>\n",
       "    <tr>\n",
       "      <th>559</th>\n",
       "      <td>tempest_041.jpg</td>\n",
       "      <td>../Data/disaster/test/origin_images/crawling/t...</td>\n",
       "      <td>1</td>\n",
       "      <td>0</td>\n",
       "      <td>0.999252</td>\n",
       "    </tr>\n",
       "    <tr>\n",
       "      <th>560</th>\n",
       "      <td>000000073187.jpg</td>\n",
       "      <td>../Data/disaster/test/origin_images/COCO_disaster</td>\n",
       "      <td>1</td>\n",
       "      <td>0</td>\n",
       "      <td>0.999304</td>\n",
       "    </tr>\n",
       "    <tr>\n",
       "      <th>561</th>\n",
       "      <td>000000234697.jpg</td>\n",
       "      <td>../Data/disaster/test/origin_images/COCO_disaster</td>\n",
       "      <td>1</td>\n",
       "      <td>0</td>\n",
       "      <td>0.999646</td>\n",
       "    </tr>\n",
       "    <tr>\n",
       "      <th>562</th>\n",
       "      <td>000000213826.jpg</td>\n",
       "      <td>../Data/disaster/test/origin_images/COCO_disaster</td>\n",
       "      <td>1</td>\n",
       "      <td>0</td>\n",
       "      <td>0.992844</td>\n",
       "    </tr>\n",
       "  </tbody>\n",
       "</table>\n",
       "<p>563 rows × 5 columns</p>\n",
       "</div>"
      ],
      "text/plain": [
       "                              image_id  \\\n",
       "0                 13d191db596a5e4a.jpg   \n",
       "1                 1cfd32a632fa0771.jpg   \n",
       "2                 1a7a43cb6ae3ed7b.jpg   \n",
       "3                 1410f35aeb2ae8af.jpg   \n",
       "4                 13628048cf4a80cd.jpg   \n",
       "..                                 ...   \n",
       "558  blizzard_disasterblizzard_305.jpg   \n",
       "559                    tempest_041.jpg   \n",
       "560                   000000073187.jpg   \n",
       "561                   000000234697.jpg   \n",
       "562                   000000213826.jpg   \n",
       "\n",
       "                                                   dir  label  pred  \\\n",
       "0                   ../../disk/Data/open_image/train_1      0     1   \n",
       "1                   ../../disk/Data/open_image/train_1      0     1   \n",
       "2                   ../../disk/Data/open_image/train_1      0     1   \n",
       "3                   ../../disk/Data/open_image/train_1      0     1   \n",
       "4                   ../../disk/Data/open_image/train_1      0     1   \n",
       "..                                                 ...    ...   ...   \n",
       "558  ../Data/disaster/test/origin_images/crawling/b...      1     0   \n",
       "559  ../Data/disaster/test/origin_images/crawling/t...      1     0   \n",
       "560  ../Data/disaster/test/origin_images/COCO_disaster      1     0   \n",
       "561  ../Data/disaster/test/origin_images/COCO_disaster      1     0   \n",
       "562  ../Data/disaster/test/origin_images/COCO_disaster      1     0   \n",
       "\n",
       "     confidence score  \n",
       "0            0.918041  \n",
       "1            0.700170  \n",
       "2            0.665575  \n",
       "3            0.993265  \n",
       "4            0.930421  \n",
       "..                ...  \n",
       "558          0.924526  \n",
       "559          0.999252  \n",
       "560          0.999304  \n",
       "561          0.999646  \n",
       "562          0.992844  \n",
       "\n",
       "[563 rows x 5 columns]"
      ]
     },
     "execution_count": 11,
     "metadata": {},
     "output_type": "execute_result"
    }
   ],
   "source": [
    "non_matched_idx = test['label'] != test['pred']\n",
    "non_matched = test[non_matched_idx].reset_index(inplace = False, drop=True)\n",
    "non_matched"
   ]
  },
  {
   "cell_type": "code",
   "execution_count": null,
   "id": "723b1ad3-5b31-4452-95f7-e97107e78017",
   "metadata": {},
   "outputs": [],
   "source": [
    "## show img status\n",
    "\n",
    "back = 0\n",
    "plt.figure(figsize=(16,600))\n",
    "for i in range(len(non_matched[back:])):\n",
    "    plt.subplot(150,4,i+1)\n",
    "    #if i % 4 == 0:\n",
    "        #plt.title(f\"{(i+1+back)/4}\")\n",
    "    plt.xticks([])\n",
    "    plt.yticks([])\n",
    "    plt.grid(False)\n",
    "    path = non_matched['dir'][i+back] + '/' + non_matched['image_id'][i+back]\n",
    "    im_bgr = cv2.imread(path)\n",
    "    im_rgb = im_bgr[:, :, ::-1]\n",
    "    plt.imshow(im_rgb, cmap=plt.cm.binary)\n",
    "    \n",
    "plt.show()"
   ]
  },
  {
   "cell_type": "code",
   "execution_count": 24,
   "id": "792ea43b-10d3-4b9e-967a-8a8b847b73a5",
   "metadata": {},
   "outputs": [],
   "source": [
    "test.to_csv('test_result/nsb2_oi_tst.csv', index=False)"
   ]
  },
  {
   "cell_type": "code",
   "execution_count": 8,
   "id": "b083d85d-1a89-4249-b198-b5f5cc72e520",
   "metadata": {},
   "outputs": [
    {
     "data": {
      "text/plain": [
       "0.9963420273292325"
      ]
     },
     "execution_count": 8,
     "metadata": {},
     "output_type": "execute_result"
    }
   ],
   "source": [
    "test_acc = np.sum(test.label == test.pred) / len(test)\n",
    "test_acc"
   ]
  },
  {
   "cell_type": "code",
   "execution_count": 14,
   "id": "c51708f2-3744-406d-97e2-666933aad2c9",
   "metadata": {},
   "outputs": [
    {
     "ename": "NameError",
     "evalue": "name 'model' is not defined",
     "output_type": "error",
     "traceback": [
      "\u001b[0;31m---------------------------------------------------------------------------\u001b[0m",
      "\u001b[0;31mNameError\u001b[0m                                 Traceback (most recent call last)",
      "Input \u001b[0;32mIn [14]\u001b[0m, in \u001b[0;36m<cell line: 1>\u001b[0;34m()\u001b[0m\n\u001b[0;32m----> 1\u001b[0m \u001b[38;5;28;01mfor\u001b[39;00m name, param \u001b[38;5;129;01min\u001b[39;00m \u001b[43mmodel\u001b[49m\u001b[38;5;241m.\u001b[39mnamed_parameters():\n\u001b[1;32m      2\u001b[0m     \u001b[38;5;28mprint\u001b[39m(name, param\u001b[38;5;241m.\u001b[39mrequires_grad)\n",
      "\u001b[0;31mNameError\u001b[0m: name 'model' is not defined"
     ]
    }
   ],
   "source": []
  },
  {
   "cell_type": "code",
   "execution_count": null,
   "id": "0ddb3e8e-d3a3-42e2-9312-7b43fdb4ddf4",
   "metadata": {},
   "outputs": [],
   "source": []
  }
 ],
 "metadata": {
  "kernelspec": {
   "display_name": "torch-gpu",
   "language": "python",
   "name": "torch"
  },
  "language_info": {
   "codemirror_mode": {
    "name": "ipython",
    "version": 3
   },
   "file_extension": ".py",
   "mimetype": "text/x-python",
   "name": "python",
   "nbconvert_exporter": "python",
   "pygments_lexer": "ipython3",
   "version": "3.10.6"
  }
 },
 "nbformat": 4,
 "nbformat_minor": 5
}

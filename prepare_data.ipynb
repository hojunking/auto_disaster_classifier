{
 "cells": [
  {
   "cell_type": "code",
   "execution_count": 7,
   "id": "764483ff-6d37-4c38-afea-6ca7ce969ed3",
   "metadata": {},
   "outputs": [],
   "source": [
    "import json\n",
    "import os\n",
    "import pandas as pd\n",
    "import matplotlib.pyplot as plt\n",
    "import cv2\n",
    "import random\n",
    "import datetime as dt"
   ]
  },
  {
   "attachments": {},
   "cell_type": "markdown",
   "id": "cc8e29e0-3d71-4616-8018-dae7b182e6d5",
   "metadata": {},
   "source": [
    "#### Train dataset\n",
    "##### coco: 894 // flickr: 184 // open_image: 616 // aug 6620 // generated 1782"
   ]
  },
  {
   "cell_type": "code",
   "execution_count": 14,
   "id": "862a326e",
   "metadata": {},
   "outputs": [
    {
     "name": "stdout",
     "output_type": "stream",
     "text": [
      "label: disaster 10057\n",
      "label: non_disaster 60000\n",
      "Train_Images:  70057\n",
      "Train_Images_labels: 70057\n"
     ]
    }
   ],
   "source": [
    "train_path = \"../Data/disaster/train/\"\n",
    "label_list = [\"disaster\",\"non_disaster\"]\n",
    "\n",
    "train_img_paths = []\n",
    "train_img_labels = []\n",
    "\n",
    "for label in label_list: ## 각 레이블 돌기\n",
    "    print(f'label: {label}',end=' ')\n",
    "    img_paths = [] \n",
    "    img_labels = []\n",
    "    dir_path = train_path + label ## 레이블 폴더 경로\n",
    "\n",
    "    for folder, subfolders, filenames in os.walk(dir_path): ## 폴더 내 모든 파일 탐색\n",
    "        for img in filenames: ## 각 파일 경로, 레이블 저장\n",
    "            img_paths.append(folder+'/'+img)\n",
    "            img_labels.append(label)\n",
    "    \n",
    "    print(len(img_paths))\n",
    "\n",
    "    train_img_paths.extend(img_paths)\n",
    "    train_img_labels.extend(img_labels)\n",
    "\n",
    "print('Train_Images: ',len(train_img_paths))\n",
    "print(\"Train_Images_labels:\", len(train_img_labels))"
   ]
  },
  {
   "cell_type": "code",
   "execution_count": 12,
   "id": "35bf8cde-2b7e-487e-bb3b-f6eaa7aeb7c3",
   "metadata": {},
   "outputs": [
    {
     "name": "stdout",
     "output_type": "stream",
     "text": [
      " non disaster train : 60000\n"
     ]
    }
   ],
   "source": [
    "## open_image 3만장, coco_image 3만장\n",
    "dir_paths = \"../Data/disaster/train/non_disaster\"\n",
    "non_disaster_train = []\n",
    "\n",
    "for folder, subfolders, filenames in os.walk(dir_paths):\n",
    "    for img in filenames:\n",
    "        non_disaster_train.append(folder+'/'+img)\n",
    "\n",
    "print(f' non disaster train : {len(non_disaster_train)}')"
   ]
  },
  {
   "attachments": {},
   "cell_type": "markdown",
   "id": "d81c2b71-38b1-4aa6-bb85-596a0c81b4af",
   "metadata": {},
   "source": [
    "#### Train dataset Labeling & Dataframe"
   ]
  },
  {
   "cell_type": "code",
   "execution_count": 15,
   "id": "c2776c34-4999-45b5-b39c-5be1b7267822",
   "metadata": {},
   "outputs": [
    {
     "data": {
      "text/html": [
       "<div>\n",
       "<style scoped>\n",
       "    .dataframe tbody tr th:only-of-type {\n",
       "        vertical-align: middle;\n",
       "    }\n",
       "\n",
       "    .dataframe tbody tr th {\n",
       "        vertical-align: top;\n",
       "    }\n",
       "\n",
       "    .dataframe thead th {\n",
       "        text-align: right;\n",
       "    }\n",
       "</style>\n",
       "<table border=\"1\" class=\"dataframe\">\n",
       "  <thead>\n",
       "    <tr style=\"text-align: right;\">\n",
       "      <th></th>\n",
       "      <th>image_id</th>\n",
       "      <th>dir</th>\n",
       "      <th>label</th>\n",
       "    </tr>\n",
       "  </thead>\n",
       "  <tbody>\n",
       "    <tr>\n",
       "      <th>0</th>\n",
       "      <td>In this image there are so many trees on the m...</td>\n",
       "      <td>../Data/disaster/train/disaster/generated1/ope...</td>\n",
       "      <td>disaster</td>\n",
       "    </tr>\n",
       "    <tr>\n",
       "      <th>1</th>\n",
       "      <td>In the center of the image there is a tree. At...</td>\n",
       "      <td>../Data/disaster/train/disaster/generated1/ope...</td>\n",
       "      <td>disaster</td>\n",
       "    </tr>\n",
       "    <tr>\n",
       "      <th>2</th>\n",
       "      <td>In this picture I see a van in front which is ...</td>\n",
       "      <td>../Data/disaster/train/disaster/generated1/ope...</td>\n",
       "      <td>disaster</td>\n",
       "    </tr>\n",
       "    <tr>\n",
       "      <th>3</th>\n",
       "      <td>In this picture we can see a person standing h...</td>\n",
       "      <td>../Data/disaster/train/disaster/generated1/ope...</td>\n",
       "      <td>disaster</td>\n",
       "    </tr>\n",
       "    <tr>\n",
       "      <th>4</th>\n",
       "      <td>In this image there is a person carrying a bag...</td>\n",
       "      <td>../Data/disaster/train/disaster/generated1/ope...</td>\n",
       "      <td>disaster</td>\n",
       "    </tr>\n",
       "    <tr>\n",
       "      <th>...</th>\n",
       "      <td>...</td>\n",
       "      <td>...</td>\n",
       "      <td>...</td>\n",
       "    </tr>\n",
       "    <tr>\n",
       "      <th>70052</th>\n",
       "      <td>0599144da6c18a15.jpg</td>\n",
       "      <td>../Data/disaster/train/non_disaster/open_images</td>\n",
       "      <td>non_disaster</td>\n",
       "    </tr>\n",
       "    <tr>\n",
       "      <th>70053</th>\n",
       "      <td>0eeff61eee2ce4bf.jpg</td>\n",
       "      <td>../Data/disaster/train/non_disaster/open_images</td>\n",
       "      <td>non_disaster</td>\n",
       "    </tr>\n",
       "    <tr>\n",
       "      <th>70054</th>\n",
       "      <td>0578a94b2f1b28de.jpg</td>\n",
       "      <td>../Data/disaster/train/non_disaster/open_images</td>\n",
       "      <td>non_disaster</td>\n",
       "    </tr>\n",
       "    <tr>\n",
       "      <th>70055</th>\n",
       "      <td>075d26862f3320db.jpg</td>\n",
       "      <td>../Data/disaster/train/non_disaster/open_images</td>\n",
       "      <td>non_disaster</td>\n",
       "    </tr>\n",
       "    <tr>\n",
       "      <th>70056</th>\n",
       "      <td>0896299d4884d86f.jpg</td>\n",
       "      <td>../Data/disaster/train/non_disaster/open_images</td>\n",
       "      <td>non_disaster</td>\n",
       "    </tr>\n",
       "  </tbody>\n",
       "</table>\n",
       "<p>70057 rows × 3 columns</p>\n",
       "</div>"
      ],
      "text/plain": [
       "                                                image_id  \\\n",
       "0      In this image there are so many trees on the m...   \n",
       "1      In the center of the image there is a tree. At...   \n",
       "2      In this picture I see a van in front which is ...   \n",
       "3      In this picture we can see a person standing h...   \n",
       "4      In this image there is a person carrying a bag...   \n",
       "...                                                  ...   \n",
       "70052                               0599144da6c18a15.jpg   \n",
       "70053                               0eeff61eee2ce4bf.jpg   \n",
       "70054                               0578a94b2f1b28de.jpg   \n",
       "70055                               075d26862f3320db.jpg   \n",
       "70056                               0896299d4884d86f.jpg   \n",
       "\n",
       "                                                     dir         label  \n",
       "0      ../Data/disaster/train/disaster/generated1/ope...      disaster  \n",
       "1      ../Data/disaster/train/disaster/generated1/ope...      disaster  \n",
       "2      ../Data/disaster/train/disaster/generated1/ope...      disaster  \n",
       "3      ../Data/disaster/train/disaster/generated1/ope...      disaster  \n",
       "4      ../Data/disaster/train/disaster/generated1/ope...      disaster  \n",
       "...                                                  ...           ...  \n",
       "70052    ../Data/disaster/train/non_disaster/open_images  non_disaster  \n",
       "70053    ../Data/disaster/train/non_disaster/open_images  non_disaster  \n",
       "70054    ../Data/disaster/train/non_disaster/open_images  non_disaster  \n",
       "70055    ../Data/disaster/train/non_disaster/open_images  non_disaster  \n",
       "70056    ../Data/disaster/train/non_disaster/open_images  non_disaster  \n",
       "\n",
       "[70057 rows x 3 columns]"
      ]
     },
     "execution_count": 15,
     "metadata": {},
     "output_type": "execute_result"
    }
   ],
   "source": [
    "## Pandas 데이터프레임 만들기\n",
    "trn_df = pd.DataFrame(train_img_paths, columns=['image_id'])\n",
    "trn_df['dir'] = trn_df['image_id'].apply(lambda x: os.path.dirname(x))\n",
    "trn_df['image_id'] = trn_df['image_id'].apply(lambda x: os.path.basename(x))\n",
    "trn_df['label'] = train_img_labels\n",
    "train = trn_df\n",
    "train"
   ]
  },
  {
   "cell_type": "code",
   "execution_count": 16,
   "id": "8eca9502-3980-4fa4-8cc1-043238843469",
   "metadata": {},
   "outputs": [
    {
     "ename": "NameError",
     "evalue": "name 'preprocessing' is not defined",
     "output_type": "error",
     "traceback": [
      "\u001b[0;31m---------------------------------------------------------------------------\u001b[0m",
      "\u001b[0;31mNameError\u001b[0m                                 Traceback (most recent call last)",
      "Cell \u001b[0;32mIn[16], line 1\u001b[0m\n\u001b[0;32m----> 1\u001b[0m le \u001b[39m=\u001b[39m preprocessing\u001b[39m.\u001b[39mLabelEncoder()\n\u001b[1;32m      2\u001b[0m train[\u001b[39m'\u001b[39m\u001b[39mlabel\u001b[39m\u001b[39m'\u001b[39m] \u001b[39m=\u001b[39m le\u001b[39m.\u001b[39mfit_transform(train[\u001b[39m'\u001b[39m\u001b[39mlabel\u001b[39m\u001b[39m'\u001b[39m]\u001b[39m.\u001b[39mvalues)\n\u001b[1;32m      3\u001b[0m test[\u001b[39m'\u001b[39m\u001b[39mlabel\u001b[39m\u001b[39m'\u001b[39m] \u001b[39m=\u001b[39m le\u001b[39m.\u001b[39mtransform(test[\u001b[39m'\u001b[39m\u001b[39mlabel\u001b[39m\u001b[39m'\u001b[39m]\u001b[39m.\u001b[39mvalues)\n",
      "\u001b[0;31mNameError\u001b[0m: name 'preprocessing' is not defined"
     ]
    }
   ],
   "source": [
    "le = preprocessing.LabelEncoder()\n",
    "train['label'] = le.fit_transform(train['label'].values)\n",
    "test['label'] = le.transform(test['label'].values)\n",
    "train"
   ]
  },
  {
   "cell_type": "code",
   "execution_count": 17,
   "id": "4e673eac",
   "metadata": {},
   "outputs": [],
   "source": [
    "time_now = dt.datetime.now()\n",
    "run_id = time_now.strftime(\"%Y%m%d%H%M\")\n",
    "project_name = 'disaster_'+ 'icp_res'\n",
    "user = 'hojunking'\n",
    "run_name = project_name + '_' + run_id"
   ]
  },
  {
   "cell_type": "code",
   "execution_count": 21,
   "id": "65f38af9-b1d5-4052-b100-ef44d2072635",
   "metadata": {},
   "outputs": [
    {
     "data": {
      "text/html": [
       "Finishing last run (ID:fw6x80bg) before initializing another..."
      ],
      "text/plain": [
       "<IPython.core.display.HTML object>"
      ]
     },
     "metadata": {},
     "output_type": "display_data"
    },
    {
     "data": {
      "text/html": [
       "Waiting for W&B process to finish... <strong style=\"color:green\">(success).</strong>"
      ],
      "text/plain": [
       "<IPython.core.display.HTML object>"
      ]
     },
     "metadata": {},
     "output_type": "display_data"
    },
    {
     "data": {
      "text/html": [
       " View run <strong style=\"color:#cdcd00\">balmy-sound-2</strong> at: <a href='https://wandb.ai/hojunking/disaster_icp_res/runs/fw6x80bg' target=\"_blank\">https://wandb.ai/hojunking/disaster_icp_res/runs/fw6x80bg</a><br/>Synced 6 W&B file(s), 0 media file(s), 0 artifact file(s) and 0 other file(s)"
      ],
      "text/plain": [
       "<IPython.core.display.HTML object>"
      ]
     },
     "metadata": {},
     "output_type": "display_data"
    },
    {
     "data": {
      "text/html": [
       "Find logs at: <code>./wandb/run-20230707_113544-fw6x80bg/logs</code>"
      ],
      "text/plain": [
       "<IPython.core.display.HTML object>"
      ]
     },
     "metadata": {},
     "output_type": "display_data"
    },
    {
     "data": {
      "text/html": [
       "Successfully finished last run (ID:fw6x80bg). Initializing new run:<br/>"
      ],
      "text/plain": [
       "<IPython.core.display.HTML object>"
      ]
     },
     "metadata": {},
     "output_type": "display_data"
    },
    {
     "data": {
      "application/vnd.jupyter.widget-view+json": {
       "model_id": "ca00ecf76375478e95d9bccfb1bf63ee",
       "version_major": 2,
       "version_minor": 0
      },
      "text/plain": [
       "VBox(children=(Label(value='Waiting for wandb.init()...\\r'), FloatProgress(value=0.016669519333421097, max=1.0…"
      ]
     },
     "metadata": {},
     "output_type": "display_data"
    },
    {
     "data": {
      "text/html": [
       "wandb version 0.15.5 is available!  To upgrade, please run:\n",
       " $ pip install wandb --upgrade"
      ],
      "text/plain": [
       "<IPython.core.display.HTML object>"
      ]
     },
     "metadata": {},
     "output_type": "display_data"
    },
    {
     "data": {
      "text/html": [
       "Tracking run with wandb version 0.15.4"
      ],
      "text/plain": [
       "<IPython.core.display.HTML object>"
      ]
     },
     "metadata": {},
     "output_type": "display_data"
    },
    {
     "data": {
      "text/html": [
       "Run data is saved locally in <code>/home/hojun/git/auto_disaster_classifier/wandb/run-20230707_115404-1omybw3y</code>"
      ],
      "text/plain": [
       "<IPython.core.display.HTML object>"
      ]
     },
     "metadata": {},
     "output_type": "display_data"
    },
    {
     "data": {
      "text/html": [
       "Syncing run <strong><a href='https://wandb.ai/hojunking/disaster_icp_res/runs/1omybw3y' target=\"_blank\">daily-grass-3</a></strong> to <a href='https://wandb.ai/hojunking/disaster_icp_res' target=\"_blank\">Weights & Biases</a> (<a href='https://wandb.me/run' target=\"_blank\">docs</a>)<br/>"
      ],
      "text/plain": [
       "<IPython.core.display.HTML object>"
      ]
     },
     "metadata": {},
     "output_type": "display_data"
    },
    {
     "data": {
      "text/html": [
       " View project at <a href='https://wandb.ai/hojunking/disaster_icp_res' target=\"_blank\">https://wandb.ai/hojunking/disaster_icp_res</a>"
      ],
      "text/plain": [
       "<IPython.core.display.HTML object>"
      ]
     },
     "metadata": {},
     "output_type": "display_data"
    },
    {
     "data": {
      "text/html": [
       " View run at <a href='https://wandb.ai/hojunking/disaster_icp_res/runs/1omybw3y' target=\"_blank\">https://wandb.ai/hojunking/disaster_icp_res/runs/1omybw3y</a>"
      ],
      "text/plain": [
       "<IPython.core.display.HTML object>"
      ]
     },
     "metadata": {},
     "output_type": "display_data"
    },
    {
     "name": "stdout",
     "output_type": "stream",
     "text": [
      "Model: inception_resnet_v2\n",
      "Training start with fold: 0 epoch: 200 \n",
      "\n",
      "Fold: 0\n",
      "Epoch 0/199\n"
     ]
    },
    {
     "name": "stderr",
     "output_type": "stream",
     "text": [
      "epoch 0 loss: 0.1013:  47%|████▋     | 204/438 [08:53<06:33,  1.68s/it]"
     ]
    },
    {
     "ename": "",
     "evalue": "",
     "output_type": "error",
     "traceback": [
      "\u001b[1;31mCannot execute code, session has been disposed. Please try restarting the Kernel."
     ]
    },
    {
     "ename": "",
     "evalue": "",
     "output_type": "error",
     "traceback": [
      "\u001b[1;31mThe Kernel crashed while executing code in the the current cell or a previous cell. Please review the code in the cell(s) to identify a possible cause of the failure. Click <a href='https://aka.ms/vscodeJupyterKernelCrash'>here</a> for more info. View Jupyter <a href='command:jupyter.viewOutput'>log</a> for further details."
     ]
    }
   ],
   "source": [
    "%run classification_baseline.ipynb"
   ]
  },
  {
   "cell_type": "code",
   "execution_count": 3,
   "id": "1e4a5897-a99f-4b5b-a3db-a4e7911d2df6",
   "metadata": {},
   "outputs": [
    {
     "name": "stdout",
     "output_type": "stream",
     "text": [
      "400\n"
     ]
    }
   ],
   "source": [
    "dir_path = \"../Data/disaster/test\"\n",
    "\n",
    "img_names = []\n",
    "for folder, subfolders, filenames in os.walk(dir_path):\n",
    "    for img in filenames:\n",
    "        img_names.append(folder+'/'+img)\n",
    "random.shuffle(img_names)\n",
    "\n",
    "disaster_test = img_names\n",
    "print(len(disaster_test))"
   ]
  },
  {
   "cell_type": "code",
   "execution_count": 9,
   "id": "0155e498-dc73-409a-ab98-7a721d1177ea",
   "metadata": {},
   "outputs": [
    {
     "name": "stdout",
     "output_type": "stream",
     "text": [
      "2000\n"
     ]
    }
   ],
   "source": [
    "## open_image 1만장\n",
    "dir_path = \"../../disk/Data/open_image/train_1/\"\n",
    "\n",
    "img_names = []\n",
    "for folder, subfolders, filenames in os.walk(dir_path):\n",
    "    for img in filenames:\n",
    "        img_names.append(folder+'/'+img)\n",
    "random.shuffle(img_names)\n",
    "open_image_non_test = img_names[:2000]\n",
    "print(len(open_image_non_test))"
   ]
  },
  {
   "cell_type": "code",
   "execution_count": 10,
   "id": "3fd89ac2-5685-4b51-bd34-e469f29be1ac",
   "metadata": {},
   "outputs": [
    {
     "name": "stdout",
     "output_type": "stream",
     "text": [
      "2400\n"
     ]
    }
   ],
   "source": [
    "tst_disater = open_image_non_test + disaster_test\n",
    "tst_label = [0]*int(len(open_image_non_test)) + [1]*int(len(disaster_test))\n",
    "print(len(tst_label))"
   ]
  },
  {
   "cell_type": "code",
   "execution_count": 11,
   "id": "019ccd37-04c2-48ac-9dae-9752808dc271",
   "metadata": {},
   "outputs": [
    {
     "data": {
      "text/html": [
       "<div>\n",
       "<style scoped>\n",
       "    .dataframe tbody tr th:only-of-type {\n",
       "        vertical-align: middle;\n",
       "    }\n",
       "\n",
       "    .dataframe tbody tr th {\n",
       "        vertical-align: top;\n",
       "    }\n",
       "\n",
       "    .dataframe thead th {\n",
       "        text-align: right;\n",
       "    }\n",
       "</style>\n",
       "<table border=\"1\" class=\"dataframe\">\n",
       "  <thead>\n",
       "    <tr style=\"text-align: right;\">\n",
       "      <th></th>\n",
       "      <th>image_id</th>\n",
       "      <th>dir</th>\n",
       "      <th>label</th>\n",
       "    </tr>\n",
       "  </thead>\n",
       "  <tbody>\n",
       "    <tr>\n",
       "      <th>0</th>\n",
       "      <td>1160a2e553cfed66.jpg</td>\n",
       "      <td>../../disk/Data/open_image/train_1</td>\n",
       "      <td>0</td>\n",
       "    </tr>\n",
       "    <tr>\n",
       "      <th>1</th>\n",
       "      <td>154d5fc5899beb32.jpg</td>\n",
       "      <td>../../disk/Data/open_image/train_1</td>\n",
       "      <td>0</td>\n",
       "    </tr>\n",
       "    <tr>\n",
       "      <th>2</th>\n",
       "      <td>19b5d2d2e7428301.jpg</td>\n",
       "      <td>../../disk/Data/open_image/train_1</td>\n",
       "      <td>0</td>\n",
       "    </tr>\n",
       "    <tr>\n",
       "      <th>3</th>\n",
       "      <td>120ea2671e0c0dd4.jpg</td>\n",
       "      <td>../../disk/Data/open_image/train_1</td>\n",
       "      <td>0</td>\n",
       "    </tr>\n",
       "    <tr>\n",
       "      <th>4</th>\n",
       "      <td>14bdf0a0083d9713.jpg</td>\n",
       "      <td>../../disk/Data/open_image/train_1</td>\n",
       "      <td>0</td>\n",
       "    </tr>\n",
       "    <tr>\n",
       "      <th>...</th>\n",
       "      <td>...</td>\n",
       "      <td>...</td>\n",
       "      <td>...</td>\n",
       "    </tr>\n",
       "    <tr>\n",
       "      <th>2395</th>\n",
       "      <td>thunderstorm_039.jpg</td>\n",
       "      <td>../Data/disaster/test/origin_images/crawling/t...</td>\n",
       "      <td>1</td>\n",
       "    </tr>\n",
       "    <tr>\n",
       "      <th>2396</th>\n",
       "      <td>fog_disasterfog_136.jpg</td>\n",
       "      <td>../Data/disaster/test/origin_images/crawling/f...</td>\n",
       "      <td>1</td>\n",
       "    </tr>\n",
       "    <tr>\n",
       "      <th>2397</th>\n",
       "      <td>fire_disasterfire_032.jpg</td>\n",
       "      <td>../Data/disaster/test/origin_images/crawling/f...</td>\n",
       "      <td>1</td>\n",
       "    </tr>\n",
       "    <tr>\n",
       "      <th>2398</th>\n",
       "      <td>blizzard_disasterblizzard_069.jpg</td>\n",
       "      <td>../Data/disaster/test/origin_images/crawling/b...</td>\n",
       "      <td>1</td>\n",
       "    </tr>\n",
       "    <tr>\n",
       "      <th>2399</th>\n",
       "      <td>thunderstorm_277.jpg</td>\n",
       "      <td>../Data/disaster/test/origin_images/crawling/t...</td>\n",
       "      <td>1</td>\n",
       "    </tr>\n",
       "  </tbody>\n",
       "</table>\n",
       "<p>2400 rows × 3 columns</p>\n",
       "</div>"
      ],
      "text/plain": [
       "                               image_id  \\\n",
       "0                  1160a2e553cfed66.jpg   \n",
       "1                  154d5fc5899beb32.jpg   \n",
       "2                  19b5d2d2e7428301.jpg   \n",
       "3                  120ea2671e0c0dd4.jpg   \n",
       "4                  14bdf0a0083d9713.jpg   \n",
       "...                                 ...   \n",
       "2395               thunderstorm_039.jpg   \n",
       "2396            fog_disasterfog_136.jpg   \n",
       "2397          fire_disasterfire_032.jpg   \n",
       "2398  blizzard_disasterblizzard_069.jpg   \n",
       "2399               thunderstorm_277.jpg   \n",
       "\n",
       "                                                    dir  label  \n",
       "0                    ../../disk/Data/open_image/train_1      0  \n",
       "1                    ../../disk/Data/open_image/train_1      0  \n",
       "2                    ../../disk/Data/open_image/train_1      0  \n",
       "3                    ../../disk/Data/open_image/train_1      0  \n",
       "4                    ../../disk/Data/open_image/train_1      0  \n",
       "...                                                 ...    ...  \n",
       "2395  ../Data/disaster/test/origin_images/crawling/t...      1  \n",
       "2396  ../Data/disaster/test/origin_images/crawling/f...      1  \n",
       "2397  ../Data/disaster/test/origin_images/crawling/f...      1  \n",
       "2398  ../Data/disaster/test/origin_images/crawling/b...      1  \n",
       "2399  ../Data/disaster/test/origin_images/crawling/t...      1  \n",
       "\n",
       "[2400 rows x 3 columns]"
      ]
     },
     "execution_count": 11,
     "metadata": {},
     "output_type": "execute_result"
    }
   ],
   "source": [
    "tst_df = pd.DataFrame(tst_disater, columns=['image_id'])\n",
    "tst_df['dir'] = tst_df['image_id'].apply(lambda x: os.path.dirname(x))\n",
    "tst_df['image_id'] = tst_df['image_id'].apply(lambda x: os.path.basename(x))\n",
    "tst_df['label'] = tst_label\n",
    "test = tst_df\n",
    "test"
   ]
  },
  {
   "cell_type": "code",
   "execution_count": 29,
   "id": "f2d6fb7d-7845-4508-a426-00ba4ddfac22",
   "metadata": {},
   "outputs": [],
   "source": [
    "dist.destroy_process_group()"
   ]
  },
  {
   "cell_type": "code",
   "execution_count": 12,
   "id": "316cf642-fed5-4b93-9efd-b6aa89a9ec07",
   "metadata": {},
   "outputs": [
    {
     "name": "stderr",
     "output_type": "stream",
     "text": [
      "100%|███████████████████████████████████████████| 19/19 [02:12<00:00,  6.97s/it]\n"
     ]
    }
   ],
   "source": [
    "model_name = 'inception_resnet_v2'\n",
    "model_dir = model_name + '/inception_resnet_v2_6010'\n",
    "%run eval_test.ipynb"
   ]
  },
  {
   "cell_type": "code",
   "execution_count": 13,
   "id": "2e738224-f5c0-4cbb-8d10-30e6fae9c760",
   "metadata": {},
   "outputs": [
    {
     "name": "stdout",
     "output_type": "stream",
     "text": [
      "accuracy: 0.9671\n",
      "f1_score: 0.9368\n",
      "confusion_matrix \n",
      "-------------------------\n",
      " [[1991    9]\n",
      " [  70  330]]\n"
     ]
    }
   ],
   "source": [
    "print(f'accuracy: {test_acc:.4f}')\n",
    "print(f'f1_score: {epoch_f1:.4f}')\n",
    "print(f'confusion_matrix \\n-------------------------\\n {test_matrix}')"
   ]
  },
  {
   "cell_type": "code",
   "execution_count": 11,
   "id": "aa7fb1d5-efe3-44a9-87ee-c0022633b42f",
   "metadata": {},
   "outputs": [
    {
     "data": {
      "text/html": [
       "<div>\n",
       "<style scoped>\n",
       "    .dataframe tbody tr th:only-of-type {\n",
       "        vertical-align: middle;\n",
       "    }\n",
       "\n",
       "    .dataframe tbody tr th {\n",
       "        vertical-align: top;\n",
       "    }\n",
       "\n",
       "    .dataframe thead th {\n",
       "        text-align: right;\n",
       "    }\n",
       "</style>\n",
       "<table border=\"1\" class=\"dataframe\">\n",
       "  <thead>\n",
       "    <tr style=\"text-align: right;\">\n",
       "      <th></th>\n",
       "      <th>image_id</th>\n",
       "      <th>dir</th>\n",
       "      <th>label</th>\n",
       "      <th>pred</th>\n",
       "      <th>confidence score</th>\n",
       "    </tr>\n",
       "  </thead>\n",
       "  <tbody>\n",
       "    <tr>\n",
       "      <th>0</th>\n",
       "      <td>13d191db596a5e4a.jpg</td>\n",
       "      <td>../../disk/Data/open_image/train_1</td>\n",
       "      <td>0</td>\n",
       "      <td>1</td>\n",
       "      <td>0.918041</td>\n",
       "    </tr>\n",
       "    <tr>\n",
       "      <th>1</th>\n",
       "      <td>1cfd32a632fa0771.jpg</td>\n",
       "      <td>../../disk/Data/open_image/train_1</td>\n",
       "      <td>0</td>\n",
       "      <td>1</td>\n",
       "      <td>0.700170</td>\n",
       "    </tr>\n",
       "    <tr>\n",
       "      <th>2</th>\n",
       "      <td>1a7a43cb6ae3ed7b.jpg</td>\n",
       "      <td>../../disk/Data/open_image/train_1</td>\n",
       "      <td>0</td>\n",
       "      <td>1</td>\n",
       "      <td>0.665575</td>\n",
       "    </tr>\n",
       "    <tr>\n",
       "      <th>3</th>\n",
       "      <td>1410f35aeb2ae8af.jpg</td>\n",
       "      <td>../../disk/Data/open_image/train_1</td>\n",
       "      <td>0</td>\n",
       "      <td>1</td>\n",
       "      <td>0.993265</td>\n",
       "    </tr>\n",
       "    <tr>\n",
       "      <th>4</th>\n",
       "      <td>13628048cf4a80cd.jpg</td>\n",
       "      <td>../../disk/Data/open_image/train_1</td>\n",
       "      <td>0</td>\n",
       "      <td>1</td>\n",
       "      <td>0.930421</td>\n",
       "    </tr>\n",
       "    <tr>\n",
       "      <th>...</th>\n",
       "      <td>...</td>\n",
       "      <td>...</td>\n",
       "      <td>...</td>\n",
       "      <td>...</td>\n",
       "      <td>...</td>\n",
       "    </tr>\n",
       "    <tr>\n",
       "      <th>558</th>\n",
       "      <td>blizzard_disasterblizzard_305.jpg</td>\n",
       "      <td>../Data/disaster/test/origin_images/crawling/b...</td>\n",
       "      <td>1</td>\n",
       "      <td>0</td>\n",
       "      <td>0.924526</td>\n",
       "    </tr>\n",
       "    <tr>\n",
       "      <th>559</th>\n",
       "      <td>tempest_041.jpg</td>\n",
       "      <td>../Data/disaster/test/origin_images/crawling/t...</td>\n",
       "      <td>1</td>\n",
       "      <td>0</td>\n",
       "      <td>0.999252</td>\n",
       "    </tr>\n",
       "    <tr>\n",
       "      <th>560</th>\n",
       "      <td>000000073187.jpg</td>\n",
       "      <td>../Data/disaster/test/origin_images/COCO_disaster</td>\n",
       "      <td>1</td>\n",
       "      <td>0</td>\n",
       "      <td>0.999304</td>\n",
       "    </tr>\n",
       "    <tr>\n",
       "      <th>561</th>\n",
       "      <td>000000234697.jpg</td>\n",
       "      <td>../Data/disaster/test/origin_images/COCO_disaster</td>\n",
       "      <td>1</td>\n",
       "      <td>0</td>\n",
       "      <td>0.999646</td>\n",
       "    </tr>\n",
       "    <tr>\n",
       "      <th>562</th>\n",
       "      <td>000000213826.jpg</td>\n",
       "      <td>../Data/disaster/test/origin_images/COCO_disaster</td>\n",
       "      <td>1</td>\n",
       "      <td>0</td>\n",
       "      <td>0.992844</td>\n",
       "    </tr>\n",
       "  </tbody>\n",
       "</table>\n",
       "<p>563 rows × 5 columns</p>\n",
       "</div>"
      ],
      "text/plain": [
       "                              image_id  \\\n",
       "0                 13d191db596a5e4a.jpg   \n",
       "1                 1cfd32a632fa0771.jpg   \n",
       "2                 1a7a43cb6ae3ed7b.jpg   \n",
       "3                 1410f35aeb2ae8af.jpg   \n",
       "4                 13628048cf4a80cd.jpg   \n",
       "..                                 ...   \n",
       "558  blizzard_disasterblizzard_305.jpg   \n",
       "559                    tempest_041.jpg   \n",
       "560                   000000073187.jpg   \n",
       "561                   000000234697.jpg   \n",
       "562                   000000213826.jpg   \n",
       "\n",
       "                                                   dir  label  pred  \\\n",
       "0                   ../../disk/Data/open_image/train_1      0     1   \n",
       "1                   ../../disk/Data/open_image/train_1      0     1   \n",
       "2                   ../../disk/Data/open_image/train_1      0     1   \n",
       "3                   ../../disk/Data/open_image/train_1      0     1   \n",
       "4                   ../../disk/Data/open_image/train_1      0     1   \n",
       "..                                                 ...    ...   ...   \n",
       "558  ../Data/disaster/test/origin_images/crawling/b...      1     0   \n",
       "559  ../Data/disaster/test/origin_images/crawling/t...      1     0   \n",
       "560  ../Data/disaster/test/origin_images/COCO_disaster      1     0   \n",
       "561  ../Data/disaster/test/origin_images/COCO_disaster      1     0   \n",
       "562  ../Data/disaster/test/origin_images/COCO_disaster      1     0   \n",
       "\n",
       "     confidence score  \n",
       "0            0.918041  \n",
       "1            0.700170  \n",
       "2            0.665575  \n",
       "3            0.993265  \n",
       "4            0.930421  \n",
       "..                ...  \n",
       "558          0.924526  \n",
       "559          0.999252  \n",
       "560          0.999304  \n",
       "561          0.999646  \n",
       "562          0.992844  \n",
       "\n",
       "[563 rows x 5 columns]"
      ]
     },
     "execution_count": 11,
     "metadata": {},
     "output_type": "execute_result"
    }
   ],
   "source": [
    "non_matched_idx = test['label'] != test['pred']\n",
    "non_matched = test[non_matched_idx].reset_index(inplace = False, drop=True)\n",
    "non_matched"
   ]
  },
  {
   "cell_type": "code",
   "execution_count": null,
   "id": "723b1ad3-5b31-4452-95f7-e97107e78017",
   "metadata": {},
   "outputs": [],
   "source": [
    "## show img status\n",
    "\n",
    "back = 0\n",
    "plt.figure(figsize=(16,600))\n",
    "for i in range(len(non_matched[back:])):\n",
    "    plt.subplot(150,4,i+1)\n",
    "    #if i % 4 == 0:\n",
    "        #plt.title(f\"{(i+1+back)/4}\")\n",
    "    plt.xticks([])\n",
    "    plt.yticks([])\n",
    "    plt.grid(False)\n",
    "    path = non_matched['dir'][i+back] + '/' + non_matched['image_id'][i+back]\n",
    "    im_bgr = cv2.imread(path)\n",
    "    im_rgb = im_bgr[:, :, ::-1]\n",
    "    plt.imshow(im_rgb, cmap=plt.cm.binary)\n",
    "    \n",
    "plt.show()"
   ]
  },
  {
   "cell_type": "code",
   "execution_count": 24,
   "id": "792ea43b-10d3-4b9e-967a-8a8b847b73a5",
   "metadata": {},
   "outputs": [],
   "source": [
    "test.to_csv('test_result/nsb2_oi_tst.csv', index=False)"
   ]
  },
  {
   "cell_type": "code",
   "execution_count": 8,
   "id": "b083d85d-1a89-4249-b198-b5f5cc72e520",
   "metadata": {},
   "outputs": [
    {
     "data": {
      "text/plain": [
       "0.9963420273292325"
      ]
     },
     "execution_count": 8,
     "metadata": {},
     "output_type": "execute_result"
    }
   ],
   "source": [
    "test_acc = np.sum(test.label == test.pred) / len(test)\n",
    "test_acc"
   ]
  },
  {
   "cell_type": "code",
   "execution_count": 14,
   "id": "c51708f2-3744-406d-97e2-666933aad2c9",
   "metadata": {},
   "outputs": [
    {
     "ename": "NameError",
     "evalue": "name 'model' is not defined",
     "output_type": "error",
     "traceback": [
      "\u001b[0;31m---------------------------------------------------------------------------\u001b[0m",
      "\u001b[0;31mNameError\u001b[0m                                 Traceback (most recent call last)",
      "Input \u001b[0;32mIn [14]\u001b[0m, in \u001b[0;36m<cell line: 1>\u001b[0;34m()\u001b[0m\n\u001b[0;32m----> 1\u001b[0m \u001b[38;5;28;01mfor\u001b[39;00m name, param \u001b[38;5;129;01min\u001b[39;00m \u001b[43mmodel\u001b[49m\u001b[38;5;241m.\u001b[39mnamed_parameters():\n\u001b[1;32m      2\u001b[0m     \u001b[38;5;28mprint\u001b[39m(name, param\u001b[38;5;241m.\u001b[39mrequires_grad)\n",
      "\u001b[0;31mNameError\u001b[0m: name 'model' is not defined"
     ]
    }
   ],
   "source": []
  },
  {
   "cell_type": "code",
   "execution_count": null,
   "id": "0ddb3e8e-d3a3-42e2-9312-7b43fdb4ddf4",
   "metadata": {},
   "outputs": [],
   "source": []
  }
 ],
 "metadata": {
  "kernelspec": {
   "display_name": "torch-gpu",
   "language": "python",
   "name": "torch"
  },
  "language_info": {
   "codemirror_mode": {
    "name": "ipython",
    "version": 3
   },
   "file_extension": ".py",
   "mimetype": "text/x-python",
   "name": "python",
   "nbconvert_exporter": "python",
   "pygments_lexer": "ipython3",
   "version": "3.9.16"
  }
 },
 "nbformat": 4,
 "nbformat_minor": 5
}

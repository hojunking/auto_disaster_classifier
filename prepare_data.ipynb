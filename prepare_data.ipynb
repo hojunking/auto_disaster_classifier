{
 "cells": [
  {
   "cell_type": "code",
   "execution_count": 1,
   "id": "764483ff-6d37-4c38-afea-6ca7ce969ed3",
   "metadata": {},
   "outputs": [],
   "source": [
    "import json\n",
    "import os\n",
    "import pandas as pd\n",
    "import matplotlib.pyplot as plt\n",
    "import cv2\n",
    "import random"
   ]
  },
  {
   "cell_type": "markdown",
   "id": "cc8e29e0-3d71-4616-8018-dae7b182e6d5",
   "metadata": {},
   "source": [
    "### coco: 894 // flickr: 184 // open_image: 616"
   ]
  },
  {
   "cell_type": "code",
   "execution_count": 2,
   "id": "a2ee79fb-c022-4338-824c-5b5c9f04c28a",
   "metadata": {},
   "outputs": [
    {
     "name": "stdout",
     "output_type": "stream",
     "text": [
      "4000\n"
     ]
    }
   ],
   "source": [
    "dir_path = \"../Data/disaster/\"\n",
    "\n",
    "img_names = []\n",
    "for folder, subfolders, filenames in os.walk(dir_path):\n",
    "    for img in filenames:\n",
    "        img_names.append(folder+'/'+img)\n",
    "random.shuffle(img_names)\n",
    "disaster = img_names[:4000]\n",
    "print(len(disaster))"
   ]
  },
  {
   "cell_type": "code",
   "execution_count": 3,
   "id": "35bf8cde-2b7e-487e-bb3b-f6eaa7aeb7c3",
   "metadata": {},
   "outputs": [
    {
     "name": "stdout",
     "output_type": "stream",
     "text": [
      "3000\n"
     ]
    }
   ],
   "source": [
    "## open_image 1만장\n",
    "dir_path = \"../../disk/Data/open_image/train_0/\"\n",
    "\n",
    "img_names = []\n",
    "for folder, subfolders, filenames in os.walk(dir_path):\n",
    "    for img in filenames:\n",
    "        img_names.append(folder+'/'+img)\n",
    "random.shuffle(img_names)\n",
    "open_image_non = img_names[:3000]\n",
    "print(len(open_image_non))"
   ]
  },
  {
   "cell_type": "code",
   "execution_count": 4,
   "id": "613ddeef-8e99-4d74-9e96-ea68ee84dd84",
   "metadata": {},
   "outputs": [
    {
     "name": "stdout",
     "output_type": "stream",
     "text": [
      "3000\n"
     ]
    }
   ],
   "source": [
    "## coco_image 1만장\n",
    "dir_path = \"../Data/train2017\"\n",
    "\n",
    "img_names = []\n",
    "for folder, subfolders, filenames in os.walk(dir_path):\n",
    "    for img in filenames:\n",
    "        img_names.append(folder+'/'+img)\n",
    "random.shuffle(img_names)\n",
    "coco_non = img_names[:3000]\n",
    "print(len(coco_non))"
   ]
  },
  {
   "cell_type": "code",
   "execution_count": 5,
   "id": "da8c07aa-5518-42cc-b6fd-a37f5b173cf4",
   "metadata": {},
   "outputs": [
    {
     "name": "stdout",
     "output_type": "stream",
     "text": [
      "['../Data/train2017/000000189152.jpg', '../Data/train2017/000000562664.jpg', '../Data/train2017/000000027329.jpg']\n"
     ]
    }
   ],
   "source": [
    "print(coco_non[:3])"
   ]
  },
  {
   "cell_type": "code",
   "execution_count": 6,
   "id": "d02cef0b-c402-4ff8-9910-350dc9c293da",
   "metadata": {},
   "outputs": [
    {
     "name": "stdout",
     "output_type": "stream",
     "text": [
      "6000\n"
     ]
    }
   ],
   "source": [
    "non = coco_non + open_image_non\n",
    "random.shuffle(non)\n",
    "print(len(non))"
   ]
  },
  {
   "cell_type": "markdown",
   "id": "d81c2b71-38b1-4aa6-bb85-596a0c81b4af",
   "metadata": {},
   "source": [
    "##### labeling"
   ]
  },
  {
   "cell_type": "markdown",
   "id": "7407e693-4f18-400f-b089-61c88177d662",
   "metadata": {},
   "source": [
    "##### split train, test"
   ]
  },
  {
   "cell_type": "code",
   "execution_count": 7,
   "id": "3e295090-90d6-4458-8350-7eb180a76e2b",
   "metadata": {},
   "outputs": [
    {
     "name": "stdout",
     "output_type": "stream",
     "text": [
      "7500\n",
      "2500\n"
     ]
    }
   ],
   "source": [
    "### train: test (4:1)\n",
    "## 36000 (1/4), 4000 (1/4)\n",
    "non_ratio=4500\n",
    "dis_ratio=3000\n",
    "trn_disater = non[:non_ratio] + disaster[:dis_ratio]\n",
    "tst_disater = non[non_ratio:] + disaster[dis_ratio:]\n",
    "trn_label = [0]*int(len(non[:non_ratio])) + [1]*int(len(disaster[:dis_ratio]))\n",
    "tst_label = [0]*int(len(non[non_ratio:])) + [1]*int(len(disaster[dis_ratio:]))\n",
    "print(len(trn_label))\n",
    "print(len(tst_label))\n"
   ]
  },
  {
   "cell_type": "code",
   "execution_count": 8,
   "id": "8eca9502-3980-4fa4-8cc1-043238843469",
   "metadata": {},
   "outputs": [
    {
     "data": {
      "text/html": [
       "<div>\n",
       "<style scoped>\n",
       "    .dataframe tbody tr th:only-of-type {\n",
       "        vertical-align: middle;\n",
       "    }\n",
       "\n",
       "    .dataframe tbody tr th {\n",
       "        vertical-align: top;\n",
       "    }\n",
       "\n",
       "    .dataframe thead th {\n",
       "        text-align: right;\n",
       "    }\n",
       "</style>\n",
       "<table border=\"1\" class=\"dataframe\">\n",
       "  <thead>\n",
       "    <tr style=\"text-align: right;\">\n",
       "      <th></th>\n",
       "      <th>image_id</th>\n",
       "      <th>dir</th>\n",
       "      <th>label</th>\n",
       "    </tr>\n",
       "  </thead>\n",
       "  <tbody>\n",
       "    <tr>\n",
       "      <th>0</th>\n",
       "      <td>053ef82231b9d0a9.jpg</td>\n",
       "      <td>../../disk/Data/open_image/train_0</td>\n",
       "      <td>0</td>\n",
       "    </tr>\n",
       "    <tr>\n",
       "      <th>1</th>\n",
       "      <td>0d861913c02444ad.jpg</td>\n",
       "      <td>../../disk/Data/open_image/train_0</td>\n",
       "      <td>0</td>\n",
       "    </tr>\n",
       "    <tr>\n",
       "      <th>2</th>\n",
       "      <td>02861284038d6fa5.jpg</td>\n",
       "      <td>../../disk/Data/open_image/train_0</td>\n",
       "      <td>0</td>\n",
       "    </tr>\n",
       "    <tr>\n",
       "      <th>3</th>\n",
       "      <td>000000129129.jpg</td>\n",
       "      <td>../Data/train2017</td>\n",
       "      <td>0</td>\n",
       "    </tr>\n",
       "    <tr>\n",
       "      <th>4</th>\n",
       "      <td>0b3ea9fe197471af.jpg</td>\n",
       "      <td>../../disk/Data/open_image/train_0</td>\n",
       "      <td>0</td>\n",
       "    </tr>\n",
       "    <tr>\n",
       "      <th>...</th>\n",
       "      <td>...</td>\n",
       "      <td>...</td>\n",
       "      <td>...</td>\n",
       "    </tr>\n",
       "    <tr>\n",
       "      <th>7495</th>\n",
       "      <td>We can see peoplewater and trees. In the backg...</td>\n",
       "      <td>../Data/disaster/generated/open_image</td>\n",
       "      <td>1</td>\n",
       "    </tr>\n",
       "    <tr>\n",
       "      <th>7496</th>\n",
       "      <td>560e387f1b361a5c_03.jpg</td>\n",
       "      <td>../Data/disaster/augmented</td>\n",
       "      <td>1</td>\n",
       "    </tr>\n",
       "    <tr>\n",
       "      <th>7497</th>\n",
       "      <td>000000490978_02.jpg</td>\n",
       "      <td>../Data/disaster/augmented</td>\n",
       "      <td>1</td>\n",
       "    </tr>\n",
       "    <tr>\n",
       "      <th>7498</th>\n",
       "      <td>A couple of park benches sitting in a flooded ...</td>\n",
       "      <td>../Data/disaster/generated/coco</td>\n",
       "      <td>1</td>\n",
       "    </tr>\n",
       "    <tr>\n",
       "      <th>7499</th>\n",
       "      <td>e96bd3fbab0d4357_01.jpg</td>\n",
       "      <td>../Data/disaster/augmented</td>\n",
       "      <td>1</td>\n",
       "    </tr>\n",
       "  </tbody>\n",
       "</table>\n",
       "<p>7500 rows × 3 columns</p>\n",
       "</div>"
      ],
      "text/plain": [
       "                                               image_id  \\\n",
       "0                                  053ef82231b9d0a9.jpg   \n",
       "1                                  0d861913c02444ad.jpg   \n",
       "2                                  02861284038d6fa5.jpg   \n",
       "3                                      000000129129.jpg   \n",
       "4                                  0b3ea9fe197471af.jpg   \n",
       "...                                                 ...   \n",
       "7495  We can see peoplewater and trees. In the backg...   \n",
       "7496                            560e387f1b361a5c_03.jpg   \n",
       "7497                                000000490978_02.jpg   \n",
       "7498  A couple of park benches sitting in a flooded ...   \n",
       "7499                            e96bd3fbab0d4357_01.jpg   \n",
       "\n",
       "                                        dir  label  \n",
       "0        ../../disk/Data/open_image/train_0      0  \n",
       "1        ../../disk/Data/open_image/train_0      0  \n",
       "2        ../../disk/Data/open_image/train_0      0  \n",
       "3                         ../Data/train2017      0  \n",
       "4        ../../disk/Data/open_image/train_0      0  \n",
       "...                                     ...    ...  \n",
       "7495  ../Data/disaster/generated/open_image      1  \n",
       "7496             ../Data/disaster/augmented      1  \n",
       "7497             ../Data/disaster/augmented      1  \n",
       "7498        ../Data/disaster/generated/coco      1  \n",
       "7499             ../Data/disaster/augmented      1  \n",
       "\n",
       "[7500 rows x 3 columns]"
      ]
     },
     "execution_count": 8,
     "metadata": {},
     "output_type": "execute_result"
    }
   ],
   "source": [
    "trn_df = pd.DataFrame(trn_disater, columns=['image_id'])\n",
    "trn_df['dir'] = trn_df['image_id'].apply(lambda x: os.path.dirname(x))\n",
    "trn_df['image_id'] = trn_df['image_id'].apply(lambda x: os.path.basename(x))\n",
    "trn_df['label'] = trn_label\n",
    "train = trn_df\n",
    "train"
   ]
  },
  {
   "cell_type": "code",
   "execution_count": 9,
   "id": "019ccd37-04c2-48ac-9dae-9752808dc271",
   "metadata": {},
   "outputs": [
    {
     "data": {
      "text/html": [
       "<div>\n",
       "<style scoped>\n",
       "    .dataframe tbody tr th:only-of-type {\n",
       "        vertical-align: middle;\n",
       "    }\n",
       "\n",
       "    .dataframe tbody tr th {\n",
       "        vertical-align: top;\n",
       "    }\n",
       "\n",
       "    .dataframe thead th {\n",
       "        text-align: right;\n",
       "    }\n",
       "</style>\n",
       "<table border=\"1\" class=\"dataframe\">\n",
       "  <thead>\n",
       "    <tr style=\"text-align: right;\">\n",
       "      <th></th>\n",
       "      <th>image_id</th>\n",
       "      <th>dir</th>\n",
       "      <th>label</th>\n",
       "    </tr>\n",
       "  </thead>\n",
       "  <tbody>\n",
       "    <tr>\n",
       "      <th>0</th>\n",
       "      <td>0bdc6605e4dabcd2.jpg</td>\n",
       "      <td>../../disk/Data/open_image/train_0</td>\n",
       "      <td>0</td>\n",
       "    </tr>\n",
       "    <tr>\n",
       "      <th>1</th>\n",
       "      <td>037fb933cecedef4.jpg</td>\n",
       "      <td>../../disk/Data/open_image/train_0</td>\n",
       "      <td>0</td>\n",
       "    </tr>\n",
       "    <tr>\n",
       "      <th>2</th>\n",
       "      <td>000000383884.jpg</td>\n",
       "      <td>../Data/train2017</td>\n",
       "      <td>0</td>\n",
       "    </tr>\n",
       "    <tr>\n",
       "      <th>3</th>\n",
       "      <td>000000347753.jpg</td>\n",
       "      <td>../Data/train2017</td>\n",
       "      <td>0</td>\n",
       "    </tr>\n",
       "    <tr>\n",
       "      <th>4</th>\n",
       "      <td>0e20cab072faaab2.jpg</td>\n",
       "      <td>../../disk/Data/open_image/train_0</td>\n",
       "      <td>0</td>\n",
       "    </tr>\n",
       "    <tr>\n",
       "      <th>...</th>\n",
       "      <td>...</td>\n",
       "      <td>...</td>\n",
       "      <td>...</td>\n",
       "    </tr>\n",
       "    <tr>\n",
       "      <th>2495</th>\n",
       "      <td>b6258d9fa4842a39_00.jpg</td>\n",
       "      <td>../Data/disaster/augmented</td>\n",
       "      <td>1</td>\n",
       "    </tr>\n",
       "    <tr>\n",
       "      <th>2496</th>\n",
       "      <td>4718871145_02.jpg</td>\n",
       "      <td>../Data/disaster/augmented</td>\n",
       "      <td>1</td>\n",
       "    </tr>\n",
       "    <tr>\n",
       "      <th>2497</th>\n",
       "      <td>\"In the down side there are green color trees....</td>\n",
       "      <td>../Data/disaster/generated/open_image</td>\n",
       "      <td>1</td>\n",
       "    </tr>\n",
       "    <tr>\n",
       "      <th>2498</th>\n",
       "      <td>City traffic waiting for signal to change on f...</td>\n",
       "      <td>../Data/disaster/generated/coco</td>\n",
       "      <td>1</td>\n",
       "    </tr>\n",
       "    <tr>\n",
       "      <th>2499</th>\n",
       "      <td>000000160746_00.jpg</td>\n",
       "      <td>../Data/disaster/augmented</td>\n",
       "      <td>1</td>\n",
       "    </tr>\n",
       "  </tbody>\n",
       "</table>\n",
       "<p>2500 rows × 3 columns</p>\n",
       "</div>"
      ],
      "text/plain": [
       "                                               image_id  \\\n",
       "0                                  0bdc6605e4dabcd2.jpg   \n",
       "1                                  037fb933cecedef4.jpg   \n",
       "2                                      000000383884.jpg   \n",
       "3                                      000000347753.jpg   \n",
       "4                                  0e20cab072faaab2.jpg   \n",
       "...                                                 ...   \n",
       "2495                            b6258d9fa4842a39_00.jpg   \n",
       "2496                                  4718871145_02.jpg   \n",
       "2497  \"In the down side there are green color trees....   \n",
       "2498  City traffic waiting for signal to change on f...   \n",
       "2499                                000000160746_00.jpg   \n",
       "\n",
       "                                        dir  label  \n",
       "0        ../../disk/Data/open_image/train_0      0  \n",
       "1        ../../disk/Data/open_image/train_0      0  \n",
       "2                         ../Data/train2017      0  \n",
       "3                         ../Data/train2017      0  \n",
       "4        ../../disk/Data/open_image/train_0      0  \n",
       "...                                     ...    ...  \n",
       "2495             ../Data/disaster/augmented      1  \n",
       "2496             ../Data/disaster/augmented      1  \n",
       "2497  ../Data/disaster/generated/open_image      1  \n",
       "2498        ../Data/disaster/generated/coco      1  \n",
       "2499             ../Data/disaster/augmented      1  \n",
       "\n",
       "[2500 rows x 3 columns]"
      ]
     },
     "execution_count": 9,
     "metadata": {},
     "output_type": "execute_result"
    }
   ],
   "source": [
    "tst_df = pd.DataFrame(tst_disater, columns=['image_id'])\n",
    "tst_df['dir'] = tst_df['image_id'].apply(lambda x: os.path.dirname(x))\n",
    "tst_df['image_id'] = tst_df['image_id'].apply(lambda x: os.path.basename(x))\n",
    "tst_df['label'] = tst_label\n",
    "test = tst_df\n",
    "test"
   ]
  },
  {
   "cell_type": "code",
   "execution_count": 10,
   "id": "2abe5daa-3224-42ee-ad18-d75dd61fd604",
   "metadata": {},
   "outputs": [],
   "source": [
    "project_name = 'disaster_classfication_resnet101'\n",
    "user = 'hojunking'\n",
    "run_name = 'disaster_classfication_resnet101'"
   ]
  },
  {
   "cell_type": "code",
   "execution_count": null,
   "id": "65f38af9-b1d5-4052-b100-ef44d2072635",
   "metadata": {},
   "outputs": [],
   "source": [
    "%run classification_baseline.ipynb"
   ]
  },
  {
   "cell_type": "code",
   "execution_count": 14,
   "id": "f2d6fb7d-7845-4508-a426-00ba4ddfac22",
   "metadata": {},
   "outputs": [],
   "source": [
    "dist.destroy_process_group()"
   ]
  },
  {
   "cell_type": "code",
   "execution_count": 15,
   "id": "316cf642-fed5-4b93-9efd-b6aa89a9ec07",
   "metadata": {},
   "outputs": [
    {
     "name": "stderr",
     "output_type": "stream",
     "text": [
      "100%|███████████████████████████████████████████| 20/20 [01:10<00:00,  3.50s/it]\n"
     ]
    },
    {
     "data": {
      "text/html": [
       "<div>\n",
       "<style scoped>\n",
       "    .dataframe tbody tr th:only-of-type {\n",
       "        vertical-align: middle;\n",
       "    }\n",
       "\n",
       "    .dataframe tbody tr th {\n",
       "        vertical-align: top;\n",
       "    }\n",
       "\n",
       "    .dataframe thead th {\n",
       "        text-align: right;\n",
       "    }\n",
       "</style>\n",
       "<table border=\"1\" class=\"dataframe\">\n",
       "  <thead>\n",
       "    <tr style=\"text-align: right;\">\n",
       "      <th></th>\n",
       "      <th>image_id</th>\n",
       "      <th>dir</th>\n",
       "      <th>label</th>\n",
       "      <th>pred</th>\n",
       "      <th>confidence score</th>\n",
       "    </tr>\n",
       "  </thead>\n",
       "  <tbody>\n",
       "    <tr>\n",
       "      <th>0</th>\n",
       "      <td>0d2ceffbc1af658b.jpg</td>\n",
       "      <td>../../disk/Data/open_image/train_0</td>\n",
       "      <td>0</td>\n",
       "      <td>0</td>\n",
       "      <td>0.832419</td>\n",
       "    </tr>\n",
       "    <tr>\n",
       "      <th>1</th>\n",
       "      <td>000000365314.jpg</td>\n",
       "      <td>../Data/train2017</td>\n",
       "      <td>0</td>\n",
       "      <td>0</td>\n",
       "      <td>0.901519</td>\n",
       "    </tr>\n",
       "    <tr>\n",
       "      <th>2</th>\n",
       "      <td>03276b57be82e565.jpg</td>\n",
       "      <td>../../disk/Data/open_image/train_0</td>\n",
       "      <td>0</td>\n",
       "      <td>0</td>\n",
       "      <td>0.879928</td>\n",
       "    </tr>\n",
       "    <tr>\n",
       "      <th>3</th>\n",
       "      <td>000000262360.jpg</td>\n",
       "      <td>../Data/train2017</td>\n",
       "      <td>0</td>\n",
       "      <td>0</td>\n",
       "      <td>0.752063</td>\n",
       "    </tr>\n",
       "    <tr>\n",
       "      <th>4</th>\n",
       "      <td>0749aae6bd625168.jpg</td>\n",
       "      <td>../../disk/Data/open_image/train_0</td>\n",
       "      <td>0</td>\n",
       "      <td>0</td>\n",
       "      <td>0.865968</td>\n",
       "    </tr>\n",
       "    <tr>\n",
       "      <th>...</th>\n",
       "      <td>...</td>\n",
       "      <td>...</td>\n",
       "      <td>...</td>\n",
       "      <td>...</td>\n",
       "      <td>...</td>\n",
       "    </tr>\n",
       "    <tr>\n",
       "      <th>2495</th>\n",
       "      <td>This picture shows a tree and we see plants an...</td>\n",
       "      <td>../Data/disaster/generated/open_image</td>\n",
       "      <td>1</td>\n",
       "      <td>1</td>\n",
       "      <td>0.887312</td>\n",
       "    </tr>\n",
       "    <tr>\n",
       "      <th>2496</th>\n",
       "      <td>A group of people walking on top of a flooded ...</td>\n",
       "      <td>../Data/disaster/generated/coco</td>\n",
       "      <td>1</td>\n",
       "      <td>0</td>\n",
       "      <td>0.565004</td>\n",
       "    </tr>\n",
       "    <tr>\n",
       "      <th>2497</th>\n",
       "      <td>A sports utility vehicle driving in the brush ...</td>\n",
       "      <td>../Data/disaster/generated/coco</td>\n",
       "      <td>1</td>\n",
       "      <td>1</td>\n",
       "      <td>0.757751</td>\n",
       "    </tr>\n",
       "    <tr>\n",
       "      <th>2498</th>\n",
       "      <td>0a49797a8f240259_00.jpg</td>\n",
       "      <td>../Data/disaster/augmented</td>\n",
       "      <td>1</td>\n",
       "      <td>1</td>\n",
       "      <td>0.918840</td>\n",
       "    </tr>\n",
       "    <tr>\n",
       "      <th>2499</th>\n",
       "      <td>In this picture I can observe a couple walking...</td>\n",
       "      <td>../Data/disaster/generated/open_image</td>\n",
       "      <td>1</td>\n",
       "      <td>0</td>\n",
       "      <td>0.573228</td>\n",
       "    </tr>\n",
       "  </tbody>\n",
       "</table>\n",
       "<p>2500 rows × 5 columns</p>\n",
       "</div>"
      ],
      "text/plain": [
       "                                               image_id  \\\n",
       "0                                  0d2ceffbc1af658b.jpg   \n",
       "1                                      000000365314.jpg   \n",
       "2                                  03276b57be82e565.jpg   \n",
       "3                                      000000262360.jpg   \n",
       "4                                  0749aae6bd625168.jpg   \n",
       "...                                                 ...   \n",
       "2495  This picture shows a tree and we see plants an...   \n",
       "2496  A group of people walking on top of a flooded ...   \n",
       "2497  A sports utility vehicle driving in the brush ...   \n",
       "2498                            0a49797a8f240259_00.jpg   \n",
       "2499  In this picture I can observe a couple walking...   \n",
       "\n",
       "                                        dir  label  pred  confidence score  \n",
       "0        ../../disk/Data/open_image/train_0      0     0          0.832419  \n",
       "1                         ../Data/train2017      0     0          0.901519  \n",
       "2        ../../disk/Data/open_image/train_0      0     0          0.879928  \n",
       "3                         ../Data/train2017      0     0          0.752063  \n",
       "4        ../../disk/Data/open_image/train_0      0     0          0.865968  \n",
       "...                                     ...    ...   ...               ...  \n",
       "2495  ../Data/disaster/generated/open_image      1     1          0.887312  \n",
       "2496        ../Data/disaster/generated/coco      1     0          0.565004  \n",
       "2497        ../Data/disaster/generated/coco      1     1          0.757751  \n",
       "2498             ../Data/disaster/augmented      1     1          0.918840  \n",
       "2499  ../Data/disaster/generated/open_image      1     0          0.573228  \n",
       "\n",
       "[2500 rows x 5 columns]"
      ]
     },
     "execution_count": 15,
     "metadata": {},
     "output_type": "execute_result"
    }
   ],
   "source": [
    "model_dir = 'resnet50/resnet50_0'\n",
    "%run eval_test.ipynb\n",
    "test"
   ]
  },
  {
   "cell_type": "code",
   "execution_count": 16,
   "id": "2e738224-f5c0-4cbb-8d10-30e6fae9c760",
   "metadata": {},
   "outputs": [
    {
     "name": "stdout",
     "output_type": "stream",
     "text": [
      "accuracy: 0.9216\n",
      "f1_score: 0.9170\n",
      "confusion_matrix \n",
      "-------------------------\n",
      " [[1447   53]\n",
      " [ 143  857]]\n"
     ]
    }
   ],
   "source": [
    "print(f'accuracy: {test_acc:.4f}')\n",
    "print(f'f1_score: {epoch_f1:.4f}')\n",
    "print(f'confusion_matrix \\n-------------------------\\n {test_matrix}')"
   ]
  },
  {
   "cell_type": "code",
   "execution_count": 24,
   "id": "792ea43b-10d3-4b9e-967a-8a8b847b73a5",
   "metadata": {},
   "outputs": [],
   "source": [
    "test.to_csv('test_result/nsb2_oi_tst.csv', index=False)"
   ]
  },
  {
   "cell_type": "code",
   "execution_count": 8,
   "id": "b083d85d-1a89-4249-b198-b5f5cc72e520",
   "metadata": {},
   "outputs": [
    {
     "data": {
      "text/plain": [
       "0.9963420273292325"
      ]
     },
     "execution_count": 8,
     "metadata": {},
     "output_type": "execute_result"
    }
   ],
   "source": [
    "test_acc = np.sum(test.label == test.pred) / len(test)\n",
    "test_acc"
   ]
  },
  {
   "cell_type": "code",
   "execution_count": 14,
   "id": "c51708f2-3744-406d-97e2-666933aad2c9",
   "metadata": {},
   "outputs": [
    {
     "ename": "NameError",
     "evalue": "name 'model' is not defined",
     "output_type": "error",
     "traceback": [
      "\u001b[0;31m---------------------------------------------------------------------------\u001b[0m",
      "\u001b[0;31mNameError\u001b[0m                                 Traceback (most recent call last)",
      "Input \u001b[0;32mIn [14]\u001b[0m, in \u001b[0;36m<cell line: 1>\u001b[0;34m()\u001b[0m\n\u001b[0;32m----> 1\u001b[0m \u001b[38;5;28;01mfor\u001b[39;00m name, param \u001b[38;5;129;01min\u001b[39;00m \u001b[43mmodel\u001b[49m\u001b[38;5;241m.\u001b[39mnamed_parameters():\n\u001b[1;32m      2\u001b[0m     \u001b[38;5;28mprint\u001b[39m(name, param\u001b[38;5;241m.\u001b[39mrequires_grad)\n",
      "\u001b[0;31mNameError\u001b[0m: name 'model' is not defined"
     ]
    }
   ],
   "source": []
  },
  {
   "cell_type": "code",
   "execution_count": null,
   "id": "0ddb3e8e-d3a3-42e2-9312-7b43fdb4ddf4",
   "metadata": {},
   "outputs": [],
   "source": []
  }
 ],
 "metadata": {
  "kernelspec": {
   "display_name": "torch-gpu",
   "language": "python",
   "name": "torch"
  },
  "language_info": {
   "codemirror_mode": {
    "name": "ipython",
    "version": 3
   },
   "file_extension": ".py",
   "mimetype": "text/x-python",
   "name": "python",
   "nbconvert_exporter": "python",
   "pygments_lexer": "ipython3",
   "version": "3.10.6"
  }
 },
 "nbformat": 4,
 "nbformat_minor": 5
}

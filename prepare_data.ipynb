{
 "cells": [
  {
   "cell_type": "code",
   "execution_count": 1,
   "id": "764483ff-6d37-4c38-afea-6ca7ce969ed3",
   "metadata": {},
   "outputs": [],
   "source": [
    "import json\n",
    "import os\n",
    "import pandas as pd\n",
    "import matplotlib.pyplot as plt\n",
    "import cv2\n",
    "import random"
   ]
  },
  {
   "cell_type": "markdown",
   "id": "cc8e29e0-3d71-4616-8018-dae7b182e6d5",
   "metadata": {},
   "source": [
    "### coco: 894 // flickr: 184 // open_image: 616"
   ]
  },
  {
   "cell_type": "code",
   "execution_count": 2,
   "id": "a2ee79fb-c022-4338-824c-5b5c9f04c28a",
   "metadata": {},
   "outputs": [
    {
     "name": "stdout",
     "output_type": "stream",
     "text": [
      "8000\n"
     ]
    }
   ],
   "source": [
    "dir_path = \"../Data/disaster/\"\n",
    "\n",
    "img_names = []\n",
    "for folder, subfolders, filenames in os.walk(dir_path):\n",
    "    for img in filenames:\n",
    "        img_names.append(folder+'/'+img)\n",
    "random.shuffle(img_names)\n",
    "disaster = img_names[:8000]\n",
    "print(len(disaster))"
   ]
  },
  {
   "cell_type": "code",
   "execution_count": 3,
   "id": "35bf8cde-2b7e-487e-bb3b-f6eaa7aeb7c3",
   "metadata": {},
   "outputs": [
    {
     "name": "stdout",
     "output_type": "stream",
     "text": [
      "4000\n"
     ]
    }
   ],
   "source": [
    "## open_image 1만장\n",
    "dir_path = \"../../disk/Data/open_image/train_0/\"\n",
    "\n",
    "img_names = []\n",
    "for folder, subfolders, filenames in os.walk(dir_path):\n",
    "    for img in filenames:\n",
    "        img_names.append(folder+'/'+img)\n",
    "random.shuffle(img_names)\n",
    "open_image_non = img_names[:4000]\n",
    "print(len(open_image_non))"
   ]
  },
  {
   "cell_type": "code",
   "execution_count": 4,
   "id": "613ddeef-8e99-4d74-9e96-ea68ee84dd84",
   "metadata": {},
   "outputs": [
    {
     "name": "stdout",
     "output_type": "stream",
     "text": [
      "4000\n"
     ]
    }
   ],
   "source": [
    "## coco_image 1만장\n",
    "dir_path = \"../Data/train2017\"\n",
    "\n",
    "img_names = []\n",
    "for folder, subfolders, filenames in os.walk(dir_path):\n",
    "    for img in filenames:\n",
    "        img_names.append(folder+'/'+img)\n",
    "random.shuffle(img_names)\n",
    "coco_non = img_names[:4000]\n",
    "print(len(coco_non))"
   ]
  },
  {
   "cell_type": "code",
   "execution_count": 5,
   "id": "da8c07aa-5518-42cc-b6fd-a37f5b173cf4",
   "metadata": {},
   "outputs": [
    {
     "name": "stdout",
     "output_type": "stream",
     "text": [
      "['../Data/train2017/000000308223.jpg', '../Data/train2017/000000418288.jpg', '../Data/train2017/000000007596.jpg']\n"
     ]
    }
   ],
   "source": [
    "print(coco_non[:3])"
   ]
  },
  {
   "cell_type": "code",
   "execution_count": 6,
   "id": "d02cef0b-c402-4ff8-9910-350dc9c293da",
   "metadata": {},
   "outputs": [
    {
     "name": "stdout",
     "output_type": "stream",
     "text": [
      "8000\n"
     ]
    }
   ],
   "source": [
    "non = coco_non + open_image_non\n",
    "random.shuffle(non)\n",
    "print(len(non))"
   ]
  },
  {
   "cell_type": "markdown",
   "id": "d81c2b71-38b1-4aa6-bb85-596a0c81b4af",
   "metadata": {},
   "source": [
    "##### labeling"
   ]
  },
  {
   "cell_type": "markdown",
   "id": "7407e693-4f18-400f-b089-61c88177d662",
   "metadata": {},
   "source": [
    "##### split train, test"
   ]
  },
  {
   "cell_type": "code",
   "execution_count": 7,
   "id": "3e295090-90d6-4458-8350-7eb180a76e2b",
   "metadata": {},
   "outputs": [
    {
     "name": "stdout",
     "output_type": "stream",
     "text": [
      "12800\n",
      "3200\n"
     ]
    }
   ],
   "source": [
    "### train: test (4:1)\n",
    "## 36000 (1/4), 4000 (1/4)\n",
    "non_ratio=6400\n",
    "dis_ratio=6400\n",
    "trn_disater = non[:non_ratio] + disaster[:dis_ratio]\n",
    "tst_disater = non[non_ratio:] + disaster[dis_ratio:]\n",
    "trn_label = [0]*int(len(non[:non_ratio])) + [1]*int(len(disaster[:dis_ratio]))\n",
    "tst_label = [0]*int(len(non[non_ratio:])) + [1]*int(len(disaster[dis_ratio:]))\n",
    "print(len(trn_label))\n",
    "print(len(tst_label))"
   ]
  },
  {
   "cell_type": "code",
   "execution_count": 8,
   "id": "8eca9502-3980-4fa4-8cc1-043238843469",
   "metadata": {},
   "outputs": [
    {
     "data": {
      "text/html": [
       "<div>\n",
       "<style scoped>\n",
       "    .dataframe tbody tr th:only-of-type {\n",
       "        vertical-align: middle;\n",
       "    }\n",
       "\n",
       "    .dataframe tbody tr th {\n",
       "        vertical-align: top;\n",
       "    }\n",
       "\n",
       "    .dataframe thead th {\n",
       "        text-align: right;\n",
       "    }\n",
       "</style>\n",
       "<table border=\"1\" class=\"dataframe\">\n",
       "  <thead>\n",
       "    <tr style=\"text-align: right;\">\n",
       "      <th></th>\n",
       "      <th>image_id</th>\n",
       "      <th>dir</th>\n",
       "      <th>label</th>\n",
       "    </tr>\n",
       "  </thead>\n",
       "  <tbody>\n",
       "    <tr>\n",
       "      <th>0</th>\n",
       "      <td>0102558e76eac8ab.jpg</td>\n",
       "      <td>../../disk/Data/open_image/train_0</td>\n",
       "      <td>0</td>\n",
       "    </tr>\n",
       "    <tr>\n",
       "      <th>1</th>\n",
       "      <td>000000399147.jpg</td>\n",
       "      <td>../Data/train2017</td>\n",
       "      <td>0</td>\n",
       "    </tr>\n",
       "    <tr>\n",
       "      <th>2</th>\n",
       "      <td>0497f712f14bf7c2.jpg</td>\n",
       "      <td>../../disk/Data/open_image/train_0</td>\n",
       "      <td>0</td>\n",
       "    </tr>\n",
       "    <tr>\n",
       "      <th>3</th>\n",
       "      <td>000000046870.jpg</td>\n",
       "      <td>../Data/train2017</td>\n",
       "      <td>0</td>\n",
       "    </tr>\n",
       "    <tr>\n",
       "      <th>4</th>\n",
       "      <td>000000512282.jpg</td>\n",
       "      <td>../Data/train2017</td>\n",
       "      <td>0</td>\n",
       "    </tr>\n",
       "    <tr>\n",
       "      <th>...</th>\n",
       "      <td>...</td>\n",
       "      <td>...</td>\n",
       "      <td>...</td>\n",
       "    </tr>\n",
       "    <tr>\n",
       "      <th>12795</th>\n",
       "      <td>Four firefighters are outside placing a water ...</td>\n",
       "      <td>../Data/disaster/generated/flickr</td>\n",
       "      <td>1</td>\n",
       "    </tr>\n",
       "    <tr>\n",
       "      <th>12796</th>\n",
       "      <td>In this image we can see a man holding a kid a...</td>\n",
       "      <td>../Data/disaster/generated/open_image</td>\n",
       "      <td>1</td>\n",
       "    </tr>\n",
       "    <tr>\n",
       "      <th>12797</th>\n",
       "      <td>87b8f8da5c2257c7.jpg</td>\n",
       "      <td>../Data/disaster/origin_images/open_image_disa...</td>\n",
       "      <td>1</td>\n",
       "    </tr>\n",
       "    <tr>\n",
       "      <th>12798</th>\n",
       "      <td>fd00a73e3f447913_01.jpg</td>\n",
       "      <td>../Data/disaster/augmented</td>\n",
       "      <td>1</td>\n",
       "    </tr>\n",
       "    <tr>\n",
       "      <th>12799</th>\n",
       "      <td>In this picture we can see two building with w...</td>\n",
       "      <td>../Data/disaster/generated/open_image</td>\n",
       "      <td>1</td>\n",
       "    </tr>\n",
       "  </tbody>\n",
       "</table>\n",
       "<p>12800 rows × 3 columns</p>\n",
       "</div>"
      ],
      "text/plain": [
       "                                                image_id  \\\n",
       "0                                   0102558e76eac8ab.jpg   \n",
       "1                                       000000399147.jpg   \n",
       "2                                   0497f712f14bf7c2.jpg   \n",
       "3                                       000000046870.jpg   \n",
       "4                                       000000512282.jpg   \n",
       "...                                                  ...   \n",
       "12795  Four firefighters are outside placing a water ...   \n",
       "12796  In this image we can see a man holding a kid a...   \n",
       "12797                               87b8f8da5c2257c7.jpg   \n",
       "12798                            fd00a73e3f447913_01.jpg   \n",
       "12799  In this picture we can see two building with w...   \n",
       "\n",
       "                                                     dir  label  \n",
       "0                     ../../disk/Data/open_image/train_0      0  \n",
       "1                                      ../Data/train2017      0  \n",
       "2                     ../../disk/Data/open_image/train_0      0  \n",
       "3                                      ../Data/train2017      0  \n",
       "4                                      ../Data/train2017      0  \n",
       "...                                                  ...    ...  \n",
       "12795                  ../Data/disaster/generated/flickr      1  \n",
       "12796              ../Data/disaster/generated/open_image      1  \n",
       "12797  ../Data/disaster/origin_images/open_image_disa...      1  \n",
       "12798                         ../Data/disaster/augmented      1  \n",
       "12799              ../Data/disaster/generated/open_image      1  \n",
       "\n",
       "[12800 rows x 3 columns]"
      ]
     },
     "execution_count": 8,
     "metadata": {},
     "output_type": "execute_result"
    }
   ],
   "source": [
    "trn_df = pd.DataFrame(trn_disater, columns=['image_id'])\n",
    "trn_df['dir'] = trn_df['image_id'].apply(lambda x: os.path.dirname(x))\n",
    "trn_df['image_id'] = trn_df['image_id'].apply(lambda x: os.path.basename(x))\n",
    "trn_df['label'] = trn_label\n",
    "train = trn_df\n",
    "train"
   ]
  },
  {
   "cell_type": "code",
   "execution_count": 9,
   "id": "019ccd37-04c2-48ac-9dae-9752808dc271",
   "metadata": {},
   "outputs": [
    {
     "data": {
      "text/html": [
       "<div>\n",
       "<style scoped>\n",
       "    .dataframe tbody tr th:only-of-type {\n",
       "        vertical-align: middle;\n",
       "    }\n",
       "\n",
       "    .dataframe tbody tr th {\n",
       "        vertical-align: top;\n",
       "    }\n",
       "\n",
       "    .dataframe thead th {\n",
       "        text-align: right;\n",
       "    }\n",
       "</style>\n",
       "<table border=\"1\" class=\"dataframe\">\n",
       "  <thead>\n",
       "    <tr style=\"text-align: right;\">\n",
       "      <th></th>\n",
       "      <th>image_id</th>\n",
       "      <th>dir</th>\n",
       "      <th>label</th>\n",
       "    </tr>\n",
       "  </thead>\n",
       "  <tbody>\n",
       "    <tr>\n",
       "      <th>0</th>\n",
       "      <td>000000353558.jpg</td>\n",
       "      <td>../Data/train2017</td>\n",
       "      <td>0</td>\n",
       "    </tr>\n",
       "    <tr>\n",
       "      <th>1</th>\n",
       "      <td>000000292645.jpg</td>\n",
       "      <td>../Data/train2017</td>\n",
       "      <td>0</td>\n",
       "    </tr>\n",
       "    <tr>\n",
       "      <th>2</th>\n",
       "      <td>000000297039.jpg</td>\n",
       "      <td>../Data/train2017</td>\n",
       "      <td>0</td>\n",
       "    </tr>\n",
       "    <tr>\n",
       "      <th>3</th>\n",
       "      <td>000000384332.jpg</td>\n",
       "      <td>../Data/train2017</td>\n",
       "      <td>0</td>\n",
       "    </tr>\n",
       "    <tr>\n",
       "      <th>4</th>\n",
       "      <td>000000184532.jpg</td>\n",
       "      <td>../Data/train2017</td>\n",
       "      <td>0</td>\n",
       "    </tr>\n",
       "    <tr>\n",
       "      <th>...</th>\n",
       "      <td>...</td>\n",
       "      <td>...</td>\n",
       "      <td>...</td>\n",
       "    </tr>\n",
       "    <tr>\n",
       "      <th>3195</th>\n",
       "      <td>A person is standing inside of a fire damaged ...</td>\n",
       "      <td>../Data/disaster/generated/coco</td>\n",
       "      <td>1</td>\n",
       "    </tr>\n",
       "    <tr>\n",
       "      <th>3196</th>\n",
       "      <td>There is a surface of water at the bottom of t...</td>\n",
       "      <td>../Data/disaster/generated/open_image</td>\n",
       "      <td>1</td>\n",
       "    </tr>\n",
       "    <tr>\n",
       "      <th>3197</th>\n",
       "      <td>In this picture we can see the water. At the t...</td>\n",
       "      <td>../Data/disaster/generated/open_image</td>\n",
       "      <td>1</td>\n",
       "    </tr>\n",
       "    <tr>\n",
       "      <th>3198</th>\n",
       "      <td>000000374241_02.jpg</td>\n",
       "      <td>../Data/disaster/augmented</td>\n",
       "      <td>1</td>\n",
       "    </tr>\n",
       "    <tr>\n",
       "      <th>3199</th>\n",
       "      <td>A wind surfer practices in a flooded park_02.png</td>\n",
       "      <td>../Data/disaster/generated/coco</td>\n",
       "      <td>1</td>\n",
       "    </tr>\n",
       "  </tbody>\n",
       "</table>\n",
       "<p>3200 rows × 3 columns</p>\n",
       "</div>"
      ],
      "text/plain": [
       "                                               image_id  \\\n",
       "0                                      000000353558.jpg   \n",
       "1                                      000000292645.jpg   \n",
       "2                                      000000297039.jpg   \n",
       "3                                      000000384332.jpg   \n",
       "4                                      000000184532.jpg   \n",
       "...                                                 ...   \n",
       "3195  A person is standing inside of a fire damaged ...   \n",
       "3196  There is a surface of water at the bottom of t...   \n",
       "3197  In this picture we can see the water. At the t...   \n",
       "3198                                000000374241_02.jpg   \n",
       "3199   A wind surfer practices in a flooded park_02.png   \n",
       "\n",
       "                                        dir  label  \n",
       "0                         ../Data/train2017      0  \n",
       "1                         ../Data/train2017      0  \n",
       "2                         ../Data/train2017      0  \n",
       "3                         ../Data/train2017      0  \n",
       "4                         ../Data/train2017      0  \n",
       "...                                     ...    ...  \n",
       "3195        ../Data/disaster/generated/coco      1  \n",
       "3196  ../Data/disaster/generated/open_image      1  \n",
       "3197  ../Data/disaster/generated/open_image      1  \n",
       "3198             ../Data/disaster/augmented      1  \n",
       "3199        ../Data/disaster/generated/coco      1  \n",
       "\n",
       "[3200 rows x 3 columns]"
      ]
     },
     "execution_count": 9,
     "metadata": {},
     "output_type": "execute_result"
    }
   ],
   "source": [
    "tst_df = pd.DataFrame(tst_disater, columns=['image_id'])\n",
    "tst_df['dir'] = tst_df['image_id'].apply(lambda x: os.path.dirname(x))\n",
    "tst_df['image_id'] = tst_df['image_id'].apply(lambda x: os.path.basename(x))\n",
    "tst_df['label'] = tst_label\n",
    "test = tst_df\n",
    "test"
   ]
  },
  {
   "cell_type": "code",
   "execution_count": 10,
   "id": "2abe5daa-3224-42ee-ad18-d75dd61fd604",
   "metadata": {},
   "outputs": [],
   "source": [
    "project_name = 'disaster_classfication_tf_efficientnet_b2_ns_88'\n",
    "user = 'hojunking'\n",
    "run_name = 'disaster_classfication_tf_efficientnet_b2_ns_88'"
   ]
  },
  {
   "cell_type": "code",
   "execution_count": null,
   "id": "65f38af9-b1d5-4052-b100-ef44d2072635",
   "metadata": {},
   "outputs": [],
   "source": [
    "%run classification_baseline.ipynb"
   ]
  },
  {
   "cell_type": "code",
   "execution_count": 11,
   "id": "f2d6fb7d-7845-4508-a426-00ba4ddfac22",
   "metadata": {},
   "outputs": [
    {
     "ename": "AssertionError",
     "evalue": "",
     "output_type": "error",
     "traceback": [
      "\u001b[0;31m---------------------------------------------------------------------------\u001b[0m",
      "\u001b[0;31mAssertionError\u001b[0m                            Traceback (most recent call last)",
      "Input \u001b[0;32mIn [11]\u001b[0m, in \u001b[0;36m<cell line: 1>\u001b[0;34m()\u001b[0m\n\u001b[0;32m----> 1\u001b[0m \u001b[43mdist\u001b[49m\u001b[38;5;241;43m.\u001b[39;49m\u001b[43mdestroy_process_group\u001b[49m\u001b[43m(\u001b[49m\u001b[43m)\u001b[49m\n",
      "File \u001b[0;32m~/miniconda3/envs/torch/lib/python3.10/site-packages/torch/distributed/distributed_c10d.py:997\u001b[0m, in \u001b[0;36mdestroy_process_group\u001b[0;34m(group)\u001b[0m\n\u001b[1;32m    994\u001b[0m \u001b[38;5;28;01melse\u001b[39;00m:\n\u001b[1;32m    995\u001b[0m     pg \u001b[38;5;241m=\u001b[39m group\n\u001b[0;32m--> 997\u001b[0m \u001b[38;5;28;01massert\u001b[39;00m pg \u001b[38;5;129;01mis\u001b[39;00m \u001b[38;5;129;01mnot\u001b[39;00m \u001b[38;5;28;01mNone\u001b[39;00m\n\u001b[1;32m    998\u001b[0m \u001b[38;5;28;01mif\u001b[39;00m _pg_map\u001b[38;5;241m.\u001b[39mget(pg, \u001b[38;5;28;01mNone\u001b[39;00m) \u001b[38;5;129;01mis\u001b[39;00m \u001b[38;5;28;01mNone\u001b[39;00m:\n\u001b[1;32m    999\u001b[0m     \u001b[38;5;28;01mraise\u001b[39;00m \u001b[38;5;167;01mRuntimeError\u001b[39;00m(\u001b[38;5;124m\"\u001b[39m\u001b[38;5;124mInvalid process group specified\u001b[39m\u001b[38;5;124m\"\u001b[39m)\n",
      "\u001b[0;31mAssertionError\u001b[0m: "
     ]
    }
   ],
   "source": [
    "dist.destroy_process_group()"
   ]
  },
  {
   "cell_type": "code",
   "execution_count": 12,
   "id": "316cf642-fed5-4b93-9efd-b6aa89a9ec07",
   "metadata": {},
   "outputs": [
    {
     "name": "stderr",
     "output_type": "stream",
     "text": [
      "100%|███████████████████████████████████████████| 25/25 [01:25<00:00,  3.42s/it]\n"
     ]
    },
    {
     "data": {
      "text/html": [
       "<div>\n",
       "<style scoped>\n",
       "    .dataframe tbody tr th:only-of-type {\n",
       "        vertical-align: middle;\n",
       "    }\n",
       "\n",
       "    .dataframe tbody tr th {\n",
       "        vertical-align: top;\n",
       "    }\n",
       "\n",
       "    .dataframe thead th {\n",
       "        text-align: right;\n",
       "    }\n",
       "</style>\n",
       "<table border=\"1\" class=\"dataframe\">\n",
       "  <thead>\n",
       "    <tr style=\"text-align: right;\">\n",
       "      <th></th>\n",
       "      <th>image_id</th>\n",
       "      <th>dir</th>\n",
       "      <th>label</th>\n",
       "      <th>pred</th>\n",
       "      <th>confidence score</th>\n",
       "    </tr>\n",
       "  </thead>\n",
       "  <tbody>\n",
       "    <tr>\n",
       "      <th>0</th>\n",
       "      <td>0d75f4d0712d4dd7.jpg</td>\n",
       "      <td>../../disk/Data/open_image/train_0</td>\n",
       "      <td>0</td>\n",
       "      <td>0</td>\n",
       "      <td>0.999982</td>\n",
       "    </tr>\n",
       "    <tr>\n",
       "      <th>1</th>\n",
       "      <td>09ee86f41b4e129d.jpg</td>\n",
       "      <td>../../disk/Data/open_image/train_0</td>\n",
       "      <td>0</td>\n",
       "      <td>0</td>\n",
       "      <td>0.998963</td>\n",
       "    </tr>\n",
       "    <tr>\n",
       "      <th>2</th>\n",
       "      <td>0bdcc526bd0dd8d0.jpg</td>\n",
       "      <td>../../disk/Data/open_image/train_0</td>\n",
       "      <td>0</td>\n",
       "      <td>0</td>\n",
       "      <td>1.000000</td>\n",
       "    </tr>\n",
       "    <tr>\n",
       "      <th>3</th>\n",
       "      <td>000000452775.jpg</td>\n",
       "      <td>../Data/train2017</td>\n",
       "      <td>0</td>\n",
       "      <td>0</td>\n",
       "      <td>0.999969</td>\n",
       "    </tr>\n",
       "    <tr>\n",
       "      <th>4</th>\n",
       "      <td>0fca19850cae19fb.jpg</td>\n",
       "      <td>../../disk/Data/open_image/train_0</td>\n",
       "      <td>0</td>\n",
       "      <td>0</td>\n",
       "      <td>1.000000</td>\n",
       "    </tr>\n",
       "    <tr>\n",
       "      <th>...</th>\n",
       "      <td>...</td>\n",
       "      <td>...</td>\n",
       "      <td>...</td>\n",
       "      <td>...</td>\n",
       "      <td>...</td>\n",
       "    </tr>\n",
       "    <tr>\n",
       "      <th>3195</th>\n",
       "      <td>cc144958ab2a65ee_03.jpg</td>\n",
       "      <td>../Data/disaster/augmented</td>\n",
       "      <td>1</td>\n",
       "      <td>1</td>\n",
       "      <td>1.000000</td>\n",
       "    </tr>\n",
       "    <tr>\n",
       "      <th>3196</th>\n",
       "      <td>56234c17e1d60456_02.jpg</td>\n",
       "      <td>../Data/disaster/augmented</td>\n",
       "      <td>1</td>\n",
       "      <td>1</td>\n",
       "      <td>1.000000</td>\n",
       "    </tr>\n",
       "    <tr>\n",
       "      <th>3197</th>\n",
       "      <td>It is a very cloudy and foggy day over the wat...</td>\n",
       "      <td>../Data/disaster/generated/coco</td>\n",
       "      <td>1</td>\n",
       "      <td>1</td>\n",
       "      <td>1.000000</td>\n",
       "    </tr>\n",
       "    <tr>\n",
       "      <th>3198</th>\n",
       "      <td>A stop light is red on a foggy day._01.png</td>\n",
       "      <td>../Data/disaster/generated/coco</td>\n",
       "      <td>1</td>\n",
       "      <td>1</td>\n",
       "      <td>1.000000</td>\n",
       "    </tr>\n",
       "    <tr>\n",
       "      <th>3199</th>\n",
       "      <td>c9abbbebdf82a765_02.jpg</td>\n",
       "      <td>../Data/disaster/augmented</td>\n",
       "      <td>1</td>\n",
       "      <td>1</td>\n",
       "      <td>1.000000</td>\n",
       "    </tr>\n",
       "  </tbody>\n",
       "</table>\n",
       "<p>3200 rows × 5 columns</p>\n",
       "</div>"
      ],
      "text/plain": [
       "                                               image_id  \\\n",
       "0                                  0d75f4d0712d4dd7.jpg   \n",
       "1                                  09ee86f41b4e129d.jpg   \n",
       "2                                  0bdcc526bd0dd8d0.jpg   \n",
       "3                                      000000452775.jpg   \n",
       "4                                  0fca19850cae19fb.jpg   \n",
       "...                                                 ...   \n",
       "3195                            cc144958ab2a65ee_03.jpg   \n",
       "3196                            56234c17e1d60456_02.jpg   \n",
       "3197  It is a very cloudy and foggy day over the wat...   \n",
       "3198         A stop light is red on a foggy day._01.png   \n",
       "3199                            c9abbbebdf82a765_02.jpg   \n",
       "\n",
       "                                     dir  label  pred  confidence score  \n",
       "0     ../../disk/Data/open_image/train_0      0     0          0.999982  \n",
       "1     ../../disk/Data/open_image/train_0      0     0          0.998963  \n",
       "2     ../../disk/Data/open_image/train_0      0     0          1.000000  \n",
       "3                      ../Data/train2017      0     0          0.999969  \n",
       "4     ../../disk/Data/open_image/train_0      0     0          1.000000  \n",
       "...                                  ...    ...   ...               ...  \n",
       "3195          ../Data/disaster/augmented      1     1          1.000000  \n",
       "3196          ../Data/disaster/augmented      1     1          1.000000  \n",
       "3197     ../Data/disaster/generated/coco      1     1          1.000000  \n",
       "3198     ../Data/disaster/generated/coco      1     1          1.000000  \n",
       "3199          ../Data/disaster/augmented      1     1          1.000000  \n",
       "\n",
       "[3200 rows x 5 columns]"
      ]
     },
     "execution_count": 12,
     "metadata": {},
     "output_type": "execute_result"
    }
   ],
   "source": [
    "model_name = 'resnet50'\n",
    "model_dir = model_name + '/resnet50_2'\n",
    "%run eval_test.ipynb"
   ]
  },
  {
   "cell_type": "code",
   "execution_count": 13,
   "id": "2e738224-f5c0-4cbb-8d10-30e6fae9c760",
   "metadata": {},
   "outputs": [
    {
     "name": "stdout",
     "output_type": "stream",
     "text": [
      "accuracy: 0.9719\n",
      "f1_score: 0.9719\n",
      "confusion_matrix \n",
      "-------------------------\n",
      " [[1538   62]\n",
      " [  28 1572]]\n"
     ]
    }
   ],
   "source": [
    "print(f'accuracy: {test_acc:.4f}')\n",
    "print(f'f1_score: {epoch_f1:.4f}')\n",
    "print(f'confusion_matrix \\n-------------------------\\n {test_matrix}')"
   ]
  },
  {
   "cell_type": "code",
   "execution_count": 24,
   "id": "792ea43b-10d3-4b9e-967a-8a8b847b73a5",
   "metadata": {},
   "outputs": [],
   "source": [
    "test.to_csv('test_result/nsb2_oi_tst.csv', index=False)"
   ]
  },
  {
   "cell_type": "code",
   "execution_count": 8,
   "id": "b083d85d-1a89-4249-b198-b5f5cc72e520",
   "metadata": {},
   "outputs": [
    {
     "data": {
      "text/plain": [
       "0.9963420273292325"
      ]
     },
     "execution_count": 8,
     "metadata": {},
     "output_type": "execute_result"
    }
   ],
   "source": [
    "test_acc = np.sum(test.label == test.pred) / len(test)\n",
    "test_acc"
   ]
  },
  {
   "cell_type": "code",
   "execution_count": 14,
   "id": "c51708f2-3744-406d-97e2-666933aad2c9",
   "metadata": {},
   "outputs": [
    {
     "ename": "NameError",
     "evalue": "name 'model' is not defined",
     "output_type": "error",
     "traceback": [
      "\u001b[0;31m---------------------------------------------------------------------------\u001b[0m",
      "\u001b[0;31mNameError\u001b[0m                                 Traceback (most recent call last)",
      "Input \u001b[0;32mIn [14]\u001b[0m, in \u001b[0;36m<cell line: 1>\u001b[0;34m()\u001b[0m\n\u001b[0;32m----> 1\u001b[0m \u001b[38;5;28;01mfor\u001b[39;00m name, param \u001b[38;5;129;01min\u001b[39;00m \u001b[43mmodel\u001b[49m\u001b[38;5;241m.\u001b[39mnamed_parameters():\n\u001b[1;32m      2\u001b[0m     \u001b[38;5;28mprint\u001b[39m(name, param\u001b[38;5;241m.\u001b[39mrequires_grad)\n",
      "\u001b[0;31mNameError\u001b[0m: name 'model' is not defined"
     ]
    }
   ],
   "source": []
  },
  {
   "cell_type": "code",
   "execution_count": null,
   "id": "0ddb3e8e-d3a3-42e2-9312-7b43fdb4ddf4",
   "metadata": {},
   "outputs": [],
   "source": []
  }
 ],
 "metadata": {
  "kernelspec": {
   "display_name": "torch-gpu",
   "language": "python",
   "name": "torch"
  },
  "language_info": {
   "codemirror_mode": {
    "name": "ipython",
    "version": 3
   },
   "file_extension": ".py",
   "mimetype": "text/x-python",
   "name": "python",
   "nbconvert_exporter": "python",
   "pygments_lexer": "ipython3",
   "version": "3.10.6"
  }
 },
 "nbformat": 4,
 "nbformat_minor": 5
}

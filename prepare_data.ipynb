{
 "cells": [
  {
   "cell_type": "code",
   "execution_count": 1,
   "id": "764483ff-6d37-4c38-afea-6ca7ce969ed3",
   "metadata": {},
   "outputs": [],
   "source": [
    "import json\n",
    "import os\n",
    "import pandas as pd\n",
    "import matplotlib.pyplot as plt\n",
    "import cv2"
   ]
  },
  {
   "cell_type": "markdown",
   "id": "cc8e29e0-3d71-4616-8018-dae7b182e6d5",
   "metadata": {},
   "source": [
    "### coco: 596 // flickr: 184 // open_image: 616"
   ]
  },
  {
   "cell_type": "code",
   "execution_count": 13,
   "id": "a2ee79fb-c022-4338-824c-5b5c9f04c28a",
   "metadata": {},
   "outputs": [
    {
     "name": "stdout",
     "output_type": "stream",
     "text": [
      "1397\n"
     ]
    }
   ],
   "source": [
    "dir_path = \"../Data/generated/\"\n",
    "\n",
    "img_names = []\n",
    "for folder, subfolders, filenames in os.walk(dir_path):\n",
    "    for img in filenames:\n",
    "        img_names.append(folder+'/'+img)\n",
    "print(len(img_names))"
   ]
  },
  {
   "cell_type": "markdown",
   "id": "9334eb6f-36c5-45be-bf06-06cc701c47dd",
   "metadata": {},
   "source": [
    "# coco = 604(2) //open_image = 648 (4) // flickr= 276 (3)"
   ]
  },
  {
   "cell_type": "code",
   "execution_count": null,
   "id": "35bf8cde-2b7e-487e-bb3b-f6eaa7aeb7c3",
   "metadata": {},
   "outputs": [],
   "source": []
  }
 ],
 "metadata": {
  "kernelspec": {
   "display_name": "torch-gpu",
   "language": "python",
   "name": "torch"
  },
  "language_info": {
   "codemirror_mode": {
    "name": "ipython",
    "version": 3
   },
   "file_extension": ".py",
   "mimetype": "text/x-python",
   "name": "python",
   "nbconvert_exporter": "python",
   "pygments_lexer": "ipython3",
   "version": "3.10.6"
  }
 },
 "nbformat": 4,
 "nbformat_minor": 5
}

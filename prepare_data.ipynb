{
 "cells": [
  {
   "cell_type": "code",
   "execution_count": 1,
   "id": "764483ff-6d37-4c38-afea-6ca7ce969ed3",
   "metadata": {},
   "outputs": [],
   "source": [
    "import json\n",
    "import os\n",
    "import pandas as pd\n",
    "import matplotlib.pyplot as plt\n",
    "import cv2\n",
    "import random"
   ]
  },
  {
   "cell_type": "markdown",
   "id": "cc8e29e0-3d71-4616-8018-dae7b182e6d5",
   "metadata": {},
   "source": [
    "### coco: 894 // flickr: 184 // open_image: 616"
   ]
  },
  {
   "cell_type": "code",
   "execution_count": 2,
   "id": "a2ee79fb-c022-4338-824c-5b5c9f04c28a",
   "metadata": {},
   "outputs": [
    {
     "name": "stdout",
     "output_type": "stream",
     "text": [
      "10057\n"
     ]
    }
   ],
   "source": [
    "dir_path = \"../Data/disaster/train\"\n",
    "\n",
    "img_names = []\n",
    "for folder, subfolders, filenames in os.walk(dir_path):\n",
    "    for img in filenames:\n",
    "        img_names.append(folder+'/'+img)\n",
    "random.shuffle(img_names)\n",
    "\n",
    "\n",
    "disaster = img_names\n",
    "print(len(disaster))"
   ]
  },
  {
   "cell_type": "code",
   "execution_count": 3,
   "id": "35bf8cde-2b7e-487e-bb3b-f6eaa7aeb7c3",
   "metadata": {},
   "outputs": [
    {
     "name": "stdout",
     "output_type": "stream",
     "text": [
      "35000\n"
     ]
    }
   ],
   "source": [
    "## open_image 8000장\n",
    "dir_path = \"../../disk/Data/open_image/train_0/\"\n",
    "\n",
    "img_names = []\n",
    "for folder, subfolders, filenames in os.walk(dir_path):\n",
    "    for img in filenames:\n",
    "        img_names.append(folder+'/'+img)\n",
    "random.shuffle(img_names)\n",
    "open_image_non = img_names[:35000]\n",
    "print(len(open_image_non))"
   ]
  },
  {
   "cell_type": "code",
   "execution_count": 4,
   "id": "613ddeef-8e99-4d74-9e96-ea68ee84dd84",
   "metadata": {},
   "outputs": [
    {
     "name": "stdout",
     "output_type": "stream",
     "text": [
      "35000\n"
     ]
    }
   ],
   "source": [
    "## coco_image 1만장\n",
    "dir_path = \"../Data/train2017\"\n",
    "\n",
    "img_names = []\n",
    "for folder, subfolders, filenames in os.walk(dir_path):\n",
    "    for img in filenames:\n",
    "        img_names.append(folder+'/'+img)\n",
    "random.shuffle(img_names)\n",
    "coco_non = img_names[:35000]\n",
    "print(len(coco_non))"
   ]
  },
  {
   "cell_type": "code",
   "execution_count": 5,
   "id": "da8c07aa-5518-42cc-b6fd-a37f5b173cf4",
   "metadata": {},
   "outputs": [
    {
     "name": "stdout",
     "output_type": "stream",
     "text": [
      "['../Data/train2017/000000102848.jpg', '../Data/train2017/000000536933.jpg', '../Data/train2017/000000067269.jpg']\n"
     ]
    }
   ],
   "source": [
    "print(coco_non[:3])"
   ]
  },
  {
   "cell_type": "code",
   "execution_count": 6,
   "id": "d02cef0b-c402-4ff8-9910-350dc9c293da",
   "metadata": {},
   "outputs": [
    {
     "name": "stdout",
     "output_type": "stream",
     "text": [
      "70000\n"
     ]
    }
   ],
   "source": [
    "non = coco_non + open_image_non\n",
    "random.shuffle(non)\n",
    "print(len(non))"
   ]
  },
  {
   "cell_type": "markdown",
   "id": "d81c2b71-38b1-4aa6-bb85-596a0c81b4af",
   "metadata": {},
   "source": [
    "##### labeling"
   ]
  },
  {
   "cell_type": "markdown",
   "id": "7407e693-4f18-400f-b089-61c88177d662",
   "metadata": {},
   "source": [
    "##### split train, test"
   ]
  },
  {
   "cell_type": "code",
   "execution_count": 7,
   "id": "3e295090-90d6-4458-8350-7eb180a76e2b",
   "metadata": {},
   "outputs": [],
   "source": [
    "### train: test (4:1)\n",
    "## 36000 (1/4), 4000 (1/4)\n",
    "# non_ratio=6400\n",
    "# dis_ratio=6400\n",
    "# trn_disater = non[:non_ratio] + disaster[:dis_ratio]\n",
    "# tst_disater = non[non_ratio:] + disaster[dis_ratio:]\n",
    "# trn_label = [0]*int(len(non[:non_ratio])) + [1]*int(len(disaster[:dis_ratio]))\n",
    "# tst_label = [0]*int(len(non[non_ratio:])) + [1]*int(len(disaster[dis_ratio:]))\n",
    "# print(len(trn_label))\n",
    "# print(len(tst_label))"
   ]
  },
  {
   "cell_type": "code",
   "execution_count": 8,
   "id": "c2776c34-4999-45b5-b39c-5be1b7267822",
   "metadata": {},
   "outputs": [
    {
     "name": "stdout",
     "output_type": "stream",
     "text": [
      "80057\n"
     ]
    }
   ],
   "source": [
    "trn_disater = non + disaster\n",
    "trn_label = [0]*int(len(non)) + [1]*int(len(disaster))\n",
    "print(len(trn_label))"
   ]
  },
  {
   "cell_type": "code",
   "execution_count": 9,
   "id": "8eca9502-3980-4fa4-8cc1-043238843469",
   "metadata": {},
   "outputs": [
    {
     "data": {
      "text/html": [
       "<div>\n",
       "<style scoped>\n",
       "    .dataframe tbody tr th:only-of-type {\n",
       "        vertical-align: middle;\n",
       "    }\n",
       "\n",
       "    .dataframe tbody tr th {\n",
       "        vertical-align: top;\n",
       "    }\n",
       "\n",
       "    .dataframe thead th {\n",
       "        text-align: right;\n",
       "    }\n",
       "</style>\n",
       "<table border=\"1\" class=\"dataframe\">\n",
       "  <thead>\n",
       "    <tr style=\"text-align: right;\">\n",
       "      <th></th>\n",
       "      <th>image_id</th>\n",
       "      <th>dir</th>\n",
       "      <th>label</th>\n",
       "    </tr>\n",
       "  </thead>\n",
       "  <tbody>\n",
       "    <tr>\n",
       "      <th>0</th>\n",
       "      <td>000000104452.jpg</td>\n",
       "      <td>../Data/train2017</td>\n",
       "      <td>0</td>\n",
       "    </tr>\n",
       "    <tr>\n",
       "      <th>1</th>\n",
       "      <td>0c3e3a3c67c8692b.jpg</td>\n",
       "      <td>../../disk/Data/open_image/train_0</td>\n",
       "      <td>0</td>\n",
       "    </tr>\n",
       "    <tr>\n",
       "      <th>2</th>\n",
       "      <td>000000440641.jpg</td>\n",
       "      <td>../Data/train2017</td>\n",
       "      <td>0</td>\n",
       "    </tr>\n",
       "    <tr>\n",
       "      <th>3</th>\n",
       "      <td>03d7e52db226a17c.jpg</td>\n",
       "      <td>../../disk/Data/open_image/train_0</td>\n",
       "      <td>0</td>\n",
       "    </tr>\n",
       "    <tr>\n",
       "      <th>4</th>\n",
       "      <td>0a736f35f26470b5.jpg</td>\n",
       "      <td>../../disk/Data/open_image/train_0</td>\n",
       "      <td>0</td>\n",
       "    </tr>\n",
       "    <tr>\n",
       "      <th>...</th>\n",
       "      <td>...</td>\n",
       "      <td>...</td>\n",
       "      <td>...</td>\n",
       "    </tr>\n",
       "    <tr>\n",
       "      <th>80052</th>\n",
       "      <td>earthquake_284_HorizontalFlip.jpg</td>\n",
       "      <td>../Data/disaster/train/augmented/HorizontalFlip</td>\n",
       "      <td>1</td>\n",
       "    </tr>\n",
       "    <tr>\n",
       "      <th>80053</th>\n",
       "      <td>earthquake_262.jpg</td>\n",
       "      <td>../Data/disaster/train/origin_images/crawling/...</td>\n",
       "      <td>1</td>\n",
       "    </tr>\n",
       "    <tr>\n",
       "      <th>80054</th>\n",
       "      <td>earthquake_301_rotatation.jpg</td>\n",
       "      <td>../Data/disaster/train/augmented/rotatation</td>\n",
       "      <td>1</td>\n",
       "    </tr>\n",
       "    <tr>\n",
       "      <th>80055</th>\n",
       "      <td>32f367406aeab9c0_contrast.jpg</td>\n",
       "      <td>../Data/disaster/train/augmented/contrast</td>\n",
       "      <td>1</td>\n",
       "    </tr>\n",
       "    <tr>\n",
       "      <th>80056</th>\n",
       "      <td>In this image we can see a group of trees and ...</td>\n",
       "      <td>../Data/disaster/train/generated1/open_image</td>\n",
       "      <td>1</td>\n",
       "    </tr>\n",
       "  </tbody>\n",
       "</table>\n",
       "<p>80057 rows × 3 columns</p>\n",
       "</div>"
      ],
      "text/plain": [
       "                                                image_id  \\\n",
       "0                                       000000104452.jpg   \n",
       "1                                   0c3e3a3c67c8692b.jpg   \n",
       "2                                       000000440641.jpg   \n",
       "3                                   03d7e52db226a17c.jpg   \n",
       "4                                   0a736f35f26470b5.jpg   \n",
       "...                                                  ...   \n",
       "80052                  earthquake_284_HorizontalFlip.jpg   \n",
       "80053                                 earthquake_262.jpg   \n",
       "80054                      earthquake_301_rotatation.jpg   \n",
       "80055                      32f367406aeab9c0_contrast.jpg   \n",
       "80056  In this image we can see a group of trees and ...   \n",
       "\n",
       "                                                     dir  label  \n",
       "0                                      ../Data/train2017      0  \n",
       "1                     ../../disk/Data/open_image/train_0      0  \n",
       "2                                      ../Data/train2017      0  \n",
       "3                     ../../disk/Data/open_image/train_0      0  \n",
       "4                     ../../disk/Data/open_image/train_0      0  \n",
       "...                                                  ...    ...  \n",
       "80052    ../Data/disaster/train/augmented/HorizontalFlip      1  \n",
       "80053  ../Data/disaster/train/origin_images/crawling/...      1  \n",
       "80054        ../Data/disaster/train/augmented/rotatation      1  \n",
       "80055          ../Data/disaster/train/augmented/contrast      1  \n",
       "80056       ../Data/disaster/train/generated1/open_image      1  \n",
       "\n",
       "[80057 rows x 3 columns]"
      ]
     },
     "execution_count": 9,
     "metadata": {},
     "output_type": "execute_result"
    }
   ],
   "source": [
    "trn_df = pd.DataFrame(trn_disater, columns=['image_id'])\n",
    "trn_df['dir'] = trn_df['image_id'].apply(lambda x: os.path.dirname(x))\n",
    "trn_df['image_id'] = trn_df['image_id'].apply(lambda x: os.path.basename(x))\n",
    "trn_df['label'] = trn_label\n",
    "train = trn_df\n",
    "train"
   ]
  },
  {
   "cell_type": "code",
   "execution_count": 10,
   "id": "289a1e8c-e9b0-4a29-bf55-7ad7e191527a",
   "metadata": {},
   "outputs": [],
   "source": [
    "project_name = 'disaster_classfication_inception_resnet_v2_7010_a'\n",
    "user = 'hojunking'\n",
    "run_name = 'disaster_classfication_inception_resnet_v2_7010_a'"
   ]
  },
  {
   "cell_type": "code",
   "execution_count": 11,
   "id": "65f38af9-b1d5-4052-b100-ef44d2072635",
   "metadata": {},
   "outputs": [
    {
     "name": "stderr",
     "output_type": "stream",
     "text": [
      "Failed to detect the name of this notebook, you can set it manually with the WANDB_NOTEBOOK_NAME environment variable to enable code saving.\n",
      "\u001b[34m\u001b[1mwandb\u001b[0m: Currently logged in as: \u001b[33mhojunking\u001b[0m. Use \u001b[1m`wandb login --relogin`\u001b[0m to force relogin\n"
     ]
    },
    {
     "data": {
      "text/html": [
       "wandb version 0.14.0 is available!  To upgrade, please run:\n",
       " $ pip install wandb --upgrade"
      ],
      "text/plain": [
       "<IPython.core.display.HTML object>"
      ]
     },
     "metadata": {},
     "output_type": "display_data"
    },
    {
     "data": {
      "text/html": [
       "Tracking run with wandb version 0.13.4"
      ],
      "text/plain": [
       "<IPython.core.display.HTML object>"
      ]
     },
     "metadata": {},
     "output_type": "display_data"
    },
    {
     "data": {
      "text/html": [
       "Run data is saved locally in <code>/home/hojun/git/disaster_classifier/wandb/run-20230323_193009-3cjajru0</code>"
      ],
      "text/plain": [
       "<IPython.core.display.HTML object>"
      ]
     },
     "metadata": {},
     "output_type": "display_data"
    },
    {
     "data": {
      "text/html": [
       "Syncing run <strong><a href=\"https://wandb.ai/hojunking/disaster_classfication_inception_resnet_v2_7010_a/runs/3cjajru0\" target=\"_blank\">firm-firefly-2</a></strong> to <a href=\"https://wandb.ai/hojunking/disaster_classfication_inception_resnet_v2_7010_a\" target=\"_blank\">Weights & Biases</a> (<a href=\"https://wandb.me/run\" target=\"_blank\">docs</a>)<br/>"
      ],
      "text/plain": [
       "<IPython.core.display.HTML object>"
      ]
     },
     "metadata": {},
     "output_type": "display_data"
    },
    {
     "name": "stdout",
     "output_type": "stream",
     "text": [
      "Model: inception_resnet_v2\n",
      "Training start with fold: 0 epoch: 200 \n",
      "\n",
      "All training process\n",
      "Fold: 0\n",
      "Epoch 0/199\n"
     ]
    },
    {
     "name": "stderr",
     "output_type": "stream",
     "text": [
      "epoch 0 loss: 0.0680:  79%|███████████████    | 396/501 [10:49<01:30,  1.16it/s]libpng warning: iCCP: known incorrect sRGB profile\n",
      "epoch 0 loss: 0.0534: 100%|███████████████████| 501/501 [13:34<00:00,  1.63s/it]\n",
      "epoch 0 loss: 0.0391: 100%|███████████████████| 501/501 [04:05<00:00,  2.04it/s]\n"
     ]
    },
    {
     "name": "stdout",
     "output_type": "stream",
     "text": [
      "Fold: 0\n",
      "Epoch 1/199\n"
     ]
    },
    {
     "name": "stderr",
     "output_type": "stream",
     "text": [
      "epoch 1 loss: 0.0059:  79%|██████████████▉    | 395/501 [04:56<01:18,  1.36it/s]libpng warning: iCCP: known incorrect sRGB profile\n",
      "epoch 1 loss: 0.0076: 100%|███████████████████| 501/501 [06:15<00:00,  1.33it/s]\n",
      "epoch 1 loss: 0.0430: 100%|███████████████████| 501/501 [02:03<00:00,  4.06it/s]\n"
     ]
    },
    {
     "name": "stdout",
     "output_type": "stream",
     "text": [
      "Fold: 0\n",
      "Epoch 2/199\n"
     ]
    },
    {
     "name": "stderr",
     "output_type": "stream",
     "text": [
      "epoch 2 loss: 0.0067:  79%|██████████████▉    | 395/501 [04:56<01:18,  1.36it/s]libpng warning: iCCP: known incorrect sRGB profile\n",
      "epoch 2 loss: 0.0098: 100%|███████████████████| 501/501 [06:15<00:00,  1.33it/s]\n",
      "epoch 2 loss: 0.0605: 100%|███████████████████| 501/501 [02:03<00:00,  4.06it/s]"
     ]
    },
    {
     "name": "stdout",
     "output_type": "stream",
     "text": [
      "EarlyStopping counter: 1 out of 5\n",
      "Best F1 score from now: 0.970395568495205\n",
      "Fold: 0\n",
      "Epoch 3/199\n"
     ]
    },
    {
     "name": "stderr",
     "output_type": "stream",
     "text": [
      "\n",
      "epoch 3 loss: 0.0059:  79%|██████████████▉    | 395/501 [04:55<01:18,  1.35it/s]libpng warning: iCCP: known incorrect sRGB profile\n",
      "epoch 3 loss: 0.0087: 100%|███████████████████| 501/501 [06:14<00:00,  1.34it/s]\n",
      "epoch 3 loss: 0.0432: 100%|███████████████████| 501/501 [02:03<00:00,  4.07it/s]\n"
     ]
    },
    {
     "name": "stdout",
     "output_type": "stream",
     "text": [
      "Fold: 0\n",
      "Epoch 4/199\n"
     ]
    },
    {
     "name": "stderr",
     "output_type": "stream",
     "text": [
      "epoch 4 loss: 0.0040:  79%|██████████████▉    | 395/501 [04:55<01:18,  1.36it/s]libpng warning: iCCP: known incorrect sRGB profile\n",
      "epoch 4 loss: 0.0039: 100%|███████████████████| 501/501 [06:13<00:00,  1.34it/s]\n",
      "epoch 4 loss: 0.0424: 100%|███████████████████| 501/501 [02:03<00:00,  4.06it/s]\n"
     ]
    },
    {
     "name": "stdout",
     "output_type": "stream",
     "text": [
      "Fold: 0\n",
      "Epoch 5/199\n"
     ]
    },
    {
     "name": "stderr",
     "output_type": "stream",
     "text": [
      "epoch 5 loss: 0.0044:  79%|██████████████▉    | 395/501 [04:56<01:18,  1.36it/s]libpng warning: iCCP: known incorrect sRGB profile\n",
      "epoch 5 loss: 0.0047: 100%|███████████████████| 501/501 [06:15<00:00,  1.34it/s]\n",
      "epoch 5 loss: 0.0471: 100%|███████████████████| 501/501 [02:03<00:00,  4.06it/s]"
     ]
    },
    {
     "name": "stdout",
     "output_type": "stream",
     "text": [
      "EarlyStopping counter: 1 out of 5\n",
      "Best F1 score from now: 0.9733840086481471\n",
      "Fold: 0\n",
      "Epoch 6/199\n"
     ]
    },
    {
     "name": "stderr",
     "output_type": "stream",
     "text": [
      "\n",
      "epoch 6 loss: 0.0054:  79%|██████████████▉    | 395/501 [04:55<01:18,  1.35it/s]libpng warning: iCCP: known incorrect sRGB profile\n",
      "epoch 6 loss: 0.0042: 100%|███████████████████| 501/501 [06:14<00:00,  1.34it/s]\n",
      "epoch 6 loss: 0.0376: 100%|███████████████████| 501/501 [02:03<00:00,  4.06it/s]\n"
     ]
    },
    {
     "name": "stdout",
     "output_type": "stream",
     "text": [
      "Fold: 0\n",
      "Epoch 7/199\n"
     ]
    },
    {
     "name": "stderr",
     "output_type": "stream",
     "text": [
      "epoch 7 loss: 0.0024:  79%|██████████████▉    | 395/501 [04:55<01:18,  1.35it/s]libpng warning: iCCP: known incorrect sRGB profile\n",
      "epoch 7 loss: 0.0026: 100%|███████████████████| 501/501 [06:14<00:00,  1.34it/s]\n",
      "epoch 7 loss: 0.0403: 100%|███████████████████| 501/501 [02:03<00:00,  4.07it/s]"
     ]
    },
    {
     "name": "stdout",
     "output_type": "stream",
     "text": [
      "EarlyStopping counter: 1 out of 5\n",
      "Best F1 score from now: 0.9794835114818332\n",
      "Fold: 0\n",
      "Epoch 8/199\n"
     ]
    },
    {
     "name": "stderr",
     "output_type": "stream",
     "text": [
      "\n",
      "epoch 8 loss: 0.0028:  79%|██████████████▉    | 395/501 [04:56<01:18,  1.35it/s]libpng warning: iCCP: known incorrect sRGB profile\n",
      "epoch 8 loss: 0.0025: 100%|███████████████████| 501/501 [06:14<00:00,  1.34it/s]\n",
      "epoch 8 loss: 0.0379: 100%|███████████████████| 501/501 [02:03<00:00,  4.07it/s]\n"
     ]
    },
    {
     "name": "stdout",
     "output_type": "stream",
     "text": [
      "Fold: 0\n",
      "Epoch 9/199\n"
     ]
    },
    {
     "name": "stderr",
     "output_type": "stream",
     "text": [
      "epoch 9 loss: 0.0022:  79%|██████████████▉    | 395/501 [04:55<01:18,  1.36it/s]libpng warning: iCCP: known incorrect sRGB profile\n",
      "epoch 9 loss: 0.0045: 100%|███████████████████| 501/501 [06:15<00:00,  1.34it/s]\n",
      "epoch 9 loss: 0.0412: 100%|███████████████████| 501/501 [02:03<00:00,  4.06it/s]"
     ]
    },
    {
     "name": "stdout",
     "output_type": "stream",
     "text": [
      "EarlyStopping counter: 1 out of 5\n",
      "Best F1 score from now: 0.9803047060006375\n",
      "Fold: 0\n",
      "Epoch 10/199\n"
     ]
    },
    {
     "name": "stderr",
     "output_type": "stream",
     "text": [
      "\n",
      "epoch 10 loss: 0.0065:  79%|██████████████▏   | 395/501 [04:56<01:18,  1.36it/s]libpng warning: iCCP: known incorrect sRGB profile\n",
      "epoch 10 loss: 0.0049: 100%|██████████████████| 501/501 [06:14<00:00,  1.34it/s]\n",
      "epoch 10 loss: 0.0437: 100%|██████████████████| 501/501 [02:03<00:00,  4.06it/s]"
     ]
    },
    {
     "name": "stdout",
     "output_type": "stream",
     "text": [
      "EarlyStopping counter: 2 out of 5\n",
      "Best F1 score from now: 0.9803047060006375\n",
      "Fold: 0\n",
      "Epoch 11/199\n"
     ]
    },
    {
     "name": "stderr",
     "output_type": "stream",
     "text": [
      "\n",
      "epoch 11 loss: 0.0031:  79%|██████████████▏   | 395/501 [04:55<01:18,  1.35it/s]libpng warning: iCCP: known incorrect sRGB profile\n",
      "epoch 11 loss: 0.0025: 100%|██████████████████| 501/501 [06:14<00:00,  1.34it/s]\n",
      "epoch 11 loss: 0.0381: 100%|██████████████████| 501/501 [02:03<00:00,  4.06it/s]"
     ]
    },
    {
     "name": "stdout",
     "output_type": "stream",
     "text": [
      "EarlyStopping counter: 3 out of 5\n",
      "Best F1 score from now: 0.9803047060006375\n",
      "Fold: 0\n",
      "Epoch 12/199\n"
     ]
    },
    {
     "name": "stderr",
     "output_type": "stream",
     "text": [
      "\n",
      "epoch 12 loss: 0.0037:  79%|██████████████▏   | 395/501 [04:55<01:18,  1.36it/s]libpng warning: iCCP: known incorrect sRGB profile\n",
      "epoch 12 loss: 0.0023: 100%|██████████████████| 501/501 [06:14<00:00,  1.34it/s]\n",
      "epoch 12 loss: 0.0389: 100%|██████████████████| 501/501 [02:03<00:00,  4.07it/s]"
     ]
    },
    {
     "name": "stdout",
     "output_type": "stream",
     "text": [
      "EarlyStopping counter: 4 out of 5\n",
      "Best F1 score from now: 0.9803047060006375\n",
      "Fold: 0\n",
      "Epoch 13/199\n"
     ]
    },
    {
     "name": "stderr",
     "output_type": "stream",
     "text": [
      "\n",
      "epoch 13 loss: 0.0031:  79%|██████████████▏   | 395/501 [04:56<01:17,  1.36it/s]libpng warning: iCCP: known incorrect sRGB profile\n",
      "epoch 13 loss: 0.0032: 100%|██████████████████| 501/501 [06:15<00:00,  1.33it/s]\n",
      "epoch 13 loss: 0.0485: 100%|██████████████████| 501/501 [02:03<00:00,  4.06it/s]\n"
     ]
    },
    {
     "name": "stdout",
     "output_type": "stream",
     "text": [
      "EarlyStopping counter: 5 out of 5\n",
      "Best F1 score from now: 0.9803047060006375\n",
      "stop called\n",
      "time : 2:05:47\n",
      "fold: 0, Best Epoch : 8/ 14\n",
      "fold: 0, Best Train Marco F1 : 0.99787\n",
      "[[55968    32]\n",
      " [   28  8017]]\n",
      "fold: 0, Best Valid Marco F1 : 0.98030\n",
      "[[13941    59]\n",
      " [   79  1933]]\n",
      "---------------------------------------------------------\n",
      "Training start with fold: 1 epoch: 200 \n",
      "\n",
      "All training process\n",
      "Fold: 1\n",
      "Epoch 0/199\n"
     ]
    },
    {
     "name": "stderr",
     "output_type": "stream",
     "text": [
      "epoch 0 loss: 0.6314:   1%|▎                    | 7/501 [00:07<06:51,  1.20it/s]libpng warning: iCCP: known incorrect sRGB profile\n",
      "epoch 0 loss: 0.0534: 100%|███████████████████| 501/501 [06:15<00:00,  1.33it/s]\n",
      "epoch 0 loss: 0.0338: 100%|███████████████████| 501/501 [02:03<00:00,  4.06it/s]\n"
     ]
    },
    {
     "name": "stdout",
     "output_type": "stream",
     "text": [
      "Fold: 1\n",
      "Epoch 1/199\n"
     ]
    },
    {
     "name": "stderr",
     "output_type": "stream",
     "text": [
      "epoch 1 loss: 0.0206:   1%|▎                    | 7/501 [00:07<06:50,  1.20it/s]libpng warning: iCCP: known incorrect sRGB profile\n",
      "epoch 1 loss: 0.0104: 100%|███████████████████| 501/501 [06:15<00:00,  1.33it/s]\n",
      "epoch 1 loss: 0.0297: 100%|███████████████████| 501/501 [02:03<00:00,  4.06it/s]\n"
     ]
    },
    {
     "name": "stdout",
     "output_type": "stream",
     "text": [
      "Fold: 1\n",
      "Epoch 2/199\n"
     ]
    },
    {
     "name": "stderr",
     "output_type": "stream",
     "text": [
      "epoch 2 loss: 0.0085:   1%|▎                    | 7/501 [00:07<06:45,  1.22it/s]libpng warning: iCCP: known incorrect sRGB profile\n",
      "epoch 2 loss: 0.0057: 100%|███████████████████| 501/501 [06:15<00:00,  1.34it/s]\n",
      "epoch 2 loss: 0.0370: 100%|███████████████████| 501/501 [02:03<00:00,  4.05it/s]"
     ]
    },
    {
     "name": "stdout",
     "output_type": "stream",
     "text": [
      "EarlyStopping counter: 1 out of 5\n",
      "Best F1 score from now: 0.9795533281602296\n",
      "Fold: 1\n",
      "Epoch 3/199\n"
     ]
    },
    {
     "name": "stderr",
     "output_type": "stream",
     "text": [
      "\n",
      "epoch 3 loss: 0.0020:   1%|▎                    | 7/501 [00:06<06:37,  1.24it/s]libpng warning: iCCP: known incorrect sRGB profile\n",
      "epoch 3 loss: 0.0083: 100%|███████████████████| 501/501 [06:15<00:00,  1.34it/s]\n",
      "epoch 3 loss: 0.0429: 100%|███████████████████| 501/501 [02:03<00:00,  4.05it/s]"
     ]
    },
    {
     "name": "stdout",
     "output_type": "stream",
     "text": [
      "EarlyStopping counter: 2 out of 5\n",
      "Best F1 score from now: 0.9795533281602296\n",
      "Fold: 1\n",
      "Epoch 4/199\n"
     ]
    },
    {
     "name": "stderr",
     "output_type": "stream",
     "text": [
      "\n",
      "epoch 4 loss: 0.0115:   1%|▎                    | 7/501 [00:07<06:45,  1.22it/s]libpng warning: iCCP: known incorrect sRGB profile\n",
      "epoch 4 loss: 0.0059: 100%|███████████████████| 501/501 [06:15<00:00,  1.34it/s]\n",
      "epoch 4 loss: 0.0440: 100%|███████████████████| 501/501 [02:03<00:00,  4.06it/s]"
     ]
    },
    {
     "name": "stdout",
     "output_type": "stream",
     "text": [
      "EarlyStopping counter: 3 out of 5\n",
      "Best F1 score from now: 0.9795533281602296\n",
      "Fold: 1\n",
      "Epoch 5/199\n"
     ]
    },
    {
     "name": "stderr",
     "output_type": "stream",
     "text": [
      "\n",
      "epoch 5 loss: 0.0006:   1%|▎                    | 7/501 [00:07<06:41,  1.23it/s]libpng warning: iCCP: known incorrect sRGB profile\n",
      "epoch 5 loss: 0.0045: 100%|███████████████████| 501/501 [06:15<00:00,  1.33it/s]\n",
      "epoch 5 loss: 0.0453: 100%|███████████████████| 501/501 [02:03<00:00,  4.05it/s]"
     ]
    },
    {
     "name": "stdout",
     "output_type": "stream",
     "text": [
      "EarlyStopping counter: 4 out of 5\n",
      "Best F1 score from now: 0.9795533281602296\n",
      "Fold: 1\n",
      "Epoch 6/199\n"
     ]
    },
    {
     "name": "stderr",
     "output_type": "stream",
     "text": [
      "\n",
      "epoch 6 loss: 0.0020:   1%|▎                    | 7/501 [00:07<06:50,  1.20it/s]libpng warning: iCCP: known incorrect sRGB profile\n",
      "epoch 6 loss: 0.0046: 100%|███████████████████| 501/501 [06:16<00:00,  1.33it/s]\n",
      "epoch 6 loss: 0.0404: 100%|███████████████████| 501/501 [02:03<00:00,  4.06it/s]\n"
     ]
    },
    {
     "name": "stdout",
     "output_type": "stream",
     "text": [
      "EarlyStopping counter: 5 out of 5\n",
      "Best F1 score from now: 0.9795533281602296\n",
      "stop called\n",
      "time : 0:58:18\n",
      "fold: 1, Best Epoch : 1/ 7\n",
      "fold: 1, Best Train Marco F1 : 0.99192\n",
      "[[55906    94]\n",
      " [  133  7912]]\n",
      "fold: 1, Best Valid Marco F1 : 0.97955\n",
      "[[13926    74]\n",
      " [   70  1942]]\n",
      "---------------------------------------------------------\n",
      "Training start with fold: 2 epoch: 200 \n",
      "\n",
      "All training process\n",
      "Fold: 2\n",
      "Epoch 0/199\n"
     ]
    },
    {
     "name": "stderr",
     "output_type": "stream",
     "text": [
      "epoch 0 loss: 0.0620:  84%|████████████████   | 423/501 [05:17<00:57,  1.35it/s]libpng warning: iCCP: known incorrect sRGB profile\n",
      "epoch 0 loss: 0.0534: 100%|███████████████████| 501/501 [06:16<00:00,  1.33it/s]\n",
      "epoch 0 loss: 0.0325: 100%|███████████████████| 501/501 [02:03<00:00,  4.05it/s]\n"
     ]
    },
    {
     "name": "stdout",
     "output_type": "stream",
     "text": [
      "Fold: 2\n",
      "Epoch 1/199\n"
     ]
    },
    {
     "name": "stderr",
     "output_type": "stream",
     "text": [
      "epoch 1 loss: 0.0093:  84%|████████████████   | 423/501 [05:23<00:58,  1.32it/s]libpng warning: iCCP: known incorrect sRGB profile\n",
      "epoch 1 loss: 0.0107: 100%|███████████████████| 501/501 [06:23<00:00,  1.31it/s]\n",
      "epoch 1 loss: 0.0303: 100%|███████████████████| 501/501 [02:03<00:00,  4.05it/s]\n"
     ]
    },
    {
     "name": "stdout",
     "output_type": "stream",
     "text": [
      "Fold: 2\n",
      "Epoch 2/199\n"
     ]
    },
    {
     "name": "stderr",
     "output_type": "stream",
     "text": [
      "epoch 2 loss: 0.0071:  84%|████████████████   | 423/501 [05:23<00:58,  1.32it/s]libpng warning: iCCP: known incorrect sRGB profile\n",
      "epoch 2 loss: 0.0083: 100%|███████████████████| 501/501 [06:23<00:00,  1.31it/s]\n",
      "epoch 2 loss: 0.0438: 100%|███████████████████| 501/501 [02:03<00:00,  4.06it/s]"
     ]
    },
    {
     "name": "stdout",
     "output_type": "stream",
     "text": [
      "EarlyStopping counter: 1 out of 5\n",
      "Best F1 score from now: 0.9790006981064169\n",
      "Fold: 2\n",
      "Epoch 3/199\n"
     ]
    },
    {
     "name": "stderr",
     "output_type": "stream",
     "text": [
      "\n",
      "epoch 3 loss: 0.0075:  84%|████████████████   | 423/501 [05:24<00:58,  1.32it/s]libpng warning: iCCP: known incorrect sRGB profile\n",
      "epoch 3 loss: 0.0088: 100%|███████████████████| 501/501 [06:23<00:00,  1.31it/s]\n",
      "epoch 3 loss: 0.0393: 100%|███████████████████| 501/501 [02:03<00:00,  4.05it/s]"
     ]
    },
    {
     "name": "stdout",
     "output_type": "stream",
     "text": [
      "EarlyStopping counter: 2 out of 5\n",
      "Best F1 score from now: 0.9790006981064169\n",
      "Fold: 2\n",
      "Epoch 4/199\n"
     ]
    },
    {
     "name": "stderr",
     "output_type": "stream",
     "text": [
      "\n",
      "epoch 4 loss: 0.0050:  84%|████████████████   | 423/501 [05:24<00:58,  1.32it/s]libpng warning: iCCP: known incorrect sRGB profile\n",
      "epoch 4 loss: 0.0039: 100%|███████████████████| 501/501 [06:23<00:00,  1.31it/s]\n",
      "epoch 4 loss: 0.0437: 100%|███████████████████| 501/501 [02:03<00:00,  4.06it/s]"
     ]
    },
    {
     "name": "stdout",
     "output_type": "stream",
     "text": [
      "EarlyStopping counter: 3 out of 5\n",
      "Best F1 score from now: 0.9790006981064169\n",
      "Fold: 2\n",
      "Epoch 5/199\n"
     ]
    },
    {
     "name": "stderr",
     "output_type": "stream",
     "text": [
      "\n",
      "epoch 5 loss: 0.0036:  84%|████████████████   | 423/501 [05:24<00:58,  1.32it/s]libpng warning: iCCP: known incorrect sRGB profile\n",
      "epoch 5 loss: 0.0066: 100%|███████████████████| 501/501 [06:23<00:00,  1.31it/s]\n",
      "epoch 5 loss: 0.0449: 100%|███████████████████| 501/501 [02:03<00:00,  4.05it/s]"
     ]
    },
    {
     "name": "stdout",
     "output_type": "stream",
     "text": [
      "EarlyStopping counter: 4 out of 5\n",
      "Best F1 score from now: 0.9790006981064169\n",
      "Fold: 2\n",
      "Epoch 6/199\n"
     ]
    },
    {
     "name": "stderr",
     "output_type": "stream",
     "text": [
      "\n",
      "epoch 6 loss: 0.0060:  84%|████████████████   | 423/501 [05:24<00:58,  1.33it/s]libpng warning: iCCP: known incorrect sRGB profile\n",
      "epoch 6 loss: 0.0074: 100%|███████████████████| 501/501 [06:23<00:00,  1.31it/s]\n",
      "epoch 6 loss: 0.0351: 100%|███████████████████| 501/501 [02:03<00:00,  4.06it/s]\n"
     ]
    },
    {
     "name": "stdout",
     "output_type": "stream",
     "text": [
      "EarlyStopping counter: 5 out of 5\n",
      "Best F1 score from now: 0.9790006981064169\n",
      "stop called\n",
      "time : 0:59:09\n",
      "fold: 2, Best Epoch : 1/ 7\n",
      "fold: 2, Best Train Marco F1 : 0.99211\n",
      "[[55896   104]\n",
      " [  118  7928]]\n",
      "fold: 2, Best Valid Marco F1 : 0.97900\n",
      "[[13954    46]\n",
      " [  100  1911]]\n",
      "---------------------------------------------------------\n",
      "Training start with fold: 3 epoch: 200 \n",
      "\n",
      "All training process\n",
      "Fold: 3\n",
      "Epoch 0/199\n"
     ]
    },
    {
     "name": "stderr",
     "output_type": "stream",
     "text": [
      "epoch 0 loss: 0.8807:   4%|▊                   | 20/501 [00:17<06:10,  1.30it/s]libpng warning: iCCP: known incorrect sRGB profile\n",
      "epoch 0 loss: 0.0538: 100%|███████████████████| 501/501 [06:23<00:00,  1.30it/s]\n",
      "epoch 0 loss: 0.0376: 100%|███████████████████| 501/501 [02:03<00:00,  4.05it/s]\n"
     ]
    },
    {
     "name": "stdout",
     "output_type": "stream",
     "text": [
      "Fold: 3\n",
      "Epoch 1/199\n"
     ]
    },
    {
     "name": "stderr",
     "output_type": "stream",
     "text": [
      "epoch 1 loss: 0.0390:   4%|▊                   | 20/501 [00:16<06:09,  1.30it/s]libpng warning: iCCP: known incorrect sRGB profile\n",
      "epoch 1 loss: 0.0078: 100%|███████████████████| 501/501 [06:24<00:00,  1.30it/s]\n",
      "epoch 1 loss: 0.0571: 100%|███████████████████| 501/501 [02:03<00:00,  4.05it/s]"
     ]
    },
    {
     "name": "stdout",
     "output_type": "stream",
     "text": [
      "EarlyStopping counter: 1 out of 5\n",
      "Best F1 score from now: 0.968951031719669\n",
      "Fold: 3\n",
      "Epoch 2/199\n"
     ]
    },
    {
     "name": "stderr",
     "output_type": "stream",
     "text": [
      "\n",
      "epoch 2 loss: 0.0114:   4%|▊                   | 20/501 [00:17<06:10,  1.30it/s]libpng warning: iCCP: known incorrect sRGB profile\n",
      "epoch 2 loss: 0.0074: 100%|███████████████████| 501/501 [06:24<00:00,  1.30it/s]\n",
      "epoch 2 loss: 0.0401: 100%|███████████████████| 501/501 [02:03<00:00,  4.05it/s]\n"
     ]
    },
    {
     "name": "stdout",
     "output_type": "stream",
     "text": [
      "Fold: 3\n",
      "Epoch 3/199\n"
     ]
    },
    {
     "name": "stderr",
     "output_type": "stream",
     "text": [
      "epoch 3 loss: 0.0054:   4%|▊                   | 20/501 [00:17<06:11,  1.29it/s]libpng warning: iCCP: known incorrect sRGB profile\n",
      "epoch 3 loss: 0.0054: 100%|███████████████████| 501/501 [06:25<00:00,  1.30it/s]\n",
      "epoch 3 loss: 0.0439: 100%|███████████████████| 501/501 [02:03<00:00,  4.06it/s]\n"
     ]
    },
    {
     "name": "stdout",
     "output_type": "stream",
     "text": [
      "Fold: 3\n",
      "Epoch 4/199\n"
     ]
    },
    {
     "name": "stderr",
     "output_type": "stream",
     "text": [
      "epoch 4 loss: 0.0018:   4%|▊                   | 20/501 [00:16<06:09,  1.30it/s]libpng warning: iCCP: known incorrect sRGB profile\n",
      "epoch 4 loss: 0.0084: 100%|███████████████████| 501/501 [06:23<00:00,  1.31it/s]\n",
      "epoch 4 loss: 0.0467: 100%|███████████████████| 501/501 [02:03<00:00,  4.06it/s]"
     ]
    },
    {
     "name": "stdout",
     "output_type": "stream",
     "text": [
      "EarlyStopping counter: 1 out of 5\n",
      "Best F1 score from now: 0.9729689849383505\n",
      "Fold: 3\n",
      "Epoch 5/199\n"
     ]
    },
    {
     "name": "stderr",
     "output_type": "stream",
     "text": [
      "\n",
      "epoch 5 loss: 0.0012:   4%|▊                   | 20/501 [00:16<06:08,  1.30it/s]libpng warning: iCCP: known incorrect sRGB profile\n",
      "epoch 5 loss: 0.0021: 100%|███████████████████| 501/501 [06:24<00:00,  1.30it/s]\n",
      "epoch 5 loss: 0.0369: 100%|███████████████████| 501/501 [02:04<00:00,  4.04it/s]\n"
     ]
    },
    {
     "name": "stdout",
     "output_type": "stream",
     "text": [
      "Fold: 3\n",
      "Epoch 6/199\n"
     ]
    },
    {
     "name": "stderr",
     "output_type": "stream",
     "text": [
      "epoch 6 loss: 0.0005:   4%|▊                   | 20/501 [00:17<06:11,  1.29it/s]libpng warning: iCCP: known incorrect sRGB profile\n",
      "epoch 6 loss: 0.0033: 100%|███████████████████| 501/501 [06:24<00:00,  1.30it/s]\n",
      "epoch 6 loss: 0.0428: 100%|███████████████████| 501/501 [02:03<00:00,  4.05it/s]"
     ]
    },
    {
     "name": "stdout",
     "output_type": "stream",
     "text": [
      "EarlyStopping counter: 1 out of 5\n",
      "Best F1 score from now: 0.9769870664179912\n",
      "Fold: 3\n",
      "Epoch 7/199\n"
     ]
    },
    {
     "name": "stderr",
     "output_type": "stream",
     "text": [
      "\n",
      "epoch 7 loss: 0.0011:   4%|▊                   | 20/501 [00:17<06:08,  1.31it/s]libpng warning: iCCP: known incorrect sRGB profile\n",
      "epoch 7 loss: 0.0052: 100%|███████████████████| 501/501 [06:24<00:00,  1.30it/s]\n",
      "epoch 7 loss: 0.0461: 100%|███████████████████| 501/501 [02:03<00:00,  4.05it/s]"
     ]
    },
    {
     "name": "stdout",
     "output_type": "stream",
     "text": [
      "EarlyStopping counter: 2 out of 5\n",
      "Best F1 score from now: 0.9769870664179912\n",
      "Fold: 3\n",
      "Epoch 8/199\n"
     ]
    },
    {
     "name": "stderr",
     "output_type": "stream",
     "text": [
      "\n",
      "epoch 8 loss: 0.0159:   4%|▊                   | 20/501 [00:17<06:09,  1.30it/s]libpng warning: iCCP: known incorrect sRGB profile\n",
      "epoch 8 loss: 0.0031: 100%|███████████████████| 501/501 [06:23<00:00,  1.31it/s]\n",
      "epoch 8 loss: 0.0433: 100%|███████████████████| 501/501 [02:03<00:00,  4.05it/s]"
     ]
    },
    {
     "name": "stdout",
     "output_type": "stream",
     "text": [
      "EarlyStopping counter: 3 out of 5\n",
      "Best F1 score from now: 0.9769870664179912\n",
      "Fold: 3\n",
      "Epoch 9/199\n"
     ]
    },
    {
     "name": "stderr",
     "output_type": "stream",
     "text": [
      "\n",
      "epoch 9 loss: 0.0044:   4%|▊                   | 20/501 [00:17<06:09,  1.30it/s]libpng warning: iCCP: known incorrect sRGB profile\n",
      "epoch 9 loss: 0.0050: 100%|███████████████████| 501/501 [06:24<00:00,  1.30it/s]\n",
      "epoch 9 loss: 0.0591: 100%|███████████████████| 501/501 [02:03<00:00,  4.05it/s]"
     ]
    },
    {
     "name": "stdout",
     "output_type": "stream",
     "text": [
      "EarlyStopping counter: 4 out of 5\n",
      "Best F1 score from now: 0.9769870664179912\n",
      "Fold: 3\n",
      "Epoch 10/199\n"
     ]
    },
    {
     "name": "stderr",
     "output_type": "stream",
     "text": [
      "\n",
      "epoch 10 loss: 0.0025:   4%|▊                  | 20/501 [00:17<06:08,  1.31it/s]libpng warning: iCCP: known incorrect sRGB profile\n",
      "epoch 10 loss: 0.0021: 100%|██████████████████| 501/501 [06:23<00:00,  1.31it/s]\n",
      "epoch 10 loss: 0.0417: 100%|██████████████████| 501/501 [02:03<00:00,  4.05it/s]\n"
     ]
    },
    {
     "name": "stdout",
     "output_type": "stream",
     "text": [
      "EarlyStopping counter: 5 out of 5\n",
      "Best F1 score from now: 0.9769870664179912\n",
      "stop called\n",
      "time : 1:33:15\n",
      "fold: 3, Best Epoch : 5/ 11\n",
      "fold: 3, Best Train Marco F1 : 0.99730\n",
      "[[55962    38]\n",
      " [   38  8008]]\n",
      "fold: 3, Best Valid Marco F1 : 0.97699\n",
      "[[13947    53]\n",
      " [  107  1904]]\n",
      "---------------------------------------------------------\n",
      "Training start with fold: 4 epoch: 200 \n",
      "\n",
      "All training process\n",
      "Fold: 4\n",
      "Epoch 0/199\n"
     ]
    },
    {
     "name": "stderr",
     "output_type": "stream",
     "text": [
      "epoch 0 loss: 0.0523: 100%|███████████████████| 501/501 [06:24<00:00,  1.30it/s]\n",
      "epoch 0 loss: 0.0222:  92%|█████████████████▌ | 463/501 [01:53<00:09,  4.12it/s]libpng warning: iCCP: known incorrect sRGB profile\n",
      "epoch 0 loss: 0.0332: 100%|███████████████████| 501/501 [02:03<00:00,  4.05it/s]\n"
     ]
    },
    {
     "name": "stdout",
     "output_type": "stream",
     "text": [
      "Fold: 4\n",
      "Epoch 1/199\n"
     ]
    },
    {
     "name": "stderr",
     "output_type": "stream",
     "text": [
      "epoch 1 loss: 0.0520:   1%|▏                    | 4/501 [00:05<08:54,  1.08s/it]wandb: ERROR Summary data exceeds maximum size of 10.4MB. Dropping it.\n",
      "epoch 1 loss: 0.0072: 100%|███████████████████| 501/501 [06:24<00:00,  1.30it/s]\n",
      "epoch 1 loss: 0.0373:  92%|█████████████████▌ | 463/501 [01:53<00:09,  4.10it/s]libpng warning: iCCP: known incorrect sRGB profile\n",
      "epoch 1 loss: 0.0455: 100%|███████████████████| 501/501 [02:03<00:00,  4.05it/s]"
     ]
    },
    {
     "name": "stdout",
     "output_type": "stream",
     "text": [
      "EarlyStopping counter: 1 out of 5\n",
      "Best F1 score from now: 0.9729217732247109\n",
      "Fold: 4\n",
      "Epoch 2/199\n"
     ]
    },
    {
     "name": "stderr",
     "output_type": "stream",
     "text": [
      "\n",
      "epoch 2 loss: 0.0071: 100%|███████████████████| 501/501 [06:24<00:00,  1.30it/s]\n",
      "epoch 2 loss: 0.0277:  92%|█████████████████▌ | 463/501 [01:53<00:09,  4.12it/s]libpng warning: iCCP: known incorrect sRGB profile\n",
      "epoch 2 loss: 0.0508: 100%|███████████████████| 501/501 [02:03<00:00,  4.05it/s]"
     ]
    },
    {
     "name": "stdout",
     "output_type": "stream",
     "text": [
      "EarlyStopping counter: 2 out of 5\n",
      "Best F1 score from now: 0.9729217732247109\n",
      "Fold: 4\n",
      "Epoch 3/199\n"
     ]
    },
    {
     "name": "stderr",
     "output_type": "stream",
     "text": [
      "\n",
      "epoch 3 loss: 0.0064: 100%|███████████████████| 501/501 [06:24<00:00,  1.30it/s]\n",
      "epoch 3 loss: 0.0284:  92%|█████████████████▌ | 463/501 [01:53<00:09,  4.10it/s]libpng warning: iCCP: known incorrect sRGB profile\n",
      "epoch 3 loss: 0.0424: 100%|███████████████████| 501/501 [02:03<00:00,  4.05it/s]"
     ]
    },
    {
     "name": "stdout",
     "output_type": "stream",
     "text": [
      "EarlyStopping counter: 3 out of 5\n",
      "Best F1 score from now: 0.9729217732247109\n",
      "Fold: 4\n",
      "Epoch 4/199\n"
     ]
    },
    {
     "name": "stderr",
     "output_type": "stream",
     "text": [
      "\n",
      "epoch 4 loss: 0.0053: 100%|███████████████████| 501/501 [06:23<00:00,  1.31it/s]\n",
      "epoch 4 loss: 0.0268:  92%|█████████████████▌ | 463/501 [01:53<00:09,  4.13it/s]libpng warning: iCCP: known incorrect sRGB profile\n",
      "epoch 4 loss: 0.0382: 100%|███████████████████| 501/501 [02:03<00:00,  4.05it/s]\n"
     ]
    },
    {
     "name": "stdout",
     "output_type": "stream",
     "text": [
      "Fold: 4\n",
      "Epoch 5/199\n"
     ]
    },
    {
     "name": "stderr",
     "output_type": "stream",
     "text": [
      "epoch 5 loss: 0.0056: 100%|███████████████████| 501/501 [06:24<00:00,  1.30it/s]\n",
      "epoch 5 loss: 0.0236:  92%|█████████████████▌ | 463/501 [01:53<00:09,  4.07it/s]libpng warning: iCCP: known incorrect sRGB profile\n",
      "epoch 5 loss: 0.0398: 100%|███████████████████| 501/501 [02:03<00:00,  4.05it/s]\n"
     ]
    },
    {
     "name": "stdout",
     "output_type": "stream",
     "text": [
      "Fold: 4\n",
      "Epoch 6/199\n"
     ]
    },
    {
     "name": "stderr",
     "output_type": "stream",
     "text": [
      "epoch 6 loss: 0.0046: 100%|███████████████████| 501/501 [06:23<00:00,  1.31it/s]\n",
      "epoch 6 loss: 0.0285:  92%|█████████████████▌ | 463/501 [01:53<00:09,  4.08it/s]libpng warning: iCCP: known incorrect sRGB profile\n",
      "epoch 6 loss: 0.0477: 100%|███████████████████| 501/501 [02:03<00:00,  4.06it/s]"
     ]
    },
    {
     "name": "stdout",
     "output_type": "stream",
     "text": [
      "EarlyStopping counter: 1 out of 5\n",
      "Best F1 score from now: 0.9737905933351478\n",
      "Fold: 4\n",
      "Epoch 7/199\n"
     ]
    },
    {
     "name": "stderr",
     "output_type": "stream",
     "text": [
      "\n",
      "epoch 7 loss: 0.0043: 100%|███████████████████| 501/501 [06:23<00:00,  1.31it/s]\n",
      "epoch 7 loss: 0.0306:  92%|█████████████████▌ | 463/501 [01:53<00:09,  4.02it/s]libpng warning: iCCP: known incorrect sRGB profile\n",
      "epoch 7 loss: 0.0466: 100%|███████████████████| 501/501 [02:03<00:00,  4.06it/s]"
     ]
    },
    {
     "name": "stdout",
     "output_type": "stream",
     "text": [
      "EarlyStopping counter: 2 out of 5\n",
      "Best F1 score from now: 0.9737905933351478\n",
      "Fold: 4\n",
      "Epoch 8/199\n"
     ]
    },
    {
     "name": "stderr",
     "output_type": "stream",
     "text": [
      "\n",
      "epoch 8 loss: 0.0033: 100%|███████████████████| 501/501 [06:23<00:00,  1.31it/s]\n",
      "epoch 8 loss: 0.0234:  92%|█████████████████▌ | 463/501 [01:53<00:09,  4.11it/s]libpng warning: iCCP: known incorrect sRGB profile\n",
      "epoch 8 loss: 0.0369: 100%|███████████████████| 501/501 [02:03<00:00,  4.05it/s]\n"
     ]
    },
    {
     "name": "stdout",
     "output_type": "stream",
     "text": [
      "Fold: 4\n",
      "Epoch 9/199\n"
     ]
    },
    {
     "name": "stderr",
     "output_type": "stream",
     "text": [
      "epoch 9 loss: 0.0021: 100%|███████████████████| 501/501 [06:23<00:00,  1.30it/s]\n",
      "epoch 9 loss: 0.0265:  92%|█████████████████▌ | 463/501 [01:53<00:09,  4.10it/s]libpng warning: iCCP: known incorrect sRGB profile\n",
      "epoch 9 loss: 0.0355: 100%|███████████████████| 501/501 [02:03<00:00,  4.05it/s]\n"
     ]
    },
    {
     "name": "stdout",
     "output_type": "stream",
     "text": [
      "Fold: 4\n",
      "Epoch 10/199\n"
     ]
    },
    {
     "name": "stderr",
     "output_type": "stream",
     "text": [
      "epoch 10 loss: 0.0019: 100%|██████████████████| 501/501 [06:23<00:00,  1.30it/s]\n",
      "epoch 10 loss: 0.0242:  92%|████████████████▋ | 463/501 [01:53<00:09,  4.09it/s]libpng warning: iCCP: known incorrect sRGB profile\n",
      "epoch 10 loss: 0.0402: 100%|██████████████████| 501/501 [02:03<00:00,  4.05it/s]"
     ]
    },
    {
     "name": "stdout",
     "output_type": "stream",
     "text": [
      "EarlyStopping counter: 1 out of 5\n",
      "Best F1 score from now: 0.9796562069910097\n",
      "Fold: 4\n",
      "Epoch 11/199\n"
     ]
    },
    {
     "name": "stderr",
     "output_type": "stream",
     "text": [
      "\n",
      "epoch 11 loss: 0.0033: 100%|██████████████████| 501/501 [06:23<00:00,  1.30it/s]\n",
      "epoch 11 loss: 0.0229:  92%|████████████████▋ | 463/501 [01:53<00:09,  4.12it/s]libpng warning: iCCP: known incorrect sRGB profile\n",
      "epoch 11 loss: 0.0345: 100%|██████████████████| 501/501 [02:03<00:00,  4.06it/s]"
     ]
    },
    {
     "name": "stdout",
     "output_type": "stream",
     "text": [
      "EarlyStopping counter: 2 out of 5\n",
      "Best F1 score from now: 0.9796562069910097\n",
      "Fold: 4\n",
      "Epoch 12/199\n"
     ]
    },
    {
     "name": "stderr",
     "output_type": "stream",
     "text": [
      "\n",
      "epoch 12 loss: 0.0023: 100%|██████████████████| 501/501 [06:23<00:00,  1.31it/s]\n",
      "epoch 12 loss: 0.0229:  92%|████████████████▋ | 463/501 [01:53<00:09,  4.07it/s]libpng warning: iCCP: known incorrect sRGB profile\n",
      "epoch 12 loss: 0.0338: 100%|██████████████████| 501/501 [02:03<00:00,  4.06it/s]\n"
     ]
    },
    {
     "name": "stdout",
     "output_type": "stream",
     "text": [
      "Fold: 4\n",
      "Epoch 13/199\n"
     ]
    },
    {
     "name": "stderr",
     "output_type": "stream",
     "text": [
      "epoch 13 loss: 0.0029: 100%|██████████████████| 501/501 [06:23<00:00,  1.31it/s]\n",
      "epoch 13 loss: 0.0294:  92%|████████████████▋ | 463/501 [01:53<00:09,  4.03it/s]libpng warning: iCCP: known incorrect sRGB profile\n",
      "epoch 13 loss: 0.0470: 100%|██████████████████| 501/501 [02:03<00:00,  4.05it/s]"
     ]
    },
    {
     "name": "stdout",
     "output_type": "stream",
     "text": [
      "EarlyStopping counter: 1 out of 5\n",
      "Best F1 score from now: 0.9813075769005415\n",
      "Fold: 4\n",
      "Epoch 14/199\n"
     ]
    },
    {
     "name": "stderr",
     "output_type": "stream",
     "text": [
      "\n",
      "epoch 14 loss: 0.0024: 100%|██████████████████| 501/501 [06:24<00:00,  1.30it/s]\n",
      "epoch 14 loss: 0.0219:  92%|████████████████▋ | 463/501 [01:53<00:09,  4.12it/s]libpng warning: iCCP: known incorrect sRGB profile\n",
      "epoch 14 loss: 0.0297: 100%|██████████████████| 501/501 [02:03<00:00,  4.05it/s]"
     ]
    },
    {
     "name": "stdout",
     "output_type": "stream",
     "text": [
      "EarlyStopping counter: 2 out of 5\n",
      "Best F1 score from now: 0.9813075769005415\n",
      "Fold: 4\n",
      "Epoch 15/199\n"
     ]
    },
    {
     "name": "stderr",
     "output_type": "stream",
     "text": [
      "\n",
      "epoch 15 loss: 0.0024: 100%|██████████████████| 501/501 [06:24<00:00,  1.30it/s]\n",
      "epoch 15 loss: 0.0219:  92%|████████████████▋ | 463/501 [01:53<00:09,  4.10it/s]libpng warning: iCCP: known incorrect sRGB profile\n",
      "epoch 15 loss: 0.0413: 100%|██████████████████| 501/501 [02:03<00:00,  4.05it/s]"
     ]
    },
    {
     "name": "stdout",
     "output_type": "stream",
     "text": [
      "EarlyStopping counter: 3 out of 5\n",
      "Best F1 score from now: 0.9813075769005415\n",
      "Fold: 4\n",
      "Epoch 16/199\n"
     ]
    },
    {
     "name": "stderr",
     "output_type": "stream",
     "text": [
      "\n",
      "epoch 16 loss: 0.0014: 100%|██████████████████| 501/501 [06:24<00:00,  1.30it/s]\n",
      "epoch 16 loss: 0.0252:  92%|████████████████▋ | 463/501 [01:53<00:09,  4.10it/s]libpng warning: iCCP: known incorrect sRGB profile\n",
      "epoch 16 loss: 0.0437: 100%|██████████████████| 501/501 [02:03<00:00,  4.05it/s]"
     ]
    },
    {
     "name": "stdout",
     "output_type": "stream",
     "text": [
      "EarlyStopping counter: 4 out of 5\n",
      "Best F1 score from now: 0.9813075769005415\n",
      "Fold: 4\n",
      "Epoch 17/199\n"
     ]
    },
    {
     "name": "stderr",
     "output_type": "stream",
     "text": [
      "\n",
      "epoch 17 loss: 0.0047: 100%|██████████████████| 501/501 [06:25<00:00,  1.30it/s]\n",
      "epoch 17 loss: 0.0324:  92%|████████████████▋ | 463/501 [01:53<00:09,  4.11it/s]libpng warning: iCCP: known incorrect sRGB profile\n",
      "epoch 17 loss: 0.0486: 100%|██████████████████| 501/501 [02:03<00:00,  4.05it/s]\n"
     ]
    },
    {
     "name": "stdout",
     "output_type": "stream",
     "text": [
      "EarlyStopping counter: 5 out of 5\n",
      "Best F1 score from now: 0.9813075769005415\n",
      "stop called\n",
      "time : 2:32:35\n",
      "fold: 4, Best Epoch : 12/ 18\n",
      "fold: 4, Best Train Marco F1 : 0.99819\n",
      "[[55972    28]\n",
      " [   23  8023]]\n",
      "fold: 4, Best Valid Marco F1 : 0.98131\n",
      "[[13943    57]\n",
      " [   74  1937]]\n",
      "---------------------------------------------------------\n",
      "best_fold : 0.9813075769005415\n",
      " Top fold : 4\n"
     ]
    }
   ],
   "source": [
    "%run classification_baseline.ipynb"
   ]
  },
  {
   "cell_type": "code",
   "execution_count": 12,
   "id": "1e4a5897-a99f-4b5b-a3db-a4e7911d2df6",
   "metadata": {},
   "outputs": [
    {
     "name": "stdout",
     "output_type": "stream",
     "text": [
      "400\n"
     ]
    }
   ],
   "source": [
    "dir_path = \"../Data/disaster/test\"\n",
    "\n",
    "img_names = []\n",
    "for folder, subfolders, filenames in os.walk(dir_path):\n",
    "    for img in filenames:\n",
    "        img_names.append(folder+'/'+img)\n",
    "random.shuffle(img_names)\n",
    "\n",
    "disaster_test = img_names\n",
    "print(len(disaster_test))"
   ]
  },
  {
   "cell_type": "code",
   "execution_count": 13,
   "id": "0155e498-dc73-409a-ab98-7a721d1177ea",
   "metadata": {},
   "outputs": [
    {
     "name": "stdout",
     "output_type": "stream",
     "text": [
      "20000\n"
     ]
    }
   ],
   "source": [
    "## open_image 1만장\n",
    "dir_path = \"../../disk/Data/open_image/train_1/\"\n",
    "\n",
    "img_names = []\n",
    "for folder, subfolders, filenames in os.walk(dir_path):\n",
    "    for img in filenames:\n",
    "        img_names.append(folder+'/'+img)\n",
    "random.shuffle(img_names)\n",
    "open_image_non_test = img_names[:20000]\n",
    "print(len(open_image_non_test))"
   ]
  },
  {
   "cell_type": "code",
   "execution_count": 14,
   "id": "3fd89ac2-5685-4b51-bd34-e469f29be1ac",
   "metadata": {},
   "outputs": [
    {
     "name": "stdout",
     "output_type": "stream",
     "text": [
      "20400\n"
     ]
    }
   ],
   "source": [
    "tst_disater = open_image_non_test + disaster_test\n",
    "tst_label = [0]*int(len(open_image_non_test)) + [1]*int(len(disaster_test))\n",
    "print(len(tst_label))"
   ]
  },
  {
   "cell_type": "code",
   "execution_count": 15,
   "id": "019ccd37-04c2-48ac-9dae-9752808dc271",
   "metadata": {},
   "outputs": [
    {
     "data": {
      "text/html": [
       "<div>\n",
       "<style scoped>\n",
       "    .dataframe tbody tr th:only-of-type {\n",
       "        vertical-align: middle;\n",
       "    }\n",
       "\n",
       "    .dataframe tbody tr th {\n",
       "        vertical-align: top;\n",
       "    }\n",
       "\n",
       "    .dataframe thead th {\n",
       "        text-align: right;\n",
       "    }\n",
       "</style>\n",
       "<table border=\"1\" class=\"dataframe\">\n",
       "  <thead>\n",
       "    <tr style=\"text-align: right;\">\n",
       "      <th></th>\n",
       "      <th>image_id</th>\n",
       "      <th>dir</th>\n",
       "      <th>label</th>\n",
       "    </tr>\n",
       "  </thead>\n",
       "  <tbody>\n",
       "    <tr>\n",
       "      <th>0</th>\n",
       "      <td>136458d0da88828b.jpg</td>\n",
       "      <td>../../disk/Data/open_image/train_1</td>\n",
       "      <td>0</td>\n",
       "    </tr>\n",
       "    <tr>\n",
       "      <th>1</th>\n",
       "      <td>10745c353b5ac23c.jpg</td>\n",
       "      <td>../../disk/Data/open_image/train_1</td>\n",
       "      <td>0</td>\n",
       "    </tr>\n",
       "    <tr>\n",
       "      <th>2</th>\n",
       "      <td>1acdf3a5be90b86a.jpg</td>\n",
       "      <td>../../disk/Data/open_image/train_1</td>\n",
       "      <td>0</td>\n",
       "    </tr>\n",
       "    <tr>\n",
       "      <th>3</th>\n",
       "      <td>1e96463d79b68919.jpg</td>\n",
       "      <td>../../disk/Data/open_image/train_1</td>\n",
       "      <td>0</td>\n",
       "    </tr>\n",
       "    <tr>\n",
       "      <th>4</th>\n",
       "      <td>116ea9f20bc62c1d.jpg</td>\n",
       "      <td>../../disk/Data/open_image/train_1</td>\n",
       "      <td>0</td>\n",
       "    </tr>\n",
       "    <tr>\n",
       "      <th>...</th>\n",
       "      <td>...</td>\n",
       "      <td>...</td>\n",
       "      <td>...</td>\n",
       "    </tr>\n",
       "    <tr>\n",
       "      <th>20395</th>\n",
       "      <td>blizzard_disasterblizzard_123.jpg</td>\n",
       "      <td>../Data/disaster/test/origin_images/crawling/b...</td>\n",
       "      <td>1</td>\n",
       "    </tr>\n",
       "    <tr>\n",
       "      <th>20396</th>\n",
       "      <td>tempest_043.jpg</td>\n",
       "      <td>../Data/disaster/test/origin_images/crawling/t...</td>\n",
       "      <td>1</td>\n",
       "    </tr>\n",
       "    <tr>\n",
       "      <th>20397</th>\n",
       "      <td>32ce6407b55b36a5.jpg</td>\n",
       "      <td>../Data/disaster/test/origin_images/open_image...</td>\n",
       "      <td>1</td>\n",
       "    </tr>\n",
       "    <tr>\n",
       "      <th>20398</th>\n",
       "      <td>000000328569.jpg</td>\n",
       "      <td>../Data/disaster/test/origin_images/COCO_disaster</td>\n",
       "      <td>1</td>\n",
       "    </tr>\n",
       "    <tr>\n",
       "      <th>20399</th>\n",
       "      <td>thunderstorm_346.jpg</td>\n",
       "      <td>../Data/disaster/test/origin_images/crawling/t...</td>\n",
       "      <td>1</td>\n",
       "    </tr>\n",
       "  </tbody>\n",
       "</table>\n",
       "<p>20400 rows × 3 columns</p>\n",
       "</div>"
      ],
      "text/plain": [
       "                                image_id  \\\n",
       "0                   136458d0da88828b.jpg   \n",
       "1                   10745c353b5ac23c.jpg   \n",
       "2                   1acdf3a5be90b86a.jpg   \n",
       "3                   1e96463d79b68919.jpg   \n",
       "4                   116ea9f20bc62c1d.jpg   \n",
       "...                                  ...   \n",
       "20395  blizzard_disasterblizzard_123.jpg   \n",
       "20396                    tempest_043.jpg   \n",
       "20397               32ce6407b55b36a5.jpg   \n",
       "20398                   000000328569.jpg   \n",
       "20399               thunderstorm_346.jpg   \n",
       "\n",
       "                                                     dir  label  \n",
       "0                     ../../disk/Data/open_image/train_1      0  \n",
       "1                     ../../disk/Data/open_image/train_1      0  \n",
       "2                     ../../disk/Data/open_image/train_1      0  \n",
       "3                     ../../disk/Data/open_image/train_1      0  \n",
       "4                     ../../disk/Data/open_image/train_1      0  \n",
       "...                                                  ...    ...  \n",
       "20395  ../Data/disaster/test/origin_images/crawling/b...      1  \n",
       "20396  ../Data/disaster/test/origin_images/crawling/t...      1  \n",
       "20397  ../Data/disaster/test/origin_images/open_image...      1  \n",
       "20398  ../Data/disaster/test/origin_images/COCO_disaster      1  \n",
       "20399  ../Data/disaster/test/origin_images/crawling/t...      1  \n",
       "\n",
       "[20400 rows x 3 columns]"
      ]
     },
     "execution_count": 15,
     "metadata": {},
     "output_type": "execute_result"
    }
   ],
   "source": [
    "tst_df = pd.DataFrame(tst_disater, columns=['image_id'])\n",
    "tst_df['dir'] = tst_df['image_id'].apply(lambda x: os.path.dirname(x))\n",
    "tst_df['image_id'] = tst_df['image_id'].apply(lambda x: os.path.basename(x))\n",
    "tst_df['label'] = tst_label\n",
    "test = tst_df\n",
    "test"
   ]
  },
  {
   "cell_type": "code",
   "execution_count": 12,
   "id": "f2d6fb7d-7845-4508-a426-00ba4ddfac22",
   "metadata": {},
   "outputs": [],
   "source": [
    "dist.destroy_process_group()"
   ]
  },
  {
   "cell_type": "code",
   "execution_count": 16,
   "id": "316cf642-fed5-4b93-9efd-b6aa89a9ec07",
   "metadata": {},
   "outputs": [
    {
     "name": "stderr",
     "output_type": "stream",
     "text": [
      "100%|█████████████████████████████████████████| 160/160 [06:08<00:00,  2.30s/it]\n"
     ]
    }
   ],
   "source": [
    "model_name = 'inception_resnet_v2'\n",
    "model_dir = model_name + '/inception_resnet_v2_4'\n",
    "%run eval_test.ipynb"
   ]
  },
  {
   "cell_type": "code",
   "execution_count": 17,
   "id": "2e738224-f5c0-4cbb-8d10-30e6fae9c760",
   "metadata": {},
   "outputs": [
    {
     "name": "stdout",
     "output_type": "stream",
     "text": [
      "accuracy: 0.9900\n",
      "f1_score: 0.8729\n",
      "confusion_matrix \n",
      "-------------------------\n",
      " [[19891   109]\n",
      " [   94   306]]\n"
     ]
    }
   ],
   "source": [
    "print(f'accuracy: {test_acc:.4f}')\n",
    "print(f'f1_score: {epoch_f1:.4f}')\n",
    "print(f'confusion_matrix \\n-------------------------\\n {test_matrix}')"
   ]
  },
  {
   "cell_type": "code",
   "execution_count": 11,
   "id": "aa7fb1d5-efe3-44a9-87ee-c0022633b42f",
   "metadata": {},
   "outputs": [
    {
     "data": {
      "text/html": [
       "<div>\n",
       "<style scoped>\n",
       "    .dataframe tbody tr th:only-of-type {\n",
       "        vertical-align: middle;\n",
       "    }\n",
       "\n",
       "    .dataframe tbody tr th {\n",
       "        vertical-align: top;\n",
       "    }\n",
       "\n",
       "    .dataframe thead th {\n",
       "        text-align: right;\n",
       "    }\n",
       "</style>\n",
       "<table border=\"1\" class=\"dataframe\">\n",
       "  <thead>\n",
       "    <tr style=\"text-align: right;\">\n",
       "      <th></th>\n",
       "      <th>image_id</th>\n",
       "      <th>dir</th>\n",
       "      <th>label</th>\n",
       "      <th>pred</th>\n",
       "      <th>confidence score</th>\n",
       "    </tr>\n",
       "  </thead>\n",
       "  <tbody>\n",
       "    <tr>\n",
       "      <th>0</th>\n",
       "      <td>13d191db596a5e4a.jpg</td>\n",
       "      <td>../../disk/Data/open_image/train_1</td>\n",
       "      <td>0</td>\n",
       "      <td>1</td>\n",
       "      <td>0.918041</td>\n",
       "    </tr>\n",
       "    <tr>\n",
       "      <th>1</th>\n",
       "      <td>1cfd32a632fa0771.jpg</td>\n",
       "      <td>../../disk/Data/open_image/train_1</td>\n",
       "      <td>0</td>\n",
       "      <td>1</td>\n",
       "      <td>0.700170</td>\n",
       "    </tr>\n",
       "    <tr>\n",
       "      <th>2</th>\n",
       "      <td>1a7a43cb6ae3ed7b.jpg</td>\n",
       "      <td>../../disk/Data/open_image/train_1</td>\n",
       "      <td>0</td>\n",
       "      <td>1</td>\n",
       "      <td>0.665575</td>\n",
       "    </tr>\n",
       "    <tr>\n",
       "      <th>3</th>\n",
       "      <td>1410f35aeb2ae8af.jpg</td>\n",
       "      <td>../../disk/Data/open_image/train_1</td>\n",
       "      <td>0</td>\n",
       "      <td>1</td>\n",
       "      <td>0.993265</td>\n",
       "    </tr>\n",
       "    <tr>\n",
       "      <th>4</th>\n",
       "      <td>13628048cf4a80cd.jpg</td>\n",
       "      <td>../../disk/Data/open_image/train_1</td>\n",
       "      <td>0</td>\n",
       "      <td>1</td>\n",
       "      <td>0.930421</td>\n",
       "    </tr>\n",
       "    <tr>\n",
       "      <th>...</th>\n",
       "      <td>...</td>\n",
       "      <td>...</td>\n",
       "      <td>...</td>\n",
       "      <td>...</td>\n",
       "      <td>...</td>\n",
       "    </tr>\n",
       "    <tr>\n",
       "      <th>558</th>\n",
       "      <td>blizzard_disasterblizzard_305.jpg</td>\n",
       "      <td>../Data/disaster/test/origin_images/crawling/b...</td>\n",
       "      <td>1</td>\n",
       "      <td>0</td>\n",
       "      <td>0.924526</td>\n",
       "    </tr>\n",
       "    <tr>\n",
       "      <th>559</th>\n",
       "      <td>tempest_041.jpg</td>\n",
       "      <td>../Data/disaster/test/origin_images/crawling/t...</td>\n",
       "      <td>1</td>\n",
       "      <td>0</td>\n",
       "      <td>0.999252</td>\n",
       "    </tr>\n",
       "    <tr>\n",
       "      <th>560</th>\n",
       "      <td>000000073187.jpg</td>\n",
       "      <td>../Data/disaster/test/origin_images/COCO_disaster</td>\n",
       "      <td>1</td>\n",
       "      <td>0</td>\n",
       "      <td>0.999304</td>\n",
       "    </tr>\n",
       "    <tr>\n",
       "      <th>561</th>\n",
       "      <td>000000234697.jpg</td>\n",
       "      <td>../Data/disaster/test/origin_images/COCO_disaster</td>\n",
       "      <td>1</td>\n",
       "      <td>0</td>\n",
       "      <td>0.999646</td>\n",
       "    </tr>\n",
       "    <tr>\n",
       "      <th>562</th>\n",
       "      <td>000000213826.jpg</td>\n",
       "      <td>../Data/disaster/test/origin_images/COCO_disaster</td>\n",
       "      <td>1</td>\n",
       "      <td>0</td>\n",
       "      <td>0.992844</td>\n",
       "    </tr>\n",
       "  </tbody>\n",
       "</table>\n",
       "<p>563 rows × 5 columns</p>\n",
       "</div>"
      ],
      "text/plain": [
       "                              image_id  \\\n",
       "0                 13d191db596a5e4a.jpg   \n",
       "1                 1cfd32a632fa0771.jpg   \n",
       "2                 1a7a43cb6ae3ed7b.jpg   \n",
       "3                 1410f35aeb2ae8af.jpg   \n",
       "4                 13628048cf4a80cd.jpg   \n",
       "..                                 ...   \n",
       "558  blizzard_disasterblizzard_305.jpg   \n",
       "559                    tempest_041.jpg   \n",
       "560                   000000073187.jpg   \n",
       "561                   000000234697.jpg   \n",
       "562                   000000213826.jpg   \n",
       "\n",
       "                                                   dir  label  pred  \\\n",
       "0                   ../../disk/Data/open_image/train_1      0     1   \n",
       "1                   ../../disk/Data/open_image/train_1      0     1   \n",
       "2                   ../../disk/Data/open_image/train_1      0     1   \n",
       "3                   ../../disk/Data/open_image/train_1      0     1   \n",
       "4                   ../../disk/Data/open_image/train_1      0     1   \n",
       "..                                                 ...    ...   ...   \n",
       "558  ../Data/disaster/test/origin_images/crawling/b...      1     0   \n",
       "559  ../Data/disaster/test/origin_images/crawling/t...      1     0   \n",
       "560  ../Data/disaster/test/origin_images/COCO_disaster      1     0   \n",
       "561  ../Data/disaster/test/origin_images/COCO_disaster      1     0   \n",
       "562  ../Data/disaster/test/origin_images/COCO_disaster      1     0   \n",
       "\n",
       "     confidence score  \n",
       "0            0.918041  \n",
       "1            0.700170  \n",
       "2            0.665575  \n",
       "3            0.993265  \n",
       "4            0.930421  \n",
       "..                ...  \n",
       "558          0.924526  \n",
       "559          0.999252  \n",
       "560          0.999304  \n",
       "561          0.999646  \n",
       "562          0.992844  \n",
       "\n",
       "[563 rows x 5 columns]"
      ]
     },
     "execution_count": 11,
     "metadata": {},
     "output_type": "execute_result"
    }
   ],
   "source": [
    "non_matched_idx = test['label'] != test['pred']\n",
    "non_matched = test[non_matched_idx].reset_index(inplace = False, drop=True)\n",
    "non_matched"
   ]
  },
  {
   "cell_type": "code",
   "execution_count": null,
   "id": "723b1ad3-5b31-4452-95f7-e97107e78017",
   "metadata": {},
   "outputs": [],
   "source": [
    "## show img status\n",
    "\n",
    "back = 0\n",
    "plt.figure(figsize=(16,600))\n",
    "for i in range(len(non_matched[back:])):\n",
    "    plt.subplot(150,4,i+1)\n",
    "    #if i % 4 == 0:\n",
    "        #plt.title(f\"{(i+1+back)/4}\")\n",
    "    plt.xticks([])\n",
    "    plt.yticks([])\n",
    "    plt.grid(False)\n",
    "    path = non_matched['dir'][i+back] + '/' + non_matched['image_id'][i+back]\n",
    "    im_bgr = cv2.imread(path)\n",
    "    im_rgb = im_bgr[:, :, ::-1]\n",
    "    plt.imshow(im_rgb, cmap=plt.cm.binary)\n",
    "    \n",
    "plt.show()"
   ]
  },
  {
   "cell_type": "code",
   "execution_count": 24,
   "id": "792ea43b-10d3-4b9e-967a-8a8b847b73a5",
   "metadata": {},
   "outputs": [],
   "source": [
    "test.to_csv('test_result/nsb2_oi_tst.csv', index=False)"
   ]
  },
  {
   "cell_type": "code",
   "execution_count": 8,
   "id": "b083d85d-1a89-4249-b198-b5f5cc72e520",
   "metadata": {},
   "outputs": [
    {
     "data": {
      "text/plain": [
       "0.9963420273292325"
      ]
     },
     "execution_count": 8,
     "metadata": {},
     "output_type": "execute_result"
    }
   ],
   "source": [
    "test_acc = np.sum(test.label == test.pred) / len(test)\n",
    "test_acc"
   ]
  },
  {
   "cell_type": "code",
   "execution_count": 14,
   "id": "c51708f2-3744-406d-97e2-666933aad2c9",
   "metadata": {},
   "outputs": [
    {
     "ename": "NameError",
     "evalue": "name 'model' is not defined",
     "output_type": "error",
     "traceback": [
      "\u001b[0;31m---------------------------------------------------------------------------\u001b[0m",
      "\u001b[0;31mNameError\u001b[0m                                 Traceback (most recent call last)",
      "Input \u001b[0;32mIn [14]\u001b[0m, in \u001b[0;36m<cell line: 1>\u001b[0;34m()\u001b[0m\n\u001b[0;32m----> 1\u001b[0m \u001b[38;5;28;01mfor\u001b[39;00m name, param \u001b[38;5;129;01min\u001b[39;00m \u001b[43mmodel\u001b[49m\u001b[38;5;241m.\u001b[39mnamed_parameters():\n\u001b[1;32m      2\u001b[0m     \u001b[38;5;28mprint\u001b[39m(name, param\u001b[38;5;241m.\u001b[39mrequires_grad)\n",
      "\u001b[0;31mNameError\u001b[0m: name 'model' is not defined"
     ]
    }
   ],
   "source": []
  },
  {
   "cell_type": "code",
   "execution_count": null,
   "id": "0ddb3e8e-d3a3-42e2-9312-7b43fdb4ddf4",
   "metadata": {},
   "outputs": [],
   "source": []
  }
 ],
 "metadata": {
  "kernelspec": {
   "display_name": "torch-gpu",
   "language": "python",
   "name": "torch"
  },
  "language_info": {
   "codemirror_mode": {
    "name": "ipython",
    "version": 3
   },
   "file_extension": ".py",
   "mimetype": "text/x-python",
   "name": "python",
   "nbconvert_exporter": "python",
   "pygments_lexer": "ipython3",
   "version": "3.10.6"
  }
 },
 "nbformat": 4,
 "nbformat_minor": 5
}

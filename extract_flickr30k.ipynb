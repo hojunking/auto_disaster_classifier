{
 "cells": [
  {
   "cell_type": "code",
   "execution_count": 16,
   "id": "d73ab043-ee0c-4568-9f65-9315b717a3be",
   "metadata": {},
   "outputs": [],
   "source": [
    "import json\n",
    "import os\n",
    "import pandas as pd\n",
    "import matplotlib.pyplot as plt\n",
    "import cv2\n",
    "import shutil\n",
    "dir_path = \"../../disk/Data/\"\n",
    "ano = \"results.csv\""
   ]
  },
  {
   "cell_type": "code",
   "execution_count": 3,
   "id": "8cc41d59-2e8e-4c1b-8139-39f41d871d0f",
   "metadata": {},
   "outputs": [
    {
     "data": {
      "text/html": [
       "<div>\n",
       "<style scoped>\n",
       "    .dataframe tbody tr th:only-of-type {\n",
       "        vertical-align: middle;\n",
       "    }\n",
       "\n",
       "    .dataframe tbody tr th {\n",
       "        vertical-align: top;\n",
       "    }\n",
       "\n",
       "    .dataframe thead th {\n",
       "        text-align: right;\n",
       "    }\n",
       "</style>\n",
       "<table border=\"1\" class=\"dataframe\">\n",
       "  <thead>\n",
       "    <tr style=\"text-align: right;\">\n",
       "      <th></th>\n",
       "      <th>image_name</th>\n",
       "      <th>comment_number</th>\n",
       "      <th>comment</th>\n",
       "    </tr>\n",
       "  </thead>\n",
       "  <tbody>\n",
       "    <tr>\n",
       "      <th>0</th>\n",
       "      <td>1000092795.jpg</td>\n",
       "      <td>0</td>\n",
       "      <td>Two young guys with shaggy hair look at their...</td>\n",
       "    </tr>\n",
       "    <tr>\n",
       "      <th>1</th>\n",
       "      <td>1000092795.jpg</td>\n",
       "      <td>1</td>\n",
       "      <td>Two young , White males are outside near many...</td>\n",
       "    </tr>\n",
       "    <tr>\n",
       "      <th>2</th>\n",
       "      <td>1000092795.jpg</td>\n",
       "      <td>2</td>\n",
       "      <td>Two men in green shirts are standing in a yard .</td>\n",
       "    </tr>\n",
       "    <tr>\n",
       "      <th>3</th>\n",
       "      <td>1000092795.jpg</td>\n",
       "      <td>3</td>\n",
       "      <td>A man in a blue shirt standing in a garden .</td>\n",
       "    </tr>\n",
       "    <tr>\n",
       "      <th>4</th>\n",
       "      <td>1000092795.jpg</td>\n",
       "      <td>4</td>\n",
       "      <td>Two friends enjoy time spent together .</td>\n",
       "    </tr>\n",
       "    <tr>\n",
       "      <th>...</th>\n",
       "      <td>...</td>\n",
       "      <td>...</td>\n",
       "      <td>...</td>\n",
       "    </tr>\n",
       "    <tr>\n",
       "      <th>158910</th>\n",
       "      <td>998845445.jpg</td>\n",
       "      <td>0</td>\n",
       "      <td>A man in shorts and a Hawaiian shirt leans ov...</td>\n",
       "    </tr>\n",
       "    <tr>\n",
       "      <th>158911</th>\n",
       "      <td>998845445.jpg</td>\n",
       "      <td>1</td>\n",
       "      <td>A young man hanging over the side of a boat ,...</td>\n",
       "    </tr>\n",
       "    <tr>\n",
       "      <th>158912</th>\n",
       "      <td>998845445.jpg</td>\n",
       "      <td>2</td>\n",
       "      <td>A man is leaning off of the side of a blue an...</td>\n",
       "    </tr>\n",
       "    <tr>\n",
       "      <th>158913</th>\n",
       "      <td>998845445.jpg</td>\n",
       "      <td>3</td>\n",
       "      <td>A man riding a small boat in a harbor , with ...</td>\n",
       "    </tr>\n",
       "    <tr>\n",
       "      <th>158914</th>\n",
       "      <td>998845445.jpg</td>\n",
       "      <td>4</td>\n",
       "      <td>A man on a moored blue and white boat with hi...</td>\n",
       "    </tr>\n",
       "  </tbody>\n",
       "</table>\n",
       "<p>158915 rows × 3 columns</p>\n",
       "</div>"
      ],
      "text/plain": [
       "            image_name  comment_number  \\\n",
       "0       1000092795.jpg               0   \n",
       "1       1000092795.jpg               1   \n",
       "2       1000092795.jpg               2   \n",
       "3       1000092795.jpg               3   \n",
       "4       1000092795.jpg               4   \n",
       "...                ...             ...   \n",
       "158910   998845445.jpg               0   \n",
       "158911   998845445.jpg               1   \n",
       "158912   998845445.jpg               2   \n",
       "158913   998845445.jpg               3   \n",
       "158914   998845445.jpg               4   \n",
       "\n",
       "                                                  comment  \n",
       "0        Two young guys with shaggy hair look at their...  \n",
       "1        Two young , White males are outside near many...  \n",
       "2        Two men in green shirts are standing in a yard .  \n",
       "3            A man in a blue shirt standing in a garden .  \n",
       "4                 Two friends enjoy time spent together .  \n",
       "...                                                   ...  \n",
       "158910   A man in shorts and a Hawaiian shirt leans ov...  \n",
       "158911   A young man hanging over the side of a boat ,...  \n",
       "158912   A man is leaning off of the side of a blue an...  \n",
       "158913   A man riding a small boat in a harbor , with ...  \n",
       "158914   A man on a moored blue and white boat with hi...  \n",
       "\n",
       "[158915 rows x 3 columns]"
      ]
     },
     "execution_count": 3,
     "metadata": {},
     "output_type": "execute_result"
    }
   ],
   "source": [
    "annotations = pd.read_csv(dir_path+ano, delimiter='|')\n",
    "annotations"
   ]
  },
  {
   "cell_type": "code",
   "execution_count": 4,
   "id": "7fa45ef1-05ed-4245-928d-17d93fe26a9f",
   "metadata": {},
   "outputs": [
    {
     "data": {
      "text/plain": [
       "0          Two young guys with shaggy hair look at their...\n",
       "1          Two young , White males are outside near many...\n",
       "2          Two men in green shirts are standing in a yard .\n",
       "3              A man in a blue shirt standing in a garden .\n",
       "4                   Two friends enjoy time spent together .\n",
       "                                ...                        \n",
       "158910     A man in shorts and a Hawaiian shirt leans ov...\n",
       "158911     A young man hanging over the side of a boat ,...\n",
       "158912     A man is leaning off of the side of a blue an...\n",
       "158913     A man riding a small boat in a harbor , with ...\n",
       "158914     A man on a moored blue and white boat with hi...\n",
       "Name:  comment, Length: 158915, dtype: object"
      ]
     },
     "execution_count": 4,
     "metadata": {},
     "output_type": "execute_result"
    }
   ],
   "source": [
    "annotations[' comment']"
   ]
  },
  {
   "cell_type": "code",
   "execution_count": 10,
   "id": "040ac3a7-5c4d-481d-9871-e8b26c38079a",
   "metadata": {},
   "outputs": [],
   "source": [
    "keyword = ['fire',\n",
    "           'forest fire',\n",
    "           'firefighter',\n",
    "           'burst',\n",
    "           'explode',\n",
    "           'explosion',\n",
    "           'blast',\n",
    "           'detonation',\n",
    "           'detonated',\n",
    "           'burned',\n",
    "           \n",
    "           'earthquake',\n",
    "           'earth tremor',\n",
    "           'vibration in the earth',\n",
    "           'landslip',\n",
    "           'avalanche',\n",
    "           'landslide',\n",
    "           'collapse',\n",
    "           'cave in',\n",
    "           'collapsed',\n",
    "           'drought',\n",
    "           \n",
    "           'tempest',\n",
    "           'windstorm',\n",
    "           'rainstorm',\n",
    "           'whirlwind',\n",
    "           'flood',\n",
    "           'inundate',\n",
    "           \n",
    "           'tsunami',\n",
    "           'tidal wave',\n",
    "           'hail',\n",
    "           'hailstones',\n",
    "           \n",
    "           'hurricane',\n",
    "           'typhoon',\n",
    "           'cyclone',\n",
    "           'tornado',\n",
    "           'dust devil',\n",
    "           'twister',\n",
    "           \n",
    "           'thunder',\n",
    "           'lightning',\n",
    "           'thunderstorm',\n",
    "           'thunderbolt',\n",
    "           \n",
    "           'foggy day',\n",
    "           'in the fog',\n",
    "           'dense fog',\n",
    "           \n",
    "           'snow storm',\n",
    "           'heavy snowfall',\n",
    "           'heavy snow',\n",
    "        ]\n",
    "exclude_keyword = ['blazer','horse','candle','fireplace','fire place','ski','board','says','oven','cook', 'old', 'living', 'plug', 'hyr', 'food', 'young','kitchen', 'extinguisher',\n",
    "                  'fireworks','vintage','department', 'kid', 'boy', 'grill','fire station','fox','engine', 'hyd','fires']"
   ]
  },
  {
   "cell_type": "code",
   "execution_count": 15,
   "id": "6c8ba0d3-4cee-476f-9c4c-23b910d8bb08",
   "metadata": {},
   "outputs": [
    {
     "name": "stdout",
     "output_type": "stream",
     "text": [
      "keyword : [fire] // found: 1060\n",
      "keyword : [forest fire] // found: 0\n",
      "keyword : [firefighter] // found: 176\n",
      "keyword : [burst] // found: 8\n",
      "keyword : [explode] // found: 4\n",
      "keyword : [explosion] // found: 7\n",
      "keyword : [blast] // found: 6\n",
      "keyword : [detonation] // found: 0\n",
      "keyword : [detonated] // found: 0\n",
      "keyword : [burned] // found: 6\n",
      "keyword : [earthquake] // found: 2\n",
      "keyword : [earth tremor] // found: 0\n",
      "keyword : [vibration in the earth] // found: 0\n",
      "keyword : [landslip] // found: 0\n",
      "keyword : [avalanche] // found: 1\n",
      "keyword : [landslide] // found: 1\n",
      "keyword : [collapse] // found: 6\n",
      "keyword : [cave in] // found: 0\n",
      "keyword : [collapsed] // found: 5\n",
      "keyword : [drought] // found: 1\n",
      "keyword : [tempest] // found: 0\n",
      "keyword : [windstorm] // found: 0\n",
      "keyword : [rainstorm] // found: 13\n",
      "keyword : [whirlwind] // found: 0\n",
      "keyword : [flood] // found: 36\n",
      "keyword : [inundate] // found: 0\n",
      "keyword : [tsunami] // found: 0\n",
      "keyword : [tidal wave] // found: 0\n",
      "keyword : [hail] // found: 16\n",
      "keyword : [hailstones] // found: 0\n",
      "keyword : [hurricane] // found: 1\n",
      "keyword : [typhoon] // found: 0\n",
      "keyword : [cyclone] // found: 5\n",
      "keyword : [tornado] // found: 1\n",
      "keyword : [dust devil] // found: 0\n",
      "keyword : [twister] // found: 20\n",
      "keyword : [thunder] // found: 0\n",
      "keyword : [lightning] // found: 1\n",
      "keyword : [thunderstorm] // found: 0\n",
      "keyword : [thunderbolt] // found: 0\n",
      "keyword : [foggy day] // found: 10\n",
      "keyword : [in the fog] // found: 5\n",
      "keyword : [dense fog] // found: 0\n",
      "keyword : [snow storm] // found: 0\n",
      "keyword : [heavy snowfall] // found: 2\n",
      "keyword : [heavy snow] // found: 6\n",
      "final : 1399\n",
      "excluded keyword:[blazer] found: 0\n",
      "excluded keyword:[horse] found: 8\n",
      "excluded keyword:[candle] found: 1\n",
      "excluded keyword:[fireplace] found: 33\n",
      "excluded keyword:[fire place] found: 0\n",
      "excluded keyword:[ski] found: 11\n",
      "excluded keyword:[board] found: 11\n",
      "excluded keyword:[says] found: 4\n",
      "excluded keyword:[oven] found: 3\n",
      "excluded keyword:[cook] found: 39\n",
      "excluded keyword:[old] found: 105\n",
      "excluded keyword:[living] found: 0\n",
      "excluded keyword:[plug] found: 0\n",
      "excluded keyword:[hyr] found: 0\n",
      "excluded keyword:[food] found: 4\n",
      "excluded keyword:[young] found: 44\n",
      "excluded keyword:[kitchen] found: 0\n",
      "excluded keyword:[extinguisher] found: 1\n",
      "excluded keyword:[fireworks] found: 44\n",
      "excluded keyword:[vintage] found: 0\n",
      "excluded keyword:[department] found: 12\n",
      "excluded keyword:[kid] found: 11\n",
      "excluded keyword:[boy] found: 24\n",
      "excluded keyword:[grill] found: 2\n",
      "excluded keyword:[fire station] found: 1\n",
      "excluded keyword:[fox] found: 1\n",
      "excluded keyword:[engine] found: 17\n",
      "excluded keyword:[hyd] found: 26\n",
      "excluded keyword:[fires] found: 14\n",
      "final : 983\n",
      "droped duplicate images from multiple captions, After dropped: 330\n"
     ]
    }
   ],
   "source": [
    "find = annotations[annotations[' comment'].str.contains('dododo', na=False, case=False)]\n",
    "\n",
    "for i in keyword:\n",
    "    find2 = annotations[annotations[' comment'].str.contains(i,na=False, case=False)]\n",
    "    find = pd.concat([find,find2], ignore_index=True)\n",
    "    print(f'keyword : [{i}] // found: {len(find2)}')\n",
    "print(f'final : {len(find)}')\n",
    "## 결측지 유발 키워드 삭제\n",
    "for i in exclude_keyword:\n",
    "    origin_len = len(find)\n",
    "    find = find[~find[' comment'].str.contains(i, na=False, case=False)]\n",
    "    print(f'excluded keyword:[{i}] found: {origin_len - len(find)}')\n",
    "print(f'final : {len(find)}')\n",
    "## 중복 이미지 삭제 (한 이미지에 대한 여러 caption)\n",
    "find.drop_duplicates(['image_name'], inplace=True ,ignore_index = True, keep = 'first')\n",
    "print(f'droped duplicate images from multiple captions, After dropped: {len(find)}')\n",
    "## 인덱스 정렬\n",
    "find.reset_index(inplace=True, drop=True)\n",
    "#find"
   ]
  },
  {
   "cell_type": "code",
   "execution_count": 19,
   "id": "a1fcc680-ca58-4008-b1c5-464b49360d70",
   "metadata": {},
   "outputs": [],
   "source": [
    "find.sort_values(by=['image_name'],ascending=True, inplace=True)\n",
    "find.reset_index(drop=True, inplace=True)\n",
    "tmp = find['image_name'].value_counts().index.sort_values()"
   ]
  },
  {
   "cell_type": "code",
   "execution_count": null,
   "id": "b38c785f-5617-4e09-bcf2-eb06935cc266",
   "metadata": {},
   "outputs": [],
   "source": [
    "cnt = 4\n",
    "for i,key in enumerate(tmp):\n",
    "    if cnt == 4:\n",
    "        print('', end='\\n\\n\\n\\n')\n",
    "        print(f'{(i+1)/4}.')\n",
    "        cnt = 0\n",
    "    print(f\"'{key}'\", end=' ')\n",
    "    cnt+=1"
   ]
  },
  {
   "cell_type": "code",
   "execution_count": null,
   "id": "53e8b184-4d19-4468-8a6a-83a0995ce321",
   "metadata": {},
   "outputs": [],
   "source": [
    "## show img status\n",
    "plt.figure(figsize=(16,500))\n",
    "for i in range(len(find)):\n",
    "    plt.subplot(100,4,i+1)\n",
    "    if i % 4 == 0:\n",
    "        plt.title(f\"{(i+1)/4}\")\n",
    "    plt.xticks([])\n",
    "    plt.yticks([])\n",
    "    plt.grid(False)\n",
    "    k = find['image_name'][i]\n",
    "    path = \"../../disk/Data/flickr30k_images/\" + k\n",
    "    im_bgr = cv2.imread(path)\n",
    "    im_rgb = im_bgr[:, :, ::-1]\n",
    "    plt.imshow(im_rgb, cmap=plt.cm.binary)\n",
    "    plt.xlabel(find[' comment'][i][:30] + '\\n' + find[' comment'][i][30:60] + '\\n image_name : ' + str(find['image_name'][i]) , loc='left', fontsize=10)\n",
    "plt.show()"
   ]
  },
  {
   "cell_type": "code",
   "execution_count": 1,
   "id": "4a6b433d-1675-41ae-8502-3c1959663511",
   "metadata": {},
   "outputs": [
    {
     "name": "stdout",
     "output_type": "stream",
     "text": [
      "31\n"
     ]
    }
   ],
   "source": [
    "disaster_dataset = ['2226280160.jpg', '2652155912.jpg', '2858793859.jpg', '2890731828.jpg', '3258472448.jpg',\n",
    "                    '3338082262.jpg', '381052465.jpg', '4115261994.jpg', '4130537606.jpg', '4685179348.jpg',\n",
    "                    '4685212004.jpg', '4718871145.jpg', '4764493697.jpg', '4797878234.jpg', '4922742734.jpg',\n",
    "                    '4946977529.jpg', '5123250615.jpg', '7162932481.jpg', '7567712136.jpg', '89404014.jpg',\n",
    "                    '236819162.jpg', '4478794627.jpg', '574274795.jpg',\n",
    "                    '122156386.jpg', '167001809.jpg',\n",
    "                    '206290645.jpg', '211981411.jpg', '2217244400.jpg', '3445296377.jpg', '3706019147.jpg',\n",
    "                    '540791807.jpg'\n",
    "                   ]\n",
    "print(len(disaster_dataset))"
   ]
  },
  {
   "cell_type": "code",
   "execution_count": 9,
   "id": "821908f2-7acb-4c77-bc5d-f431f0fe0502",
   "metadata": {},
   "outputs": [
    {
     "data": {
      "text/plain": [
       "Index([' A firefighter on his ladder up against a telephone pole investigating a problem , with smoky clouds in the background .',\n",
       "       ' In the midst of a fire , a worker is repairing telephone and electrical wires .',\n",
       "       ' A fireman on a ladder fixing a telephone pole with flames in the background .',\n",
       "       ' A fireman on top of a ladder in the dark .',\n",
       "       ' A person is at the top of a ladder .'],\n",
       "      dtype='object')"
      ]
     },
     "execution_count": 9,
     "metadata": {},
     "output_type": "execute_result"
    }
   ],
   "source": [
    "annotations[annotations['image_name'] == '2226280160.jpg'][' comment'].value_counts().index"
   ]
  },
  {
   "cell_type": "markdown",
   "id": "b5604315-7546-4a31-a3f0-d651fffd35f1",
   "metadata": {},
   "source": [
    "#### Caption extraction"
   ]
  },
  {
   "cell_type": "code",
   "execution_count": 13,
   "id": "668bc070-b87e-4f07-be08-24571f985254",
   "metadata": {},
   "outputs": [
    {
     "name": "stdout",
     "output_type": "stream",
     "text": [
      "num of captions : 92\n"
     ]
    }
   ],
   "source": [
    "captions = []\n",
    "for img_name in disaster_dataset:\n",
    "    captions_5 = annotations[annotations['image_name'] == img_name]\n",
    "    found = captions_5[captions_5[' comment'].str.contains('dododo', case=False)]\n",
    "    \n",
    "    for i in keyword:\n",
    "        found2 = captions_5[captions_5[' comment'].str.contains(i, case=False)]\n",
    "        found = pd.concat([found,found2], ignore_index=True)\n",
    "    \n",
    "     ## 결측지 유발 키워드 삭제\n",
    "    for i in exclude_keyword:\n",
    "        origin_len = len(found)\n",
    "        found = found[~found[' comment'].str.contains(i, case=False)]\n",
    "    \n",
    "    extracted = found[' comment'].value_counts().index\n",
    "    \n",
    "    for j in extracted:\n",
    "        #print(j)\n",
    "        if len(j) < 250:\n",
    "            captions.append(j.rstrip('\\n').replace(\",\", \"\"))\n",
    "print(f'num of captions : {len(captions)}')"
   ]
  },
  {
   "cell_type": "code",
   "execution_count": 14,
   "id": "40018831-c10f-4f0f-a029-616d7beb0ea9",
   "metadata": {},
   "outputs": [
    {
     "name": "stdout",
     "output_type": "stream",
     "text": [
      "[' A firefighter on his ladder up against a telephone pole investigating a problem  with smoky clouds in the background .', ' In the midst of a fire  a worker is repairing telephone and electrical wires .', ' A fireman on a ladder fixing a telephone pole with flames in the background .', ' A fireman on top of a ladder in the dark .', ' a red car is leaping through a ball of fire .', ' A gas station and a car on fire .', ' A large explosion occured near a red car at a gas station .', ' A red car is caught in an explosion .', ' One person wearing a black hooded sweatshirt is running away from a fire while someone else is close by behind him .', ' Two men with rags over their face are running down a street with something on fire .', ' Two people running away from an unknown object on fire and a water sprayer .', ' Two men running down the road while a fire burns .', ' People are running from a fire .', ' Three firefighters duck from fire and smoke coming from a building .', ' The firefighters are just under the flames and smoke .', ' There is a group of firemen watching a huge fire in some buildings in the distance .', ' Firemen stand outside a burning building with lots of smoke .', ' Firemen are battling a fire .', ' A person on fire runs to the left and two other people face him .', ' Stunt man on fire with two men watching .', ' Three people  one of whom is on fire .', ' A person on fire .', ' An asian man attempts to put out a wildfire with a small wooden bucket .', ' A man blowing out a fire with a wooden bucket of water .', ' A man desperately tries to put out a fire .', ' Firefighters putting out a big fire .', ' a yellow firetruck is parked next to a fire with a man on a ladder pouring water on it', ' a firetruck fights a fire .', ' People putting out a fire .', ' Fireman fighting a fire .', ' maybe a riot in a busy city or maybe a fire from a burning building .', ' A burning trailer house in background  two uniformed firefighters raised up in air on ladder  and three uniformed firefighters on ground with hose spraying water at the fire .', ' Two firemen at the end of a cherry picker attempting to get above a fire in a small trailer at night .', ' Firemen are putting out a fire in a trailer .', ' firemen putting out a fire in a trailer', ' Four firefighters are outside placing a water hose in a nearby building .', ' Four firefighters in yellow helmets direct a hose .', ' Firefighters are spraying a hose into a fire .', ' Two firemen assessing damage after putting out a fire .', ' Two firemen in yellow helmets spraying foam .', ' Firemen are discharging a water cannon .', ' A male firefighter walking across the street to help with a fire .', ' A firefighter in on the street in front of a burning building .', ' Male firefighter moving toward a fire .', ' A fireman begins to cross the street towards the fire .', ' A fireman with a burning building in the background .', ' Three firefighters attempting to extinguish a car fire in the middle of the road .', ' Wide shot of three firefighters working to extinguish a car on fire on a street .', ' Three firefighters are trying to extinguish the flames from a burning car .', ' Three fire-fightes use a hose to put out a car that is on fire and smoking a lot  parked next to a street sign .', ' A firemen team sprays a burning and smoking car with a hose on an intersection .', ' A nighttime scene where firefighters anxiously attempt to put out a building fire  shooting water from all directions .', ' Firefighters stream water on a fire from multiple locations .', ' Firefighters spray a burning building with water .', ' Firetrucks surrounding a burning building at night and spraying water from various directions .', ' Firemen fighting a building fire in a city .', ' Smoke has filled the air and the buildings preventing the firefighter from entering the building .', ' Some people are standing on the fire escape of their building looking over at some black smoke in the distance .', ' People are standing on a fire escape watching black smoke billow in the distance .', ' Three people are standing on a fire escape .', ' People watch a fire from their balcony .', ' Firefighters are at the scene of a car accident involving two vehicles', ' A smashed car with many firefighters cutting into the car .', ' Firemen clean up the scene of a major motor vehicle accident  in which a sedan and a truck collided and are both smashed .', ' Three grown men are trying to extinguish the fire using a water hose .', ' Three military officials are battling a fire my a building .', ' There is an outline of a male and female observing a bonfire or other large burning wooden object .', ' Two figures  a male and a female  are blacked out and standing in front of a building on fire .', ' Two people  a male and a female  are watching a very large fire .', ' A silhouette of a man and woman stand in front of a wall of fire .', ' Two people  a man and a woman  are looking at a structure being burned down .', ' Three firefighters work to put out a blaze .', ' Firefighters putting out a fire .', ' Three firemen in uniform are putting out a fire .', \" Fire men wearing yellow hat 's spraying a hose .\", ' Firemen are putting our a fire .', ' A man carries two bundles on a pole balanced over his shoulder while walking down a staircase in the fog .', ' A woman with a camera on a foggy day .', ' a dog in the foggy distance catching a Frisbee', ' Group of people walking on the heavy snow .', ' A firefighter sprays water onto a gigantic pile or burning ash that includes flames and dark smoke .', ' A firefighter spraying water on the flames of a large fire .', ' A firefighter sprays piles of burning debris with a hose .', ' A lone firefighter helps tame a large fire .', ' A fireman with his water hose .', ' Small children are wading through shallow waters that are flooding the street .', ' The dirty vehicle is caught in a flood .', ' A man in a blue shirt is watching three trucks that are being swept away by flood waters .', ' Person with umbrella observes flooded streets with cars in the water .', ' A girl in a pink snowsuit splashes into dirty flood water next to a picnic table .', ' People moving out of flooded homes to better dry places .', ' A man in a blue rain jacket fishing during a rainstorm .']\n"
     ]
    }
   ],
   "source": [
    "print(captions)"
   ]
  },
  {
   "cell_type": "markdown",
   "id": "12fdcf57-be14-4913-9bb2-fba079b3ea39",
   "metadata": {},
   "source": [
    "#### 데이터 이동"
   ]
  },
  {
   "cell_type": "code",
   "execution_count": 25,
   "id": "35a23d3e-9f76-4483-a3d3-df1fb5d4562a",
   "metadata": {},
   "outputs": [
    {
     "name": "stdout",
     "output_type": "stream",
     "text": [
      "False\n",
      "False\n",
      "False\n",
      "False\n",
      "False\n",
      "False\n",
      "False\n",
      "False\n",
      "False\n",
      "False\n",
      "False\n",
      "False\n",
      "False\n",
      "False\n",
      "False\n",
      "False\n",
      "False\n",
      "False\n",
      "False\n",
      "False\n",
      "False\n",
      "False\n",
      "False\n",
      "False\n",
      "False\n",
      "False\n",
      "False\n",
      "False\n",
      "False\n",
      "False\n",
      "False\n"
     ]
    }
   ],
   "source": [
    "dest = '../Data/disaster_images/flickr30k_disaster/'\n",
    "path = '../../disk/Data/flickr30k_images/'\n",
    "for img_name in disaster_dataset:\n",
    "    from_path = path+img_name\n",
    "    if os.path.isfile(from_path) == True:\n",
    "        to_path = dest+img_name\n",
    "        #print(to_path)\n",
    "        shutil.move(from_path,to_path)\n",
    "        print(os.path.isfile(from_path))\n"
   ]
  },
  {
   "cell_type": "code",
   "execution_count": 19,
   "id": "d186f039-f523-461c-a2de-03c5850ffbd9",
   "metadata": {},
   "outputs": [
    {
     "name": "stdout",
     "output_type": "stream",
     "text": [
      "True\n"
     ]
    }
   ],
   "source": [
    "print(os.path.isfile('../../disk/Data/flickr30k_images/'+'2226280160.jpg'))"
   ]
  },
  {
   "cell_type": "code",
   "execution_count": null,
   "id": "9eea4416-c415-4fb9-9ffc-80ed0b1827d2",
   "metadata": {},
   "outputs": [],
   "source": []
  }
 ],
 "metadata": {
  "kernelspec": {
   "display_name": "torch-gpu",
   "language": "python",
   "name": "torch"
  },
  "language_info": {
   "codemirror_mode": {
    "name": "ipython",
    "version": 3
   },
   "file_extension": ".py",
   "mimetype": "text/x-python",
   "name": "python",
   "nbconvert_exporter": "python",
   "pygments_lexer": "ipython3",
   "version": "3.10.6"
  }
 },
 "nbformat": 4,
 "nbformat_minor": 5
}

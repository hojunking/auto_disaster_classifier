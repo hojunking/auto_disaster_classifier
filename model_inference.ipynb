{
 "cells": [
  {
   "cell_type": "code",
   "execution_count": 1,
   "id": "8e3aa197-e981-41b2-b583-4a421d16f6a5",
   "metadata": {},
   "outputs": [],
   "source": [
    "import json\n",
    "import os\n",
    "import pandas as pd\n",
    "import matplotlib.pyplot as plt\n",
    "import cv2\n",
    "import random"
   ]
  },
  {
   "cell_type": "code",
   "execution_count": null,
   "id": "64daed5f-c644-4437-a6de-6a1a597a9b3b",
   "metadata": {},
   "outputs": [],
   "source": [
    "## open_image test\n",
    "dir_path = \"../../disk/Data/open_image/\"\n",
    "\n",
    "img_names = []\n",
    "for folder, subfolders, filenames in os.walk(dir_path):\n",
    "    for img in filenames:\n",
    "        img_names.append(folder+'/'+img)\n",
    "random.shuffle(img_names)\n",
    "open_image_non = img_names\n",
    "print(len(open_image_non))"
   ]
  },
  {
   "cell_type": "code",
   "execution_count": null,
   "id": "804e8edb-a8a6-40f0-abb4-8cd3be72ad28",
   "metadata": {},
   "outputs": [],
   "source": [
    "## open_image test\n",
    "dir_path = \"../Data/disaster_images/open_image_disaster/\"\n",
    "\n",
    "img_names = []\n",
    "for folder, subfolders, filenames in os.walk(dir_path):\n",
    "    for img in filenames:\n",
    "        img_names.append(folder+'/'+img)\n",
    "random.shuffle(img_names)\n",
    "open_image_disaster = img_names\n",
    "print(len(open_image_disaster))"
   ]
  },
  {
   "cell_type": "code",
   "execution_count": null,
   "id": "767b829c-146e-4994-9451-7c2026d33142",
   "metadata": {},
   "outputs": [],
   "source": [
    "open_image_data = open_image_non + open_image_disaster"
   ]
  },
  {
   "cell_type": "code",
   "execution_count": null,
   "id": "76868869-6fed-4481-81b9-a7229ae66a6d",
   "metadata": {},
   "outputs": [],
   "source": [
    "non_label = [0]*int(len(open_image_non))\n",
    "dis_label = [1]*int(len(open_image_disaster))\n",
    "open_image_label = non_label + dis_label"
   ]
  },
  {
   "cell_type": "code",
   "execution_count": null,
   "id": "e31a11e0-840f-4060-a70f-38673d199833",
   "metadata": {},
   "outputs": [],
   "source": [
    "tst_df2 = pd.DataFrame(open_image_data, columns=['image_id'])\n",
    "tst_df2['dir'] = tst_df2['image_id'].apply(lambda x: os.path.dirname(x))\n",
    "tst_df2['image_id'] = tst_df2['image_id'].apply(lambda x: os.path.basename(x))\n",
    "tst_df2['label'] = open_image_label\n",
    "test = tst_df2\n",
    "test"
   ]
  }
 ],
 "metadata": {
  "kernelspec": {
   "display_name": "torch-gpu",
   "language": "python",
   "name": "torch"
  },
  "language_info": {
   "codemirror_mode": {
    "name": "ipython",
    "version": 3
   },
   "file_extension": ".py",
   "mimetype": "text/x-python",
   "name": "python",
   "nbconvert_exporter": "python",
   "pygments_lexer": "ipython3",
   "version": "3.10.6"
  }
 },
 "nbformat": 4,
 "nbformat_minor": 5
}

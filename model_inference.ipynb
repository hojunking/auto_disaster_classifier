{
 "cells": [
  {
   "cell_type": "code",
   "execution_count": 4,
   "id": "8e3aa197-e981-41b2-b583-4a421d16f6a5",
   "metadata": {},
   "outputs": [],
   "source": [
    "import json\n",
    "import os\n",
    "import pandas as pd\n",
    "from io import BytesIO ## \n",
    "import matplotlib.pyplot as plt\n",
    "import cv2\n",
    "import random\n",
    "from PIL import Image ## 분석할 이미지"
   ]
  },
  {
   "cell_type": "code",
   "execution_count": 5,
   "id": "64daed5f-c644-4437-a6de-6a1a597a9b3b",
   "metadata": {},
   "outputs": [
    {
     "name": "stdout",
     "output_type": "stream",
     "text": [
      "31752\n"
     ]
    }
   ],
   "source": [
    "## open_image test\n",
    "#dir_path = \"../../disk/Data/open_image/\"\n",
    "#dir_path = \"../Data/train2017/\"\n",
    "dir_path = \"../../disk/Data/flickr30k_images/\"\n",
    "\n",
    "\n",
    "non_names = []\n",
    "for folder, subfolders, filenames in os.walk(dir_path):\n",
    "    for img in filenames:\n",
    "        non_names.append(folder+'/'+img)\n",
    "random.shuffle(non_names)\n",
    "non_disaster_images = non_names\n",
    "print(len(non_disaster_images))"
   ]
  },
  {
   "cell_type": "code",
   "execution_count": 6,
   "id": "804e8edb-a8a6-40f0-abb4-8cd3be72ad28",
   "metadata": {},
   "outputs": [
    {
     "name": "stdout",
     "output_type": "stream",
     "text": [
      "32\n"
     ]
    }
   ],
   "source": [
    "## open_image test\n",
    "dir_path = \"../Data/disaster_images/flickr30k_disaster/\"\n",
    "\n",
    "dis_names = []\n",
    "for folder, subfolders, filenames in os.walk(dir_path):\n",
    "    for img in filenames:\n",
    "        dis_names.append(folder+'/'+img)\n",
    "random.shuffle(dis_names)\n",
    "disaster_images = dis_names\n",
    "print(len(disaster_images))"
   ]
  },
  {
   "cell_type": "code",
   "execution_count": 7,
   "id": "767b829c-146e-4994-9451-7c2026d33142",
   "metadata": {},
   "outputs": [],
   "source": [
    "image_data = non_disaster_images + disaster_images"
   ]
  },
  {
   "cell_type": "code",
   "execution_count": 8,
   "id": "76868869-6fed-4481-81b9-a7229ae66a6d",
   "metadata": {},
   "outputs": [],
   "source": [
    "non_label = [0]*int(len(non_disaster_images))\n",
    "dis_label = [1]*int(len(disaster_images))\n",
    "image_label = non_label + dis_label"
   ]
  },
  {
   "cell_type": "code",
   "execution_count": 9,
   "id": "e31a11e0-840f-4060-a70f-38673d199833",
   "metadata": {},
   "outputs": [
    {
     "data": {
      "text/html": [
       "<div>\n",
       "<style scoped>\n",
       "    .dataframe tbody tr th:only-of-type {\n",
       "        vertical-align: middle;\n",
       "    }\n",
       "\n",
       "    .dataframe tbody tr th {\n",
       "        vertical-align: top;\n",
       "    }\n",
       "\n",
       "    .dataframe thead th {\n",
       "        text-align: right;\n",
       "    }\n",
       "</style>\n",
       "<table border=\"1\" class=\"dataframe\">\n",
       "  <thead>\n",
       "    <tr style=\"text-align: right;\">\n",
       "      <th></th>\n",
       "      <th>image_id</th>\n",
       "      <th>dir</th>\n",
       "      <th>label</th>\n",
       "    </tr>\n",
       "  </thead>\n",
       "  <tbody>\n",
       "    <tr>\n",
       "      <th>0</th>\n",
       "      <td>3833511502.jpg</td>\n",
       "      <td>../../disk/Data/flickr30k_images</td>\n",
       "      <td>0</td>\n",
       "    </tr>\n",
       "    <tr>\n",
       "      <th>1</th>\n",
       "      <td>3688343105.jpg</td>\n",
       "      <td>../../disk/Data/flickr30k_images</td>\n",
       "      <td>0</td>\n",
       "    </tr>\n",
       "    <tr>\n",
       "      <th>2</th>\n",
       "      <td>4785668533.jpg</td>\n",
       "      <td>../../disk/Data/flickr30k_images</td>\n",
       "      <td>0</td>\n",
       "    </tr>\n",
       "    <tr>\n",
       "      <th>3</th>\n",
       "      <td>2286239223.jpg</td>\n",
       "      <td>../../disk/Data/flickr30k_images</td>\n",
       "      <td>0</td>\n",
       "    </tr>\n",
       "    <tr>\n",
       "      <th>4</th>\n",
       "      <td>2912739576.jpg</td>\n",
       "      <td>../../disk/Data/flickr30k_images</td>\n",
       "      <td>0</td>\n",
       "    </tr>\n",
       "    <tr>\n",
       "      <th>...</th>\n",
       "      <td>...</td>\n",
       "      <td>...</td>\n",
       "      <td>...</td>\n",
       "    </tr>\n",
       "    <tr>\n",
       "      <th>31779</th>\n",
       "      <td>3338082262.jpg</td>\n",
       "      <td>../Data/disaster_images/flickr30k_disaster</td>\n",
       "      <td>1</td>\n",
       "    </tr>\n",
       "    <tr>\n",
       "      <th>31780</th>\n",
       "      <td>7567712136.jpg</td>\n",
       "      <td>../Data/disaster_images/flickr30k_disaster</td>\n",
       "      <td>1</td>\n",
       "    </tr>\n",
       "    <tr>\n",
       "      <th>31781</th>\n",
       "      <td>4764493697.jpg</td>\n",
       "      <td>../Data/disaster_images/flickr30k_disaster</td>\n",
       "      <td>1</td>\n",
       "    </tr>\n",
       "    <tr>\n",
       "      <th>31782</th>\n",
       "      <td>7162932481.jpg</td>\n",
       "      <td>../Data/disaster_images/flickr30k_disaster</td>\n",
       "      <td>1</td>\n",
       "    </tr>\n",
       "    <tr>\n",
       "      <th>31783</th>\n",
       "      <td>4797878234.jpg</td>\n",
       "      <td>../Data/disaster_images/flickr30k_disaster</td>\n",
       "      <td>1</td>\n",
       "    </tr>\n",
       "  </tbody>\n",
       "</table>\n",
       "<p>31784 rows × 3 columns</p>\n",
       "</div>"
      ],
      "text/plain": [
       "             image_id                                         dir  label\n",
       "0      3833511502.jpg            ../../disk/Data/flickr30k_images      0\n",
       "1      3688343105.jpg            ../../disk/Data/flickr30k_images      0\n",
       "2      4785668533.jpg            ../../disk/Data/flickr30k_images      0\n",
       "3      2286239223.jpg            ../../disk/Data/flickr30k_images      0\n",
       "4      2912739576.jpg            ../../disk/Data/flickr30k_images      0\n",
       "...               ...                                         ...    ...\n",
       "31779  3338082262.jpg  ../Data/disaster_images/flickr30k_disaster      1\n",
       "31780  7567712136.jpg  ../Data/disaster_images/flickr30k_disaster      1\n",
       "31781  4764493697.jpg  ../Data/disaster_images/flickr30k_disaster      1\n",
       "31782  7162932481.jpg  ../Data/disaster_images/flickr30k_disaster      1\n",
       "31783  4797878234.jpg  ../Data/disaster_images/flickr30k_disaster      1\n",
       "\n",
       "[31784 rows x 3 columns]"
      ]
     },
     "execution_count": 9,
     "metadata": {},
     "output_type": "execute_result"
    }
   ],
   "source": [
    "tst_df2 = pd.DataFrame(image_data, columns=['image_id'])\n",
    "tst_df2['dir'] = tst_df2['image_id'].apply(lambda x: os.path.dirname(x))\n",
    "tst_df2['image_id'] = tst_df2['image_id'].apply(lambda x: os.path.basename(x))\n",
    "tst_df2['label'] = image_label\n",
    "test = tst_df2\n",
    "test"
   ]
  },
  {
   "cell_type": "code",
   "execution_count": null,
   "id": "f3e640a0-e555-49c7-95e0-172d1887775a",
   "metadata": {},
   "outputs": [],
   "source": [
    "def get_img(path):\n",
    "    im_bgr = cv2.imread(path)\n",
    "    im_rgb = im_bgr[:, :, ::-1]\n",
    "    return im_rgb\n",
    "img = get_img('../Data/disaster_images/flickr30k_disaster/4115261994.jpg')\n",
    "img"
   ]
  },
  {
   "cell_type": "code",
   "execution_count": 10,
   "id": "50839e69-6afd-4285-bb96-3bb3d14f3022",
   "metadata": {},
   "outputs": [
    {
     "name": "stderr",
     "output_type": "stream",
     "text": [
      "100%|█████████████████████████████████████████| 249/249 [04:53<00:00,  1.18s/it]\n"
     ]
    },
    {
     "data": {
      "text/html": [
       "<div>\n",
       "<style scoped>\n",
       "    .dataframe tbody tr th:only-of-type {\n",
       "        vertical-align: middle;\n",
       "    }\n",
       "\n",
       "    .dataframe tbody tr th {\n",
       "        vertical-align: top;\n",
       "    }\n",
       "\n",
       "    .dataframe thead th {\n",
       "        text-align: right;\n",
       "    }\n",
       "</style>\n",
       "<table border=\"1\" class=\"dataframe\">\n",
       "  <thead>\n",
       "    <tr style=\"text-align: right;\">\n",
       "      <th></th>\n",
       "      <th>image_id</th>\n",
       "      <th>dir</th>\n",
       "      <th>label</th>\n",
       "      <th>pred</th>\n",
       "      <th>confidence score</th>\n",
       "    </tr>\n",
       "  </thead>\n",
       "  <tbody>\n",
       "    <tr>\n",
       "      <th>0</th>\n",
       "      <td>3833511502.jpg</td>\n",
       "      <td>../../disk/Data/flickr30k_images</td>\n",
       "      <td>0</td>\n",
       "      <td>0</td>\n",
       "      <td>1.000000</td>\n",
       "    </tr>\n",
       "    <tr>\n",
       "      <th>1</th>\n",
       "      <td>3688343105.jpg</td>\n",
       "      <td>../../disk/Data/flickr30k_images</td>\n",
       "      <td>0</td>\n",
       "      <td>0</td>\n",
       "      <td>1.000000</td>\n",
       "    </tr>\n",
       "    <tr>\n",
       "      <th>2</th>\n",
       "      <td>4785668533.jpg</td>\n",
       "      <td>../../disk/Data/flickr30k_images</td>\n",
       "      <td>0</td>\n",
       "      <td>0</td>\n",
       "      <td>1.000000</td>\n",
       "    </tr>\n",
       "    <tr>\n",
       "      <th>3</th>\n",
       "      <td>2286239223.jpg</td>\n",
       "      <td>../../disk/Data/flickr30k_images</td>\n",
       "      <td>0</td>\n",
       "      <td>0</td>\n",
       "      <td>0.999997</td>\n",
       "    </tr>\n",
       "    <tr>\n",
       "      <th>4</th>\n",
       "      <td>2912739576.jpg</td>\n",
       "      <td>../../disk/Data/flickr30k_images</td>\n",
       "      <td>0</td>\n",
       "      <td>0</td>\n",
       "      <td>1.000000</td>\n",
       "    </tr>\n",
       "    <tr>\n",
       "      <th>...</th>\n",
       "      <td>...</td>\n",
       "      <td>...</td>\n",
       "      <td>...</td>\n",
       "      <td>...</td>\n",
       "      <td>...</td>\n",
       "    </tr>\n",
       "    <tr>\n",
       "      <th>31779</th>\n",
       "      <td>3338082262.jpg</td>\n",
       "      <td>../Data/disaster_images/flickr30k_disaster</td>\n",
       "      <td>1</td>\n",
       "      <td>0</td>\n",
       "      <td>0.984385</td>\n",
       "    </tr>\n",
       "    <tr>\n",
       "      <th>31780</th>\n",
       "      <td>7567712136.jpg</td>\n",
       "      <td>../Data/disaster_images/flickr30k_disaster</td>\n",
       "      <td>1</td>\n",
       "      <td>0</td>\n",
       "      <td>0.745685</td>\n",
       "    </tr>\n",
       "    <tr>\n",
       "      <th>31781</th>\n",
       "      <td>4764493697.jpg</td>\n",
       "      <td>../Data/disaster_images/flickr30k_disaster</td>\n",
       "      <td>1</td>\n",
       "      <td>1</td>\n",
       "      <td>0.976086</td>\n",
       "    </tr>\n",
       "    <tr>\n",
       "      <th>31782</th>\n",
       "      <td>7162932481.jpg</td>\n",
       "      <td>../Data/disaster_images/flickr30k_disaster</td>\n",
       "      <td>1</td>\n",
       "      <td>0</td>\n",
       "      <td>1.000000</td>\n",
       "    </tr>\n",
       "    <tr>\n",
       "      <th>31783</th>\n",
       "      <td>4797878234.jpg</td>\n",
       "      <td>../Data/disaster_images/flickr30k_disaster</td>\n",
       "      <td>1</td>\n",
       "      <td>0</td>\n",
       "      <td>0.999005</td>\n",
       "    </tr>\n",
       "  </tbody>\n",
       "</table>\n",
       "<p>31784 rows × 5 columns</p>\n",
       "</div>"
      ],
      "text/plain": [
       "             image_id                                         dir  label  \\\n",
       "0      3833511502.jpg            ../../disk/Data/flickr30k_images      0   \n",
       "1      3688343105.jpg            ../../disk/Data/flickr30k_images      0   \n",
       "2      4785668533.jpg            ../../disk/Data/flickr30k_images      0   \n",
       "3      2286239223.jpg            ../../disk/Data/flickr30k_images      0   \n",
       "4      2912739576.jpg            ../../disk/Data/flickr30k_images      0   \n",
       "...               ...                                         ...    ...   \n",
       "31779  3338082262.jpg  ../Data/disaster_images/flickr30k_disaster      1   \n",
       "31780  7567712136.jpg  ../Data/disaster_images/flickr30k_disaster      1   \n",
       "31781  4764493697.jpg  ../Data/disaster_images/flickr30k_disaster      1   \n",
       "31782  7162932481.jpg  ../Data/disaster_images/flickr30k_disaster      1   \n",
       "31783  4797878234.jpg  ../Data/disaster_images/flickr30k_disaster      1   \n",
       "\n",
       "       pred  confidence score  \n",
       "0         0          1.000000  \n",
       "1         0          1.000000  \n",
       "2         0          1.000000  \n",
       "3         0          0.999997  \n",
       "4         0          1.000000  \n",
       "...     ...               ...  \n",
       "31779     0          0.984385  \n",
       "31780     0          0.745685  \n",
       "31781     1          0.976086  \n",
       "31782     0          1.000000  \n",
       "31783     0          0.999005  \n",
       "\n",
       "[31784 rows x 5 columns]"
      ]
     },
     "execution_count": 10,
     "metadata": {},
     "output_type": "execute_result"
    }
   ],
   "source": [
    "model_dir = 'tf_efficientnet_b2_ns/tf_efficientnet_b2_ns_4_27'\n",
    "%run eval_test.ipynb\n",
    "test"
   ]
  },
  {
   "cell_type": "code",
   "execution_count": 11,
   "id": "89fe54f8-292a-4896-95b3-f4b09e7eaae1",
   "metadata": {},
   "outputs": [
    {
     "name": "stdout",
     "output_type": "stream",
     "text": [
      "accuracy: 0.9987\n",
      "f1_score: 0.5431\n",
      "confusion_matrix \n",
      "-------------------------\n",
      " [[31740    12]\n",
      " [   30     2]]\n"
     ]
    }
   ],
   "source": [
    "print(f'accuracy: {test_acc:.4f}')\n",
    "print(f'f1_score: {epoch_f1:.4f}')\n",
    "print(f'confusion_matrix \\n-------------------------\\n {test_matrix}')"
   ]
  },
  {
   "cell_type": "code",
   "execution_count": 12,
   "id": "f5fa9952-e99d-48b0-ba8d-1a1a25e3518b",
   "metadata": {},
   "outputs": [],
   "source": [
    "test.to_csv('test_result/nsb2_flk_tst2.csv', index=False)"
   ]
  },
  {
   "cell_type": "code",
   "execution_count": null,
   "id": "0083002d-833b-4faa-a0ee-67a6d625d7aa",
   "metadata": {},
   "outputs": [],
   "source": [
    "non_matched_idx = test['label'] != test['pred']\n",
    "non_matched = test[non_matched_idx].reset_index(inplace = False, drop=True)\n",
    "non_matched"
   ]
  },
  {
   "cell_type": "code",
   "execution_count": null,
   "id": "5a5254d0-264f-4f07-b589-96418a9cd626",
   "metadata": {},
   "outputs": [],
   "source": []
  }
 ],
 "metadata": {
  "kernelspec": {
   "display_name": "torch-gpu",
   "language": "python",
   "name": "torch"
  },
  "language_info": {
   "codemirror_mode": {
    "name": "ipython",
    "version": 3
   },
   "file_extension": ".py",
   "mimetype": "text/x-python",
   "name": "python",
   "nbconvert_exporter": "python",
   "pygments_lexer": "ipython3",
   "version": "3.10.6"
  }
 },
 "nbformat": 4,
 "nbformat_minor": 5
}

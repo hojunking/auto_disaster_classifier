{
 "cells": [
  {
   "cell_type": "code",
   "execution_count": 1,
   "id": "8e3aa197-e981-41b2-b583-4a421d16f6a5",
   "metadata": {},
   "outputs": [],
   "source": [
    "import json\n",
    "import os\n",
    "import pandas as pd\n",
    "from io import BytesIO ## \n",
    "import matplotlib.pyplot as plt\n",
    "import cv2\n",
    "import random\n",
    "from PIL import Image ## 분석할 이미지"
   ]
  },
  {
   "cell_type": "code",
   "execution_count": 2,
   "id": "64daed5f-c644-4437-a6de-6a1a597a9b3b",
   "metadata": {},
   "outputs": [
    {
     "name": "stdout",
     "output_type": "stream",
     "text": [
      "2500\n"
     ]
    }
   ],
   "source": [
    "## open_image test\n",
    "dir_path = \"../../disk/Data/open_image/train_4\"\n",
    "#dir_path = \"../Data/train2017/\"\n",
    "#dir_path = \"../../disk/Data/flickr30k_images/\"\n",
    "\n",
    "\n",
    "non_names = []\n",
    "for folder, subfolders, filenames in os.walk(dir_path):\n",
    "    for img in filenames:\n",
    "        non_names.append(folder+'/'+img)\n",
    "random.shuffle(non_names)\n",
    "non_disaster_images = non_names[:2500]\n",
    "print(len(non_disaster_images))"
   ]
  },
  {
   "cell_type": "code",
   "execution_count": 3,
   "id": "804e8edb-a8a6-40f0-abb4-8cd3be72ad28",
   "metadata": {},
   "outputs": [
    {
     "name": "stdout",
     "output_type": "stream",
     "text": [
      "336\n"
     ]
    }
   ],
   "source": [
    "## open_image test\n",
    "dir_path = \"../Data/disaster_images/open_image_disaster/\"\n",
    "\n",
    "dis_names = []\n",
    "for folder, subfolders, filenames in os.walk(dir_path):\n",
    "    for img in filenames:\n",
    "        dis_names.append(folder+'/'+img)\n",
    "random.shuffle(dis_names)\n",
    "disaster_images = dis_names\n",
    "print(len(disaster_images))"
   ]
  },
  {
   "cell_type": "code",
   "execution_count": 4,
   "id": "767b829c-146e-4994-9451-7c2026d33142",
   "metadata": {},
   "outputs": [],
   "source": [
    "image_data = non_disaster_images + disaster_images"
   ]
  },
  {
   "cell_type": "code",
   "execution_count": 5,
   "id": "76868869-6fed-4481-81b9-a7229ae66a6d",
   "metadata": {},
   "outputs": [],
   "source": [
    "non_label = [0]*int(len(non_disaster_images))\n",
    "dis_label = [1]*int(len(disaster_images))\n",
    "image_label = non_label + dis_label"
   ]
  },
  {
   "cell_type": "code",
   "execution_count": 6,
   "id": "e31a11e0-840f-4060-a70f-38673d199833",
   "metadata": {},
   "outputs": [
    {
     "data": {
      "text/html": [
       "<div>\n",
       "<style scoped>\n",
       "    .dataframe tbody tr th:only-of-type {\n",
       "        vertical-align: middle;\n",
       "    }\n",
       "\n",
       "    .dataframe tbody tr th {\n",
       "        vertical-align: top;\n",
       "    }\n",
       "\n",
       "    .dataframe thead th {\n",
       "        text-align: right;\n",
       "    }\n",
       "</style>\n",
       "<table border=\"1\" class=\"dataframe\">\n",
       "  <thead>\n",
       "    <tr style=\"text-align: right;\">\n",
       "      <th></th>\n",
       "      <th>image_id</th>\n",
       "      <th>dir</th>\n",
       "      <th>label</th>\n",
       "    </tr>\n",
       "  </thead>\n",
       "  <tbody>\n",
       "    <tr>\n",
       "      <th>0</th>\n",
       "      <td>400fe84cabe95a93.jpg</td>\n",
       "      <td>../../disk/Data/open_image/train_4</td>\n",
       "      <td>0</td>\n",
       "    </tr>\n",
       "    <tr>\n",
       "      <th>1</th>\n",
       "      <td>40c29e4e8caf4e9c.jpg</td>\n",
       "      <td>../../disk/Data/open_image/train_4</td>\n",
       "      <td>0</td>\n",
       "    </tr>\n",
       "    <tr>\n",
       "      <th>2</th>\n",
       "      <td>43adee141096ab0c.jpg</td>\n",
       "      <td>../../disk/Data/open_image/train_4</td>\n",
       "      <td>0</td>\n",
       "    </tr>\n",
       "    <tr>\n",
       "      <th>3</th>\n",
       "      <td>481f44aff61a4ba0.jpg</td>\n",
       "      <td>../../disk/Data/open_image/train_4</td>\n",
       "      <td>0</td>\n",
       "    </tr>\n",
       "    <tr>\n",
       "      <th>4</th>\n",
       "      <td>4c1098ace3f3e22d.jpg</td>\n",
       "      <td>../../disk/Data/open_image/train_4</td>\n",
       "      <td>0</td>\n",
       "    </tr>\n",
       "    <tr>\n",
       "      <th>...</th>\n",
       "      <td>...</td>\n",
       "      <td>...</td>\n",
       "      <td>...</td>\n",
       "    </tr>\n",
       "    <tr>\n",
       "      <th>2831</th>\n",
       "      <td>a9786487f36a069f.jpg</td>\n",
       "      <td>../Data/disaster_images/open_image_disaster</td>\n",
       "      <td>1</td>\n",
       "    </tr>\n",
       "    <tr>\n",
       "      <th>2832</th>\n",
       "      <td>e5aa9c1a2bf91af5.jpg</td>\n",
       "      <td>../Data/disaster_images/open_image_disaster</td>\n",
       "      <td>1</td>\n",
       "    </tr>\n",
       "    <tr>\n",
       "      <th>2833</th>\n",
       "      <td>9068ed5b7b32bf63.jpg</td>\n",
       "      <td>../Data/disaster_images/open_image_disaster</td>\n",
       "      <td>1</td>\n",
       "    </tr>\n",
       "    <tr>\n",
       "      <th>2834</th>\n",
       "      <td>7eaf75eb4e77e2fb.jpg</td>\n",
       "      <td>../Data/disaster_images/open_image_disaster</td>\n",
       "      <td>1</td>\n",
       "    </tr>\n",
       "    <tr>\n",
       "      <th>2835</th>\n",
       "      <td>ec03b3d3af20f1c4.jpg</td>\n",
       "      <td>../Data/disaster_images/open_image_disaster</td>\n",
       "      <td>1</td>\n",
       "    </tr>\n",
       "  </tbody>\n",
       "</table>\n",
       "<p>2836 rows × 3 columns</p>\n",
       "</div>"
      ],
      "text/plain": [
       "                  image_id                                          dir  label\n",
       "0     400fe84cabe95a93.jpg           ../../disk/Data/open_image/train_4      0\n",
       "1     40c29e4e8caf4e9c.jpg           ../../disk/Data/open_image/train_4      0\n",
       "2     43adee141096ab0c.jpg           ../../disk/Data/open_image/train_4      0\n",
       "3     481f44aff61a4ba0.jpg           ../../disk/Data/open_image/train_4      0\n",
       "4     4c1098ace3f3e22d.jpg           ../../disk/Data/open_image/train_4      0\n",
       "...                    ...                                          ...    ...\n",
       "2831  a9786487f36a069f.jpg  ../Data/disaster_images/open_image_disaster      1\n",
       "2832  e5aa9c1a2bf91af5.jpg  ../Data/disaster_images/open_image_disaster      1\n",
       "2833  9068ed5b7b32bf63.jpg  ../Data/disaster_images/open_image_disaster      1\n",
       "2834  7eaf75eb4e77e2fb.jpg  ../Data/disaster_images/open_image_disaster      1\n",
       "2835  ec03b3d3af20f1c4.jpg  ../Data/disaster_images/open_image_disaster      1\n",
       "\n",
       "[2836 rows x 3 columns]"
      ]
     },
     "execution_count": 6,
     "metadata": {},
     "output_type": "execute_result"
    }
   ],
   "source": [
    "tst_df2 = pd.DataFrame(image_data, columns=['image_id'])\n",
    "tst_df2['dir'] = tst_df2['image_id'].apply(lambda x: os.path.dirname(x))\n",
    "tst_df2['image_id'] = tst_df2['image_id'].apply(lambda x: os.path.basename(x))\n",
    "tst_df2['label'] = image_label\n",
    "test = tst_df2\n",
    "test"
   ]
  },
  {
   "cell_type": "code",
   "execution_count": 7,
   "id": "0b697eb6-5cbd-4818-816f-545ab4f57df7",
   "metadata": {},
   "outputs": [
    {
     "ename": "NameError",
     "evalue": "name 'dist' is not defined",
     "output_type": "error",
     "traceback": [
      "\u001b[0;31m---------------------------------------------------------------------------\u001b[0m",
      "\u001b[0;31mNameError\u001b[0m                                 Traceback (most recent call last)",
      "Input \u001b[0;32mIn [7]\u001b[0m, in \u001b[0;36m<cell line: 1>\u001b[0;34m()\u001b[0m\n\u001b[0;32m----> 1\u001b[0m \u001b[43mdist\u001b[49m\u001b[38;5;241m.\u001b[39mdestroy_process_group()\n",
      "\u001b[0;31mNameError\u001b[0m: name 'dist' is not defined"
     ]
    }
   ],
   "source": [
    "dist.destroy_process_group()"
   ]
  },
  {
   "cell_type": "code",
   "execution_count": 13,
   "id": "50839e69-6afd-4285-bb96-3bb3d14f3022",
   "metadata": {},
   "outputs": [
    {
     "name": "stderr",
     "output_type": "stream",
     "text": [
      "100%|███████████████████████████████████████████| 23/23 [00:44<00:00,  1.93s/it]\n"
     ]
    },
    {
     "data": {
      "text/html": [
       "<div>\n",
       "<style scoped>\n",
       "    .dataframe tbody tr th:only-of-type {\n",
       "        vertical-align: middle;\n",
       "    }\n",
       "\n",
       "    .dataframe tbody tr th {\n",
       "        vertical-align: top;\n",
       "    }\n",
       "\n",
       "    .dataframe thead th {\n",
       "        text-align: right;\n",
       "    }\n",
       "</style>\n",
       "<table border=\"1\" class=\"dataframe\">\n",
       "  <thead>\n",
       "    <tr style=\"text-align: right;\">\n",
       "      <th></th>\n",
       "      <th>image_id</th>\n",
       "      <th>dir</th>\n",
       "      <th>label</th>\n",
       "      <th>pred</th>\n",
       "      <th>confidence score</th>\n",
       "    </tr>\n",
       "  </thead>\n",
       "  <tbody>\n",
       "    <tr>\n",
       "      <th>0</th>\n",
       "      <td>400fe84cabe95a93.jpg</td>\n",
       "      <td>../../disk/Data/open_image/train_4</td>\n",
       "      <td>0</td>\n",
       "      <td>0</td>\n",
       "      <td>0.999952</td>\n",
       "    </tr>\n",
       "    <tr>\n",
       "      <th>1</th>\n",
       "      <td>40c29e4e8caf4e9c.jpg</td>\n",
       "      <td>../../disk/Data/open_image/train_4</td>\n",
       "      <td>0</td>\n",
       "      <td>0</td>\n",
       "      <td>0.999375</td>\n",
       "    </tr>\n",
       "    <tr>\n",
       "      <th>2</th>\n",
       "      <td>43adee141096ab0c.jpg</td>\n",
       "      <td>../../disk/Data/open_image/train_4</td>\n",
       "      <td>0</td>\n",
       "      <td>0</td>\n",
       "      <td>0.999994</td>\n",
       "    </tr>\n",
       "    <tr>\n",
       "      <th>3</th>\n",
       "      <td>481f44aff61a4ba0.jpg</td>\n",
       "      <td>../../disk/Data/open_image/train_4</td>\n",
       "      <td>0</td>\n",
       "      <td>0</td>\n",
       "      <td>0.999838</td>\n",
       "    </tr>\n",
       "    <tr>\n",
       "      <th>4</th>\n",
       "      <td>4c1098ace3f3e22d.jpg</td>\n",
       "      <td>../../disk/Data/open_image/train_4</td>\n",
       "      <td>0</td>\n",
       "      <td>0</td>\n",
       "      <td>0.999997</td>\n",
       "    </tr>\n",
       "    <tr>\n",
       "      <th>...</th>\n",
       "      <td>...</td>\n",
       "      <td>...</td>\n",
       "      <td>...</td>\n",
       "      <td>...</td>\n",
       "      <td>...</td>\n",
       "    </tr>\n",
       "    <tr>\n",
       "      <th>2831</th>\n",
       "      <td>a9786487f36a069f.jpg</td>\n",
       "      <td>../Data/disaster_images/open_image_disaster</td>\n",
       "      <td>1</td>\n",
       "      <td>1</td>\n",
       "      <td>0.995627</td>\n",
       "    </tr>\n",
       "    <tr>\n",
       "      <th>2832</th>\n",
       "      <td>e5aa9c1a2bf91af5.jpg</td>\n",
       "      <td>../Data/disaster_images/open_image_disaster</td>\n",
       "      <td>1</td>\n",
       "      <td>1</td>\n",
       "      <td>0.996703</td>\n",
       "    </tr>\n",
       "    <tr>\n",
       "      <th>2833</th>\n",
       "      <td>9068ed5b7b32bf63.jpg</td>\n",
       "      <td>../Data/disaster_images/open_image_disaster</td>\n",
       "      <td>1</td>\n",
       "      <td>1</td>\n",
       "      <td>0.991115</td>\n",
       "    </tr>\n",
       "    <tr>\n",
       "      <th>2834</th>\n",
       "      <td>7eaf75eb4e77e2fb.jpg</td>\n",
       "      <td>../Data/disaster_images/open_image_disaster</td>\n",
       "      <td>1</td>\n",
       "      <td>1</td>\n",
       "      <td>0.997418</td>\n",
       "    </tr>\n",
       "    <tr>\n",
       "      <th>2835</th>\n",
       "      <td>ec03b3d3af20f1c4.jpg</td>\n",
       "      <td>../Data/disaster_images/open_image_disaster</td>\n",
       "      <td>1</td>\n",
       "      <td>1</td>\n",
       "      <td>0.965581</td>\n",
       "    </tr>\n",
       "  </tbody>\n",
       "</table>\n",
       "<p>2836 rows × 5 columns</p>\n",
       "</div>"
      ],
      "text/plain": [
       "                  image_id                                          dir  \\\n",
       "0     400fe84cabe95a93.jpg           ../../disk/Data/open_image/train_4   \n",
       "1     40c29e4e8caf4e9c.jpg           ../../disk/Data/open_image/train_4   \n",
       "2     43adee141096ab0c.jpg           ../../disk/Data/open_image/train_4   \n",
       "3     481f44aff61a4ba0.jpg           ../../disk/Data/open_image/train_4   \n",
       "4     4c1098ace3f3e22d.jpg           ../../disk/Data/open_image/train_4   \n",
       "...                    ...                                          ...   \n",
       "2831  a9786487f36a069f.jpg  ../Data/disaster_images/open_image_disaster   \n",
       "2832  e5aa9c1a2bf91af5.jpg  ../Data/disaster_images/open_image_disaster   \n",
       "2833  9068ed5b7b32bf63.jpg  ../Data/disaster_images/open_image_disaster   \n",
       "2834  7eaf75eb4e77e2fb.jpg  ../Data/disaster_images/open_image_disaster   \n",
       "2835  ec03b3d3af20f1c4.jpg  ../Data/disaster_images/open_image_disaster   \n",
       "\n",
       "      label  pred  confidence score  \n",
       "0         0     0          0.999952  \n",
       "1         0     0          0.999375  \n",
       "2         0     0          0.999994  \n",
       "3         0     0          0.999838  \n",
       "4         0     0          0.999997  \n",
       "...     ...   ...               ...  \n",
       "2831      1     1          0.995627  \n",
       "2832      1     1          0.996703  \n",
       "2833      1     1          0.991115  \n",
       "2834      1     1          0.997418  \n",
       "2835      1     1          0.965581  \n",
       "\n",
       "[2836 rows x 5 columns]"
      ]
     },
     "execution_count": 13,
     "metadata": {},
     "output_type": "execute_result"
    }
   ],
   "source": [
    "model_dir = 'tf_efficientnet_b2_ns/tf_efficientnet_b2_ns_2_20'\n",
    "%run eval_test.ipynb\n",
    "test"
   ]
  },
  {
   "cell_type": "code",
   "execution_count": 14,
   "id": "89fe54f8-292a-4896-95b3-f4b09e7eaae1",
   "metadata": {},
   "outputs": [
    {
     "name": "stdout",
     "output_type": "stream",
     "text": [
      "accuracy: 0.9499\n",
      "f1_score: 0.8624\n",
      "confusion_matrix \n",
      "-------------------------\n",
      " [[2478   22]\n",
      " [ 120  216]]\n"
     ]
    }
   ],
   "source": [
    "print(f'accuracy: {test_acc:.4f}')\n",
    "print(f'f1_score: {epoch_f1:.4f}')\n",
    "print(f'confusion_matrix \\n-------------------------\\n {test_matrix}')"
   ]
  },
  {
   "cell_type": "code",
   "execution_count": 12,
   "id": "f5fa9952-e99d-48b0-ba8d-1a1a25e3518b",
   "metadata": {},
   "outputs": [],
   "source": [
    "test.to_csv('test_result/nsb2_flk_tst2.csv', index=False)"
   ]
  },
  {
   "cell_type": "code",
   "execution_count": null,
   "id": "0083002d-833b-4faa-a0ee-67a6d625d7aa",
   "metadata": {},
   "outputs": [],
   "source": [
    "non_matched_idx = test['label'] != test['pred']\n",
    "non_matched = test[non_matched_idx].reset_index(inplace = False, drop=True)\n",
    "non_matched"
   ]
  },
  {
   "cell_type": "code",
   "execution_count": null,
   "id": "5a5254d0-264f-4f07-b589-96418a9cd626",
   "metadata": {},
   "outputs": [],
   "source": []
  }
 ],
 "metadata": {
  "kernelspec": {
   "display_name": "torch-gpu",
   "language": "python",
   "name": "torch"
  },
  "language_info": {
   "codemirror_mode": {
    "name": "ipython",
    "version": 3
   },
   "file_extension": ".py",
   "mimetype": "text/x-python",
   "name": "python",
   "nbconvert_exporter": "python",
   "pygments_lexer": "ipython3",
   "version": "3.10.6"
  }
 },
 "nbformat": 4,
 "nbformat_minor": 5
}

{
 "cells": [
  {
   "cell_type": "code",
   "execution_count": 1,
   "id": "8e3aa197-e981-41b2-b583-4a421d16f6a5",
   "metadata": {},
   "outputs": [],
   "source": [
    "import json\n",
    "import os\n",
    "import pandas as pd\n",
    "import matplotlib.pyplot as plt\n",
    "import cv2\n",
    "import random"
   ]
  },
  {
   "cell_type": "code",
   "execution_count": 2,
   "id": "64daed5f-c644-4437-a6de-6a1a597a9b3b",
   "metadata": {},
   "outputs": [
    {
     "name": "stdout",
     "output_type": "stream",
     "text": [
      "1742878\n"
     ]
    }
   ],
   "source": [
    "## open_image test\n",
    "dir_path = \"../../disk/Data/open_image/\"\n",
    "\n",
    "img_names = []\n",
    "for folder, subfolders, filenames in os.walk(dir_path):\n",
    "    for img in filenames:\n",
    "        img_names.append(folder+'/'+img)\n",
    "random.shuffle(img_names)\n",
    "open_image_non = img_names\n",
    "print(len(open_image_non))"
   ]
  },
  {
   "cell_type": "code",
   "execution_count": 3,
   "id": "804e8edb-a8a6-40f0-abb4-8cd3be72ad28",
   "metadata": {},
   "outputs": [
    {
     "name": "stdout",
     "output_type": "stream",
     "text": [
      "164\n"
     ]
    }
   ],
   "source": [
    "## open_image test\n",
    "dir_path = \"../Data/disaster_images/open_image_disaster/\"\n",
    "\n",
    "img_names = []\n",
    "for folder, subfolders, filenames in os.walk(dir_path):\n",
    "    for img in filenames:\n",
    "        img_names.append(folder+'/'+img)\n",
    "random.shuffle(img_names)\n",
    "open_image_disaster = img_names\n",
    "print(len(open_image_disaster))"
   ]
  },
  {
   "cell_type": "code",
   "execution_count": 4,
   "id": "767b829c-146e-4994-9451-7c2026d33142",
   "metadata": {},
   "outputs": [],
   "source": [
    "open_image_data = open_image_non + open_image_disaster"
   ]
  },
  {
   "cell_type": "code",
   "execution_count": 5,
   "id": "76868869-6fed-4481-81b9-a7229ae66a6d",
   "metadata": {},
   "outputs": [],
   "source": [
    "non_label = [0]*int(len(open_image_non))\n",
    "dis_label = [1]*int(len(open_image_disaster))\n",
    "open_image_label = non_label + dis_label"
   ]
  },
  {
   "cell_type": "code",
   "execution_count": 6,
   "id": "e31a11e0-840f-4060-a70f-38673d199833",
   "metadata": {},
   "outputs": [
    {
     "data": {
      "text/html": [
       "<div>\n",
       "<style scoped>\n",
       "    .dataframe tbody tr th:only-of-type {\n",
       "        vertical-align: middle;\n",
       "    }\n",
       "\n",
       "    .dataframe tbody tr th {\n",
       "        vertical-align: top;\n",
       "    }\n",
       "\n",
       "    .dataframe thead th {\n",
       "        text-align: right;\n",
       "    }\n",
       "</style>\n",
       "<table border=\"1\" class=\"dataframe\">\n",
       "  <thead>\n",
       "    <tr style=\"text-align: right;\">\n",
       "      <th></th>\n",
       "      <th>image_id</th>\n",
       "      <th>dir</th>\n",
       "      <th>label</th>\n",
       "    </tr>\n",
       "  </thead>\n",
       "  <tbody>\n",
       "    <tr>\n",
       "      <th>0</th>\n",
       "      <td>a958ed2b0fa87134.jpg</td>\n",
       "      <td>../../disk/Data/open_image/train_a</td>\n",
       "      <td>0</td>\n",
       "    </tr>\n",
       "    <tr>\n",
       "      <th>1</th>\n",
       "      <td>188b3a3196296493.jpg</td>\n",
       "      <td>../../disk/Data/open_image/train_1</td>\n",
       "      <td>0</td>\n",
       "    </tr>\n",
       "    <tr>\n",
       "      <th>2</th>\n",
       "      <td>0af8f862c03859bb.jpg</td>\n",
       "      <td>../../disk/Data/open_image/train_0</td>\n",
       "      <td>0</td>\n",
       "    </tr>\n",
       "    <tr>\n",
       "      <th>3</th>\n",
       "      <td>40b23fa94d4b6d66.jpg</td>\n",
       "      <td>../../disk/Data/open_image/train_4</td>\n",
       "      <td>0</td>\n",
       "    </tr>\n",
       "    <tr>\n",
       "      <th>4</th>\n",
       "      <td>0f1e8a716d4bc553.jpg</td>\n",
       "      <td>../../disk/Data/open_image/train_0</td>\n",
       "      <td>0</td>\n",
       "    </tr>\n",
       "    <tr>\n",
       "      <th>...</th>\n",
       "      <td>...</td>\n",
       "      <td>...</td>\n",
       "      <td>...</td>\n",
       "    </tr>\n",
       "    <tr>\n",
       "      <th>1743037</th>\n",
       "      <td>112caf3e075e5394.jpg</td>\n",
       "      <td>../Data/disaster_images/open_image_disaster</td>\n",
       "      <td>1</td>\n",
       "    </tr>\n",
       "    <tr>\n",
       "      <th>1743038</th>\n",
       "      <td>0bdfcf59dd6b55ce.jpg</td>\n",
       "      <td>../Data/disaster_images/open_image_disaster</td>\n",
       "      <td>1</td>\n",
       "    </tr>\n",
       "    <tr>\n",
       "      <th>1743039</th>\n",
       "      <td>0128105921974df0.jpg</td>\n",
       "      <td>../Data/disaster_images/open_image_disaster</td>\n",
       "      <td>1</td>\n",
       "    </tr>\n",
       "    <tr>\n",
       "      <th>1743040</th>\n",
       "      <td>2341349abfc26e90.jpg</td>\n",
       "      <td>../Data/disaster_images/open_image_disaster</td>\n",
       "      <td>1</td>\n",
       "    </tr>\n",
       "    <tr>\n",
       "      <th>1743041</th>\n",
       "      <td>3f63a70a78520377.jpg</td>\n",
       "      <td>../Data/disaster_images/open_image_disaster</td>\n",
       "      <td>1</td>\n",
       "    </tr>\n",
       "  </tbody>\n",
       "</table>\n",
       "<p>1743042 rows × 3 columns</p>\n",
       "</div>"
      ],
      "text/plain": [
       "                     image_id                                          dir  \\\n",
       "0        a958ed2b0fa87134.jpg           ../../disk/Data/open_image/train_a   \n",
       "1        188b3a3196296493.jpg           ../../disk/Data/open_image/train_1   \n",
       "2        0af8f862c03859bb.jpg           ../../disk/Data/open_image/train_0   \n",
       "3        40b23fa94d4b6d66.jpg           ../../disk/Data/open_image/train_4   \n",
       "4        0f1e8a716d4bc553.jpg           ../../disk/Data/open_image/train_0   \n",
       "...                       ...                                          ...   \n",
       "1743037  112caf3e075e5394.jpg  ../Data/disaster_images/open_image_disaster   \n",
       "1743038  0bdfcf59dd6b55ce.jpg  ../Data/disaster_images/open_image_disaster   \n",
       "1743039  0128105921974df0.jpg  ../Data/disaster_images/open_image_disaster   \n",
       "1743040  2341349abfc26e90.jpg  ../Data/disaster_images/open_image_disaster   \n",
       "1743041  3f63a70a78520377.jpg  ../Data/disaster_images/open_image_disaster   \n",
       "\n",
       "         label  \n",
       "0            0  \n",
       "1            0  \n",
       "2            0  \n",
       "3            0  \n",
       "4            0  \n",
       "...        ...  \n",
       "1743037      1  \n",
       "1743038      1  \n",
       "1743039      1  \n",
       "1743040      1  \n",
       "1743041      1  \n",
       "\n",
       "[1743042 rows x 3 columns]"
      ]
     },
     "execution_count": 6,
     "metadata": {},
     "output_type": "execute_result"
    }
   ],
   "source": [
    "tst_df2 = pd.DataFrame(open_image_data, columns=['image_id'])\n",
    "tst_df2['dir'] = tst_df2['image_id'].apply(lambda x: os.path.dirname(x))\n",
    "tst_df2['image_id'] = tst_df2['image_id'].apply(lambda x: os.path.basename(x))\n",
    "tst_df2['label'] = open_image_label\n",
    "test = tst_df2\n",
    "test"
   ]
  },
  {
   "cell_type": "code",
   "execution_count": null,
   "id": "50839e69-6afd-4285-bb96-3bb3d14f3022",
   "metadata": {},
   "outputs": [
    {
     "name": "stderr",
     "output_type": "stream",
     "text": [
      "  5%|█▉                                  | 360/6809 [1:14:30<5:45:30,  3.21s/it]"
     ]
    }
   ],
   "source": [
    "model_dir = 'tf_efficientnet_b2_ns/tf_efficientnet_b2_ns_4_27'\n",
    "%run eval_test.ipynb\n",
    "test"
   ]
  },
  {
   "cell_type": "code",
   "execution_count": null,
   "id": "89fe54f8-292a-4896-95b3-f4b09e7eaae1",
   "metadata": {},
   "outputs": [],
   "source": [
    "print(f'accuracy: {accuracy:.4f}')\n",
    "print(f'f1_score: {epoch_f1:.4f}')\n",
    "print(f'confusion_matrix: {test_matrix:.4f}')"
   ]
  },
  {
   "cell_type": "code",
   "execution_count": null,
   "id": "f5fa9952-e99d-48b0-ba8d-1a1a25e3518b",
   "metadata": {},
   "outputs": [],
   "source": [
    "test.to_csv('test_result/nsb2_oi_tst.csv', index=False)"
   ]
  }
 ],
 "metadata": {
  "kernelspec": {
   "display_name": "torch-gpu",
   "language": "python",
   "name": "torch"
  },
  "language_info": {
   "codemirror_mode": {
    "name": "ipython",
    "version": 3
   },
   "file_extension": ".py",
   "mimetype": "text/x-python",
   "name": "python",
   "nbconvert_exporter": "python",
   "pygments_lexer": "ipython3",
   "version": "3.10.6"
  }
 },
 "nbformat": 4,
 "nbformat_minor": 5
}
